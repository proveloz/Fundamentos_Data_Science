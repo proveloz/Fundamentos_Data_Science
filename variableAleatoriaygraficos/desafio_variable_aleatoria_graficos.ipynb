{
 "cells": [
  {
   "cell_type": "markdown",
   "metadata": {},
   "source": [
    "# Autor: Pablo Veloz\n",
    "# Desafío - Gráficos"
   ]
  },
  {
   "cell_type": "markdown",
   "metadata": {},
   "source": [
    "# 1. Genere una submuestra de casos\n",
    "* Utilice los últimos 4 dígitos de su rut como semilla pseudoaleatoria."
   ]
  },
  {
   "cell_type": "code",
   "execution_count": 1,
   "metadata": {},
   "outputs": [],
   "source": [
    "import random\n",
    "rut = \"16.123.929-1\"\n",
    "import numpy as np\n",
    "import pandas as pd\n",
    "import matplotlib.pyplot as plt\n",
    "import scipy.stats as stats\n",
    "df=pd.read_csv(\"qog_std_cs_jan18.csv\")\n",
    "#import lec4_graphs as gfx\n",
    "# np.random.seed(9291)"
   ]
  },
  {
   "cell_type": "code",
   "execution_count": 547,
   "metadata": {},
   "outputs": [],
   "source": [
    "#random.seed(4)\n",
    "#lista_rut = random.sample(lista_rut, 4)\n",
    "#semilla=\"\"\n",
    "\n",
    "#for i in lista_rut:\n",
    "#    semilla+=i\n",
    "#print(\"Lista semilla Ultimos 4 digitos: \", semilla)\n",
    "#lista_casos=[]"
   ]
  },
  {
   "cell_type": "markdown",
   "metadata": {},
   "source": [
    "# Cada base generada debe contener los siguientes elementos:\n",
    "* índice de desarrollo humano ( undp_hdi )\n",
    "* El nombre del país ( ccodealp )\n",
    "* La región a la que pertenece ( ht_region )\n",
    "* El PIB per capita. ( gle_cgdpc )\n",
    "* El total de la población ( imf_pop )"
   ]
  },
  {
   "cell_type": "markdown",
   "metadata": {},
   "source": [
    "* Dataframe completo"
   ]
  },
  {
   "cell_type": "code",
   "execution_count": 2,
   "metadata": {
    "scrolled": true
   },
   "outputs": [
    {
     "data": {
      "text/html": [
       "<div>\n",
       "<style scoped>\n",
       "    .dataframe tbody tr th:only-of-type {\n",
       "        vertical-align: middle;\n",
       "    }\n",
       "\n",
       "    .dataframe tbody tr th {\n",
       "        vertical-align: top;\n",
       "    }\n",
       "\n",
       "    .dataframe thead th {\n",
       "        text-align: right;\n",
       "    }\n",
       "</style>\n",
       "<table border=\"1\" class=\"dataframe\">\n",
       "  <thead>\n",
       "    <tr style=\"text-align: right;\">\n",
       "      <th></th>\n",
       "      <th>ccode</th>\n",
       "      <th>cname</th>\n",
       "      <th>ccodealp</th>\n",
       "      <th>ccodecow</th>\n",
       "      <th>ccodewb</th>\n",
       "      <th>version</th>\n",
       "      <th>aid_cpnc</th>\n",
       "      <th>aid_cpsc</th>\n",
       "      <th>aid_crnc</th>\n",
       "      <th>aid_crnio</th>\n",
       "      <th>...</th>\n",
       "      <th>wvs_relacc</th>\n",
       "      <th>wvs_relsch</th>\n",
       "      <th>wvs_relsci</th>\n",
       "      <th>wvs_satfin</th>\n",
       "      <th>wvs_satlif</th>\n",
       "      <th>wvs_screl</th>\n",
       "      <th>wvs_subh</th>\n",
       "      <th>wvs_survself</th>\n",
       "      <th>wvs_tradrat</th>\n",
       "      <th>wvs_trust</th>\n",
       "    </tr>\n",
       "  </thead>\n",
       "  <tbody>\n",
       "    <tr>\n",
       "      <th>0</th>\n",
       "      <td>4</td>\n",
       "      <td>Afghanistan</td>\n",
       "      <td>AFG</td>\n",
       "      <td>700.0</td>\n",
       "      <td>4.0</td>\n",
       "      <td>QoGStdCSJan18</td>\n",
       "      <td>NaN</td>\n",
       "      <td>NaN</td>\n",
       "      <td>29.0</td>\n",
       "      <td>13.0</td>\n",
       "      <td>...</td>\n",
       "      <td>NaN</td>\n",
       "      <td>NaN</td>\n",
       "      <td>NaN</td>\n",
       "      <td>NaN</td>\n",
       "      <td>NaN</td>\n",
       "      <td>NaN</td>\n",
       "      <td>NaN</td>\n",
       "      <td>NaN</td>\n",
       "      <td>NaN</td>\n",
       "      <td>NaN</td>\n",
       "    </tr>\n",
       "    <tr>\n",
       "      <th>1</th>\n",
       "      <td>8</td>\n",
       "      <td>Albania</td>\n",
       "      <td>ALB</td>\n",
       "      <td>339.0</td>\n",
       "      <td>8.0</td>\n",
       "      <td>QoGStdCSJan18</td>\n",
       "      <td>NaN</td>\n",
       "      <td>NaN</td>\n",
       "      <td>26.0</td>\n",
       "      <td>13.0</td>\n",
       "      <td>...</td>\n",
       "      <td>NaN</td>\n",
       "      <td>NaN</td>\n",
       "      <td>NaN</td>\n",
       "      <td>NaN</td>\n",
       "      <td>NaN</td>\n",
       "      <td>NaN</td>\n",
       "      <td>NaN</td>\n",
       "      <td>NaN</td>\n",
       "      <td>NaN</td>\n",
       "      <td>NaN</td>\n",
       "    </tr>\n",
       "    <tr>\n",
       "      <th>2</th>\n",
       "      <td>12</td>\n",
       "      <td>Algeria</td>\n",
       "      <td>DZA</td>\n",
       "      <td>615.0</td>\n",
       "      <td>12.0</td>\n",
       "      <td>QoGStdCSJan18</td>\n",
       "      <td>NaN</td>\n",
       "      <td>NaN</td>\n",
       "      <td>21.0</td>\n",
       "      <td>6.0</td>\n",
       "      <td>...</td>\n",
       "      <td>3.710616</td>\n",
       "      <td>1.704692</td>\n",
       "      <td>3.681347</td>\n",
       "      <td>5.988125</td>\n",
       "      <td>6.301029</td>\n",
       "      <td>5.339371</td>\n",
       "      <td>3.805579</td>\n",
       "      <td>-0.409807</td>\n",
       "      <td>-0.498164</td>\n",
       "      <td>0.179286</td>\n",
       "    </tr>\n",
       "    <tr>\n",
       "      <th>3</th>\n",
       "      <td>20</td>\n",
       "      <td>Andorra</td>\n",
       "      <td>AND</td>\n",
       "      <td>232.0</td>\n",
       "      <td>20.0</td>\n",
       "      <td>QoGStdCSJan18</td>\n",
       "      <td>NaN</td>\n",
       "      <td>NaN</td>\n",
       "      <td>NaN</td>\n",
       "      <td>NaN</td>\n",
       "      <td>...</td>\n",
       "      <td>NaN</td>\n",
       "      <td>NaN</td>\n",
       "      <td>NaN</td>\n",
       "      <td>NaN</td>\n",
       "      <td>NaN</td>\n",
       "      <td>NaN</td>\n",
       "      <td>NaN</td>\n",
       "      <td>NaN</td>\n",
       "      <td>NaN</td>\n",
       "      <td>NaN</td>\n",
       "    </tr>\n",
       "    <tr>\n",
       "      <th>4</th>\n",
       "      <td>24</td>\n",
       "      <td>Angola</td>\n",
       "      <td>AGO</td>\n",
       "      <td>540.0</td>\n",
       "      <td>24.0</td>\n",
       "      <td>QoGStdCSJan18</td>\n",
       "      <td>NaN</td>\n",
       "      <td>NaN</td>\n",
       "      <td>22.0</td>\n",
       "      <td>13.0</td>\n",
       "      <td>...</td>\n",
       "      <td>NaN</td>\n",
       "      <td>NaN</td>\n",
       "      <td>NaN</td>\n",
       "      <td>NaN</td>\n",
       "      <td>NaN</td>\n",
       "      <td>NaN</td>\n",
       "      <td>NaN</td>\n",
       "      <td>NaN</td>\n",
       "      <td>NaN</td>\n",
       "      <td>NaN</td>\n",
       "    </tr>\n",
       "  </tbody>\n",
       "</table>\n",
       "<p>5 rows × 1882 columns</p>\n",
       "</div>"
      ],
      "text/plain": [
       "   ccode        cname ccodealp  ccodecow  ccodewb        version  aid_cpnc  \\\n",
       "0      4  Afghanistan      AFG     700.0      4.0  QoGStdCSJan18       NaN   \n",
       "1      8      Albania      ALB     339.0      8.0  QoGStdCSJan18       NaN   \n",
       "2     12      Algeria      DZA     615.0     12.0  QoGStdCSJan18       NaN   \n",
       "3     20      Andorra      AND     232.0     20.0  QoGStdCSJan18       NaN   \n",
       "4     24       Angola      AGO     540.0     24.0  QoGStdCSJan18       NaN   \n",
       "\n",
       "   aid_cpsc  aid_crnc  aid_crnio  ...  wvs_relacc  wvs_relsch  wvs_relsci  \\\n",
       "0       NaN      29.0       13.0  ...         NaN         NaN         NaN   \n",
       "1       NaN      26.0       13.0  ...         NaN         NaN         NaN   \n",
       "2       NaN      21.0        6.0  ...    3.710616    1.704692    3.681347   \n",
       "3       NaN       NaN        NaN  ...         NaN         NaN         NaN   \n",
       "4       NaN      22.0       13.0  ...         NaN         NaN         NaN   \n",
       "\n",
       "   wvs_satfin  wvs_satlif  wvs_screl  wvs_subh  wvs_survself  wvs_tradrat  \\\n",
       "0         NaN         NaN        NaN       NaN           NaN          NaN   \n",
       "1         NaN         NaN        NaN       NaN           NaN          NaN   \n",
       "2    5.988125    6.301029   5.339371  3.805579     -0.409807    -0.498164   \n",
       "3         NaN         NaN        NaN       NaN           NaN          NaN   \n",
       "4         NaN         NaN        NaN       NaN           NaN          NaN   \n",
       "\n",
       "   wvs_trust  \n",
       "0        NaN  \n",
       "1        NaN  \n",
       "2   0.179286  \n",
       "3        NaN  \n",
       "4        NaN  \n",
       "\n",
       "[5 rows x 1882 columns]"
      ]
     },
     "execution_count": 2,
     "metadata": {},
     "output_type": "execute_result"
    }
   ],
   "source": [
    "df.head(5)"
   ]
  },
  {
   "cell_type": "code",
   "execution_count": 549,
   "metadata": {},
   "outputs": [],
   "source": [
    "df[\"ht_region\"]=df[\"ht_region\"].replace([1,2,3,4,5,6,7,8,9,10],[\"EastEurope\",\"Latam\",\"NorthAfrica\",\"Subsaharian\",\"WesternDem\",\"EastAsia\",\"SouthEastAsia\",\"SouthAsia\",\"Pacific\",\"Caribbean\"])"
   ]
  },
  {
   "cell_type": "markdown",
   "metadata": {},
   "source": [
    "* Dataframe con 50% de los casos"
   ]
  },
  {
   "cell_type": "code",
   "execution_count": 550,
   "metadata": {},
   "outputs": [],
   "source": [
    "df_base=df.sample(frac=0.5,random_state=9291)"
   ]
  },
  {
   "cell_type": "code",
   "execution_count": 551,
   "metadata": {},
   "outputs": [
    {
     "data": {
      "text/plain": [
       "(97, 1882)"
      ]
     },
     "execution_count": 551,
     "metadata": {},
     "output_type": "execute_result"
    }
   ],
   "source": [
    "df_base.shape"
   ]
  },
  {
   "cell_type": "markdown",
   "metadata": {},
   "source": [
    "* Base generada con los elementos[\"undp_hdi\",\"ccodealp\",\"ht_region\",\"gle_cgdpc\",\"imf_pop\"] \n",
    "* Además como mi apellido es <b>VELOZ</b>  se agregan las variables de modulo educación:\n",
    "    * wef_imort : Infant mortality, deaths/1000 live births\n",
    "    * who_alc2000 : Alcohol consumption per capita (2000-)\n",
    "    * who_tobt : Current smoking of any tobacco product (Total).\n",
    "    * wdi_exph : Government expenditure on health, total (% of GDP)"
   ]
  },
  {
   "cell_type": "code",
   "execution_count": 570,
   "metadata": {},
   "outputs": [
    {
     "data": {
      "text/html": [
       "<div>\n",
       "<style scoped>\n",
       "    .dataframe tbody tr th:only-of-type {\n",
       "        vertical-align: middle;\n",
       "    }\n",
       "\n",
       "    .dataframe tbody tr th {\n",
       "        vertical-align: top;\n",
       "    }\n",
       "\n",
       "    .dataframe thead th {\n",
       "        text-align: right;\n",
       "    }\n",
       "</style>\n",
       "<table border=\"1\" class=\"dataframe\">\n",
       "  <thead>\n",
       "    <tr style=\"text-align: right;\">\n",
       "      <th></th>\n",
       "      <th>undp_hdi</th>\n",
       "      <th>ccodealp</th>\n",
       "      <th>ht_region</th>\n",
       "      <th>gle_cgdpc</th>\n",
       "      <th>imf_pop</th>\n",
       "      <th>wef_imort</th>\n",
       "      <th>who_alc2000</th>\n",
       "      <th>who_tobt</th>\n",
       "      <th>wdi_exph</th>\n",
       "      <th>cname</th>\n",
       "    </tr>\n",
       "  </thead>\n",
       "  <tbody>\n",
       "    <tr>\n",
       "      <th>185</th>\n",
       "      <td>0.519</td>\n",
       "      <td>TZA</td>\n",
       "      <td>Subsaharian</td>\n",
       "      <td>1416.30</td>\n",
       "      <td>43.880001</td>\n",
       "      <td>37.700001</td>\n",
       "      <td>4.20</td>\n",
       "      <td>16.299999</td>\n",
       "      <td>5.580116</td>\n",
       "      <td>Tanzania</td>\n",
       "    </tr>\n",
       "    <tr>\n",
       "      <th>145</th>\n",
       "      <td>0.762</td>\n",
       "      <td>KNA</td>\n",
       "      <td>Caribbean</td>\n",
       "      <td>11237.75</td>\n",
       "      <td>NaN</td>\n",
       "      <td>NaN</td>\n",
       "      <td>8.68</td>\n",
       "      <td>NaN</td>\n",
       "      <td>5.080365</td>\n",
       "      <td>St Kitts and Nevis</td>\n",
       "    </tr>\n",
       "    <tr>\n",
       "      <th>167</th>\n",
       "      <td>0.909</td>\n",
       "      <td>SWE</td>\n",
       "      <td>WesternDem</td>\n",
       "      <td>39000.91</td>\n",
       "      <td>9.645000</td>\n",
       "      <td>2.300000</td>\n",
       "      <td>7.30</td>\n",
       "      <td>21.900000</td>\n",
       "      <td>11.929840</td>\n",
       "      <td>Sweden</td>\n",
       "    </tr>\n",
       "    <tr>\n",
       "      <th>132</th>\n",
       "      <td>0.785</td>\n",
       "      <td>PAN</td>\n",
       "      <td>Latam</td>\n",
       "      <td>15137.04</td>\n",
       "      <td>3.788000</td>\n",
       "      <td>15.900000</td>\n",
       "      <td>6.74</td>\n",
       "      <td>7.400000</td>\n",
       "      <td>8.025723</td>\n",
       "      <td>Panama</td>\n",
       "    </tr>\n",
       "    <tr>\n",
       "      <th>141</th>\n",
       "      <td>0.855</td>\n",
       "      <td>QAT</td>\n",
       "      <td>NorthAfrica</td>\n",
       "      <td>104049.44</td>\n",
       "      <td>2.045000</td>\n",
       "      <td>6.300000</td>\n",
       "      <td>1.15</td>\n",
       "      <td>NaN</td>\n",
       "      <td>2.187062</td>\n",
       "      <td>Qatar</td>\n",
       "    </tr>\n",
       "  </tbody>\n",
       "</table>\n",
       "</div>"
      ],
      "text/plain": [
       "     undp_hdi ccodealp    ht_region  gle_cgdpc    imf_pop  wef_imort  \\\n",
       "185     0.519      TZA  Subsaharian    1416.30  43.880001  37.700001   \n",
       "145     0.762      KNA    Caribbean   11237.75        NaN        NaN   \n",
       "167     0.909      SWE   WesternDem   39000.91   9.645000   2.300000   \n",
       "132     0.785      PAN        Latam   15137.04   3.788000  15.900000   \n",
       "141     0.855      QAT  NorthAfrica  104049.44   2.045000   6.300000   \n",
       "\n",
       "     who_alc2000   who_tobt   wdi_exph               cname  \n",
       "185         4.20  16.299999   5.580116            Tanzania  \n",
       "145         8.68        NaN   5.080365  St Kitts and Nevis  \n",
       "167         7.30  21.900000  11.929840              Sweden  \n",
       "132         6.74   7.400000   8.025723              Panama  \n",
       "141         1.15        NaN   2.187062               Qatar  "
      ]
     },
     "execution_count": 570,
     "metadata": {},
     "output_type": "execute_result"
    }
   ],
   "source": [
    "df_base_generada=df_base.loc[:,[\"undp_hdi\",\"ccodealp\",\"ht_region\",\"gle_cgdpc\",\"imf_pop\",\"wef_imort\",\"who_alc2000\",\"who_tobt\",\"wdi_exph\",\"cname\"]]\n",
    "df_base_generada.head()"
   ]
  },
  {
   "cell_type": "markdown",
   "metadata": {},
   "source": [
    "# Si su apellido está entre la A y la M, escoja las siguientes variables del módulo Educación:\n",
    "* ffp_hf : Human Flight and Brain Drain\n",
    "* wef_q\n",
    "es : Quality of the educational system\n",
    "* wdi_expedu : Government expenditure on education, total (% of GDP)\n",
    "* wdi_ners : School enrollment, secondary (% net)"
   ]
  },
  {
   "cell_type": "code",
   "execution_count": null,
   "metadata": {},
   "outputs": [],
   "source": [
    "\n"
   ]
  },
  {
   "cell_type": "markdown",
   "metadata": {},
   "source": [
    "# Si su apellido está entre la N y la Z, escoja las siguientes variables del módulo Salud:\n",
    "* wef_imort : Infant mortality, deaths/1000 live births\n",
    "* who_alc2000 : Alcohol consumption per capita (2000-)\n",
    "* who_tobt : Current smoking of any tobacco product (Total).\n",
    "* wdi_exph : Government expenditure on health, total (% of GDP)\n",
    "* Guarde esta tabla procesada en un nuevo objeto\n",
    "* Renombre las categorías de la variable ht_region de números a regiones"
   ]
  },
  {
   "cell_type": "markdown",
   "metadata": {},
   "source": []
  },
  {
   "cell_type": "markdown",
   "metadata": {},
   "source": [
    "# 2. Genere una función que ingrese su objeto y devuelva:"
   ]
  },
  {
   "cell_type": "markdown",
   "metadata": {},
   "source": [
    "* Por cada variable existente en su objeto, calcule las medidas descriptivas para los casos contínuos\n",
    "* Para cada variable discreta, que calcule la frecuencia.\n",
    "* Reporte las estadísticas descriptivas para gle_cgdpc , undp_hdi , imf_pop .\n",
    "* Compare las estadísticas con algún compañero. ¿Ve alguna diferencia substancial en alguna de ellas?"
   ]
  },
  {
   "cell_type": "markdown",
   "metadata": {},
   "source": [
    "* Inspeccionando el tipo de variable de nuestros dataframe"
   ]
  },
  {
   "cell_type": "code",
   "execution_count": 572,
   "metadata": {},
   "outputs": [
    {
     "name": "stdout",
     "output_type": "stream",
     "text": [
      "undp_hdi es de tipo:  float64\n",
      "ccodealp es de tipo:  object\n",
      "ht_region es de tipo:  object\n",
      "gle_cgdpc es de tipo:  float64\n",
      "imf_pop es de tipo:  float64\n",
      "wef_imort es de tipo:  float64\n",
      "who_alc2000 es de tipo:  float64\n",
      "who_tobt es de tipo:  float64\n",
      "wdi_exph es de tipo:  float64\n",
      "cname es de tipo:  object\n"
     ]
    }
   ],
   "source": [
    "for i in df_base_generada.columns:\n",
    "    print(i,\"es de tipo: \",df_base_generada[i].dtype)\n",
    "#lista=[\"undp_hdi\",\"gle_cgdpc\",\"imf_pop\"]\n",
    "   \n",
    "#len(df_base_generada[\"undp_hdi\"])\n",
    "#df.dtypes\n",
    "#df_base_generada.dtypes\n",
    "#for i in df_base_generada.columns:\n",
    "#    print(i)\n"
   ]
  },
  {
   "cell_type": "code",
   "execution_count": 554,
   "metadata": {
    "scrolled": false
   },
   "outputs": [
    {
     "name": "stdout",
     "output_type": "stream",
     "text": [
      "VARIABLE CONTINUA: undp_hdi\n",
      "count    90.000000\n",
      "mean      0.697900\n",
      "std       0.165232\n",
      "min       0.347000\n",
      "25%       0.533500\n",
      "50%       0.737500\n",
      "75%       0.839750\n",
      "max       0.924000\n",
      "Name: undp_hdi, dtype: float64\n",
      "\n",
      "\n",
      "VARIABLE CONTINUA: gle_cgdpc\n",
      "count        96.000000\n",
      "mean      16053.762899\n",
      "std       19678.988944\n",
      "min         332.269990\n",
      "25%        2209.989975\n",
      "50%        9311.145000\n",
      "75%       22289.112750\n",
      "max      108481.130000\n",
      "Name: gle_cgdpc, dtype: float64\n",
      "\n",
      "\n",
      "VARIABLE CONTINUA: imf_pop\n",
      "count     74.000000\n",
      "mean      23.745986\n",
      "std       46.113252\n",
      "min        0.011000\n",
      "25%        2.278750\n",
      "50%        6.904500\n",
      "75%       28.816000\n",
      "max      318.789001\n",
      "Name: imf_pop, dtype: float64\n",
      "\n",
      "\n",
      "VARIABLE CONTINUA: wef_imort\n",
      "count     73.000000\n",
      "mean      24.255268\n",
      "std       26.632336\n",
      "min        1.700000\n",
      "25%        4.700000\n",
      "50%       13.600000\n",
      "75%       41.099998\n",
      "max      117.400002\n",
      "Name: wef_imort, dtype: float64\n",
      "\n",
      "\n",
      "VARIABLE CONTINUA: who_alc2000\n",
      "count    89.000000\n",
      "mean      5.279775\n",
      "std       4.076143\n",
      "min       0.000000\n",
      "25%       1.440000\n",
      "50%       4.160000\n",
      "75%       8.680000\n",
      "max      13.940000\n",
      "Name: who_alc2000, dtype: float64\n",
      "\n",
      "\n",
      "VARIABLE CONTINUA: who_tobt\n",
      "count    56.000000\n",
      "mean     22.987500\n",
      "std       9.369371\n",
      "min       4.700000\n",
      "25%      16.375000\n",
      "50%      22.900001\n",
      "75%      28.275000\n",
      "max      48.900002\n",
      "Name: who_tobt, dtype: float64\n",
      "\n",
      "\n",
      "VARIABLE CONTINUA: wdi_exph\n",
      "count    94.000000\n",
      "mean      6.920099\n",
      "std       2.934498\n",
      "min       2.067386\n",
      "25%       4.734142\n",
      "50%       6.855138\n",
      "75%       8.546847\n",
      "max      17.140755\n",
      "Name: wdi_exph, dtype: float64\n",
      "\n",
      "\n",
      "VARIABLE DISCRETA : ccodealp\n",
      "SOM    1\n",
      "PER    1\n",
      "SLV    1\n",
      "UGA    1\n",
      "MMR    1\n",
      "KAZ    1\n",
      "FJI    1\n",
      "CIV    1\n",
      "CZE    1\n",
      "PRY    1\n",
      "LUX    1\n",
      "EST    1\n",
      "MOZ    1\n",
      "FIN    1\n",
      "CAN    1\n",
      "JOR    1\n",
      "ARE    1\n",
      "TTO    1\n",
      "BEL    1\n",
      "TZA    1\n",
      "NRU    1\n",
      "BIH    1\n",
      "IRL    1\n",
      "YEM    1\n",
      "GMB    1\n",
      "TUV    1\n",
      "MDV    1\n",
      "RWA    1\n",
      "TUN    1\n",
      "SVK    1\n",
      "      ..\n",
      "NGA    1\n",
      "ARM    1\n",
      "SMR    1\n",
      "CAF    1\n",
      "OMN    1\n",
      "RUS    1\n",
      "SGP    1\n",
      "GTM    1\n",
      "GHA    1\n",
      "KNA    1\n",
      "NIC    1\n",
      "ISR    1\n",
      "PLW    1\n",
      "URY    1\n",
      "STP    1\n",
      "SSD    1\n",
      "MAR    1\n",
      "SLE    1\n",
      "BGR    1\n",
      "BLR    1\n",
      "MWI    1\n",
      "MCO    1\n",
      "PNG    1\n",
      "TGO    1\n",
      "SEN    1\n",
      "LSO    1\n",
      "MRT    1\n",
      "FRA    1\n",
      "ERI    1\n",
      "PAN    1\n",
      "Name: ccodealp, Length: 97, dtype: int64\n",
      "\n",
      "\n",
      "VARIABLE DISCRETA : ht_region\n",
      "Subsaharian      25\n",
      "WesternDem       16\n",
      "EastEurope       15\n",
      "NorthAfrica      11\n",
      "Latam             8\n",
      "Caribbean         7\n",
      "Pacific           6\n",
      "SouthEastAsia     5\n",
      "EastAsia          2\n",
      "SouthAsia         2\n",
      "Name: ht_region, dtype: int64\n",
      "\n",
      "\n",
      "VARIABLE DISCRETA : cname\n",
      "Nicaragua                   1\n",
      "Oman                        1\n",
      "Sweden                      1\n",
      "Bulgaria                    1\n",
      "Luxembourg                  1\n",
      "Libya                       1\n",
      "Tunisia                     1\n",
      "Malawi                      1\n",
      "France (1963-)              1\n",
      "Vietnam                     1\n",
      "Myanmar                     1\n",
      "Afghanistan                 1\n",
      "Qatar                       1\n",
      "Armenia                     1\n",
      "Ethiopia (1993-)            1\n",
      "Eritrea                     1\n",
      "Fiji                        1\n",
      "Uganda                      1\n",
      "Trinidad and Tobago         1\n",
      "Iceland                     1\n",
      "Tanzania                    1\n",
      "Singapore                   1\n",
      "Sao Tome and Principe       1\n",
      "Estonia                     1\n",
      "Mauritania                  1\n",
      "United Arab Emirates        1\n",
      "Peru                        1\n",
      "Somalia                     1\n",
      "Ghana                       1\n",
      "United States               1\n",
      "                           ..\n",
      "Czech Republic              1\n",
      "Portugal                    1\n",
      "Central African Republic    1\n",
      "Yemen                       1\n",
      "South Sudan                 1\n",
      "United Kingdom              1\n",
      "Ireland                     1\n",
      "Swaziland                   1\n",
      "Belgium                     1\n",
      "Mozambique                  1\n",
      "Papua New Guinea            1\n",
      "Burundi                     1\n",
      "Palau                       1\n",
      "Sierra Leone                1\n",
      "Antigua and Barbuda         1\n",
      "Jordan                      1\n",
      "Canada                      1\n",
      "Netherlands                 1\n",
      "Israel                      1\n",
      "Lesotho                     1\n",
      "Nigeria                     1\n",
      "Rwanda                      1\n",
      "Malta                       1\n",
      "Panama                      1\n",
      "Croatia                     1\n",
      "Togo                        1\n",
      "Gambia                      1\n",
      "Turkmenistan                1\n",
      "Monaco                      1\n",
      "Guatemala                   1\n",
      "Name: cname, Length: 97, dtype: int64\n",
      "\n",
      "\n"
     ]
    }
   ],
   "source": [
    "#print(df_base_generada)\n",
    "\n",
    "def descriptiva1(df):\n",
    "    \"\"\"\n",
    "    -Esta funcion obtiene un df para variables continuas y discretas \n",
    "    -Su argumento exige un vector pd.Series\n",
    "    -Retorna el promedio,varianza y desviacion estandar para variable continua y solo la frecuencia para variable discreta\n",
    "    \"\"\"\n",
    "    lista_cuanti=[]\n",
    "    lista_cuali=[]\n",
    "    for colname in df.columns:\n",
    "        if df[colname].dtype == \"float64\":\n",
    "            lista_cuanti.append(colname)\n",
    "        else:\n",
    "            lista_cuali.append(colname)\n",
    "\n",
    "    for colname in lista_cuanti:\n",
    "        print(\"VARIABLE CONTINUA: \"+colname)\n",
    "        tmp_describe=df[colname].describe()\n",
    "        print(tmp_describe)\n",
    "        print(\"\\n\")\n",
    "        \n",
    "    for colname in lista_cuali:\n",
    "        print(\"VARIABLE DISCRETA :\",colname)\n",
    "        tmp_frec=df[colname].value_counts()\n",
    "        print(tmp_frec)\n",
    "        print(\"\\n\")\n",
    "\n",
    "descriptiva1(df_base_generada)"
   ]
  },
  {
   "cell_type": "markdown",
   "metadata": {},
   "source": [
    "# 3. Genere una función que liste las observaciones perdidas de una variable\n",
    "* La función debe contener los siguientes argumentos:\n",
    "* dataframe : La función debe ingresar un objeto DataFrame.\n",
    "* var : Variable a inspeccionar.\n",
    "* print_list : Opción para imprimir la lista de observaciones perdidas en la variable. Debe ser False por defecto.\n",
    "* La función debe retornar la cantidad de casos perdidos y el porcentaje correspondiente.\n",
    "* Cuando print_list = True , debe retornar la lista de casos.\n"
   ]
  },
  {
   "cell_type": "code",
   "execution_count": 555,
   "metadata": {},
   "outputs": [
    {
     "name": "stdout",
     "output_type": "stream",
     "text": [
      "* En undp_hdi Hay una cantidad de elementos nulos:  7 ,Porcentaje:  7.216494845360824 %\n"
     ]
    },
    {
     "data": {
      "text/html": [
       "<div>\n",
       "<style scoped>\n",
       "    .dataframe tbody tr th:only-of-type {\n",
       "        vertical-align: middle;\n",
       "    }\n",
       "\n",
       "    .dataframe tbody tr th {\n",
       "        vertical-align: top;\n",
       "    }\n",
       "\n",
       "    .dataframe thead th {\n",
       "        text-align: right;\n",
       "    }\n",
       "</style>\n",
       "<table border=\"1\" class=\"dataframe\">\n",
       "  <thead>\n",
       "    <tr style=\"text-align: right;\">\n",
       "      <th></th>\n",
       "      <th>undp_hdi</th>\n",
       "      <th>ccodealp</th>\n",
       "      <th>ht_region</th>\n",
       "      <th>gle_cgdpc</th>\n",
       "      <th>imf_pop</th>\n",
       "      <th>wef_imort</th>\n",
       "      <th>who_alc2000</th>\n",
       "      <th>who_tobt</th>\n",
       "      <th>wdi_exph</th>\n",
       "      <th>cname</th>\n",
       "    </tr>\n",
       "  </thead>\n",
       "  <tbody>\n",
       "    <tr>\n",
       "      <th>89</th>\n",
       "      <td>NaN</td>\n",
       "      <td>PRK</td>\n",
       "      <td>EastAsia</td>\n",
       "      <td>1727.8199</td>\n",
       "      <td>NaN</td>\n",
       "      <td>NaN</td>\n",
       "      <td>3.35</td>\n",
       "      <td>NaN</td>\n",
       "      <td>NaN</td>\n",
       "      <td>Korea, North</td>\n",
       "    </tr>\n",
       "    <tr>\n",
       "      <th>148</th>\n",
       "      <td>NaN</td>\n",
       "      <td>SMR</td>\n",
       "      <td>WesternDem</td>\n",
       "      <td>42664.2110</td>\n",
       "      <td>0.034</td>\n",
       "      <td>NaN</td>\n",
       "      <td>NaN</td>\n",
       "      <td>NaN</td>\n",
       "      <td>6.129065</td>\n",
       "      <td>San Marino</td>\n",
       "    </tr>\n",
       "    <tr>\n",
       "      <th>159</th>\n",
       "      <td>NaN</td>\n",
       "      <td>SOM</td>\n",
       "      <td>Subsaharian</td>\n",
       "      <td>1436.7400</td>\n",
       "      <td>NaN</td>\n",
       "      <td>NaN</td>\n",
       "      <td>0.00</td>\n",
       "      <td>NaN</td>\n",
       "      <td>NaN</td>\n",
       "      <td>Somalia</td>\n",
       "    </tr>\n",
       "    <tr>\n",
       "      <th>111</th>\n",
       "      <td>NaN</td>\n",
       "      <td>MCO</td>\n",
       "      <td>WesternDem</td>\n",
       "      <td>108481.1300</td>\n",
       "      <td>NaN</td>\n",
       "      <td>NaN</td>\n",
       "      <td>NaN</td>\n",
       "      <td>NaN</td>\n",
       "      <td>4.337683</td>\n",
       "      <td>Monaco</td>\n",
       "    </tr>\n",
       "    <tr>\n",
       "      <th>119</th>\n",
       "      <td>NaN</td>\n",
       "      <td>NRU</td>\n",
       "      <td>Pacific</td>\n",
       "      <td>3130.4700</td>\n",
       "      <td>0.012</td>\n",
       "      <td>NaN</td>\n",
       "      <td>NaN</td>\n",
       "      <td>48.900002</td>\n",
       "      <td>3.326649</td>\n",
       "      <td>Nauru</td>\n",
       "    </tr>\n",
       "    <tr>\n",
       "      <th>179</th>\n",
       "      <td>NaN</td>\n",
       "      <td>TUV</td>\n",
       "      <td>Pacific</td>\n",
       "      <td>3174.0500</td>\n",
       "      <td>0.011</td>\n",
       "      <td>NaN</td>\n",
       "      <td>1.34</td>\n",
       "      <td>NaN</td>\n",
       "      <td>16.536638</td>\n",
       "      <td>Tuvalu</td>\n",
       "    </tr>\n",
       "    <tr>\n",
       "      <th>37</th>\n",
       "      <td>NaN</td>\n",
       "      <td>TWN</td>\n",
       "      <td>EastAsia</td>\n",
       "      <td>33965.8710</td>\n",
       "      <td>23.434</td>\n",
       "      <td>3.934564</td>\n",
       "      <td>NaN</td>\n",
       "      <td>NaN</td>\n",
       "      <td>NaN</td>\n",
       "      <td>Taiwan</td>\n",
       "    </tr>\n",
       "  </tbody>\n",
       "</table>\n",
       "</div>"
      ],
      "text/plain": [
       "     undp_hdi ccodealp    ht_region    gle_cgdpc  imf_pop  wef_imort  \\\n",
       "89        NaN      PRK     EastAsia    1727.8199      NaN        NaN   \n",
       "148       NaN      SMR   WesternDem   42664.2110    0.034        NaN   \n",
       "159       NaN      SOM  Subsaharian    1436.7400      NaN        NaN   \n",
       "111       NaN      MCO   WesternDem  108481.1300      NaN        NaN   \n",
       "119       NaN      NRU      Pacific    3130.4700    0.012        NaN   \n",
       "179       NaN      TUV      Pacific    3174.0500    0.011        NaN   \n",
       "37        NaN      TWN     EastAsia   33965.8710   23.434   3.934564   \n",
       "\n",
       "     who_alc2000   who_tobt   wdi_exph         cname  \n",
       "89          3.35        NaN        NaN  Korea, North  \n",
       "148          NaN        NaN   6.129065    San Marino  \n",
       "159         0.00        NaN        NaN       Somalia  \n",
       "111          NaN        NaN   4.337683        Monaco  \n",
       "119          NaN  48.900002   3.326649         Nauru  \n",
       "179         1.34        NaN  16.536638        Tuvalu  \n",
       "37           NaN        NaN        NaN        Taiwan  "
      ]
     },
     "execution_count": 555,
     "metadata": {},
     "output_type": "execute_result"
    }
   ],
   "source": [
    "def obs_perdidas(dataframe,var,print_list):\n",
    "    \"\"\"\n",
    "    -Esta funcion las observaciones perdidas de una vector df\n",
    "    -Su argumento exige un vector pd.Series, una varible o columna del dataframe, y un booleano print_list\n",
    "    -Retorna la variable, la cantidad de elementos nulos y el porcentaje de nulos respecto al largo del vector.\n",
    "    \"\"\"\n",
    "    nulos=dataframe[var].isnull().sum()\n",
    "\n",
    "    porcentaje=100*(dataframe[var].isnull().sum()/len(dataframe[var]))\n",
    "\n",
    "    #df_nulos[\"Porcentaje\"]=round(100*porcentaje,3)\n",
    "    #return nulos,porcentaje\n",
    "    print(\"* En\",var,\"Hay una cantidad de elementos nulos: \",nulos,\",Porcentaje: \",porcentaje,\"%\")\n",
    "  \n",
    "    if print_list == True:\n",
    "        df_vacios=df_base_generada.loc[dataframe[var].isnull()]\n",
    "        return df_vacios\n",
    "\n",
    "obs_perdidas(df_base_generada,\"undp_hdi\",True)"
   ]
  },
  {
   "cell_type": "markdown",
   "metadata": {},
   "source": [
    "* Analice todas las variables y sus casos perdidos.\n",
    "* La función debe retornar la cantidad de casos perdidos y el porcentaje correspondiente."
   ]
  },
  {
   "cell_type": "code",
   "execution_count": 556,
   "metadata": {},
   "outputs": [
    {
     "name": "stdout",
     "output_type": "stream",
     "text": [
      "VARIABLES Y SUS DATOS PERDIDOS\n"
     ]
    },
    {
     "data": {
      "text/html": [
       "<style  type=\"text/css\" >\n",
       "    #T_34593b76_9cef_11e9_a7e7_18cf5e9c3902row0_col0 {\n",
       "            color:  black;\n",
       "        }    #T_34593b76_9cef_11e9_a7e7_18cf5e9c3902row0_col1 {\n",
       "            color:  black;\n",
       "        }    #T_34593b76_9cef_11e9_a7e7_18cf5e9c3902row1_col0 {\n",
       "            color:  black;\n",
       "        }    #T_34593b76_9cef_11e9_a7e7_18cf5e9c3902row1_col1 {\n",
       "            color:  black;\n",
       "        }    #T_34593b76_9cef_11e9_a7e7_18cf5e9c3902row2_col0 {\n",
       "            color:  black;\n",
       "        }    #T_34593b76_9cef_11e9_a7e7_18cf5e9c3902row2_col1 {\n",
       "            color:  black;\n",
       "        }    #T_34593b76_9cef_11e9_a7e7_18cf5e9c3902row3_col0 {\n",
       "            color:  black;\n",
       "        }    #T_34593b76_9cef_11e9_a7e7_18cf5e9c3902row3_col1 {\n",
       "            color:  black;\n",
       "        }    #T_34593b76_9cef_11e9_a7e7_18cf5e9c3902row4_col0 {\n",
       "            color:  red;\n",
       "        }    #T_34593b76_9cef_11e9_a7e7_18cf5e9c3902row4_col1 {\n",
       "            color:  red;\n",
       "        }    #T_34593b76_9cef_11e9_a7e7_18cf5e9c3902row5_col0 {\n",
       "            color:  red;\n",
       "        }    #T_34593b76_9cef_11e9_a7e7_18cf5e9c3902row5_col1 {\n",
       "            color:  red;\n",
       "        }    #T_34593b76_9cef_11e9_a7e7_18cf5e9c3902row6_col0 {\n",
       "            color:  black;\n",
       "        }    #T_34593b76_9cef_11e9_a7e7_18cf5e9c3902row6_col1 {\n",
       "            color:  black;\n",
       "        }    #T_34593b76_9cef_11e9_a7e7_18cf5e9c3902row7_col0 {\n",
       "            color:  red;\n",
       "        }    #T_34593b76_9cef_11e9_a7e7_18cf5e9c3902row7_col1 {\n",
       "            color:  red;\n",
       "        }    #T_34593b76_9cef_11e9_a7e7_18cf5e9c3902row8_col0 {\n",
       "            color:  black;\n",
       "        }    #T_34593b76_9cef_11e9_a7e7_18cf5e9c3902row8_col1 {\n",
       "            color:  black;\n",
       "        }    #T_34593b76_9cef_11e9_a7e7_18cf5e9c3902row9_col0 {\n",
       "            color:  black;\n",
       "        }    #T_34593b76_9cef_11e9_a7e7_18cf5e9c3902row9_col1 {\n",
       "            color:  black;\n",
       "        }</style><table id=\"T_34593b76_9cef_11e9_a7e7_18cf5e9c3902\" ><thead>    <tr>        <th class=\"blank level0\" ></th>        <th class=\"col_heading level0 col0\" >nulos</th>        <th class=\"col_heading level0 col1\" >Porcentaje</th>    </tr></thead><tbody>\n",
       "                <tr>\n",
       "                        <th id=\"T_34593b76_9cef_11e9_a7e7_18cf5e9c3902level0_row0\" class=\"row_heading level0 row0\" >undp_hdi</th>\n",
       "                        <td id=\"T_34593b76_9cef_11e9_a7e7_18cf5e9c3902row0_col0\" class=\"data row0 col0\" >7</td>\n",
       "                        <td id=\"T_34593b76_9cef_11e9_a7e7_18cf5e9c3902row0_col1\" class=\"data row0 col1\" >7.216</td>\n",
       "            </tr>\n",
       "            <tr>\n",
       "                        <th id=\"T_34593b76_9cef_11e9_a7e7_18cf5e9c3902level0_row1\" class=\"row_heading level0 row1\" >ccodealp</th>\n",
       "                        <td id=\"T_34593b76_9cef_11e9_a7e7_18cf5e9c3902row1_col0\" class=\"data row1 col0\" >0</td>\n",
       "                        <td id=\"T_34593b76_9cef_11e9_a7e7_18cf5e9c3902row1_col1\" class=\"data row1 col1\" >0</td>\n",
       "            </tr>\n",
       "            <tr>\n",
       "                        <th id=\"T_34593b76_9cef_11e9_a7e7_18cf5e9c3902level0_row2\" class=\"row_heading level0 row2\" >ht_region</th>\n",
       "                        <td id=\"T_34593b76_9cef_11e9_a7e7_18cf5e9c3902row2_col0\" class=\"data row2 col0\" >0</td>\n",
       "                        <td id=\"T_34593b76_9cef_11e9_a7e7_18cf5e9c3902row2_col1\" class=\"data row2 col1\" >0</td>\n",
       "            </tr>\n",
       "            <tr>\n",
       "                        <th id=\"T_34593b76_9cef_11e9_a7e7_18cf5e9c3902level0_row3\" class=\"row_heading level0 row3\" >gle_cgdpc</th>\n",
       "                        <td id=\"T_34593b76_9cef_11e9_a7e7_18cf5e9c3902row3_col0\" class=\"data row3 col0\" >1</td>\n",
       "                        <td id=\"T_34593b76_9cef_11e9_a7e7_18cf5e9c3902row3_col1\" class=\"data row3 col1\" >1.031</td>\n",
       "            </tr>\n",
       "            <tr>\n",
       "                        <th id=\"T_34593b76_9cef_11e9_a7e7_18cf5e9c3902level0_row4\" class=\"row_heading level0 row4\" >imf_pop</th>\n",
       "                        <td id=\"T_34593b76_9cef_11e9_a7e7_18cf5e9c3902row4_col0\" class=\"data row4 col0\" >23</td>\n",
       "                        <td id=\"T_34593b76_9cef_11e9_a7e7_18cf5e9c3902row4_col1\" class=\"data row4 col1\" >23.711</td>\n",
       "            </tr>\n",
       "            <tr>\n",
       "                        <th id=\"T_34593b76_9cef_11e9_a7e7_18cf5e9c3902level0_row5\" class=\"row_heading level0 row5\" >wef_imort</th>\n",
       "                        <td id=\"T_34593b76_9cef_11e9_a7e7_18cf5e9c3902row5_col0\" class=\"data row5 col0\" >24</td>\n",
       "                        <td id=\"T_34593b76_9cef_11e9_a7e7_18cf5e9c3902row5_col1\" class=\"data row5 col1\" >24.742</td>\n",
       "            </tr>\n",
       "            <tr>\n",
       "                        <th id=\"T_34593b76_9cef_11e9_a7e7_18cf5e9c3902level0_row6\" class=\"row_heading level0 row6\" >who_alc2000</th>\n",
       "                        <td id=\"T_34593b76_9cef_11e9_a7e7_18cf5e9c3902row6_col0\" class=\"data row6 col0\" >8</td>\n",
       "                        <td id=\"T_34593b76_9cef_11e9_a7e7_18cf5e9c3902row6_col1\" class=\"data row6 col1\" >8.247</td>\n",
       "            </tr>\n",
       "            <tr>\n",
       "                        <th id=\"T_34593b76_9cef_11e9_a7e7_18cf5e9c3902level0_row7\" class=\"row_heading level0 row7\" >who_tobt</th>\n",
       "                        <td id=\"T_34593b76_9cef_11e9_a7e7_18cf5e9c3902row7_col0\" class=\"data row7 col0\" >41</td>\n",
       "                        <td id=\"T_34593b76_9cef_11e9_a7e7_18cf5e9c3902row7_col1\" class=\"data row7 col1\" >42.268</td>\n",
       "            </tr>\n",
       "            <tr>\n",
       "                        <th id=\"T_34593b76_9cef_11e9_a7e7_18cf5e9c3902level0_row8\" class=\"row_heading level0 row8\" >wdi_exph</th>\n",
       "                        <td id=\"T_34593b76_9cef_11e9_a7e7_18cf5e9c3902row8_col0\" class=\"data row8 col0\" >3</td>\n",
       "                        <td id=\"T_34593b76_9cef_11e9_a7e7_18cf5e9c3902row8_col1\" class=\"data row8 col1\" >3.093</td>\n",
       "            </tr>\n",
       "            <tr>\n",
       "                        <th id=\"T_34593b76_9cef_11e9_a7e7_18cf5e9c3902level0_row9\" class=\"row_heading level0 row9\" >cname</th>\n",
       "                        <td id=\"T_34593b76_9cef_11e9_a7e7_18cf5e9c3902row9_col0\" class=\"data row9 col0\" >0</td>\n",
       "                        <td id=\"T_34593b76_9cef_11e9_a7e7_18cf5e9c3902row9_col1\" class=\"data row9 col1\" >0</td>\n",
       "            </tr>\n",
       "    </tbody></table>"
      ],
      "text/plain": [
       "<pandas.io.formats.style.Styler at 0x12c4a1cc7b8>"
      ]
     },
     "execution_count": 556,
     "metadata": {},
     "output_type": "execute_result"
    }
   ],
   "source": [
    "def color_rojo(value):\n",
    "    if value < 22:\n",
    "        color = 'black'\n",
    "    #elif value > 22:\n",
    "    #    color = 'red'\n",
    "    else:\n",
    "        color = 'red'\n",
    "\n",
    "    return 'color: %s' % color\n",
    "\n",
    "\n",
    "def reporte_obs_perdidas(x):\n",
    "    \"\"\"\n",
    "    -Esta funcion reporta todas las observaciones perdidas para un vector pd.Series\n",
    "    -Su argumento exige solo un vector pd.Series.\n",
    "    -Retorna la columna, cantidad de elementos nulos por columnas y el porcentaje de nulos respecto al largo del vector.\n",
    "    \"\"\"\n",
    "    df_nulos=x.isnull().sum().to_frame('nulos')\n",
    "    \n",
    "    for i in x.columns:\n",
    "        porcentaje=(x.isnull().sum()/len(x[i]))\n",
    "    df_nulos[\"Porcentaje\"]=round(100*porcentaje,3)\n",
    "    df_coloreado=df_nulos.style.applymap(color_rojo, subset=['nulos','Porcentaje'])\n",
    "    return df_coloreado\n",
    "\n",
    "print(\"VARIABLES Y SUS DATOS PERDIDOS\")\n",
    "reporte_obs_perdidas(df_base_generada)\n",
    "\n",
    "\n"
   ]
  },
  {
   "cell_type": "markdown",
   "metadata": {},
   "source": [
    "\n",
    "* Se destaca en  <font color='red'>ROJO</font> las 3 variables con un mayor porcentaje de casos perdidos,corresponden a imf_pop, wef_imort y who_tobt\n",
    "\n",
    "\n",
    "\n"
   ]
  },
  {
   "cell_type": "markdown",
   "metadata": {},
   "source": [
    "# Analice todas las variables y sus casos perdidos."
   ]
  },
  {
   "cell_type": "code",
   "execution_count": 557,
   "metadata": {},
   "outputs": [
    {
     "name": "stdout",
     "output_type": "stream",
     "text": [
      "undp_hdi\n",
      "     undp_hdi ccodealp    ht_region    gle_cgdpc  imf_pop  wef_imort  \\\n",
      "89        NaN      PRK     EastAsia    1727.8199      NaN        NaN   \n",
      "148       NaN      SMR   WesternDem   42664.2110    0.034        NaN   \n",
      "159       NaN      SOM  Subsaharian    1436.7400      NaN        NaN   \n",
      "111       NaN      MCO   WesternDem  108481.1300      NaN        NaN   \n",
      "119       NaN      NRU      Pacific    3130.4700    0.012        NaN   \n",
      "179       NaN      TUV      Pacific    3174.0500    0.011        NaN   \n",
      "37        NaN      TWN     EastAsia   33965.8710   23.434   3.934564   \n",
      "\n",
      "     who_alc2000   who_tobt   wdi_exph         cname  \n",
      "89          3.35        NaN        NaN  Korea, North  \n",
      "148          NaN        NaN   6.129065    San Marino  \n",
      "159         0.00        NaN        NaN       Somalia  \n",
      "111          NaN        NaN   4.337683        Monaco  \n",
      "119          NaN  48.900002   3.326649         Nauru  \n",
      "179         1.34        NaN  16.536638        Tuvalu  \n",
      "37           NaN        NaN        NaN        Taiwan  \n",
      "ccodealp\n",
      "Empty DataFrame\n",
      "Columns: [undp_hdi, ccodealp, ht_region, gle_cgdpc, imf_pop, wef_imort, who_alc2000, who_tobt, wdi_exph, cname]\n",
      "Index: []\n",
      "ht_region\n",
      "Empty DataFrame\n",
      "Columns: [undp_hdi, ccodealp, ht_region, gle_cgdpc, imf_pop, wef_imort, who_alc2000, who_tobt, wdi_exph, cname]\n",
      "Index: []\n",
      "gle_cgdpc\n",
      "     undp_hdi ccodealp    ht_region  gle_cgdpc  imf_pop  wef_imort  \\\n",
      "163     0.421      SSD  Subsaharian        NaN      NaN        NaN   \n",
      "\n",
      "     who_alc2000  who_tobt  wdi_exph        cname  \n",
      "163          NaN       NaN  2.738421  South Sudan  \n",
      "imf_pop\n",
      "     undp_hdi ccodealp    ht_region     gle_cgdpc  imf_pop  wef_imort  \\\n",
      "145     0.762      KNA    Caribbean   11237.75000      NaN        NaN   \n",
      "178     0.688      TKM   EastEurope   13217.39000      NaN        NaN   \n",
      "89        NaN      PRK     EastAsia    1727.81990      NaN        NaN   \n",
      "32      0.347      CAF  Subsaharian     690.03998      NaN        NaN   \n",
      "5       0.784      ATG    Caribbean   12257.71000      NaN        NaN   \n",
      "95      0.495      LSO  Subsaharian    1539.79000      NaN  74.199997   \n",
      "55      0.418      ERI  Subsaharian    1007.28000      NaN        NaN   \n",
      "65      0.575      GHA  Subsaharian    2584.60010      NaN  48.599998   \n",
      "175     0.836      ARE  NorthAfrica   20310.10900      NaN   7.200000   \n",
      "52      0.678      SLV        Latam     332.26999      NaN  13.600000   \n",
      "176     0.723      TUN  NorthAfrica    6912.27980      NaN  13.800000   \n",
      "61      0.694      GAB  Subsaharian   14525.28000      NaN  42.400002   \n",
      "159       NaN      SOM  Subsaharian    1436.74000      NaN        NaN   \n",
      "42      0.775      CRI        Latam    9485.71000      NaN   8.600000   \n",
      "111       NaN      MCO   WesternDem  108481.13000      NaN        NaN   \n",
      "149     0.565      STP  Subsaharian    2150.55000      NaN        NaN   \n",
      "34      0.394      TCD  Subsaharian    1651.05000      NaN  89.400002   \n",
      "69      0.637      GTM        Latam    4438.00000      NaN  26.500000   \n",
      "63      0.450      GMB  Subsaharian    1601.88000      NaN  49.200001   \n",
      "163     0.421      SSD  Subsaharian           NaN      NaN        NaN   \n",
      "192     0.499      YEM  NorthAfrica    2170.92990      NaN  46.299999   \n",
      "26      0.406      BDI  Subsaharian     663.57001      NaN  66.900002   \n",
      "151     0.491      SEN  Subsaharian    1527.99000      NaN  45.200001   \n",
      "\n",
      "     who_alc2000  who_tobt   wdi_exph                     cname  \n",
      "145         8.68       NaN   5.080365        St Kitts and Nevis  \n",
      "178         2.90       NaN   2.067386              Turkmenistan  \n",
      "89          3.35       NaN        NaN              Korea, North  \n",
      "32          1.66       NaN   4.200222  Central African Republic  \n",
      "5           8.56       NaN   5.541683       Antigua and Barbuda  \n",
      "95          2.39      25.4  10.617677                   Lesotho  \n",
      "55          0.62       NaN   3.338293                   Eritrea  \n",
      "65          1.64       6.3   3.557292                     Ghana  \n",
      "175         1.91       NaN   3.643986      United Arab Emirates  \n",
      "52          2.52       NaN   6.772403               El Salvador  \n",
      "176         1.39       NaN   7.003858                   Tunisia  \n",
      "61          8.86       NaN   3.437472                     Gabon  \n",
      "159         0.00       NaN        NaN                   Somalia  \n",
      "42          3.45      14.2   9.313112                Costa Rica  \n",
      "111          NaN       NaN   4.337683                    Monaco  \n",
      "149         5.69       NaN   8.353466     Sao Tome and Principe  \n",
      "34          0.64       NaN   3.621164                      Chad  \n",
      "69          1.88       NaN   6.202302                 Guatemala  \n",
      "63          3.41       NaN   7.340401                    Gambia  \n",
      "163          NaN       NaN   2.738421               South Sudan  \n",
      "192         0.04       NaN   5.636990                     Yemen  \n",
      "26          4.16       NaN   7.535565                   Burundi  \n",
      "151         0.26      11.1   4.664972                   Senegal  \n",
      "wef_imort\n",
      "     undp_hdi ccodealp    ht_region     gle_cgdpc    imf_pop  wef_imort  \\\n",
      "145     0.762      KNA    Caribbean   11237.75000        NaN        NaN   \n",
      "172     0.484      TGO  Subsaharian    1036.28000   6.929000        NaN   \n",
      "178     0.688      TKM   EastEurope   13217.39000        NaN        NaN   \n",
      "89        NaN      PRK     EastAsia    1727.81990        NaN        NaN   \n",
      "32      0.347      CAF  Subsaharian     690.03998        NaN        NaN   \n",
      "105     0.701      MDV    SouthAsia   13349.76000   0.336000        NaN   \n",
      "5       0.784      ATG    Caribbean   12257.71000        NaN        NaN   \n",
      "148       NaN      SMR   WesternDem   42664.21100   0.034000        NaN   \n",
      "133     0.515      PNG      Pacific    1693.54000   6.880000        NaN   \n",
      "55      0.418      ERI  Subsaharian    1007.28000        NaN        NaN   \n",
      "10      0.790      BHS    Caribbean   21672.02900   0.356000        NaN   \n",
      "27      0.798      BLR   EastEurope   17780.64100   9.468000        NaN   \n",
      "159       NaN      SOM  Subsaharian    1436.74000        NaN        NaN   \n",
      "111       NaN      MCO   WesternDem  108481.13000        NaN        NaN   \n",
      "79      0.649      IRQ  NorthAfrica    4178.25980  32.577999        NaN   \n",
      "149     0.565      STP  Subsaharian    2150.55000        NaN        NaN   \n",
      "0       0.479      AFG    SouthAsia    1282.64000  29.825001        NaN   \n",
      "130     0.783      PLW      Pacific    9392.59960   0.018000        NaN   \n",
      "119       NaN      NRU      Pacific    3130.47000   0.012000        NaN   \n",
      "163     0.421      SSD  Subsaharian           NaN        NaN        NaN   \n",
      "179       NaN      TUV      Pacific    3174.05000   0.011000        NaN   \n",
      "122     0.598      VUT      Pacific    2877.01000   0.257000        NaN   \n",
      "146     0.735      LCA    Caribbean   11095.80000   0.167000        NaN   \n",
      "57      0.734      FJI      Pacific    3848.72000   0.880000        NaN   \n",
      "\n",
      "     who_alc2000   who_tobt   wdi_exph                     cname  \n",
      "145         8.68        NaN   5.080365        St Kitts and Nevis  \n",
      "172         1.44        NaN   5.246877                      Togo  \n",
      "178         2.90        NaN   2.067386              Turkmenistan  \n",
      "89          3.35        NaN        NaN              Korea, North  \n",
      "32          1.66        NaN   4.200222  Central African Republic  \n",
      "105         1.92        NaN  13.733521                  Maldives  \n",
      "5           8.56        NaN   5.541683       Antigua and Barbuda  \n",
      "148          NaN        NaN   6.129065                San Marino  \n",
      "133         0.88        NaN   4.263571          Papua New Guinea  \n",
      "55          0.62        NaN   3.338293                   Eritrea  \n",
      "10          9.45        NaN   7.742365                   Bahamas  \n",
      "27         13.94  27.900000   5.687722                   Belarus  \n",
      "159         0.00        NaN        NaN                   Somalia  \n",
      "111          NaN        NaN   4.337683                    Monaco  \n",
      "79          0.17        NaN   5.538873                      Iraq  \n",
      "149         5.69        NaN   8.353466     Sao Tome and Principe  \n",
      "0           0.01        NaN   8.182274               Afghanistan  \n",
      "130          NaN        NaN   9.021533                     Palau  \n",
      "119          NaN  48.900002   3.326649                     Nauru  \n",
      "163          NaN        NaN   2.738421               South Sudan  \n",
      "179         1.34        NaN  16.536638                    Tuvalu  \n",
      "122         0.85        NaN   5.023575                   Vanuatu  \n",
      "146         9.97        NaN   6.719041                  St Lucia  \n",
      "57           NaN  26.500000   4.487499                      Fiji  \n",
      "who_alc2000\n",
      "     undp_hdi ccodealp    ht_region    gle_cgdpc  imf_pop  wef_imort  \\\n",
      "148       NaN      SMR   WesternDem   42664.2110    0.034        NaN   \n",
      "56      0.863      EST   EastEurope   19768.0390    1.316   2.900000   \n",
      "111       NaN      MCO   WesternDem  108481.1300      NaN        NaN   \n",
      "130     0.783      PLW      Pacific    9392.5996    0.018        NaN   \n",
      "119       NaN      NRU      Pacific    3130.4700    0.012        NaN   \n",
      "163     0.421      SSD  Subsaharian          NaN      NaN        NaN   \n",
      "57      0.734      FJI      Pacific    3848.7200    0.880        NaN   \n",
      "37        NaN      TWN     EastAsia   33965.8710   23.434   3.934564   \n",
      "\n",
      "     who_alc2000   who_tobt  wdi_exph        cname  \n",
      "148          NaN        NaN  6.129065   San Marino  \n",
      "56           NaN  33.200001  6.379294      Estonia  \n",
      "111          NaN        NaN  4.337683       Monaco  \n",
      "130          NaN        NaN  9.021533        Palau  \n",
      "119          NaN  48.900002  3.326649        Nauru  \n",
      "163          NaN        NaN  2.738421  South Sudan  \n",
      "57           NaN  26.500000  4.487499         Fiji  \n",
      "37           NaN        NaN       NaN       Taiwan  \n",
      "who_tobt\n",
      "     undp_hdi ccodealp    ht_region     gle_cgdpc    imf_pop  wef_imort  \\\n",
      "145     0.762      KNA    Caribbean   11237.75000        NaN        NaN   \n",
      "141     0.855      QAT  NorthAfrica  104049.44000   2.045000   6.300000   \n",
      "172     0.484      TGO  Subsaharian    1036.28000   6.929000        NaN   \n",
      "178     0.688      TKM   EastEurope   13217.39000        NaN        NaN   \n",
      "135     0.737      PER        Latam    9227.15040  30.809000  14.100000   \n",
      "89        NaN      PRK     EastAsia    1727.81990        NaN        NaN   \n",
      "32      0.347      CAF  Subsaharian     690.03998        NaN        NaN   \n",
      "105     0.701      MDV    SouthAsia   13349.76000   0.336000        NaN   \n",
      "144     0.493      RWA  Subsaharian    1440.39000  10.200000  38.799999   \n",
      "5       0.784      ATG    Caribbean   12257.71000        NaN        NaN   \n",
      "148       NaN      SMR   WesternDem   42664.21100   0.034000        NaN   \n",
      "133     0.515      PNG      Pacific    1693.54000   6.880000        NaN   \n",
      "9       0.892      AUT   WesternDem   38868.03900   8.544000   3.300000   \n",
      "98      0.719      LBY  NorthAfrica    4102.83980   6.266000  13.200000   \n",
      "55      0.418      ERI  Subsaharian    1007.28000        NaN        NaN   \n",
      "71      0.638      GUY    Caribbean    2042.81990   0.756000  29.000000   \n",
      "10      0.790      BHS    Caribbean   21672.02900   0.356000        NaN   \n",
      "175     0.836      ARE  NorthAfrica   20310.10900        NaN   7.200000   \n",
      "52      0.678      SLV        Latam     332.26999        NaN  13.600000   \n",
      "124     0.642      NIC        Latam    2527.10010   5.946000  20.600000   \n",
      "176     0.723      TUN  NorthAfrica    6912.27980        NaN  13.800000   \n",
      "61      0.694      GAB  Subsaharian   14525.28000        NaN  42.400002   \n",
      "83      0.466      CIV  Subsaharian    1354.29000  22.524000  76.199997   \n",
      "174     0.779      TTO    Caribbean   22089.16000   1.354000  18.400000   \n",
      "159       NaN      SOM  Subsaharian    1436.74000        NaN        NaN   \n",
      "4       0.531      AGO  Subsaharian    3771.20000  25.789000  99.500000   \n",
      "111       NaN      MCO   WesternDem  108481.13000        NaN        NaN   \n",
      "79      0.649      IRQ  NorthAfrica    4178.25980  32.577999        NaN   \n",
      "149     0.565      STP  Subsaharian    2150.55000        NaN        NaN   \n",
      "34      0.394      TCD  Subsaharian    1651.05000        NaN  89.400002   \n",
      "0       0.479      AFG    SouthAsia    1282.64000  29.825001        NaN   \n",
      "69      0.637      GTM        Latam    4438.00000        NaN  26.500000   \n",
      "63      0.450      GMB  Subsaharian    1601.88000        NaN  49.200001   \n",
      "130     0.783      PLW      Pacific    9392.59960   0.018000        NaN   \n",
      "163     0.421      SSD  Subsaharian           NaN        NaN        NaN   \n",
      "179       NaN      TUV      Pacific    3174.05000   0.011000        NaN   \n",
      "122     0.598      VUT      Pacific    2877.01000   0.257000        NaN   \n",
      "192     0.499      YEM  NorthAfrica    2170.92990        NaN  46.299999   \n",
      "26      0.406      BDI  Subsaharian     663.57001        NaN  66.900002   \n",
      "146     0.735      LCA    Caribbean   11095.80000   0.167000        NaN   \n",
      "37        NaN      TWN     EastAsia   33965.87100  23.434000   3.934564   \n",
      "\n",
      "     who_alc2000  who_tobt   wdi_exph                     cname  \n",
      "145         8.68       NaN   5.080365        St Kitts and Nevis  \n",
      "141         1.15       NaN   2.187062                     Qatar  \n",
      "172         1.44       NaN   5.246877                      Togo  \n",
      "178         2.90       NaN   2.067386              Turkmenistan  \n",
      "135         5.38       NaN   5.473035                      Peru  \n",
      "89          3.35       NaN        NaN              Korea, North  \n",
      "32          1.66       NaN   4.200222  Central African Republic  \n",
      "105         1.92       NaN  13.733521                  Maldives  \n",
      "144         8.34       NaN   7.531551                    Rwanda  \n",
      "5           8.56       NaN   5.541683       Antigua and Barbuda  \n",
      "148          NaN       NaN   6.129065                San Marino  \n",
      "133         0.88       NaN   4.263571          Papua New Guinea  \n",
      "9          12.32       NaN  11.205473                   Austria  \n",
      "98          0.00       NaN   4.968935                     Libya  \n",
      "55          0.62       NaN   3.338293                   Eritrea  \n",
      "71          7.64       NaN   5.247804                    Guyana  \n",
      "10          9.45       NaN   7.742365                   Bahamas  \n",
      "175         1.91       NaN   3.643986      United Arab Emirates  \n",
      "52          2.52       NaN   6.772403               El Salvador  \n",
      "124         3.55       NaN   9.040139                 Nicaragua  \n",
      "176         1.39       NaN   7.003858                   Tunisia  \n",
      "61          8.86       NaN   3.437472                     Gabon  \n",
      "83          3.15       NaN   5.716274             Cote d'Ivoire  \n",
      "174         6.94       NaN   5.933197       Trinidad and Tobago  \n",
      "159         0.00       NaN        NaN                   Somalia  \n",
      "4           8.33       NaN   3.306983                    Angola  \n",
      "111          NaN       NaN   4.337683                    Monaco  \n",
      "79          0.17       NaN   5.538873                      Iraq  \n",
      "149         5.69       NaN   8.353466     Sao Tome and Principe  \n",
      "34          0.64       NaN   3.621164                      Chad  \n",
      "0           0.01       NaN   8.182274               Afghanistan  \n",
      "69          1.88       NaN   6.202302                 Guatemala  \n",
      "63          3.41       NaN   7.340401                    Gambia  \n",
      "130          NaN       NaN   9.021533                     Palau  \n",
      "163          NaN       NaN   2.738421               South Sudan  \n",
      "179         1.34       NaN  16.536638                    Tuvalu  \n",
      "122         0.85       NaN   5.023575                   Vanuatu  \n",
      "192         0.04       NaN   5.636990                     Yemen  \n",
      "26          4.16       NaN   7.535565                   Burundi  \n",
      "146         9.97       NaN   6.719041                  St Lucia  \n",
      "37           NaN       NaN        NaN                    Taiwan  \n",
      "wdi_exph\n",
      "     undp_hdi ccodealp    ht_region   gle_cgdpc  imf_pop  wef_imort  \\\n",
      "89        NaN      PRK     EastAsia   1727.8199      NaN        NaN   \n",
      "159       NaN      SOM  Subsaharian   1436.7400      NaN        NaN   \n",
      "37        NaN      TWN     EastAsia  33965.8710   23.434   3.934564   \n",
      "\n",
      "     who_alc2000  who_tobt  wdi_exph         cname  \n",
      "89          3.35       NaN       NaN  Korea, North  \n",
      "159         0.00       NaN       NaN       Somalia  \n",
      "37           NaN       NaN       NaN        Taiwan  \n",
      "cname\n",
      "Empty DataFrame\n",
      "Columns: [undp_hdi, ccodealp, ht_region, gle_cgdpc, imf_pop, wef_imort, who_alc2000, who_tobt, wdi_exph, cname]\n",
      "Index: []\n"
     ]
    }
   ],
   "source": [
    "def obs_perdidas_total(dataframe,var,print_list):\n",
    "    \"\"\"\n",
    "    -Esta funcion las observaciones perdidas de todas  las columnas de un vector dataframe\n",
    "    -Su argumento exige un vector pd.Series, una varible o columna del dataframe, y un booleano print_list\n",
    "    -Retorna la variable, la cantidad de elementos nulos y el porcentaje de nulos respecto al largo del vector.\n",
    "    \"\"\"\n",
    "    #nulos=dataframe[var].isnull().sum()\n",
    "\n",
    "    #porcentaje=100*(dataframe[var].isnull().sum()/len(dataframe[var]))\n",
    "\n",
    "    #print(\"* En\",var,\"Hay una cantidad de elementos nulos: \",nulos,\",Porcentaje: \",porcentaje,\"%\")\n",
    "  \n",
    "    if print_list == True:\n",
    "        df_vacios=df_base_generada.loc[dataframe[var].isnull()]\n",
    "        return df_vacios\n",
    "\n",
    "for var in df_base_generada.columns:\n",
    "    print(var)\n",
    "    a=obs_perdidas_total(df_base_generada,var,True)\n",
    "    print(a)"
   ]
  },
  {
   "cell_type": "markdown",
   "metadata": {},
   "source": [
    "* Las 3 variables con un mayor porcentaje de casos perdidos,corresponden a imf_pop, wef_imort y who_tobt\n",
    "\n",
    "* Para las 3 variables con un mayor porcentaje de casos perdidos, solicite la lista de países con ausencia de datos."
   ]
  },
  {
   "cell_type": "code",
   "execution_count": 558,
   "metadata": {},
   "outputs": [
    {
     "name": "stdout",
     "output_type": "stream",
     "text": [
      "La Columna : imf_pop\n",
      "* En imf_pop Hay una cantidad de  23  elementos nulos  y el Porcentaje:  23.711340206185564 % \n",
      "\n",
      "Los Paises corresponden a: \n",
      "['St Kitts and Nevis' 'Turkmenistan' 'Korea, North'\n",
      " 'Central African Republic' 'Antigua and Barbuda' 'Lesotho' 'Eritrea'\n",
      " 'Ghana' 'United Arab Emirates' 'El Salvador' 'Tunisia' 'Gabon' 'Somalia'\n",
      " 'Costa Rica' 'Monaco' 'Sao Tome and Principe' 'Chad' 'Guatemala' 'Gambia'\n",
      " 'South Sudan' 'Yemen' 'Burundi' 'Senegal']\n",
      "\n",
      "\n",
      "La Columna : wef_imort\n",
      "* En wef_imort Hay una cantidad de  24  elementos nulos  y el Porcentaje:  24.742268041237114 % \n",
      "\n",
      "Los Paises corresponden a: \n",
      "['St Kitts and Nevis' 'Togo' 'Turkmenistan' 'Korea, North'\n",
      " 'Central African Republic' 'Maldives' 'Antigua and Barbuda' 'San Marino'\n",
      " 'Papua New Guinea' 'Eritrea' 'Bahamas' 'Belarus' 'Somalia' 'Monaco'\n",
      " 'Iraq' 'Sao Tome and Principe' 'Afghanistan' 'Palau' 'Nauru'\n",
      " 'South Sudan' 'Tuvalu' 'Vanuatu' 'St Lucia' 'Fiji']\n",
      "\n",
      "\n",
      "La Columna : who_tobt\n",
      "* En who_tobt Hay una cantidad de  41  elementos nulos  y el Porcentaje:  42.2680412371134 % \n",
      "\n",
      "Los Paises corresponden a: \n",
      "['St Kitts and Nevis' 'Qatar' 'Togo' 'Turkmenistan' 'Peru' 'Korea, North'\n",
      " 'Central African Republic' 'Maldives' 'Rwanda' 'Antigua and Barbuda'\n",
      " 'San Marino' 'Papua New Guinea' 'Austria' 'Libya' 'Eritrea' 'Guyana'\n",
      " 'Bahamas' 'United Arab Emirates' 'El Salvador' 'Nicaragua' 'Tunisia'\n",
      " 'Gabon' \"Cote d'Ivoire\" 'Trinidad and Tobago' 'Somalia' 'Angola' 'Monaco'\n",
      " 'Iraq' 'Sao Tome and Principe' 'Chad' 'Afghanistan' 'Guatemala' 'Gambia'\n",
      " 'Palau' 'South Sudan' 'Tuvalu' 'Vanuatu' 'Yemen' 'Burundi' 'St Lucia'\n",
      " 'Taiwan']\n",
      "\n",
      "\n"
     ]
    }
   ],
   "source": [
    "#df_imf_pop=df_base_generada[\"imf_pop\"]\n",
    "#df_wef_imort=df_base_generada[\"wef_imort\"]\n",
    "#df_who_tobt=df_base_generada[\"imf_tobt\"]\n",
    "def obs_perdidas2(dataframe,var,print_list):\n",
    "    \"\"\"\n",
    "    -Esta funcion las observaciones perdidas de una vector df\n",
    "    -Su argumento exige un vector pd.Series, una varible o columna del dataframe, y un booleano print_list\n",
    "    -Retorna la variable, la cantidad de elementos nulos y el porcentaje de nulos respecto al largo del vector.\n",
    "    \"\"\"\n",
    "    nulos=dataframe[var].isnull().sum()\n",
    "\n",
    "    porcentaje=100*(dataframe[var].isnull().sum()/len(dataframe[var]))\n",
    "\n",
    "   \n",
    "    print(\"* En\",var,\"Hay una cantidad de \",nulos,\" elementos nulos \",\"y el Porcentaje: \",porcentaje,\"%\",\"\\n\")\n",
    "      \n",
    "    if print_list == True:\n",
    "        df_vacios=df_base_generada.loc[dataframe[var].isnull()]\n",
    "        return df_vacios\n",
    "#obs_perdidas2(df_base_generada,\"undp_hdi\",True)\n",
    "\n",
    "for var in [\"imf_pop\",\"wef_imort\",\"who_tobt\"]:\n",
    "    print(\"La Columna :\",var)\n",
    "    \n",
    "    df_paises_perdidos=obs_perdidas2(df_base_generada,var,True)\n",
    "    print(\"Los Paises corresponden a: \")\n",
    "    print(df_paises_perdidos[\"cname\"].unique())\n",
    "    print(\"\\n\")\n",
    "    \n",
    "#tmp2 = pd.DataFrame({'Variables': lista_var,'Datos Perdidos':lista_perdidos,\"Porcentaje\":lista_porcentaje})\n",
    "    \n",
    "#for var in [df_base_generada.columns]:\n",
    "#    print(var)\n",
    "#    a=obs_perdidas_total(df_base_generada,var,True)\n",
    "#    print(a)"
   ]
  },
  {
   "cell_type": "markdown",
   "metadata": {},
   "source": [
    "# 4. Grafique los histogramas\n",
    "* Genere una función que grafique un histograma en conjunto y señale las medias.\n",
    "* La función debe incluír los siguientes argumentos:\n",
    "* dataframe : La base de datos donde se encuentran los datos específicos.\n",
    "* var : La variable a graficar.\n",
    "* sample_mean : Booleano. Si es verdadero, debe generar una recta vertical indicando la media de la variable en la selección muestral. Por defecto debe ser False .\n",
    "* true_mean : Booleano. Si es verdadero, debe generar una recta vertical indicando la media de variable en la base de datos completa.\n",
    "* Implemente las funciones para las 4 variables seleccionadas según su grupo.\n",
    "* ¿En qué variables la media de la submuestra es mayor a la de la muestra completa?"
   ]
  },
  {
   "cell_type": "markdown",
   "metadata": {},
   "source": [
    "* Para implementar la funcion Histograma se comenzará calculando la media completa de los datos según sea la variable a analizar\n",
    "* Calculando la media total del dataframe"
   ]
  },
  {
   "cell_type": "code",
   "execution_count": 559,
   "metadata": {},
   "outputs": [
    {
     "name": "stdout",
     "output_type": "stream",
     "text": [
      "El promedio total de la columna undp_hdi: 0.696\n"
     ]
    }
   ],
   "source": [
    "def media_total(columna):\n",
    "    global df\n",
    "    a=df[columna].mean()\n",
    "    return a\n",
    "print(\"El promedio total de la columna\",\"undp_hdi:\",round(media_total(\"undp_hdi\"),3))"
   ]
  },
  {
   "cell_type": "markdown",
   "metadata": {},
   "source": [
    "* Si su apellido está entre la N y la Z, escoja las siguientes variables del módulo Salud:\n",
    "    * wef_imort : Infant mortality, deaths/1000 live births\n",
    "    * who_alc2000 : Alcohol consumption per capita (2000-)\n",
    "    * who_tobt : Current smoking of any tobacco product (Total).\n",
    "    * wdi_exph : Government expenditure on health, total (% of GDP)\n",
    "    \n",
    "# Funcion Histograma"
   ]
  },
  {
   "cell_type": "code",
   "execution_count": 560,
   "metadata": {},
   "outputs": [],
   "source": [
    "def graficar_histograma(x,variable,sample_mean,true_mean):\n",
    "    \"\"\"\n",
    "    -Esta funcion muestra el histograma de un dataframe a partir de una variable de estudio\n",
    "    -Su argumento un dataframe,una variable a estudiar, sample_mean:booleano para mostrar la media de la variable y true mean\n",
    "    un booleano que muestre la media completa de los datos.\n",
    "    -Retorna un histograma de la variable solicitada.\n",
    "    \"\"\"\n",
    "    a = list(variable)\n",
    "\n",
    "    promedio_total=media_total(variable)\n",
    "    print(\"Promedio total\",promedio_total)\n",
    "    df_dropna=x[variable].dropna()\n",
    "    g= plt.hist(df_dropna,color=\"cyan\")\n",
    "    plt.title(label=\"Histograma de \"+variable)\n",
    "    \n",
    "    #plt.hist([p, o], color=['g','r'], alpha=0.8, bins=50)\n",
    "    #plt.show()\n",
    "    a= plt.axvline(df_dropna.mean(),lw=3, color =\"tomato\", linestyle=\"--\")\n",
    "    print(\"Media Muestral: Roja\")\n",
    "    #a.text(10.1,0,'Media Muestra',rotation=90)\n",
    "    a2= plt.axvline(promedio_total,lw=4, color =\"black\", linestyle=\"--\")\n",
    "    print(\"Media Total: Negra\")\n",
    "    if sample_mean == False:\n",
    "        #g= plt.hist(df_dropna,color=\"cyan\")\n",
    "        return g\n",
    "    elif sample_mean == True:\n",
    "\n",
    "        return g,a\n",
    "    \n",
    "    elif true_mean == True:\n",
    "        \n",
    "        return g,a,a2\n",
    "    #    plt.xlabel(\"IDH\")\n",
    "#    plt.ylabel(\"Frecuencia\")"
   ]
  },
  {
   "cell_type": "markdown",
   "metadata": {},
   "source": [
    "* Implemente las funciones para las 4 variables seleccionadas según su grupo.\n",
    "\n",
    "# <font color='red'>GRÁFICAS HISTOGRAMAS: </font>\n"
   ]
  },
  {
   "cell_type": "markdown",
   "metadata": {},
   "source": [
    "# 4a) wef_imort : Infant mortality, deaths/1000 live births"
   ]
  },
  {
   "cell_type": "code",
   "execution_count": 561,
   "metadata": {},
   "outputs": [
    {
     "name": "stdout",
     "output_type": "stream",
     "text": [
      "Promedio total 24.086897087097167\n",
      "Media Muestral: Roja\n",
      "Media Total: Negra\n"
     ]
    },
    {
     "data": {
      "text/plain": [
       "((array([36., 13.,  3.,  9.,  3.,  3.,  3.,  1.,  1.,  1.]),\n",
       "  array([  1.70000005,  13.2700002 ,  24.84000034,  36.41000049,\n",
       "          47.98000064,  59.55000079,  71.12000093,  82.69000108,\n",
       "          94.26000123, 105.83000138, 117.40000153]),\n",
       "  <a list of 10 Patch objects>),\n",
       " <matplotlib.lines.Line2D at 0x12c4a1d8e48>)"
      ]
     },
     "execution_count": 561,
     "metadata": {},
     "output_type": "execute_result"
    },
    {
     "data": {
      "image/png": "[encoded data removed]",
      "text/plain": [
       "<Figure size 432x288 with 1 Axes>"
      ]
     },
     "metadata": {
      "needs_background": "light"
     },
     "output_type": "display_data"
    }
   ],
   "source": [
    "graficar_histograma(df_base_generada,\"wef_imort\",True,True)"
   ]
  },
  {
   "cell_type": "markdown",
   "metadata": {},
   "source": [
    "# 4b) who_alc2000 : Alcohol consumption per capita (2000-)"
   ]
  },
  {
   "cell_type": "code",
   "execution_count": 562,
   "metadata": {},
   "outputs": [
    {
     "name": "stdout",
     "output_type": "stream",
     "text": [
      "Promedio total 4.949340671727473\n",
      "Media Muestral: Roja\n",
      "Media Total: Negra\n"
     ]
    },
    {
     "data": {
      "text/plain": [
       "((array([22., 11., 12.,  4.,  6.,  8.,  9., 10.,  4.,  3.]),\n",
       "  array([ 0.   ,  1.394,  2.788,  4.182,  5.576,  6.97 ,  8.364,  9.758,\n",
       "         11.152, 12.546, 13.94 ]),\n",
       "  <a list of 10 Patch objects>),\n",
       " <matplotlib.lines.Line2D at 0x12c4a27dac8>)"
      ]
     },
     "execution_count": 562,
     "metadata": {},
     "output_type": "execute_result"
    },
    {
     "data": {
      "image/png": "[encoded data removed]",
      "text/plain": [
       "<Figure size 432x288 with 1 Axes>"
      ]
     },
     "metadata": {
      "needs_background": "light"
     },
     "output_type": "display_data"
    }
   ],
   "source": [
    "graficar_histograma(df_base_generada,\"who_alc2000\",True,True)"
   ]
  },
  {
   "cell_type": "markdown",
   "metadata": {},
   "source": [
    "# 4c) who_tobt : Current smoking of any tobacco product (Total)."
   ]
  },
  {
   "cell_type": "code",
   "execution_count": 563,
   "metadata": {},
   "outputs": [
    {
     "name": "stdout",
     "output_type": "stream",
     "text": [
      "Promedio total 23.285483875000008\n",
      "Media Muestral: Roja\n",
      "Media Total: Negra\n"
     ]
    },
    {
     "data": {
      "text/plain": [
       "((array([ 5.,  4.,  8., 10., 12.,  8.,  3.,  5.,  0.,  1.]),\n",
       "  array([ 4.6999998 ,  9.12000002, 13.54000024, 17.96000046, 22.38000068,\n",
       "         26.8000009 , 31.22000112, 35.64000134, 40.06000156, 44.48000178,\n",
       "         48.900002  ]),\n",
       "  <a list of 10 Patch objects>),\n",
       " <matplotlib.lines.Line2D at 0x12c4a2f2898>)"
      ]
     },
     "execution_count": 563,
     "metadata": {},
     "output_type": "execute_result"
    },
    {
     "data": {
      "image/png": "[encoded data removed]",
      "text/plain": [
       "<Figure size 432x288 with 1 Axes>"
      ]
     },
     "metadata": {
      "needs_background": "light"
     },
     "output_type": "display_data"
    }
   ],
   "source": [
    "graficar_histograma(df_base_generada,\"who_tobt\",True,True)"
   ]
  },
  {
   "cell_type": "markdown",
   "metadata": {},
   "source": [
    "# 4d) wdi_exph : Government expenditure on health, total (% of GDP)"
   ]
  },
  {
   "cell_type": "code",
   "execution_count": 564,
   "metadata": {},
   "outputs": [
    {
     "name": "stdout",
     "output_type": "stream",
     "text": [
      "Promedio total 6.783758504767167\n",
      "Media Muestral: Roja\n",
      "Media Total: Negra\n"
     ]
    },
    {
     "data": {
      "text/plain": [
       "((array([11., 18., 16., 22., 12.,  8.,  4.,  1.,  0.,  2.]),\n",
       "  array([ 2.06738615,  3.57472301,  5.08205986,  6.58939672,  8.09673357,\n",
       "          9.60407043, 11.11140728, 12.61874413, 14.12608099, 15.63341784,\n",
       "         17.1407547 ]),\n",
       "  <a list of 10 Patch objects>),\n",
       " <matplotlib.lines.Line2D at 0x12c4a525240>)"
      ]
     },
     "execution_count": 564,
     "metadata": {},
     "output_type": "execute_result"
    },
    {
     "data": {
      "image/png": "[encoded data removed]",
      "text/plain": [
       "<Figure size 432x288 with 1 Axes>"
      ]
     },
     "metadata": {
      "needs_background": "light"
     },
     "output_type": "display_data"
    }
   ],
   "source": [
    "graficar_histograma(df_base_generada,\"wdi_exph\",True,True)"
   ]
  },
  {
   "cell_type": "markdown",
   "metadata": {},
   "source": [
    "# Analisis Resultados dotplot\n",
    "# Media\n",
    "- Tanto las medias de wef_imort, who_alc2000 y wdi_exph muestran una media muestral levemente mayor a la media total.\n",
    "- La variable who_tobt muestra un promedio muestral similar a la media total.\n",
    "Finalmente la variable who_tobt es la que muestra un comportamiento mas similiar a una distribucion normal de sus datos."
   ]
  },
  {
   "cell_type": "markdown",
   "metadata": {},
   "source": [
    "# 5. Genere una función que devuelva un dotplot\n",
    "* La función debe contener los siguientes argumentos como argumentos:\n",
    "* dataframe : La tabla de datos donde buscar las variables.\n",
    "* plot_var : La variable a analizar y extraer las medias.\n",
    "* plot_by : La variable agrupadora.\n",
    "* global_stat : Booleano. Si es True debe graficar la media global de la variable. Por defecto debe ser False .\n",
    "* statistic: Debe presentar dos opciones. mean para la media y median para la mediana. Por defecto debe ser mean .\n",
    "* Implemente la función en las 3 variables con una menor cantidad de datos perdidos."
   ]
  },
  {
   "cell_type": "markdown",
   "metadata": {},
   "source": [
    "* Se comenzará obteniendo la mediana de la variable del dataframe completo"
   ]
  },
  {
   "cell_type": "code",
   "execution_count": 565,
   "metadata": {},
   "outputs": [
    {
     "name": "stdout",
     "output_type": "stream",
     "text": [
      "La mediana total es:  0.726\n"
     ]
    }
   ],
   "source": [
    "def mediana_total(columna):\n",
    "    global df\n",
    "    a=df[columna].median()\n",
    "    return a\n",
    "print(\"La mediana total es: \",round(mediana_total(\"undp_hdi\"),3))"
   ]
  },
  {
   "cell_type": "code",
   "execution_count": 566,
   "metadata": {},
   "outputs": [],
   "source": [
    "def graficar_dotPlot(dataframe,plot_var,plot_by,global_stat,statistic):\n",
    "    \"\"\"\n",
    "    -Esta funcion muestra el dotPlot de un dataframe a partir de una variable de estudio\n",
    "    -Su argumento exige:\n",
    "    * dataframe : La tabla de datos donde buscar las variables.\n",
    "    * plot_var : La variable a analizar y extraer las medias.\n",
    "    * plot_by : La variable agrupadora.\n",
    "    * global_stat : Booleano. Si es True debe graficar la media global de la variable. Por defecto debe ser False .\n",
    "     statistic: Debe presentar dos opciones. mean para la media y median para la mediana. Por defecto debe ser mean .\n",
    "    -Retorna un histograma de la variable solicitada.\n",
    "    \n",
    "    \"\"\"\n",
    "    groupby_means = dataframe.groupby(plot_by)[plot_var].mean()\n",
    "    promedio_total= media_total(plot_var)\n",
    "    mediana_total1 = mediana_total(plot_var)\n",
    "    df_dropna=dataframe[plot_var].dropna()\n",
    "    \n",
    "    g= plt.plot(groupby_means.values,groupby_means.index,\"o\",color=\"m\")\n",
    "    plt.title(label=plot_var+\" vs \"+plot_by)\n",
    "    #linea_prom_muestra= plt.axvline(df_dropna.mean(),lw=3, color =\"blue\", linestyle=\"--\")\n",
    "    #linea_prom_total= plt.axvline(promedio_total,lw=4, color =\"green\", linestyle=\"--\")\n",
    "    #linea_mediana_muestra= plt.axvline(df_dropna.median(),lw=3, color =\"tomato\", linestyle=\"--\")\n",
    "    #linea_mediana_total= plt.axvline(mediana_total1,lw=4, color =\"black\", linestyle=\"--\")\n",
    "    \n",
    "    if global_stat == True:\n",
    "        print(\"Promedio Total: Verde\")\n",
    "        plt.axvline(promedio_total,lw=5, color =\"green\", linestyle=\"--\")\n",
    "    if statistic ==\"mean\":\n",
    "        print(\"Promedio Muestra: Azul\")\n",
    "        plt.axvline(df_dropna.mean(),lw=3, color =\"blue\", linestyle=\"--\")\n",
    "    if statistic == \"median\":\n",
    "        print(\"Mediana Muestra: Roja\")\n",
    "        print(\"Mediana Total: Negra\")\n",
    "        plt.axvline(df_dropna.median(),lw=3, color =\"tomato\", linestyle=\"--\")\n",
    "        plt.axvline(mediana_total1,lw=4, color =\"black\", linestyle=\"--\")\n"
   ]
  },
  {
   "cell_type": "raw",
   "metadata": {},
   "source": []
  },
  {
   "cell_type": "markdown",
   "metadata": {},
   "source": [
    "# Implemente la función en las 3 variables con una menor cantidad de datos perdidos, es decir, a las columnas : gle_cgdpc, wdi_exph y undp_hdi\n",
    "\n",
    "# <font color='red'>GRÁFICAS dotPlots: </font>"
   ]
  },
  {
   "cell_type": "markdown",
   "metadata": {},
   "source": [
    "# 5.a) gle_cgdpc"
   ]
  },
  {
   "cell_type": "code",
   "execution_count": 579,
   "metadata": {},
   "outputs": [
    {
     "name": "stdout",
     "output_type": "stream",
     "text": [
      "Promedio Total: Verde\n",
      "Mediana Muestra: Roja\n",
      "Mediana Total: Negra\n"
     ]
    },
    {
     "data": {
      "image/png": "[encoded data removed]",
      "text/plain": [
       "<Figure size 432x288 with 1 Axes>"
      ]
     },
     "metadata": {
      "needs_background": "light"
     },
     "output_type": "display_data"
    }
   ],
   "source": [
    "graficar_dotPlot(df_base_generada,\"gle_cgdpc\",\"ht_region\",True,\"median\")"
   ]
  },
  {
   "cell_type": "markdown",
   "metadata": {},
   "source": [
    "# 5.b) wdi_exph"
   ]
  },
  {
   "cell_type": "code",
   "execution_count": 580,
   "metadata": {},
   "outputs": [
    {
     "name": "stdout",
     "output_type": "stream",
     "text": [
      "Promedio Total: Verde\n",
      "Mediana Muestra: Roja\n",
      "Mediana Total: Negra\n"
     ]
    },
    {
     "data": {
      "image/png": "[encoded data removed]",
      "text/plain": [
       "<Figure size 432x288 with 1 Axes>"
      ]
     },
     "metadata": {
      "needs_background": "light"
     },
     "output_type": "display_data"
    }
   ],
   "source": [
    "graficar_dotPlot(df_base_generada,\"wdi_exph\",\"ht_region\",True,\"median\")"
   ]
  },
  {
   "cell_type": "markdown",
   "metadata": {},
   "source": [
    "# 5.c) undp_hdi"
   ]
  },
  {
   "cell_type": "code",
   "execution_count": 582,
   "metadata": {},
   "outputs": [
    {
     "name": "stdout",
     "output_type": "stream",
     "text": [
      "Promedio Total: Verde\n",
      "Mediana Muestra: Roja\n",
      "Mediana Total: Negra\n"
     ]
    },
    {
     "data": {
      "image/png": "[encoded data removed]",
      "text/plain": [
       "<Figure size 432x288 with 1 Axes>"
      ]
     },
     "metadata": {
      "needs_background": "light"
     },
     "output_type": "display_data"
    }
   ],
   "source": [
    "graficar_dotPlot(df_base_generada,\"undp_hdi\",\"ht_region\",True,\"median\")"
   ]
  },
  {
   "cell_type": "markdown",
   "metadata": {},
   "source": [
    "# Analisis Resultados dotplot"
   ]
  },
  {
   "cell_type": "markdown",
   "metadata": {},
   "source": [
    "# Media\n",
    "* Como se pudo apreciar desde los graficos dotplot, se pudo comprobar que las variables gle_cgdpc, wdi_exph y undp_hdi disminuyen su diferencia entre el promedio total y la muestra (50% de los datos) respectivamente, y el promedio muestral supera al promedio total de la población. El promedio muestral de la variable undp_hdi es levemente practicamente similar al promedio total.\n",
    "\n",
    "# Mediana\n",
    "* Analogamente, el comportamiento de la mediana muestral fue mayor que la mediana total para las variables estudiadas. Observando la graduación de los graficos dotPlot podemos afirmar que la variable undp_hdi considera que la mediana muestral tiene un valor más parecido a la mediana poblacional respecto de las otras variables estudiadas.\n"
   ]
  },
  {
   "cell_type": "markdown",
   "metadata": {},
   "source": [
    "# 6. Guarde la base de datos\n",
    "* La submuestra creada tiene un método llamado to_csv .\n",
    "* Acceda a éste y guarde la base de datos con la siguiente nomenclatura:\n",
    "    *subsample_<iniciales>_demo.csv\n",
    "    *Súbala a la plataforma, junto al desafío "
   ]
  },
  {
   "cell_type": "code",
   "execution_count": 583,
   "metadata": {},
   "outputs": [],
   "source": [
    "df_base_generada.to_csv(\"subsample_pv_demo.csv\")"
   ]
  },
  {
   "cell_type": "code",
   "execution_count": null,
   "metadata": {},
   "outputs": [],
   "source": []
  }
 ],
 "metadata": {
  "kernelspec": {
   "display_name": "Python 3",
   "language": "python",
   "name": "python3"
  },
  "language_info": {
   "codemirror_mode": {
    "name": "ipython",
    "version": 3
   },
   "file_extension": ".py",
   "mimetype": "text/x-python",
   "name": "python",
   "nbconvert_exporter": "python",
   "pygments_lexer": "ipython3",
   "version": "3.7.3"
  }
 },
 "nbformat": 4,
 "nbformat_minor": 2
}
