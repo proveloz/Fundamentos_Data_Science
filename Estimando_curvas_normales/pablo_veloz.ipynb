{
 "cells": [
  {
   "cell_type": "markdown",
   "metadata": {},
   "source": [
    "# Desafío - Estimando curvas normales\n",
    "## Autor: PABLO VELOZ"
   ]
  },
  {
   "cell_type": "code",
   "execution_count": null,
   "metadata": {},
   "outputs": [],
   "source": []
  },
  {
   "cell_type": "markdown",
   "metadata": {},
   "source": [
    "# 1. Importe un csv desde internet\n",
    "* Utilice la base de datos de un compañero creada en la sesión pasada."
   ]
  },
  {
   "cell_type": "code",
   "execution_count": 1,
   "metadata": {
    "scrolled": true
   },
   "outputs": [],
   "source": [
    "import numpy as np\n",
    "import pandas as pd\n",
    "import matplotlib.pyplot as plt\n",
    "import scipy.stats as stats\n",
    "from ancilliary_funcs import reporte_obs_perdidas as obsper\n",
    "from ancilliary_funcs import graficar_dotPlot as dotplot"
   ]
  },
  {
   "cell_type": "code",
   "execution_count": 2,
   "metadata": {},
   "outputs": [
    {
     "data": {
      "text/html": [
       "<div>\n",
       "<style scoped>\n",
       "    .dataframe tbody tr th:only-of-type {\n",
       "        vertical-align: middle;\n",
       "    }\n",
       "\n",
       "    .dataframe tbody tr th {\n",
       "        vertical-align: top;\n",
       "    }\n",
       "\n",
       "    .dataframe thead th {\n",
       "        text-align: right;\n",
       "    }\n",
       "</style>\n",
       "<table border=\"1\" class=\"dataframe\">\n",
       "  <thead>\n",
       "    <tr style=\"text-align: right;\">\n",
       "      <th></th>\n",
       "      <th>Unnamed: 0</th>\n",
       "      <th>undp_hdi</th>\n",
       "      <th>ccodealp</th>\n",
       "      <th>ht_region</th>\n",
       "      <th>gle_cgdpc</th>\n",
       "      <th>imf_pop</th>\n",
       "      <th>ffp_hf</th>\n",
       "      <th>wef_qes</th>\n",
       "      <th>wdi_expedu</th>\n",
       "      <th>wdi_ners</th>\n",
       "      <th>cname</th>\n",
       "    </tr>\n",
       "  </thead>\n",
       "  <tbody>\n",
       "    <tr>\n",
       "      <th>0</th>\n",
       "      <td>42</td>\n",
       "      <td>0.775</td>\n",
       "      <td>CRI</td>\n",
       "      <td>LatAm</td>\n",
       "      <td>9485.7100</td>\n",
       "      <td>NaN</td>\n",
       "      <td>3.5</td>\n",
       "      <td>4.666449</td>\n",
       "      <td>6.92724</td>\n",
       "      <td>78.121140</td>\n",
       "      <td>Costa Rica</td>\n",
       "    </tr>\n",
       "    <tr>\n",
       "      <th>1</th>\n",
       "      <td>72</td>\n",
       "      <td>0.490</td>\n",
       "      <td>HTI</td>\n",
       "      <td>LatAm</td>\n",
       "      <td>1024.9399</td>\n",
       "      <td>NaN</td>\n",
       "      <td>9.3</td>\n",
       "      <td>2.325877</td>\n",
       "      <td>NaN</td>\n",
       "      <td>NaN</td>\n",
       "      <td>Haiti</td>\n",
       "    </tr>\n",
       "    <tr>\n",
       "      <th>2</th>\n",
       "      <td>105</td>\n",
       "      <td>0.701</td>\n",
       "      <td>MDV</td>\n",
       "      <td>SouthAsia</td>\n",
       "      <td>13349.7600</td>\n",
       "      <td>0.336</td>\n",
       "      <td>5.6</td>\n",
       "      <td>NaN</td>\n",
       "      <td>4.14696</td>\n",
       "      <td>NaN</td>\n",
       "      <td>Maldives</td>\n",
       "    </tr>\n",
       "    <tr>\n",
       "      <th>3</th>\n",
       "      <td>153</td>\n",
       "      <td>0.781</td>\n",
       "      <td>SYC</td>\n",
       "      <td>SubSaharian</td>\n",
       "      <td>9583.3203</td>\n",
       "      <td>0.090</td>\n",
       "      <td>5.5</td>\n",
       "      <td>4.323356</td>\n",
       "      <td>3.60644</td>\n",
       "      <td>74.570374</td>\n",
       "      <td>Seychelles</td>\n",
       "    </tr>\n",
       "    <tr>\n",
       "      <th>4</th>\n",
       "      <td>134</td>\n",
       "      <td>0.692</td>\n",
       "      <td>PRY</td>\n",
       "      <td>LatAm</td>\n",
       "      <td>4812.9199</td>\n",
       "      <td>6.559</td>\n",
       "      <td>5.2</td>\n",
       "      <td>2.324440</td>\n",
       "      <td>4.95540</td>\n",
       "      <td>66.459518</td>\n",
       "      <td>Paraguay</td>\n",
       "    </tr>\n",
       "  </tbody>\n",
       "</table>\n",
       "</div>"
      ],
      "text/plain": [
       "   Unnamed: 0  undp_hdi ccodealp    ht_region   gle_cgdpc  imf_pop  ffp_hf  \\\n",
       "0          42     0.775      CRI        LatAm   9485.7100      NaN     3.5   \n",
       "1          72     0.490      HTI        LatAm   1024.9399      NaN     9.3   \n",
       "2         105     0.701      MDV    SouthAsia  13349.7600    0.336     5.6   \n",
       "3         153     0.781      SYC  SubSaharian   9583.3203    0.090     5.5   \n",
       "4         134     0.692      PRY        LatAm   4812.9199    6.559     5.2   \n",
       "\n",
       "    wef_qes  wdi_expedu   wdi_ners       cname  \n",
       "0  4.666449     6.92724  78.121140  Costa Rica  \n",
       "1  2.325877         NaN        NaN       Haiti  \n",
       "2       NaN     4.14696        NaN    Maldives  \n",
       "3  4.323356     3.60644  74.570374  Seychelles  \n",
       "4  2.324440     4.95540  66.459518    Paraguay  "
      ]
     },
     "execution_count": 2,
     "metadata": {},
     "output_type": "execute_result"
    }
   ],
   "source": [
    "df=pd.read_csv(\"subsample_te_demo.csv\")\n",
    "df.head(5)\n"
   ]
  },
  {
   "cell_type": "markdown",
   "metadata": {},
   "source": [
    "# 2. Importe su conjunto de funciones\n",
    "* Genere un archivo ancilliary_funcs.py para guardar las funciones creadas en la sesión pasada e impórtelo.\n",
    "* Utilice las funciones creadas para inspeccionar la cantidad de casos perdidos de la muestra de su compañero."
   ]
  },
  {
   "cell_type": "code",
   "execution_count": 3,
   "metadata": {},
   "outputs": [
    {
     "data": {
      "text/html": [
       "<div>\n",
       "<style scoped>\n",
       "    .dataframe tbody tr th:only-of-type {\n",
       "        vertical-align: middle;\n",
       "    }\n",
       "\n",
       "    .dataframe tbody tr th {\n",
       "        vertical-align: top;\n",
       "    }\n",
       "\n",
       "    .dataframe thead th {\n",
       "        text-align: right;\n",
       "    }\n",
       "</style>\n",
       "<table border=\"1\" class=\"dataframe\">\n",
       "  <thead>\n",
       "    <tr style=\"text-align: right;\">\n",
       "      <th></th>\n",
       "      <th>Columnas Compañera Tania</th>\n",
       "      <th>Cantidad Nulos</th>\n",
       "    </tr>\n",
       "  </thead>\n",
       "  <tbody>\n",
       "    <tr>\n",
       "      <th>0</th>\n",
       "      <td>Unnamed: 0</td>\n",
       "      <td>0</td>\n",
       "    </tr>\n",
       "    <tr>\n",
       "      <th>1</th>\n",
       "      <td>undp_hdi</td>\n",
       "      <td>4</td>\n",
       "    </tr>\n",
       "    <tr>\n",
       "      <th>2</th>\n",
       "      <td>ccodealp</td>\n",
       "      <td>0</td>\n",
       "    </tr>\n",
       "    <tr>\n",
       "      <th>3</th>\n",
       "      <td>ht_region</td>\n",
       "      <td>0</td>\n",
       "    </tr>\n",
       "    <tr>\n",
       "      <th>4</th>\n",
       "      <td>gle_cgdpc</td>\n",
       "      <td>1</td>\n",
       "    </tr>\n",
       "    <tr>\n",
       "      <th>5</th>\n",
       "      <td>imf_pop</td>\n",
       "      <td>22</td>\n",
       "    </tr>\n",
       "    <tr>\n",
       "      <th>6</th>\n",
       "      <td>ffp_hf</td>\n",
       "      <td>11</td>\n",
       "    </tr>\n",
       "    <tr>\n",
       "      <th>7</th>\n",
       "      <td>wef_qes</td>\n",
       "      <td>21</td>\n",
       "    </tr>\n",
       "    <tr>\n",
       "      <th>8</th>\n",
       "      <td>wdi_expedu</td>\n",
       "      <td>29</td>\n",
       "    </tr>\n",
       "    <tr>\n",
       "      <th>9</th>\n",
       "      <td>wdi_ners</td>\n",
       "      <td>30</td>\n",
       "    </tr>\n",
       "    <tr>\n",
       "      <th>10</th>\n",
       "      <td>cname</td>\n",
       "      <td>0</td>\n",
       "    </tr>\n",
       "  </tbody>\n",
       "</table>\n",
       "</div>"
      ],
      "text/plain": [
       "   Columnas Compañera Tania  Cantidad Nulos\n",
       "0                Unnamed: 0               0\n",
       "1                  undp_hdi               4\n",
       "2                  ccodealp               0\n",
       "3                 ht_region               0\n",
       "4                 gle_cgdpc               1\n",
       "5                   imf_pop              22\n",
       "6                    ffp_hf              11\n",
       "7                   wef_qes              21\n",
       "8                wdi_expedu              29\n",
       "9                  wdi_ners              30\n",
       "10                    cname               0"
      ]
     },
     "execution_count": 3,
     "metadata": {},
     "output_type": "execute_result"
    }
   ],
   "source": [
    "df_tania=obsper(df)\n",
    "df_tania"
   ]
  },
  {
   "cell_type": "markdown",
   "metadata": {},
   "source": [
    "# 3. Estime el puntaje Z\n",
    "* Estime el puntaze Z para las 10 primeras y últimas observaciones de las variables con una menor cantidad de datos perdidos\n",
    "* Genere una nueva columna en la tabla de datos mediante funciones vectorizadas. Recuerde que para calcular el puntaje z de una observación se utiliza la fórmula: \n",
    "    $z_i=\\frac{(x_i-\\bar{x})}{\\sigma(x)}$\n",
    "\n",
    "* Para ordenar los valores pueden utilzar la función sort_values del DataFrame analizado.\n",
    "* Lean la documentación asociada al argumento by . Para evitar conflictos en la sobreescritura\n",
    "* Asegúrense de eliminar las observaciones que tengan valores perdidos con dropna . Lean la documentación asociada al método subset .\n",
    "* Seleccionen las primeras y últimas 10 observaciones de la base reordenada. \n",
    "* ¿Quécaracterísticas en común se encuentran?"
   ]
  },
  {
   "cell_type": "markdown",
   "metadata": {},
   "source": [
    "# z_score : $z_i=\\frac{(x_i-\\bar{x})}{\\sigma(x)}$"
   ]
  },
  {
   "cell_type": "markdown",
   "metadata": {},
   "source": [
    "## Variable de Estudio: <font color=\"red\">undp_hdi </font>"
   ]
  },
  {
   "cell_type": "code",
   "execution_count": 4,
   "metadata": {},
   "outputs": [],
   "source": [
    "df_media_hdi=df[\"undp_hdi\"].mean()\n",
    "df_desviacion_hdi=df[\"undp_hdi\"].median()\n",
    "df[\"z_hdi\"]=(df[\"undp_hdi\"]-df_media_hdi)/df_desviacion_hdi"
   ]
  },
  {
   "cell_type": "markdown",
   "metadata": {},
   "source": [
    "## Los 10 primeros z de undp hdi:"
   ]
  },
  {
   "cell_type": "code",
   "execution_count": 5,
   "metadata": {},
   "outputs": [
    {
     "data": {
      "text/html": [
       "<div>\n",
       "<style scoped>\n",
       "    .dataframe tbody tr th:only-of-type {\n",
       "        vertical-align: middle;\n",
       "    }\n",
       "\n",
       "    .dataframe tbody tr th {\n",
       "        vertical-align: top;\n",
       "    }\n",
       "\n",
       "    .dataframe thead th {\n",
       "        text-align: right;\n",
       "    }\n",
       "</style>\n",
       "<table border=\"1\" class=\"dataframe\">\n",
       "  <thead>\n",
       "    <tr style=\"text-align: right;\">\n",
       "      <th></th>\n",
       "      <th>Unnamed: 0</th>\n",
       "      <th>undp_hdi</th>\n",
       "      <th>ccodealp</th>\n",
       "      <th>ht_region</th>\n",
       "      <th>gle_cgdpc</th>\n",
       "      <th>imf_pop</th>\n",
       "      <th>ffp_hf</th>\n",
       "      <th>wef_qes</th>\n",
       "      <th>wdi_expedu</th>\n",
       "      <th>wdi_ners</th>\n",
       "      <th>cname</th>\n",
       "      <th>z_hdi</th>\n",
       "    </tr>\n",
       "  </thead>\n",
       "  <tbody>\n",
       "    <tr>\n",
       "      <th>31</th>\n",
       "      <td>187</td>\n",
       "      <td>0.399</td>\n",
       "      <td>BFA</td>\n",
       "      <td>SubSaharian</td>\n",
       "      <td>1095.96000</td>\n",
       "      <td>16.500</td>\n",
       "      <td>6.9</td>\n",
       "      <td>2.868712</td>\n",
       "      <td>4.60476</td>\n",
       "      <td>26.492809</td>\n",
       "      <td>Burkina Faso</td>\n",
       "      <td>-0.424036</td>\n",
       "    </tr>\n",
       "    <tr>\n",
       "      <th>88</th>\n",
       "      <td>70</td>\n",
       "      <td>0.414</td>\n",
       "      <td>GIN</td>\n",
       "      <td>SubSaharian</td>\n",
       "      <td>993.83002</td>\n",
       "      <td>11.745</td>\n",
       "      <td>7.2</td>\n",
       "      <td>2.425785</td>\n",
       "      <td>3.20817</td>\n",
       "      <td>31.788179</td>\n",
       "      <td>Guinea</td>\n",
       "      <td>-0.403628</td>\n",
       "    </tr>\n",
       "    <tr>\n",
       "      <th>47</th>\n",
       "      <td>103</td>\n",
       "      <td>0.473</td>\n",
       "      <td>MWI</td>\n",
       "      <td>SubSaharian</td>\n",
       "      <td>938.34998</td>\n",
       "      <td>17.604</td>\n",
       "      <td>8.1</td>\n",
       "      <td>3.185532</td>\n",
       "      <td>4.84254</td>\n",
       "      <td>32.942291</td>\n",
       "      <td>Malawi</td>\n",
       "      <td>-0.323356</td>\n",
       "    </tr>\n",
       "    <tr>\n",
       "      <th>71</th>\n",
       "      <td>144</td>\n",
       "      <td>0.493</td>\n",
       "      <td>RWA</td>\n",
       "      <td>SubSaharian</td>\n",
       "      <td>1440.39000</td>\n",
       "      <td>10.200</td>\n",
       "      <td>7.5</td>\n",
       "      <td>4.037596</td>\n",
       "      <td>3.79746</td>\n",
       "      <td>27.239189</td>\n",
       "      <td>Rwanda</td>\n",
       "      <td>-0.296145</td>\n",
       "    </tr>\n",
       "    <tr>\n",
       "      <th>50</th>\n",
       "      <td>161</td>\n",
       "      <td>0.507</td>\n",
       "      <td>ZWE</td>\n",
       "      <td>SubSaharian</td>\n",
       "      <td>15997.67000</td>\n",
       "      <td>12.459</td>\n",
       "      <td>8.0</td>\n",
       "      <td>4.200081</td>\n",
       "      <td>8.42933</td>\n",
       "      <td>44.236969</td>\n",
       "      <td>Zimbabwe</td>\n",
       "      <td>-0.277097</td>\n",
       "    </tr>\n",
       "    <tr>\n",
       "      <th>66</th>\n",
       "      <td>108</td>\n",
       "      <td>0.513</td>\n",
       "      <td>MRT</td>\n",
       "      <td>SubSaharian</td>\n",
       "      <td>2223.01000</td>\n",
       "      <td>3.369</td>\n",
       "      <td>6.3</td>\n",
       "      <td>2.671668</td>\n",
       "      <td>2.93012</td>\n",
       "      <td>23.102320</td>\n",
       "      <td>Mauritania</td>\n",
       "      <td>-0.268934</td>\n",
       "    </tr>\n",
       "    <tr>\n",
       "      <th>26</th>\n",
       "      <td>93</td>\n",
       "      <td>0.582</td>\n",
       "      <td>LAO</td>\n",
       "      <td>SouthEastAsia</td>\n",
       "      <td>2926.77000</td>\n",
       "      <td>6.898</td>\n",
       "      <td>7.4</td>\n",
       "      <td>3.834710</td>\n",
       "      <td>3.32011</td>\n",
       "      <td>50.828941</td>\n",
       "      <td>Laos</td>\n",
       "      <td>-0.175057</td>\n",
       "    </tr>\n",
       "    <tr>\n",
       "      <th>48</th>\n",
       "      <td>140</td>\n",
       "      <td>0.603</td>\n",
       "      <td>TLS</td>\n",
       "      <td>SouthEastAsia</td>\n",
       "      <td>1957.81010</td>\n",
       "      <td>1.146</td>\n",
       "      <td>7.0</td>\n",
       "      <td>2.449351</td>\n",
       "      <td>7.77500</td>\n",
       "      <td>51.849049</td>\n",
       "      <td>Timor-Leste</td>\n",
       "      <td>-0.146485</td>\n",
       "    </tr>\n",
       "    <tr>\n",
       "      <th>39</th>\n",
       "      <td>71</td>\n",
       "      <td>0.638</td>\n",
       "      <td>GUY</td>\n",
       "      <td>Caribbean</td>\n",
       "      <td>2042.81990</td>\n",
       "      <td>0.756</td>\n",
       "      <td>9.1</td>\n",
       "      <td>3.933675</td>\n",
       "      <td>3.19216</td>\n",
       "      <td>82.481056</td>\n",
       "      <td>Guyana</td>\n",
       "      <td>-0.098866</td>\n",
       "    </tr>\n",
       "    <tr>\n",
       "      <th>43</th>\n",
       "      <td>92</td>\n",
       "      <td>0.662</td>\n",
       "      <td>KGZ</td>\n",
       "      <td>EastEurope</td>\n",
       "      <td>3010.24000</td>\n",
       "      <td>5.895</td>\n",
       "      <td>6.4</td>\n",
       "      <td>2.853689</td>\n",
       "      <td>5.52738</td>\n",
       "      <td>80.177567</td>\n",
       "      <td>Kyrgyzstan</td>\n",
       "      <td>-0.066213</td>\n",
       "    </tr>\n",
       "  </tbody>\n",
       "</table>\n",
       "</div>"
      ],
      "text/plain": [
       "    Unnamed: 0  undp_hdi ccodealp      ht_region    gle_cgdpc  imf_pop  \\\n",
       "31         187     0.399      BFA    SubSaharian   1095.96000   16.500   \n",
       "88          70     0.414      GIN    SubSaharian    993.83002   11.745   \n",
       "47         103     0.473      MWI    SubSaharian    938.34998   17.604   \n",
       "71         144     0.493      RWA    SubSaharian   1440.39000   10.200   \n",
       "50         161     0.507      ZWE    SubSaharian  15997.67000   12.459   \n",
       "66         108     0.513      MRT    SubSaharian   2223.01000    3.369   \n",
       "26          93     0.582      LAO  SouthEastAsia   2926.77000    6.898   \n",
       "48         140     0.603      TLS  SouthEastAsia   1957.81010    1.146   \n",
       "39          71     0.638      GUY      Caribbean   2042.81990    0.756   \n",
       "43          92     0.662      KGZ     EastEurope   3010.24000    5.895   \n",
       "\n",
       "    ffp_hf   wef_qes  wdi_expedu   wdi_ners         cname     z_hdi  \n",
       "31     6.9  2.868712     4.60476  26.492809  Burkina Faso -0.424036  \n",
       "88     7.2  2.425785     3.20817  31.788179        Guinea -0.403628  \n",
       "47     8.1  3.185532     4.84254  32.942291        Malawi -0.323356  \n",
       "71     7.5  4.037596     3.79746  27.239189        Rwanda -0.296145  \n",
       "50     8.0  4.200081     8.42933  44.236969      Zimbabwe -0.277097  \n",
       "66     6.3  2.671668     2.93012  23.102320    Mauritania -0.268934  \n",
       "26     7.4  3.834710     3.32011  50.828941          Laos -0.175057  \n",
       "48     7.0  2.449351     7.77500  51.849049   Timor-Leste -0.146485  \n",
       "39     9.1  3.933675     3.19216  82.481056        Guyana -0.098866  \n",
       "43     6.4  2.853689     5.52738  80.177567    Kyrgyzstan -0.066213  "
      ]
     },
     "execution_count": 5,
     "metadata": {},
     "output_type": "execute_result"
    }
   ],
   "source": [
    "df_ordenados=df.sort_values([\"z_hdi\"]).dropna()\n",
    "df_ordenados.head(10)"
   ]
  },
  {
   "cell_type": "markdown",
   "metadata": {},
   "source": [
    "## Los 10 ultimos z de undp_hdi:"
   ]
  },
  {
   "cell_type": "code",
   "execution_count": 6,
   "metadata": {},
   "outputs": [
    {
     "data": {
      "text/html": [
       "<div>\n",
       "<style scoped>\n",
       "    .dataframe tbody tr th:only-of-type {\n",
       "        vertical-align: middle;\n",
       "    }\n",
       "\n",
       "    .dataframe tbody tr th {\n",
       "        vertical-align: top;\n",
       "    }\n",
       "\n",
       "    .dataframe thead th {\n",
       "        text-align: right;\n",
       "    }\n",
       "</style>\n",
       "<table border=\"1\" class=\"dataframe\">\n",
       "  <thead>\n",
       "    <tr style=\"text-align: right;\">\n",
       "      <th></th>\n",
       "      <th>Unnamed: 0</th>\n",
       "      <th>undp_hdi</th>\n",
       "      <th>ccodealp</th>\n",
       "      <th>ht_region</th>\n",
       "      <th>gle_cgdpc</th>\n",
       "      <th>imf_pop</th>\n",
       "      <th>ffp_hf</th>\n",
       "      <th>wef_qes</th>\n",
       "      <th>wdi_expedu</th>\n",
       "      <th>wdi_ners</th>\n",
       "      <th>cname</th>\n",
       "      <th>z_hdi</th>\n",
       "    </tr>\n",
       "  </thead>\n",
       "  <tbody>\n",
       "    <tr>\n",
       "      <th>35</th>\n",
       "      <td>15</td>\n",
       "      <td>0.895</td>\n",
       "      <td>BEL</td>\n",
       "      <td>WesternDem</td>\n",
       "      <td>33764.711</td>\n",
       "      <td>11.181000</td>\n",
       "      <td>1.9</td>\n",
       "      <td>5.328891</td>\n",
       "      <td>6.58514</td>\n",
       "      <td>95.285599</td>\n",
       "      <td>Belgium</td>\n",
       "      <td>0.250794</td>\n",
       "    </tr>\n",
       "    <tr>\n",
       "      <th>23</th>\n",
       "      <td>101</td>\n",
       "      <td>0.896</td>\n",
       "      <td>LUX</td>\n",
       "      <td>WesternDem</td>\n",
       "      <td>61404.480</td>\n",
       "      <td>0.550000</td>\n",
       "      <td>2.1</td>\n",
       "      <td>4.580255</td>\n",
       "      <td>4.08388</td>\n",
       "      <td>84.603470</td>\n",
       "      <td>Luxembourg</td>\n",
       "      <td>0.252154</td>\n",
       "    </tr>\n",
       "    <tr>\n",
       "      <th>59</th>\n",
       "      <td>85</td>\n",
       "      <td>0.902</td>\n",
       "      <td>JPN</td>\n",
       "      <td>EastAsia</td>\n",
       "      <td>36123.770</td>\n",
       "      <td>127.120003</td>\n",
       "      <td>2.6</td>\n",
       "      <td>4.430102</td>\n",
       "      <td>3.59184</td>\n",
       "      <td>99.042671</td>\n",
       "      <td>Japan</td>\n",
       "      <td>0.260317</td>\n",
       "    </tr>\n",
       "    <tr>\n",
       "      <th>17</th>\n",
       "      <td>167</td>\n",
       "      <td>0.909</td>\n",
       "      <td>SWE</td>\n",
       "      <td>WesternDem</td>\n",
       "      <td>39000.910</td>\n",
       "      <td>9.645000</td>\n",
       "      <td>1.5</td>\n",
       "      <td>4.577006</td>\n",
       "      <td>7.67509</td>\n",
       "      <td>96.651558</td>\n",
       "      <td>Sweden</td>\n",
       "      <td>0.269841</td>\n",
       "    </tr>\n",
       "    <tr>\n",
       "      <th>32</th>\n",
       "      <td>123</td>\n",
       "      <td>0.913</td>\n",
       "      <td>NZL</td>\n",
       "      <td>WesternDem</td>\n",
       "      <td>26481.369</td>\n",
       "      <td>4.555000</td>\n",
       "      <td>2.1</td>\n",
       "      <td>5.318371</td>\n",
       "      <td>6.33680</td>\n",
       "      <td>96.440018</td>\n",
       "      <td>New Zealand</td>\n",
       "      <td>0.275283</td>\n",
       "    </tr>\n",
       "    <tr>\n",
       "      <th>73</th>\n",
       "      <td>186</td>\n",
       "      <td>0.918</td>\n",
       "      <td>USA</td>\n",
       "      <td>WesternDem</td>\n",
       "      <td>47769.699</td>\n",
       "      <td>318.789001</td>\n",
       "      <td>1.5</td>\n",
       "      <td>4.564571</td>\n",
       "      <td>5.38078</td>\n",
       "      <td>90.462288</td>\n",
       "      <td>United States</td>\n",
       "      <td>0.282086</td>\n",
       "    </tr>\n",
       "    <tr>\n",
       "      <th>28</th>\n",
       "      <td>80</td>\n",
       "      <td>0.920</td>\n",
       "      <td>IRL</td>\n",
       "      <td>WesternDem</td>\n",
       "      <td>46422.070</td>\n",
       "      <td>4.621000</td>\n",
       "      <td>2.8</td>\n",
       "      <td>5.434197</td>\n",
       "      <td>5.32457</td>\n",
       "      <td>99.573357</td>\n",
       "      <td>Ireland</td>\n",
       "      <td>0.284807</td>\n",
       "    </tr>\n",
       "    <tr>\n",
       "      <th>61</th>\n",
       "      <td>48</td>\n",
       "      <td>0.923</td>\n",
       "      <td>DNK</td>\n",
       "      <td>WesternDem</td>\n",
       "      <td>37406.762</td>\n",
       "      <td>5.627000</td>\n",
       "      <td>1.9</td>\n",
       "      <td>4.812749</td>\n",
       "      <td>8.62711</td>\n",
       "      <td>89.817459</td>\n",
       "      <td>Denmark</td>\n",
       "      <td>0.288889</td>\n",
       "    </tr>\n",
       "    <tr>\n",
       "      <th>27</th>\n",
       "      <td>121</td>\n",
       "      <td>0.923</td>\n",
       "      <td>NLD</td>\n",
       "      <td>WesternDem</td>\n",
       "      <td>42258.352</td>\n",
       "      <td>16.865000</td>\n",
       "      <td>2.6</td>\n",
       "      <td>5.304531</td>\n",
       "      <td>5.52938</td>\n",
       "      <td>93.882019</td>\n",
       "      <td>Netherlands</td>\n",
       "      <td>0.288889</td>\n",
       "    </tr>\n",
       "    <tr>\n",
       "      <th>46</th>\n",
       "      <td>8</td>\n",
       "      <td>0.937</td>\n",
       "      <td>AUS</td>\n",
       "      <td>WesternDem</td>\n",
       "      <td>38611.949</td>\n",
       "      <td>23.621000</td>\n",
       "      <td>1.0</td>\n",
       "      <td>4.798969</td>\n",
       "      <td>5.22534</td>\n",
       "      <td>87.572853</td>\n",
       "      <td>Australia</td>\n",
       "      <td>0.307936</td>\n",
       "    </tr>\n",
       "  </tbody>\n",
       "</table>\n",
       "</div>"
      ],
      "text/plain": [
       "    Unnamed: 0  undp_hdi ccodealp   ht_region  gle_cgdpc     imf_pop  ffp_hf  \\\n",
       "35          15     0.895      BEL  WesternDem  33764.711   11.181000     1.9   \n",
       "23         101     0.896      LUX  WesternDem  61404.480    0.550000     2.1   \n",
       "59          85     0.902      JPN    EastAsia  36123.770  127.120003     2.6   \n",
       "17         167     0.909      SWE  WesternDem  39000.910    9.645000     1.5   \n",
       "32         123     0.913      NZL  WesternDem  26481.369    4.555000     2.1   \n",
       "73         186     0.918      USA  WesternDem  47769.699  318.789001     1.5   \n",
       "28          80     0.920      IRL  WesternDem  46422.070    4.621000     2.8   \n",
       "61          48     0.923      DNK  WesternDem  37406.762    5.627000     1.9   \n",
       "27         121     0.923      NLD  WesternDem  42258.352   16.865000     2.6   \n",
       "46           8     0.937      AUS  WesternDem  38611.949   23.621000     1.0   \n",
       "\n",
       "     wef_qes  wdi_expedu   wdi_ners          cname     z_hdi  \n",
       "35  5.328891     6.58514  95.285599        Belgium  0.250794  \n",
       "23  4.580255     4.08388  84.603470     Luxembourg  0.252154  \n",
       "59  4.430102     3.59184  99.042671          Japan  0.260317  \n",
       "17  4.577006     7.67509  96.651558         Sweden  0.269841  \n",
       "32  5.318371     6.33680  96.440018    New Zealand  0.275283  \n",
       "73  4.564571     5.38078  90.462288  United States  0.282086  \n",
       "28  5.434197     5.32457  99.573357        Ireland  0.284807  \n",
       "61  4.812749     8.62711  89.817459        Denmark  0.288889  \n",
       "27  5.304531     5.52938  93.882019    Netherlands  0.288889  \n",
       "46  4.798969     5.22534  87.572853      Australia  0.307936  "
      ]
     },
     "execution_count": 6,
     "metadata": {},
     "output_type": "execute_result"
    }
   ],
   "source": [
    "df_ordenados.tail(10)"
   ]
  },
  {
   "cell_type": "markdown",
   "metadata": {},
   "source": [
    "## - ¿Qué características tienen en común?\n",
    "* Se puede observar que al ordenar crecientemente el dataframe respecto a z_hdi. Los primeros 10 valores de z (negativos) corresponden a paises de la region africana, en cambio los 10 ultimos z(positivos) pertenecen en su mayoria a paises europeos"
   ]
  },
  {
   "cell_type": "code",
   "execution_count": 7,
   "metadata": {},
   "outputs": [
    {
     "name": "stdout",
     "output_type": "stream",
     "text": [
      "Z_hdi menores: SubSaharian      6\n",
      "SouthEastAsia    2\n",
      "Caribbean        1\n",
      "EastEurope       1\n",
      "Name: ht_region, dtype: int64\n"
     ]
    }
   ],
   "source": [
    "print(\"Z_hdi menores:\",df_ordenados[\"ht_region\"].head(10).value_counts())"
   ]
  },
  {
   "cell_type": "code",
   "execution_count": 8,
   "metadata": {},
   "outputs": [
    {
     "name": "stdout",
     "output_type": "stream",
     "text": [
      "Z_hdi mayores: WesternDem    9\n",
      "EastAsia      1\n",
      "Name: ht_region, dtype: int64\n"
     ]
    }
   ],
   "source": [
    "print(\"Z_hdi mayores:\",df_ordenados[\"ht_region\"].tail(10).value_counts())"
   ]
  },
  {
   "cell_type": "markdown",
   "metadata": {},
   "source": [
    "## Variable de Estudio: <font color=\"red\">gle_cgdpc </font>"
   ]
  },
  {
   "cell_type": "code",
   "execution_count": 9,
   "metadata": {},
   "outputs": [],
   "source": [
    "df_media_gle_cgdpc=df[\"gle_cgdpc\"].mean()\n",
    "df_desviacion_gle_cgdpc=df[\"gle_cgdpc\"].median()\n",
    "df[\"z_gle_cgdpc\"]=(df[\"gle_cgdpc\"]-df_media_gle_cgdpc)/df_desviacion_gle_cgdpc"
   ]
  },
  {
   "cell_type": "markdown",
   "metadata": {},
   "source": [
    "## Los 10 primeros z de gle_cgdpc:"
   ]
  },
  {
   "cell_type": "code",
   "execution_count": 10,
   "metadata": {},
   "outputs": [
    {
     "data": {
      "text/html": [
       "<div>\n",
       "<style scoped>\n",
       "    .dataframe tbody tr th:only-of-type {\n",
       "        vertical-align: middle;\n",
       "    }\n",
       "\n",
       "    .dataframe tbody tr th {\n",
       "        vertical-align: top;\n",
       "    }\n",
       "\n",
       "    .dataframe thead th {\n",
       "        text-align: right;\n",
       "    }\n",
       "</style>\n",
       "<table border=\"1\" class=\"dataframe\">\n",
       "  <thead>\n",
       "    <tr style=\"text-align: right;\">\n",
       "      <th></th>\n",
       "      <th>Unnamed: 0</th>\n",
       "      <th>undp_hdi</th>\n",
       "      <th>ccodealp</th>\n",
       "      <th>ht_region</th>\n",
       "      <th>gle_cgdpc</th>\n",
       "      <th>imf_pop</th>\n",
       "      <th>ffp_hf</th>\n",
       "      <th>wef_qes</th>\n",
       "      <th>wdi_expedu</th>\n",
       "      <th>wdi_ners</th>\n",
       "      <th>cname</th>\n",
       "      <th>z_hdi</th>\n",
       "      <th>z_gle_cgdpc</th>\n",
       "    </tr>\n",
       "  </thead>\n",
       "  <tbody>\n",
       "    <tr>\n",
       "      <th>47</th>\n",
       "      <td>103</td>\n",
       "      <td>0.473</td>\n",
       "      <td>MWI</td>\n",
       "      <td>SubSaharian</td>\n",
       "      <td>938.34998</td>\n",
       "      <td>17.604</td>\n",
       "      <td>8.1</td>\n",
       "      <td>3.185532</td>\n",
       "      <td>4.84254</td>\n",
       "      <td>32.942291</td>\n",
       "      <td>Malawi</td>\n",
       "      <td>-0.323356</td>\n",
       "      <td>-1.568962</td>\n",
       "    </tr>\n",
       "    <tr>\n",
       "      <th>88</th>\n",
       "      <td>70</td>\n",
       "      <td>0.414</td>\n",
       "      <td>GIN</td>\n",
       "      <td>SubSaharian</td>\n",
       "      <td>993.83002</td>\n",
       "      <td>11.745</td>\n",
       "      <td>7.2</td>\n",
       "      <td>2.425785</td>\n",
       "      <td>3.20817</td>\n",
       "      <td>31.788179</td>\n",
       "      <td>Guinea</td>\n",
       "      <td>-0.403628</td>\n",
       "      <td>-1.562814</td>\n",
       "    </tr>\n",
       "    <tr>\n",
       "      <th>31</th>\n",
       "      <td>187</td>\n",
       "      <td>0.399</td>\n",
       "      <td>BFA</td>\n",
       "      <td>SubSaharian</td>\n",
       "      <td>1095.96000</td>\n",
       "      <td>16.500</td>\n",
       "      <td>6.9</td>\n",
       "      <td>2.868712</td>\n",
       "      <td>4.60476</td>\n",
       "      <td>26.492809</td>\n",
       "      <td>Burkina Faso</td>\n",
       "      <td>-0.424036</td>\n",
       "      <td>-1.551495</td>\n",
       "    </tr>\n",
       "    <tr>\n",
       "      <th>71</th>\n",
       "      <td>144</td>\n",
       "      <td>0.493</td>\n",
       "      <td>RWA</td>\n",
       "      <td>SubSaharian</td>\n",
       "      <td>1440.39000</td>\n",
       "      <td>10.200</td>\n",
       "      <td>7.5</td>\n",
       "      <td>4.037596</td>\n",
       "      <td>3.79746</td>\n",
       "      <td>27.239189</td>\n",
       "      <td>Rwanda</td>\n",
       "      <td>-0.296145</td>\n",
       "      <td>-1.513326</td>\n",
       "    </tr>\n",
       "    <tr>\n",
       "      <th>48</th>\n",
       "      <td>140</td>\n",
       "      <td>0.603</td>\n",
       "      <td>TLS</td>\n",
       "      <td>SouthEastAsia</td>\n",
       "      <td>1957.81010</td>\n",
       "      <td>1.146</td>\n",
       "      <td>7.0</td>\n",
       "      <td>2.449351</td>\n",
       "      <td>7.77500</td>\n",
       "      <td>51.849049</td>\n",
       "      <td>Timor-Leste</td>\n",
       "      <td>-0.146485</td>\n",
       "      <td>-1.455985</td>\n",
       "    </tr>\n",
       "    <tr>\n",
       "      <th>39</th>\n",
       "      <td>71</td>\n",
       "      <td>0.638</td>\n",
       "      <td>GUY</td>\n",
       "      <td>Caribbean</td>\n",
       "      <td>2042.81990</td>\n",
       "      <td>0.756</td>\n",
       "      <td>9.1</td>\n",
       "      <td>3.933675</td>\n",
       "      <td>3.19216</td>\n",
       "      <td>82.481056</td>\n",
       "      <td>Guyana</td>\n",
       "      <td>-0.098866</td>\n",
       "      <td>-1.446564</td>\n",
       "    </tr>\n",
       "    <tr>\n",
       "      <th>66</th>\n",
       "      <td>108</td>\n",
       "      <td>0.513</td>\n",
       "      <td>MRT</td>\n",
       "      <td>SubSaharian</td>\n",
       "      <td>2223.01000</td>\n",
       "      <td>3.369</td>\n",
       "      <td>6.3</td>\n",
       "      <td>2.671668</td>\n",
       "      <td>2.93012</td>\n",
       "      <td>23.102320</td>\n",
       "      <td>Mauritania</td>\n",
       "      <td>-0.268934</td>\n",
       "      <td>-1.426595</td>\n",
       "    </tr>\n",
       "    <tr>\n",
       "      <th>26</th>\n",
       "      <td>93</td>\n",
       "      <td>0.582</td>\n",
       "      <td>LAO</td>\n",
       "      <td>SouthEastAsia</td>\n",
       "      <td>2926.77000</td>\n",
       "      <td>6.898</td>\n",
       "      <td>7.4</td>\n",
       "      <td>3.834710</td>\n",
       "      <td>3.32011</td>\n",
       "      <td>50.828941</td>\n",
       "      <td>Laos</td>\n",
       "      <td>-0.175057</td>\n",
       "      <td>-1.348604</td>\n",
       "    </tr>\n",
       "    <tr>\n",
       "      <th>43</th>\n",
       "      <td>92</td>\n",
       "      <td>0.662</td>\n",
       "      <td>KGZ</td>\n",
       "      <td>EastEurope</td>\n",
       "      <td>3010.24000</td>\n",
       "      <td>5.895</td>\n",
       "      <td>6.4</td>\n",
       "      <td>2.853689</td>\n",
       "      <td>5.52738</td>\n",
       "      <td>80.177567</td>\n",
       "      <td>Kyrgyzstan</td>\n",
       "      <td>-0.066213</td>\n",
       "      <td>-1.339354</td>\n",
       "    </tr>\n",
       "    <tr>\n",
       "      <th>6</th>\n",
       "      <td>17</td>\n",
       "      <td>0.671</td>\n",
       "      <td>BOL</td>\n",
       "      <td>LatAm</td>\n",
       "      <td>4023.87010</td>\n",
       "      <td>10.078</td>\n",
       "      <td>6.4</td>\n",
       "      <td>3.348756</td>\n",
       "      <td>7.28546</td>\n",
       "      <td>76.535461</td>\n",
       "      <td>Bolivia</td>\n",
       "      <td>-0.053968</td>\n",
       "      <td>-1.227023</td>\n",
       "    </tr>\n",
       "  </tbody>\n",
       "</table>\n",
       "</div>"
      ],
      "text/plain": [
       "    Unnamed: 0  undp_hdi ccodealp      ht_region   gle_cgdpc  imf_pop  ffp_hf  \\\n",
       "47         103     0.473      MWI    SubSaharian   938.34998   17.604     8.1   \n",
       "88          70     0.414      GIN    SubSaharian   993.83002   11.745     7.2   \n",
       "31         187     0.399      BFA    SubSaharian  1095.96000   16.500     6.9   \n",
       "71         144     0.493      RWA    SubSaharian  1440.39000   10.200     7.5   \n",
       "48         140     0.603      TLS  SouthEastAsia  1957.81010    1.146     7.0   \n",
       "39          71     0.638      GUY      Caribbean  2042.81990    0.756     9.1   \n",
       "66         108     0.513      MRT    SubSaharian  2223.01000    3.369     6.3   \n",
       "26          93     0.582      LAO  SouthEastAsia  2926.77000    6.898     7.4   \n",
       "43          92     0.662      KGZ     EastEurope  3010.24000    5.895     6.4   \n",
       "6           17     0.671      BOL          LatAm  4023.87010   10.078     6.4   \n",
       "\n",
       "     wef_qes  wdi_expedu   wdi_ners         cname     z_hdi  z_gle_cgdpc  \n",
       "47  3.185532     4.84254  32.942291        Malawi -0.323356    -1.568962  \n",
       "88  2.425785     3.20817  31.788179        Guinea -0.403628    -1.562814  \n",
       "31  2.868712     4.60476  26.492809  Burkina Faso -0.424036    -1.551495  \n",
       "71  4.037596     3.79746  27.239189        Rwanda -0.296145    -1.513326  \n",
       "48  2.449351     7.77500  51.849049   Timor-Leste -0.146485    -1.455985  \n",
       "39  3.933675     3.19216  82.481056        Guyana -0.098866    -1.446564  \n",
       "66  2.671668     2.93012  23.102320    Mauritania -0.268934    -1.426595  \n",
       "26  3.834710     3.32011  50.828941          Laos -0.175057    -1.348604  \n",
       "43  2.853689     5.52738  80.177567    Kyrgyzstan -0.066213    -1.339354  \n",
       "6   3.348756     7.28546  76.535461       Bolivia -0.053968    -1.227023  "
      ]
     },
     "execution_count": 10,
     "metadata": {},
     "output_type": "execute_result"
    }
   ],
   "source": [
    "df_ordenados_gle_cgdpc=df.sort_values([\"z_gle_cgdpc\"]).dropna()\n",
    "df_ordenados_gle_cgdpc.head(10)"
   ]
  },
  {
   "cell_type": "markdown",
   "metadata": {},
   "source": [
    "## Los 10 últimos z de gle_cgdpc:"
   ]
  },
  {
   "cell_type": "code",
   "execution_count": 11,
   "metadata": {},
   "outputs": [
    {
     "data": {
      "text/html": [
       "<div>\n",
       "<style scoped>\n",
       "    .dataframe tbody tr th:only-of-type {\n",
       "        vertical-align: middle;\n",
       "    }\n",
       "\n",
       "    .dataframe tbody tr th {\n",
       "        vertical-align: top;\n",
       "    }\n",
       "\n",
       "    .dataframe thead th {\n",
       "        text-align: right;\n",
       "    }\n",
       "</style>\n",
       "<table border=\"1\" class=\"dataframe\">\n",
       "  <thead>\n",
       "    <tr style=\"text-align: right;\">\n",
       "      <th></th>\n",
       "      <th>Unnamed: 0</th>\n",
       "      <th>undp_hdi</th>\n",
       "      <th>ccodealp</th>\n",
       "      <th>ht_region</th>\n",
       "      <th>gle_cgdpc</th>\n",
       "      <th>imf_pop</th>\n",
       "      <th>ffp_hf</th>\n",
       "      <th>wef_qes</th>\n",
       "      <th>wdi_expedu</th>\n",
       "      <th>wdi_ners</th>\n",
       "      <th>cname</th>\n",
       "      <th>z_hdi</th>\n",
       "      <th>z_gle_cgdpc</th>\n",
       "    </tr>\n",
       "  </thead>\n",
       "  <tbody>\n",
       "    <tr>\n",
       "      <th>35</th>\n",
       "      <td>15</td>\n",
       "      <td>0.895</td>\n",
       "      <td>BEL</td>\n",
       "      <td>WesternDem</td>\n",
       "      <td>33764.711</td>\n",
       "      <td>11.181000</td>\n",
       "      <td>1.9</td>\n",
       "      <td>5.328891</td>\n",
       "      <td>6.58514</td>\n",
       "      <td>95.285599</td>\n",
       "      <td>Belgium</td>\n",
       "      <td>0.250794</td>\n",
       "      <td>2.068870</td>\n",
       "    </tr>\n",
       "    <tr>\n",
       "      <th>12</th>\n",
       "      <td>59</td>\n",
       "      <td>0.894</td>\n",
       "      <td>FRA</td>\n",
       "      <td>WesternDem</td>\n",
       "      <td>34007.898</td>\n",
       "      <td>64.028000</td>\n",
       "      <td>2.2</td>\n",
       "      <td>4.381113</td>\n",
       "      <td>5.49299</td>\n",
       "      <td>99.444328</td>\n",
       "      <td>France (1963-)</td>\n",
       "      <td>0.249433</td>\n",
       "      <td>2.095820</td>\n",
       "    </tr>\n",
       "    <tr>\n",
       "      <th>59</th>\n",
       "      <td>85</td>\n",
       "      <td>0.902</td>\n",
       "      <td>JPN</td>\n",
       "      <td>EastAsia</td>\n",
       "      <td>36123.770</td>\n",
       "      <td>127.120003</td>\n",
       "      <td>2.6</td>\n",
       "      <td>4.430102</td>\n",
       "      <td>3.59184</td>\n",
       "      <td>99.042671</td>\n",
       "      <td>Japan</td>\n",
       "      <td>0.260317</td>\n",
       "      <td>2.330302</td>\n",
       "    </tr>\n",
       "    <tr>\n",
       "      <th>61</th>\n",
       "      <td>48</td>\n",
       "      <td>0.923</td>\n",
       "      <td>DNK</td>\n",
       "      <td>WesternDem</td>\n",
       "      <td>37406.762</td>\n",
       "      <td>5.627000</td>\n",
       "      <td>1.9</td>\n",
       "      <td>4.812749</td>\n",
       "      <td>8.62711</td>\n",
       "      <td>89.817459</td>\n",
       "      <td>Denmark</td>\n",
       "      <td>0.288889</td>\n",
       "      <td>2.472484</td>\n",
       "    </tr>\n",
       "    <tr>\n",
       "      <th>46</th>\n",
       "      <td>8</td>\n",
       "      <td>0.937</td>\n",
       "      <td>AUS</td>\n",
       "      <td>WesternDem</td>\n",
       "      <td>38611.949</td>\n",
       "      <td>23.621000</td>\n",
       "      <td>1.0</td>\n",
       "      <td>4.798969</td>\n",
       "      <td>5.22534</td>\n",
       "      <td>87.572853</td>\n",
       "      <td>Australia</td>\n",
       "      <td>0.307936</td>\n",
       "      <td>2.606043</td>\n",
       "    </tr>\n",
       "    <tr>\n",
       "      <th>17</th>\n",
       "      <td>167</td>\n",
       "      <td>0.909</td>\n",
       "      <td>SWE</td>\n",
       "      <td>WesternDem</td>\n",
       "      <td>39000.910</td>\n",
       "      <td>9.645000</td>\n",
       "      <td>1.5</td>\n",
       "      <td>4.577006</td>\n",
       "      <td>7.67509</td>\n",
       "      <td>96.651558</td>\n",
       "      <td>Sweden</td>\n",
       "      <td>0.269841</td>\n",
       "      <td>2.649148</td>\n",
       "    </tr>\n",
       "    <tr>\n",
       "      <th>27</th>\n",
       "      <td>121</td>\n",
       "      <td>0.923</td>\n",
       "      <td>NLD</td>\n",
       "      <td>WesternDem</td>\n",
       "      <td>42258.352</td>\n",
       "      <td>16.865000</td>\n",
       "      <td>2.6</td>\n",
       "      <td>5.304531</td>\n",
       "      <td>5.52938</td>\n",
       "      <td>93.882019</td>\n",
       "      <td>Netherlands</td>\n",
       "      <td>0.288889</td>\n",
       "      <td>3.010139</td>\n",
       "    </tr>\n",
       "    <tr>\n",
       "      <th>28</th>\n",
       "      <td>80</td>\n",
       "      <td>0.920</td>\n",
       "      <td>IRL</td>\n",
       "      <td>WesternDem</td>\n",
       "      <td>46422.070</td>\n",
       "      <td>4.621000</td>\n",
       "      <td>2.8</td>\n",
       "      <td>5.434197</td>\n",
       "      <td>5.32457</td>\n",
       "      <td>99.573357</td>\n",
       "      <td>Ireland</td>\n",
       "      <td>0.284807</td>\n",
       "      <td>3.471565</td>\n",
       "    </tr>\n",
       "    <tr>\n",
       "      <th>73</th>\n",
       "      <td>186</td>\n",
       "      <td>0.918</td>\n",
       "      <td>USA</td>\n",
       "      <td>WesternDem</td>\n",
       "      <td>47769.699</td>\n",
       "      <td>318.789001</td>\n",
       "      <td>1.5</td>\n",
       "      <td>4.564571</td>\n",
       "      <td>5.38078</td>\n",
       "      <td>90.462288</td>\n",
       "      <td>United States</td>\n",
       "      <td>0.282086</td>\n",
       "      <td>3.620909</td>\n",
       "    </tr>\n",
       "    <tr>\n",
       "      <th>23</th>\n",
       "      <td>101</td>\n",
       "      <td>0.896</td>\n",
       "      <td>LUX</td>\n",
       "      <td>WesternDem</td>\n",
       "      <td>61404.480</td>\n",
       "      <td>0.550000</td>\n",
       "      <td>2.1</td>\n",
       "      <td>4.580255</td>\n",
       "      <td>4.08388</td>\n",
       "      <td>84.603470</td>\n",
       "      <td>Luxembourg</td>\n",
       "      <td>0.252154</td>\n",
       "      <td>5.131922</td>\n",
       "    </tr>\n",
       "  </tbody>\n",
       "</table>\n",
       "</div>"
      ],
      "text/plain": [
       "    Unnamed: 0  undp_hdi ccodealp   ht_region  gle_cgdpc     imf_pop  ffp_hf  \\\n",
       "35          15     0.895      BEL  WesternDem  33764.711   11.181000     1.9   \n",
       "12          59     0.894      FRA  WesternDem  34007.898   64.028000     2.2   \n",
       "59          85     0.902      JPN    EastAsia  36123.770  127.120003     2.6   \n",
       "61          48     0.923      DNK  WesternDem  37406.762    5.627000     1.9   \n",
       "46           8     0.937      AUS  WesternDem  38611.949   23.621000     1.0   \n",
       "17         167     0.909      SWE  WesternDem  39000.910    9.645000     1.5   \n",
       "27         121     0.923      NLD  WesternDem  42258.352   16.865000     2.6   \n",
       "28          80     0.920      IRL  WesternDem  46422.070    4.621000     2.8   \n",
       "73         186     0.918      USA  WesternDem  47769.699  318.789001     1.5   \n",
       "23         101     0.896      LUX  WesternDem  61404.480    0.550000     2.1   \n",
       "\n",
       "     wef_qes  wdi_expedu   wdi_ners           cname     z_hdi  z_gle_cgdpc  \n",
       "35  5.328891     6.58514  95.285599         Belgium  0.250794     2.068870  \n",
       "12  4.381113     5.49299  99.444328  France (1963-)  0.249433     2.095820  \n",
       "59  4.430102     3.59184  99.042671           Japan  0.260317     2.330302  \n",
       "61  4.812749     8.62711  89.817459         Denmark  0.288889     2.472484  \n",
       "46  4.798969     5.22534  87.572853       Australia  0.307936     2.606043  \n",
       "17  4.577006     7.67509  96.651558          Sweden  0.269841     2.649148  \n",
       "27  5.304531     5.52938  93.882019     Netherlands  0.288889     3.010139  \n",
       "28  5.434197     5.32457  99.573357         Ireland  0.284807     3.471565  \n",
       "73  4.564571     5.38078  90.462288   United States  0.282086     3.620909  \n",
       "23  4.580255     4.08388  84.603470      Luxembourg  0.252154     5.131922  "
      ]
     },
     "execution_count": 11,
     "metadata": {},
     "output_type": "execute_result"
    }
   ],
   "source": [
    "df_ordenados_gle_cgdpc.tail(10)"
   ]
  },
  {
   "cell_type": "markdown",
   "metadata": {},
   "source": [
    "## - ¿Qué características tienen en común?\n",
    "* Nuevamente, se puede observar que al ordenar crecientemente el dataframe respecto a la variable gle_cgdpc. Los primeros 10 valores de z (negativos) en su mayoria corresponden a paises de la region africana, en cambio los 10 ultimos z(positivos) pertenecen en su mayoria a paises europeos."
   ]
  },
  {
   "cell_type": "code",
   "execution_count": 12,
   "metadata": {},
   "outputs": [
    {
     "name": "stdout",
     "output_type": "stream",
     "text": [
      "Z_hdi menores: SubSaharian      5\n",
      "SouthEastAsia    2\n",
      "Caribbean        1\n",
      "LatAm            1\n",
      "EastEurope       1\n",
      "Name: ht_region, dtype: int64\n"
     ]
    }
   ],
   "source": [
    "print(\"Z_hdi menores:\",df_ordenados_gle_cgdpc[\"ht_region\"].head(10).value_counts())"
   ]
  },
  {
   "cell_type": "code",
   "execution_count": 13,
   "metadata": {},
   "outputs": [
    {
     "name": "stdout",
     "output_type": "stream",
     "text": [
      "Z_hdi menores: WesternDem    9\n",
      "EastAsia      1\n",
      "Name: ht_region, dtype: int64\n"
     ]
    }
   ],
   "source": [
    "print(\"Z_hdi menores:\",df_ordenados_gle_cgdpc[\"ht_region\"].tail(10).value_counts())"
   ]
  },
  {
   "cell_type": "markdown",
   "metadata": {},
   "source": [
    "## Variable de Estudio: <font color=\"red\">ffp_hf </font>"
   ]
  },
  {
   "cell_type": "code",
   "execution_count": 14,
   "metadata": {},
   "outputs": [],
   "source": [
    "df_media_ffp_hf=df[\"ffp_hf\"].mean()\n",
    "df_desviacion_ffp_hf=df[\"ffp_hf\"].median()\n",
    "df[\"z_ffp_hf\"]=(df[\"ffp_hf\"]-df_media_ffp_hf)/df_desviacion_ffp_hf"
   ]
  },
  {
   "cell_type": "markdown",
   "metadata": {},
   "source": [
    "## Los 10 primeros z de  ffp_hf :"
   ]
  },
  {
   "cell_type": "code",
   "execution_count": 15,
   "metadata": {},
   "outputs": [
    {
     "data": {
      "text/html": [
       "<div>\n",
       "<style scoped>\n",
       "    .dataframe tbody tr th:only-of-type {\n",
       "        vertical-align: middle;\n",
       "    }\n",
       "\n",
       "    .dataframe tbody tr th {\n",
       "        vertical-align: top;\n",
       "    }\n",
       "\n",
       "    .dataframe thead th {\n",
       "        text-align: right;\n",
       "    }\n",
       "</style>\n",
       "<table border=\"1\" class=\"dataframe\">\n",
       "  <thead>\n",
       "    <tr style=\"text-align: right;\">\n",
       "      <th></th>\n",
       "      <th>Unnamed: 0</th>\n",
       "      <th>undp_hdi</th>\n",
       "      <th>ccodealp</th>\n",
       "      <th>ht_region</th>\n",
       "      <th>gle_cgdpc</th>\n",
       "      <th>imf_pop</th>\n",
       "      <th>ffp_hf</th>\n",
       "      <th>wef_qes</th>\n",
       "      <th>wdi_expedu</th>\n",
       "      <th>wdi_ners</th>\n",
       "      <th>cname</th>\n",
       "      <th>z_hdi</th>\n",
       "      <th>z_gle_cgdpc</th>\n",
       "      <th>z_ffp_hf</th>\n",
       "    </tr>\n",
       "  </thead>\n",
       "  <tbody>\n",
       "    <tr>\n",
       "      <th>46</th>\n",
       "      <td>8</td>\n",
       "      <td>0.937</td>\n",
       "      <td>AUS</td>\n",
       "      <td>WesternDem</td>\n",
       "      <td>38611.949</td>\n",
       "      <td>23.621000</td>\n",
       "      <td>1.0</td>\n",
       "      <td>4.798969</td>\n",
       "      <td>5.22534</td>\n",
       "      <td>87.572853</td>\n",
       "      <td>Australia</td>\n",
       "      <td>0.307936</td>\n",
       "      <td>2.606043</td>\n",
       "      <td>-0.760856</td>\n",
       "    </tr>\n",
       "    <tr>\n",
       "      <th>17</th>\n",
       "      <td>167</td>\n",
       "      <td>0.909</td>\n",
       "      <td>SWE</td>\n",
       "      <td>WesternDem</td>\n",
       "      <td>39000.910</td>\n",
       "      <td>9.645000</td>\n",
       "      <td>1.5</td>\n",
       "      <td>4.577006</td>\n",
       "      <td>7.67509</td>\n",
       "      <td>96.651558</td>\n",
       "      <td>Sweden</td>\n",
       "      <td>0.269841</td>\n",
       "      <td>2.649148</td>\n",
       "      <td>-0.672361</td>\n",
       "    </tr>\n",
       "    <tr>\n",
       "      <th>73</th>\n",
       "      <td>186</td>\n",
       "      <td>0.918</td>\n",
       "      <td>USA</td>\n",
       "      <td>WesternDem</td>\n",
       "      <td>47769.699</td>\n",
       "      <td>318.789001</td>\n",
       "      <td>1.5</td>\n",
       "      <td>4.564571</td>\n",
       "      <td>5.38078</td>\n",
       "      <td>90.462288</td>\n",
       "      <td>United States</td>\n",
       "      <td>0.282086</td>\n",
       "      <td>3.620909</td>\n",
       "      <td>-0.672361</td>\n",
       "    </tr>\n",
       "    <tr>\n",
       "      <th>35</th>\n",
       "      <td>15</td>\n",
       "      <td>0.895</td>\n",
       "      <td>BEL</td>\n",
       "      <td>WesternDem</td>\n",
       "      <td>33764.711</td>\n",
       "      <td>11.181000</td>\n",
       "      <td>1.9</td>\n",
       "      <td>5.328891</td>\n",
       "      <td>6.58514</td>\n",
       "      <td>95.285599</td>\n",
       "      <td>Belgium</td>\n",
       "      <td>0.250794</td>\n",
       "      <td>2.068870</td>\n",
       "      <td>-0.601564</td>\n",
       "    </tr>\n",
       "    <tr>\n",
       "      <th>68</th>\n",
       "      <td>117</td>\n",
       "      <td>0.795</td>\n",
       "      <td>OMN</td>\n",
       "      <td>NorthAfrica</td>\n",
       "      <td>26158.730</td>\n",
       "      <td>3.717000</td>\n",
       "      <td>1.9</td>\n",
       "      <td>3.535049</td>\n",
       "      <td>4.96038</td>\n",
       "      <td>94.329842</td>\n",
       "      <td>Oman</td>\n",
       "      <td>0.114739</td>\n",
       "      <td>1.225972</td>\n",
       "      <td>-0.601564</td>\n",
       "    </tr>\n",
       "    <tr>\n",
       "      <th>61</th>\n",
       "      <td>48</td>\n",
       "      <td>0.923</td>\n",
       "      <td>DNK</td>\n",
       "      <td>WesternDem</td>\n",
       "      <td>37406.762</td>\n",
       "      <td>5.627000</td>\n",
       "      <td>1.9</td>\n",
       "      <td>4.812749</td>\n",
       "      <td>8.62711</td>\n",
       "      <td>89.817459</td>\n",
       "      <td>Denmark</td>\n",
       "      <td>0.288889</td>\n",
       "      <td>2.472484</td>\n",
       "      <td>-0.601564</td>\n",
       "    </tr>\n",
       "    <tr>\n",
       "      <th>96</th>\n",
       "      <td>82</td>\n",
       "      <td>0.881</td>\n",
       "      <td>ITA</td>\n",
       "      <td>WesternDem</td>\n",
       "      <td>32931.672</td>\n",
       "      <td>60.783001</td>\n",
       "      <td>2.0</td>\n",
       "      <td>3.736853</td>\n",
       "      <td>4.07985</td>\n",
       "      <td>95.726990</td>\n",
       "      <td>Italy</td>\n",
       "      <td>0.231746</td>\n",
       "      <td>1.976553</td>\n",
       "      <td>-0.583865</td>\n",
       "    </tr>\n",
       "    <tr>\n",
       "      <th>32</th>\n",
       "      <td>123</td>\n",
       "      <td>0.913</td>\n",
       "      <td>NZL</td>\n",
       "      <td>WesternDem</td>\n",
       "      <td>26481.369</td>\n",
       "      <td>4.555000</td>\n",
       "      <td>2.1</td>\n",
       "      <td>5.318371</td>\n",
       "      <td>6.33680</td>\n",
       "      <td>96.440018</td>\n",
       "      <td>New Zealand</td>\n",
       "      <td>0.275283</td>\n",
       "      <td>1.261727</td>\n",
       "      <td>-0.566166</td>\n",
       "    </tr>\n",
       "    <tr>\n",
       "      <th>23</th>\n",
       "      <td>101</td>\n",
       "      <td>0.896</td>\n",
       "      <td>LUX</td>\n",
       "      <td>WesternDem</td>\n",
       "      <td>61404.480</td>\n",
       "      <td>0.550000</td>\n",
       "      <td>2.1</td>\n",
       "      <td>4.580255</td>\n",
       "      <td>4.08388</td>\n",
       "      <td>84.603470</td>\n",
       "      <td>Luxembourg</td>\n",
       "      <td>0.252154</td>\n",
       "      <td>5.131922</td>\n",
       "      <td>-0.566166</td>\n",
       "    </tr>\n",
       "    <tr>\n",
       "      <th>12</th>\n",
       "      <td>59</td>\n",
       "      <td>0.894</td>\n",
       "      <td>FRA</td>\n",
       "      <td>WesternDem</td>\n",
       "      <td>34007.898</td>\n",
       "      <td>64.028000</td>\n",
       "      <td>2.2</td>\n",
       "      <td>4.381113</td>\n",
       "      <td>5.49299</td>\n",
       "      <td>99.444328</td>\n",
       "      <td>France (1963-)</td>\n",
       "      <td>0.249433</td>\n",
       "      <td>2.095820</td>\n",
       "      <td>-0.548467</td>\n",
       "    </tr>\n",
       "  </tbody>\n",
       "</table>\n",
       "</div>"
      ],
      "text/plain": [
       "    Unnamed: 0  undp_hdi ccodealp    ht_region  gle_cgdpc     imf_pop  ffp_hf  \\\n",
       "46           8     0.937      AUS   WesternDem  38611.949   23.621000     1.0   \n",
       "17         167     0.909      SWE   WesternDem  39000.910    9.645000     1.5   \n",
       "73         186     0.918      USA   WesternDem  47769.699  318.789001     1.5   \n",
       "35          15     0.895      BEL   WesternDem  33764.711   11.181000     1.9   \n",
       "68         117     0.795      OMN  NorthAfrica  26158.730    3.717000     1.9   \n",
       "61          48     0.923      DNK   WesternDem  37406.762    5.627000     1.9   \n",
       "96          82     0.881      ITA   WesternDem  32931.672   60.783001     2.0   \n",
       "32         123     0.913      NZL   WesternDem  26481.369    4.555000     2.1   \n",
       "23         101     0.896      LUX   WesternDem  61404.480    0.550000     2.1   \n",
       "12          59     0.894      FRA   WesternDem  34007.898   64.028000     2.2   \n",
       "\n",
       "     wef_qes  wdi_expedu   wdi_ners           cname     z_hdi  z_gle_cgdpc  \\\n",
       "46  4.798969     5.22534  87.572853       Australia  0.307936     2.606043   \n",
       "17  4.577006     7.67509  96.651558          Sweden  0.269841     2.649148   \n",
       "73  4.564571     5.38078  90.462288   United States  0.282086     3.620909   \n",
       "35  5.328891     6.58514  95.285599         Belgium  0.250794     2.068870   \n",
       "68  3.535049     4.96038  94.329842            Oman  0.114739     1.225972   \n",
       "61  4.812749     8.62711  89.817459         Denmark  0.288889     2.472484   \n",
       "96  3.736853     4.07985  95.726990           Italy  0.231746     1.976553   \n",
       "32  5.318371     6.33680  96.440018     New Zealand  0.275283     1.261727   \n",
       "23  4.580255     4.08388  84.603470      Luxembourg  0.252154     5.131922   \n",
       "12  4.381113     5.49299  99.444328  France (1963-)  0.249433     2.095820   \n",
       "\n",
       "    z_ffp_hf  \n",
       "46 -0.760856  \n",
       "17 -0.672361  \n",
       "73 -0.672361  \n",
       "35 -0.601564  \n",
       "68 -0.601564  \n",
       "61 -0.601564  \n",
       "96 -0.583865  \n",
       "32 -0.566166  \n",
       "23 -0.566166  \n",
       "12 -0.548467  "
      ]
     },
     "execution_count": 15,
     "metadata": {},
     "output_type": "execute_result"
    }
   ],
   "source": [
    "df_ordenados_ffp_hf=df.sort_values([\"z_ffp_hf\"]).dropna()\n",
    "df_ordenados_ffp_hf.head(10)"
   ]
  },
  {
   "cell_type": "markdown",
   "metadata": {},
   "source": [
    "## Los 10 últimos de ffp_hf "
   ]
  },
  {
   "cell_type": "code",
   "execution_count": 16,
   "metadata": {},
   "outputs": [
    {
     "data": {
      "text/html": [
       "<div>\n",
       "<style scoped>\n",
       "    .dataframe tbody tr th:only-of-type {\n",
       "        vertical-align: middle;\n",
       "    }\n",
       "\n",
       "    .dataframe tbody tr th {\n",
       "        vertical-align: top;\n",
       "    }\n",
       "\n",
       "    .dataframe thead th {\n",
       "        text-align: right;\n",
       "    }\n",
       "</style>\n",
       "<table border=\"1\" class=\"dataframe\">\n",
       "  <thead>\n",
       "    <tr style=\"text-align: right;\">\n",
       "      <th></th>\n",
       "      <th>Unnamed: 0</th>\n",
       "      <th>undp_hdi</th>\n",
       "      <th>ccodealp</th>\n",
       "      <th>ht_region</th>\n",
       "      <th>gle_cgdpc</th>\n",
       "      <th>imf_pop</th>\n",
       "      <th>ffp_hf</th>\n",
       "      <th>wef_qes</th>\n",
       "      <th>wdi_expedu</th>\n",
       "      <th>wdi_ners</th>\n",
       "      <th>cname</th>\n",
       "      <th>z_hdi</th>\n",
       "      <th>z_gle_cgdpc</th>\n",
       "      <th>z_ffp_hf</th>\n",
       "    </tr>\n",
       "  </thead>\n",
       "  <tbody>\n",
       "    <tr>\n",
       "      <th>31</th>\n",
       "      <td>187</td>\n",
       "      <td>0.399</td>\n",
       "      <td>BFA</td>\n",
       "      <td>SubSaharian</td>\n",
       "      <td>1095.96000</td>\n",
       "      <td>16.500</td>\n",
       "      <td>6.9</td>\n",
       "      <td>2.868712</td>\n",
       "      <td>4.60476</td>\n",
       "      <td>26.492809</td>\n",
       "      <td>Burkina Faso</td>\n",
       "      <td>-0.424036</td>\n",
       "      <td>-1.551495</td>\n",
       "      <td>0.283392</td>\n",
       "    </tr>\n",
       "    <tr>\n",
       "      <th>48</th>\n",
       "      <td>140</td>\n",
       "      <td>0.603</td>\n",
       "      <td>TLS</td>\n",
       "      <td>SouthEastAsia</td>\n",
       "      <td>1957.81010</td>\n",
       "      <td>1.146</td>\n",
       "      <td>7.0</td>\n",
       "      <td>2.449351</td>\n",
       "      <td>7.77500</td>\n",
       "      <td>51.849049</td>\n",
       "      <td>Timor-Leste</td>\n",
       "      <td>-0.146485</td>\n",
       "      <td>-1.455985</td>\n",
       "      <td>0.301091</td>\n",
       "    </tr>\n",
       "    <tr>\n",
       "      <th>88</th>\n",
       "      <td>70</td>\n",
       "      <td>0.414</td>\n",
       "      <td>GIN</td>\n",
       "      <td>SubSaharian</td>\n",
       "      <td>993.83002</td>\n",
       "      <td>11.745</td>\n",
       "      <td>7.2</td>\n",
       "      <td>2.425785</td>\n",
       "      <td>3.20817</td>\n",
       "      <td>31.788179</td>\n",
       "      <td>Guinea</td>\n",
       "      <td>-0.403628</td>\n",
       "      <td>-1.562814</td>\n",
       "      <td>0.336489</td>\n",
       "    </tr>\n",
       "    <tr>\n",
       "      <th>26</th>\n",
       "      <td>93</td>\n",
       "      <td>0.582</td>\n",
       "      <td>LAO</td>\n",
       "      <td>SouthEastAsia</td>\n",
       "      <td>2926.77000</td>\n",
       "      <td>6.898</td>\n",
       "      <td>7.4</td>\n",
       "      <td>3.834710</td>\n",
       "      <td>3.32011</td>\n",
       "      <td>50.828941</td>\n",
       "      <td>Laos</td>\n",
       "      <td>-0.175057</td>\n",
       "      <td>-1.348604</td>\n",
       "      <td>0.371887</td>\n",
       "    </tr>\n",
       "    <tr>\n",
       "      <th>71</th>\n",
       "      <td>144</td>\n",
       "      <td>0.493</td>\n",
       "      <td>RWA</td>\n",
       "      <td>SubSaharian</td>\n",
       "      <td>1440.39000</td>\n",
       "      <td>10.200</td>\n",
       "      <td>7.5</td>\n",
       "      <td>4.037596</td>\n",
       "      <td>3.79746</td>\n",
       "      <td>27.239189</td>\n",
       "      <td>Rwanda</td>\n",
       "      <td>-0.296145</td>\n",
       "      <td>-1.513326</td>\n",
       "      <td>0.389586</td>\n",
       "    </tr>\n",
       "    <tr>\n",
       "      <th>36</th>\n",
       "      <td>84</td>\n",
       "      <td>0.729</td>\n",
       "      <td>JAM</td>\n",
       "      <td>Caribbean</td>\n",
       "      <td>4668.77000</td>\n",
       "      <td>2.799</td>\n",
       "      <td>7.8</td>\n",
       "      <td>3.711759</td>\n",
       "      <td>6.02467</td>\n",
       "      <td>73.514938</td>\n",
       "      <td>Jamaica</td>\n",
       "      <td>0.024943</td>\n",
       "      <td>-1.155555</td>\n",
       "      <td>0.442684</td>\n",
       "    </tr>\n",
       "    <tr>\n",
       "      <th>65</th>\n",
       "      <td>33</td>\n",
       "      <td>0.764</td>\n",
       "      <td>LKA</td>\n",
       "      <td>SouthAsia</td>\n",
       "      <td>5466.87010</td>\n",
       "      <td>20.541</td>\n",
       "      <td>7.8</td>\n",
       "      <td>4.644127</td>\n",
       "      <td>1.92566</td>\n",
       "      <td>85.426140</td>\n",
       "      <td>Sri Lanka</td>\n",
       "      <td>0.072562</td>\n",
       "      <td>-1.067109</td>\n",
       "      <td>0.442684</td>\n",
       "    </tr>\n",
       "    <tr>\n",
       "      <th>50</th>\n",
       "      <td>161</td>\n",
       "      <td>0.507</td>\n",
       "      <td>ZWE</td>\n",
       "      <td>SubSaharian</td>\n",
       "      <td>15997.67000</td>\n",
       "      <td>12.459</td>\n",
       "      <td>8.0</td>\n",
       "      <td>4.200081</td>\n",
       "      <td>8.42933</td>\n",
       "      <td>44.236969</td>\n",
       "      <td>Zimbabwe</td>\n",
       "      <td>-0.277097</td>\n",
       "      <td>0.099919</td>\n",
       "      <td>0.478082</td>\n",
       "    </tr>\n",
       "    <tr>\n",
       "      <th>47</th>\n",
       "      <td>103</td>\n",
       "      <td>0.473</td>\n",
       "      <td>MWI</td>\n",
       "      <td>SubSaharian</td>\n",
       "      <td>938.34998</td>\n",
       "      <td>17.604</td>\n",
       "      <td>8.1</td>\n",
       "      <td>3.185532</td>\n",
       "      <td>4.84254</td>\n",
       "      <td>32.942291</td>\n",
       "      <td>Malawi</td>\n",
       "      <td>-0.323356</td>\n",
       "      <td>-1.568962</td>\n",
       "      <td>0.495781</td>\n",
       "    </tr>\n",
       "    <tr>\n",
       "      <th>39</th>\n",
       "      <td>71</td>\n",
       "      <td>0.638</td>\n",
       "      <td>GUY</td>\n",
       "      <td>Caribbean</td>\n",
       "      <td>2042.81990</td>\n",
       "      <td>0.756</td>\n",
       "      <td>9.1</td>\n",
       "      <td>3.933675</td>\n",
       "      <td>3.19216</td>\n",
       "      <td>82.481056</td>\n",
       "      <td>Guyana</td>\n",
       "      <td>-0.098866</td>\n",
       "      <td>-1.446564</td>\n",
       "      <td>0.672772</td>\n",
       "    </tr>\n",
       "  </tbody>\n",
       "</table>\n",
       "</div>"
      ],
      "text/plain": [
       "    Unnamed: 0  undp_hdi ccodealp      ht_region    gle_cgdpc  imf_pop  \\\n",
       "31         187     0.399      BFA    SubSaharian   1095.96000   16.500   \n",
       "48         140     0.603      TLS  SouthEastAsia   1957.81010    1.146   \n",
       "88          70     0.414      GIN    SubSaharian    993.83002   11.745   \n",
       "26          93     0.582      LAO  SouthEastAsia   2926.77000    6.898   \n",
       "71         144     0.493      RWA    SubSaharian   1440.39000   10.200   \n",
       "36          84     0.729      JAM      Caribbean   4668.77000    2.799   \n",
       "65          33     0.764      LKA      SouthAsia   5466.87010   20.541   \n",
       "50         161     0.507      ZWE    SubSaharian  15997.67000   12.459   \n",
       "47         103     0.473      MWI    SubSaharian    938.34998   17.604   \n",
       "39          71     0.638      GUY      Caribbean   2042.81990    0.756   \n",
       "\n",
       "    ffp_hf   wef_qes  wdi_expedu   wdi_ners         cname     z_hdi  \\\n",
       "31     6.9  2.868712     4.60476  26.492809  Burkina Faso -0.424036   \n",
       "48     7.0  2.449351     7.77500  51.849049   Timor-Leste -0.146485   \n",
       "88     7.2  2.425785     3.20817  31.788179        Guinea -0.403628   \n",
       "26     7.4  3.834710     3.32011  50.828941          Laos -0.175057   \n",
       "71     7.5  4.037596     3.79746  27.239189        Rwanda -0.296145   \n",
       "36     7.8  3.711759     6.02467  73.514938       Jamaica  0.024943   \n",
       "65     7.8  4.644127     1.92566  85.426140     Sri Lanka  0.072562   \n",
       "50     8.0  4.200081     8.42933  44.236969      Zimbabwe -0.277097   \n",
       "47     8.1  3.185532     4.84254  32.942291        Malawi -0.323356   \n",
       "39     9.1  3.933675     3.19216  82.481056        Guyana -0.098866   \n",
       "\n",
       "    z_gle_cgdpc  z_ffp_hf  \n",
       "31    -1.551495  0.283392  \n",
       "48    -1.455985  0.301091  \n",
       "88    -1.562814  0.336489  \n",
       "26    -1.348604  0.371887  \n",
       "71    -1.513326  0.389586  \n",
       "36    -1.155555  0.442684  \n",
       "65    -1.067109  0.442684  \n",
       "50     0.099919  0.478082  \n",
       "47    -1.568962  0.495781  \n",
       "39    -1.446564  0.672772  "
      ]
     },
     "execution_count": 16,
     "metadata": {},
     "output_type": "execute_result"
    }
   ],
   "source": [
    "df_ordenados_ffp_hf.tail(10)"
   ]
  },
  {
   "cell_type": "markdown",
   "metadata": {},
   "source": [
    "## - ¿Qué características tienen en común?\n",
    "* Al contrario de las variables analizadas anteriormente, se puede observar que al ordenar crecientemente el dataframe respecto a la variable gle_cgdpc. Los primeros 10 valores de z (negativos) en su mayoria corresponden a paises de la region europea, en cambio los 10 ultimos z(positivos) pertenecen en su mayoria a paises africanos."
   ]
  },
  {
   "cell_type": "code",
   "execution_count": 17,
   "metadata": {},
   "outputs": [
    {
     "name": "stdout",
     "output_type": "stream",
     "text": [
      "Z_hdi menores: WesternDem     9\n",
      "NorthAfrica    1\n",
      "Name: ht_region, dtype: int64\n"
     ]
    }
   ],
   "source": [
    "print(\"Z_hdi menores:\",df_ordenados_ffp_hf[\"ht_region\"].head(10).value_counts())"
   ]
  },
  {
   "cell_type": "code",
   "execution_count": 18,
   "metadata": {},
   "outputs": [
    {
     "name": "stdout",
     "output_type": "stream",
     "text": [
      "Z_ffp_ph mayores: SubSaharian      5\n",
      "Caribbean        2\n",
      "SouthEastAsia    2\n",
      "SouthAsia        1\n",
      "Name: ht_region, dtype: int64\n"
     ]
    }
   ],
   "source": [
    "print(\"Z_ffp_ph mayores:\",df_ordenados_ffp_hf[\"ht_region\"].tail(10).value_counts())"
   ]
  },
  {
   "cell_type": "markdown",
   "metadata": {},
   "source": [
    "# 4. Estime el puntaje z de las regiones\n",
    "* Para ello, modifique la función para generar dotplots de la semana pasada, donde deberá agregar una opción al argumento statistic para calcular el puntaje z."
   ]
  },
  {
   "cell_type": "code",
   "execution_count": 20,
   "metadata": {},
   "outputs": [
    {
     "data": {
      "image/png": "[encoded data removed]",
      "text/plain": [
       "<Figure size 432x288 with 1 Axes>"
      ]
     },
     "metadata": {
      "needs_background": "light"
     },
     "output_type": "display_data"
    }
   ],
   "source": [
    "df2=df.dropna()\n",
    "df2.head(10)\n",
    "dotplot(df2,\"undp_hdi\",\"ht_region\",False,\"zscore\")"
   ]
  },
  {
   "cell_type": "markdown",
   "metadata": {},
   "source": [
    "# 5. Genere un método que devuelva un gráfico comparando dos curvas de densidad\n",
    "*El método debe contener los siguientes argumentos:\n",
    "    ** df1 : Tabla de datos 1.\n",
    "    ** df2 : Tabla de datos 2.\n",
    "    ** variable : Variable a contrastar.\n",
    "    ** log : Booleano. Si es True transformar la variable al logaritmo. Por defecto debe ser False .\n",
    "Grafique las curvas para imf_pop , gle_cgdpc y undp_hdi . ¿En qué casos es necesario\n",
    "utilizar logaritmos? ¿Por qué?"
   ]
  },
  {
   "cell_type": "code",
   "execution_count": 109,
   "metadata": {},
   "outputs": [],
   "source": [
    "\n",
    "df2=df.sample(frac=0.5, random_state=1612)\n",
    "def multiple_graficos(df1,df2,variable,log=False):\n",
    "    import seaborn as sns\n",
    "    if log == False:\n",
    "        p1=sns.kdeplot(df1[variable].dropna(), shade=True, color=\"r\")\n",
    "        p1=sns.kdeplot(df2[variable].dropna(), shade=True, color=\"b\")\n",
    "    elif log == True:\n",
    "        p1=sns.kdeplot(np.log(df1[variable].dropna()), shade=True, color=\"r\")\n",
    "        p1=sns.kdeplot(np.log(df2[variable].dropna()), shade=True, color=\"b\")\n",
    "    return p1\n",
    "\n"
   ]
  },
  {
   "cell_type": "markdown",
   "metadata": {},
   "source": [
    "# Para todo el análisis la curva en <font color=\"red\">rojo</font> representará el total de datos y la curva <font color=\"blue\">azul</font> el df frac=0.5"
   ]
  },
  {
   "cell_type": "markdown",
   "metadata": {},
   "source": [
    "## 5.1 Variable \"undp_hdi\""
   ]
  },
  {
   "cell_type": "code",
   "execution_count": 111,
   "metadata": {},
   "outputs": [
    {
     "data": {
      "text/plain": [
       "<matplotlib.axes._subplots.AxesSubplot at 0x2be7478a748>"
      ]
     },
     "execution_count": 111,
     "metadata": {},
     "output_type": "execute_result"
    },
    {
     "data": {
      "image/png": "[encoded data removed]",
      "text/plain": [
       "<Figure size 432x288 with 1 Axes>"
      ]
     },
     "metadata": {
      "needs_background": "light"
     },
     "output_type": "display_data"
    }
   ],
   "source": [
    "multiple_graficos(df,df2,\"undp_hdi\",False)"
   ]
  },
  {
   "cell_type": "markdown",
   "metadata": {},
   "source": [
    "## 5.2 Variable \"imf_pop\""
   ]
  },
  {
   "cell_type": "code",
   "execution_count": 113,
   "metadata": {},
   "outputs": [
    {
     "data": {
      "text/plain": [
       "<matplotlib.axes._subplots.AxesSubplot at 0x2be72753b70>"
      ]
     },
     "execution_count": 113,
     "metadata": {},
     "output_type": "execute_result"
    },
    {
     "data": {
      "image/png": "[encoded data removed]",
      "text/plain": [
       "<Figure size 432x288 with 1 Axes>"
      ]
     },
     "metadata": {
      "needs_background": "light"
     },
     "output_type": "display_data"
    }
   ],
   "source": [
    "multiple_graficos(df,df2,\"imf_pop\",False)"
   ]
  },
  {
   "cell_type": "markdown",
   "metadata": {},
   "source": [
    "## 5.3 Variable \"gle_cgdpc\""
   ]
  },
  {
   "cell_type": "code",
   "execution_count": 108,
   "metadata": {},
   "outputs": [
    {
     "data": {
      "text/plain": [
       "<matplotlib.axes._subplots.AxesSubplot at 0x2be74653c50>"
      ]
     },
     "execution_count": 108,
     "metadata": {},
     "output_type": "execute_result"
    },
    {
     "data": {
      "image/png": "[encoded data removed]",
      "text/plain": [
       "<Figure size 432x288 with 1 Axes>"
      ]
     },
     "metadata": {
      "needs_background": "light"
     },
     "output_type": "display_data"
    }
   ],
   "source": [
    "multiple_graficos(df,df2,\"gle_cgdpc\",False)"
   ]
  },
  {
   "cell_type": "markdown",
   "metadata": {},
   "source": [
    "### Para los casos visto anteriormente los máximos de la distribucion al dataframe completo aumenta excepto para imf_pop , respecto al promedio no se observa una variacion a considerar para ninguno de los casos anteriores."
   ]
  },
  {
   "cell_type": "markdown",
   "metadata": {},
   "source": [
    "## 5.4 ¿En qué casos es necesario utilizar logaritmos? ¿Por qué?"
   ]
  },
  {
   "cell_type": "markdown",
   "metadata": {},
   "source": [
    "### Para asegurarnos de utilizar logaritmo en las distribuciones anteriores, se considera observar la frecuencia desde un histograma las tres variables estudiadas, ya que es una manera sencilla de inspeccionar este comportamiento."
   ]
  },
  {
   "cell_type": "code",
   "execution_count": 67,
   "metadata": {},
   "outputs": [
    {
     "data": {
      "text/plain": [
       "Text(0.5, 1.0, 'Variable undp_hdi')"
      ]
     },
     "execution_count": 67,
     "metadata": {},
     "output_type": "execute_result"
    },
    {
     "data": {
      "image/png": "[encoded data removed]",
      "text/plain": [
       "<Figure size 432x288 with 1 Axes>"
      ]
     },
     "metadata": {
      "needs_background": "light"
     },
     "output_type": "display_data"
    }
   ],
   "source": [
    "plt.hist(df[\"undp_hdi\"])\n",
    "plt.title(\"Variable undp_hdi\")"
   ]
  },
  {
   "cell_type": "code",
   "execution_count": 104,
   "metadata": {},
   "outputs": [
    {
     "data": {
      "text/plain": [
       "Text(0.5, 0.98, 'Variable imf_pop con Comportamiento Logarítmico a Distribucion Normal')"
      ]
     },
     "execution_count": 104,
     "metadata": {},
     "output_type": "execute_result"
    },
    {
     "data": {
      "image/png": "[encoded data removed]",
      "text/plain": [
       "<Figure size 648x216 with 2 Axes>"
      ]
     },
     "metadata": {
      "needs_background": "light"
     },
     "output_type": "display_data"
    }
   ],
   "source": [
    "fig, axs = plt.subplots(1, 2, figsize=(9, 3), sharey=True)\n",
    "axs[0].hist(df[\"imf_pop\"])\n",
    "axs[1].hist(np.log(df[\"imf_pop\"]))\n",
    "fig.suptitle('Variable imf_pop con Comportamiento Logarítmico a Distribucion Normal')"
   ]
  },
  {
   "cell_type": "code",
   "execution_count": 103,
   "metadata": {},
   "outputs": [
    {
     "data": {
      "text/plain": [
       "Text(0.5, 0.98, 'Variable imf_pop con Comportamiento Logarítmico a Distribucion Normal')"
      ]
     },
     "execution_count": 103,
     "metadata": {},
     "output_type": "execute_result"
    },
    {
     "data": {
      "image/png": "[encoded data removed]",
      "text/plain": [
       "<Figure size 648x216 with 2 Axes>"
      ]
     },
     "metadata": {
      "needs_background": "light"
     },
     "output_type": "display_data"
    }
   ],
   "source": [
    "fig, axs = plt.subplots(1, 2, figsize=(9, 3), sharey=True)\n",
    "axs[0].hist(df[\"gle_cgdpc\"])\n",
    "axs[1].hist(np.log(df[\"gle_cgdpc\"]))\n",
    "fig.suptitle('Variable imf_pop con Comportamiento Logarítmico a Distribucion Normal')"
   ]
  },
  {
   "cell_type": "markdown",
   "metadata": {},
   "source": [
    "# Resultados"
   ]
  },
  {
   "cell_type": "markdown",
   "metadata": {},
   "source": [
    "### Básicamente el comportamiento asintótico de los graficos de la izquierda de las variables <font color=\"red\">imf_pop </font> y <font color=\"red\">gle_cgdpc</font>, sugiere una relación logarítmica, puede considerarse este cambio a una distribución normal para un posible estudio donde se puede conseguir una mayor cantidad de inferencias que desde un grafico logarítmico. \n",
    "### Forzando el booleando log a True en la función creada único_graficos() podemos considerar esta idea en un futuro estudio de las variables."
   ]
  },
  {
   "cell_type": "code",
   "execution_count": 125,
   "metadata": {},
   "outputs": [
    {
     "data": {
      "text/plain": [
       "<matplotlib.axes._subplots.AxesSubplot at 0x2be74d2a358>"
      ]
     },
     "execution_count": 125,
     "metadata": {},
     "output_type": "execute_result"
    },
    {
     "data": {
      "image/png": "[encoded data removed]",
      "text/plain": [
       "<Figure size 432x288 with 1 Axes>"
      ]
     },
     "metadata": {
      "needs_background": "light"
     },
     "output_type": "display_data"
    }
   ],
   "source": [
    "def unico_graficos(df1,variable,log=False):\n",
    "    import seaborn as sns\n",
    "    if log == False:\n",
    "        p1=sns.kdeplot(df1[variable].dropna(), shade=True, color=\"r\")\n",
    "    elif log == True:\n",
    "        p1=sns.kdeplot(np.log(df1[variable].dropna()), shade=True, color=\"blue\")\n",
    "    return p1\n",
    "unico_graficos(df,\"imf_pop\",True)"
   ]
  },
  {
   "cell_type": "code",
   "execution_count": 124,
   "metadata": {},
   "outputs": [
    {
     "data": {
      "text/plain": [
       "<matplotlib.axes._subplots.AxesSubplot at 0x2be74cdfda0>"
      ]
     },
     "execution_count": 124,
     "metadata": {},
     "output_type": "execute_result"
    },
    {
     "data": {
      "image/png": "[encoded data removed]",
      "text/plain": [
       "<Figure size 432x288 with 1 Axes>"
      ]
     },
     "metadata": {
      "needs_background": "light"
     },
     "output_type": "display_data"
    }
   ],
   "source": [
    "unico_graficos(df,\"gle_cgdpc\",True)"
   ]
  }
 ],
 "metadata": {
  "kernelspec": {
   "display_name": "Python 3",
   "language": "python",
   "name": "python3"
  },
  "language_info": {
   "codemirror_mode": {
    "name": "ipython",
    "version": 3
   },
   "file_extension": ".py",
   "mimetype": "text/x-python",
   "name": "python",
   "nbconvert_exporter": "python",
   "pygments_lexer": "ipython3",
   "version": "3.7.3"
  }
 },
 "nbformat": 4,
 "nbformat_minor": 4
}
