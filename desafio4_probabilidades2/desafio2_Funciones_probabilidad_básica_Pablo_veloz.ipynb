{
 "cells": [
  {
   "cell_type": "markdown",
   "metadata": {},
   "source": [
    "# Autor: Pablo Veloz"
   ]
  },
  {
   "cell_type": "code",
   "execution_count": 1,
   "metadata": {},
   "outputs": [],
   "source": [
    "import pandas as pd\n",
    "import numpy as np"
   ]
  },
  {
   "cell_type": "code",
   "execution_count": 89,
   "metadata": {},
   "outputs": [
    {
     "data": {
      "text/html": [
       "<div>\n",
       "<style scoped>\n",
       "    .dataframe tbody tr th:only-of-type {\n",
       "        vertical-align: middle;\n",
       "    }\n",
       "\n",
       "    .dataframe tbody tr th {\n",
       "        vertical-align: top;\n",
       "    }\n",
       "\n",
       "    .dataframe thead th {\n",
       "        text-align: right;\n",
       "    }\n",
       "</style>\n",
       "<table border=\"1\" class=\"dataframe\">\n",
       "  <thead>\n",
       "    <tr style=\"text-align: right;\">\n",
       "      <th></th>\n",
       "      <th>team</th>\n",
       "      <th>continent</th>\n",
       "      <th>group</th>\n",
       "      <th>group_pos</th>\n",
       "      <th>cantidad_juegos</th>\n",
       "      <th>juegos_ganados</th>\n",
       "      <th>juegos_empatados</th>\n",
       "      <th>juegos_perdidos</th>\n",
       "      <th>goles_favor</th>\n",
       "      <th>goles_contra</th>\n",
       "      <th>goles_diferencia</th>\n",
       "      <th>puntos</th>\n",
       "      <th>clasificado</th>\n",
       "    </tr>\n",
       "  </thead>\n",
       "  <tbody>\n",
       "    <tr>\n",
       "      <th>0</th>\n",
       "      <td>Brazil</td>\n",
       "      <td>southamerica</td>\n",
       "      <td>A</td>\n",
       "      <td>1</td>\n",
       "      <td>3</td>\n",
       "      <td>2</td>\n",
       "      <td>1</td>\n",
       "      <td>0</td>\n",
       "      <td>7</td>\n",
       "      <td>2</td>\n",
       "      <td>5</td>\n",
       "      <td>7</td>\n",
       "      <td>1</td>\n",
       "    </tr>\n",
       "    <tr>\n",
       "      <th>1</th>\n",
       "      <td>Mexico</td>\n",
       "      <td>northamerica</td>\n",
       "      <td>A</td>\n",
       "      <td>2</td>\n",
       "      <td>3</td>\n",
       "      <td>2</td>\n",
       "      <td>1</td>\n",
       "      <td>0</td>\n",
       "      <td>4</td>\n",
       "      <td>1</td>\n",
       "      <td>3</td>\n",
       "      <td>7</td>\n",
       "      <td>1</td>\n",
       "    </tr>\n",
       "    <tr>\n",
       "      <th>2</th>\n",
       "      <td>Croatia</td>\n",
       "      <td>europe</td>\n",
       "      <td>A</td>\n",
       "      <td>3</td>\n",
       "      <td>3</td>\n",
       "      <td>1</td>\n",
       "      <td>0</td>\n",
       "      <td>2</td>\n",
       "      <td>6</td>\n",
       "      <td>6</td>\n",
       "      <td>0</td>\n",
       "      <td>3</td>\n",
       "      <td>0</td>\n",
       "    </tr>\n",
       "    <tr>\n",
       "      <th>3</th>\n",
       "      <td>Cameroon</td>\n",
       "      <td>africa</td>\n",
       "      <td>A</td>\n",
       "      <td>4</td>\n",
       "      <td>3</td>\n",
       "      <td>0</td>\n",
       "      <td>0</td>\n",
       "      <td>3</td>\n",
       "      <td>1</td>\n",
       "      <td>9</td>\n",
       "      <td>−8</td>\n",
       "      <td>0</td>\n",
       "      <td>0</td>\n",
       "    </tr>\n",
       "    <tr>\n",
       "      <th>4</th>\n",
       "      <td>Netherlands</td>\n",
       "      <td>europe</td>\n",
       "      <td>B</td>\n",
       "      <td>1</td>\n",
       "      <td>3</td>\n",
       "      <td>3</td>\n",
       "      <td>0</td>\n",
       "      <td>0</td>\n",
       "      <td>10</td>\n",
       "      <td>3</td>\n",
       "      <td>7</td>\n",
       "      <td>9</td>\n",
       "      <td>1</td>\n",
       "    </tr>\n",
       "  </tbody>\n",
       "</table>\n",
       "</div>"
      ],
      "text/plain": [
       "          team     continent group  group_pos  cantidad_juegos  \\\n",
       "0       Brazil  southamerica     A          1                3   \n",
       "1       Mexico  northamerica     A          2                3   \n",
       "2      Croatia        europe     A          3                3   \n",
       "3     Cameroon        africa     A          4                3   \n",
       "4  Netherlands        europe     B          1                3   \n",
       "\n",
       "   juegos_ganados  juegos_empatados  juegos_perdidos  goles_favor  \\\n",
       "0               2                 1                0            7   \n",
       "1               2                 1                0            4   \n",
       "2               1                 0                2            6   \n",
       "3               0                 0                3            1   \n",
       "4               3                 0                0           10   \n",
       "\n",
       "   goles_contra goles_diferencia  puntos  clasificado  \n",
       "0             2                5       7            1  \n",
       "1             1                3       7            1  \n",
       "2             6                0       3            0  \n",
       "3             9               −8       0            0  \n",
       "4             3                7       9            1  "
      ]
     },
     "execution_count": 89,
     "metadata": {},
     "output_type": "execute_result"
    }
   ],
   "source": [
    "df = pd.read_csv(\"worldcup2014.csv\")\n",
    "df.head()"
   ]
  },
  {
   "cell_type": "markdown",
   "metadata": {},
   "source": [
    "# Desafío 1\n",
    "* Genere funciones para calcular la media y varianza de un vector. \n",
    "Debe cumplir con los siguientes requistos:\n",
    "* Ambas funciones deben ingresar un argumento x .\n",
    "* Las funciones deben contener docstrings con la documentación asociada a la variable.\n",
    "* Deben retornar el resultado (tip: utilice return )."
   ]
  },
  {
   "cell_type": "code",
   "execution_count": 72,
   "metadata": {},
   "outputs": [],
   "source": [
    "def media(x):\n",
    "    \"\"\"\n",
    "    -Esta funcion calcula el promedio de un vector \n",
    "    -Su argumento exige un vector pd.Series\n",
    "    -Retorna el promedio de un pd.Series\n",
    "    \"\"\"\n",
    "    if isinstance(x,pd.Series) is True:\n",
    "        if x.dtype!=\"object\":\n",
    "            x= x.dropna()\n",
    "            tmp_prom= np.mean(x)\n",
    "            return tmp_prom\n",
    "        else:\n",
    "            raise TypeError(\"la serie no contiene datos de tipo numerico\")\n",
    "    else:\n",
    "        raise TypeError(\"El dato ingresado no es una serie\")"
   ]
  },
  {
   "cell_type": "code",
   "execution_count": 73,
   "metadata": {},
   "outputs": [],
   "source": [
    "def varianza(x):\n",
    "    \"\"\"\n",
    "    -Esta funcion calcula la varianza de un vector \n",
    "    -Su argumento exige un vector pd.Series\n",
    "    -Retorna la varianza de un vector pd.Series\n",
    "    \"\"\"\n",
    "    if isinstance(x,pd.Series) is True:\n",
    "        if x.dtype!=\"object\":\n",
    "            x= x.dropna()\n",
    "            tmp_prom= funcion_media(x)\n",
    "            var_1=0\n",
    "            tmp_var=0\n",
    "            for columna,serie in x.iteritems():\n",
    "                var_1+=(tmp_prom-serie)**2\n",
    "                tmp_var=var_1/(len(x)-1)\n",
    "            return tmp_var\n",
    "        else:\n",
    "            raise TypeError(\"la serie no contiene datos de tipo numerico\")\n",
    "    else:\n",
    "        raise TypeError(\"El dato ingresado no es una serie\")"
   ]
  },
  {
   "cell_type": "markdown",
   "metadata": {},
   "source": [
    "# -Estadísticas-\n",
    "* La función de la varianza debe llamar a la función de la media.\n",
    "* Utilice las funciones para reportar la información sobre goles_favor , goles_contra ,puntos."
   ]
  },
  {
   "cell_type": "code",
   "execution_count": 74,
   "metadata": {},
   "outputs": [
    {
     "name": "stdout",
     "output_type": "stream",
     "text": [
      " -Goles a favor-\n",
      " Promedio es: 4.25 y la Varianza es: 5.354838709677419\n"
     ]
    }
   ],
   "source": [
    "print(\" -Goles a favor-\")\n",
    "print(\" Promedio es: {} y la Varianza es: {}\".format(media(df[\"goles_favor\"]),varianza(df[\"goles_favor\"])))"
   ]
  },
  {
   "cell_type": "code",
   "execution_count": 75,
   "metadata": {},
   "outputs": [
    {
     "name": "stdout",
     "output_type": "stream",
     "text": [
      " -Goles en contra-\n",
      " Promedio es: 4.25 y la Varianza es: 4.967741935483871\n"
     ]
    }
   ],
   "source": [
    "print(\" -Goles en contra-\")\n",
    "print(\" Promedio es: {} y la Varianza es: {}\".format(media(df[\"goles_contra\"]),varianza(df[\"goles_contra\"])))"
   ]
  },
  {
   "cell_type": "code",
   "execution_count": 76,
   "metadata": {},
   "outputs": [
    {
     "name": "stdout",
     "output_type": "stream",
     "text": [
      " -Puntos-\n",
      " Promedio es: 4.21875 y la Varianza es: 8.305443548387096\n"
     ]
    }
   ],
   "source": [
    "print(\" -Puntos-\")\n",
    "print(\" Promedio es: {} y la Varianza es: {}\".format(media(df[\"puntos\"]),varianza(df[\"puntos\"])))"
   ]
  },
  {
   "cell_type": "markdown",
   "metadata": {},
   "source": [
    "# Desafío 2"
   ]
  },
  {
   "cell_type": "markdown",
   "metadata": {},
   "source": [
    "* A continuación se presenta el siguiente código para obtener la media y varianza de una variable para distintos continentes"
   ]
  },
  {
   "cell_type": "code",
   "execution_count": 86,
   "metadata": {},
   "outputs": [
    {
     "data": {
      "text/html": [
       "<div>\n",
       "<style scoped>\n",
       "    .dataframe tbody tr th:only-of-type {\n",
       "        vertical-align: middle;\n",
       "    }\n",
       "\n",
       "    .dataframe tbody tr th {\n",
       "        vertical-align: top;\n",
       "    }\n",
       "\n",
       "    .dataframe thead th {\n",
       "        text-align: right;\n",
       "    }\n",
       "</style>\n",
       "<table border=\"1\" class=\"dataframe\">\n",
       "  <thead>\n",
       "    <tr style=\"text-align: right;\">\n",
       "      <th></th>\n",
       "      <th>continente</th>\n",
       "      <th>media_goles</th>\n",
       "      <th>std_goles</th>\n",
       "    </tr>\n",
       "  </thead>\n",
       "  <tbody>\n",
       "    <tr>\n",
       "      <th>0</th>\n",
       "      <td>africa</td>\n",
       "      <td>3.600000</td>\n",
       "      <td>3.300000</td>\n",
       "    </tr>\n",
       "    <tr>\n",
       "      <th>1</th>\n",
       "      <td>europe</td>\n",
       "      <td>4.769231</td>\n",
       "      <td>6.858974</td>\n",
       "    </tr>\n",
       "    <tr>\n",
       "      <th>2</th>\n",
       "      <td>asia</td>\n",
       "      <td>2.250000</td>\n",
       "      <td>0.916667</td>\n",
       "    </tr>\n",
       "    <tr>\n",
       "      <th>3</th>\n",
       "      <td>northamerica</td>\n",
       "      <td>3.250000</td>\n",
       "      <td>2.250000</td>\n",
       "    </tr>\n",
       "    <tr>\n",
       "      <th>4</th>\n",
       "      <td>southamerica</td>\n",
       "      <td>5.666667</td>\n",
       "      <td>4.666667</td>\n",
       "    </tr>\n",
       "  </tbody>\n",
       "</table>\n",
       "</div>"
      ],
      "text/plain": [
       "     continente  media_goles  std_goles\n",
       "0        africa     3.600000   3.300000\n",
       "1        europe     4.769231   6.858974\n",
       "2          asia     2.250000   0.916667\n",
       "3  northamerica     3.250000   2.250000\n",
       "4  southamerica     5.666667   4.666667"
      ]
     },
     "execution_count": 86,
     "metadata": {},
     "output_type": "execute_result"
    }
   ],
   "source": [
    "continent = []\n",
    "store_mean = []\n",
    "store_std = []\n",
    "africa_df=df[df[\"continent\"]==\"africa\"]\n",
    "europe_df=df[df[\"continent\"]==\"europe\"]\n",
    "asia_df=df[df[\"continent\"]==\"asia\"]\n",
    "northamerica_df=df[df[\"continent\"]==\"northamerica\"]\n",
    "southamerica_df=df[df[\"continent\"]==\"southamerica\"]\n",
    "for d in [africa_df, europe_df, asia_df, northamerica_df, southamerica_df]:\n",
    "    continent.append(d.iloc[0,1])\n",
    "    store_mean.append(media(d['goles_favor']))\n",
    "    store_std.append(varianza(d['goles_favor']))\n",
    "    tmp = pd.DataFrame({'continente': continent,'media_goles': store_mean,'std_goles': store_std})\n",
    "tmp"
   ]
  },
  {
   "cell_type": "markdown",
   "metadata": {},
   "source": [
    "* En base a la información disponible, genere una función con los argumentos group_by y var para ingresar una lista de submuestras y una variable a analizar, respectivamente.\n",
    "* La función debe retornar un DataFrame .\n",
    "* Implemente la función para extraer la información sobre la cantidad de goles a favor, en contra y la cantidad de puntos."
   ]
  },
  {
   "cell_type": "code",
   "execution_count": 218,
   "metadata": {},
   "outputs": [],
   "source": [
    "def data_datos(group_by,var):\n",
    "    continent = []\n",
    "    store_mean = []\n",
    "    store_std = []\n",
    "    f=[]\n",
    "    for i in group_by:\n",
    "        #print(i)\n",
    "        continent.append(i.iloc[0,1])\n",
    "        f.append(i[str(var)].sum())\n",
    "        store_mean.append(media(i[str(var)]))\n",
    "        store_std.append(varianza(i[str(var)]))\n",
    "        tmp = pd.DataFrame({'continente': continent,'frecuencia':f,'media_'+str(var): store_mean,'std_'+str(var): store_std})\n",
    "    return tmp\n",
    "        #media(df.groupby([i]))"
   ]
  },
  {
   "cell_type": "markdown",
   "metadata": {},
   "source": [
    "# goles a favor por Contiente"
   ]
  },
  {
   "cell_type": "code",
   "execution_count": 219,
   "metadata": {},
   "outputs": [
    {
     "data": {
      "text/html": [
       "<div>\n",
       "<style scoped>\n",
       "    .dataframe tbody tr th:only-of-type {\n",
       "        vertical-align: middle;\n",
       "    }\n",
       "\n",
       "    .dataframe tbody tr th {\n",
       "        vertical-align: top;\n",
       "    }\n",
       "\n",
       "    .dataframe thead th {\n",
       "        text-align: right;\n",
       "    }\n",
       "</style>\n",
       "<table border=\"1\" class=\"dataframe\">\n",
       "  <thead>\n",
       "    <tr style=\"text-align: right;\">\n",
       "      <th></th>\n",
       "      <th>continente</th>\n",
       "      <th>frecuencia</th>\n",
       "      <th>media_goles_favor</th>\n",
       "      <th>std_goles_favor</th>\n",
       "    </tr>\n",
       "  </thead>\n",
       "  <tbody>\n",
       "    <tr>\n",
       "      <th>0</th>\n",
       "      <td>africa</td>\n",
       "      <td>18</td>\n",
       "      <td>3.600000</td>\n",
       "      <td>3.300000</td>\n",
       "    </tr>\n",
       "    <tr>\n",
       "      <th>1</th>\n",
       "      <td>europe</td>\n",
       "      <td>62</td>\n",
       "      <td>4.769231</td>\n",
       "      <td>6.858974</td>\n",
       "    </tr>\n",
       "    <tr>\n",
       "      <th>2</th>\n",
       "      <td>asia</td>\n",
       "      <td>9</td>\n",
       "      <td>2.250000</td>\n",
       "      <td>0.916667</td>\n",
       "    </tr>\n",
       "    <tr>\n",
       "      <th>3</th>\n",
       "      <td>northamerica</td>\n",
       "      <td>13</td>\n",
       "      <td>3.250000</td>\n",
       "      <td>2.250000</td>\n",
       "    </tr>\n",
       "    <tr>\n",
       "      <th>4</th>\n",
       "      <td>southamerica</td>\n",
       "      <td>34</td>\n",
       "      <td>5.666667</td>\n",
       "      <td>4.666667</td>\n",
       "    </tr>\n",
       "  </tbody>\n",
       "</table>\n",
       "</div>"
      ],
      "text/plain": [
       "     continente  frecuencia  media_goles_favor  std_goles_favor\n",
       "0        africa          18           3.600000         3.300000\n",
       "1        europe          62           4.769231         6.858974\n",
       "2          asia           9           2.250000         0.916667\n",
       "3  northamerica          13           3.250000         2.250000\n",
       "4  southamerica          34           5.666667         4.666667"
      ]
     },
     "execution_count": 219,
     "metadata": {},
     "output_type": "execute_result"
    }
   ],
   "source": [
    "data_datos([africa_df, europe_df, asia_df, northamerica_df, southamerica_df],'goles_favor')"
   ]
  },
  {
   "cell_type": "markdown",
   "metadata": {},
   "source": [
    "# goles en contra por Continente"
   ]
  },
  {
   "cell_type": "code",
   "execution_count": 220,
   "metadata": {
    "scrolled": true
   },
   "outputs": [
    {
     "data": {
      "text/html": [
       "<div>\n",
       "<style scoped>\n",
       "    .dataframe tbody tr th:only-of-type {\n",
       "        vertical-align: middle;\n",
       "    }\n",
       "\n",
       "    .dataframe tbody tr th {\n",
       "        vertical-align: top;\n",
       "    }\n",
       "\n",
       "    .dataframe thead th {\n",
       "        text-align: right;\n",
       "    }\n",
       "</style>\n",
       "<table border=\"1\" class=\"dataframe\">\n",
       "  <thead>\n",
       "    <tr style=\"text-align: right;\">\n",
       "      <th></th>\n",
       "      <th>continente</th>\n",
       "      <th>frecuencia</th>\n",
       "      <th>media_goles_contra</th>\n",
       "      <th>std_goles_contra</th>\n",
       "    </tr>\n",
       "  </thead>\n",
       "  <tbody>\n",
       "    <tr>\n",
       "      <th>0</th>\n",
       "      <td>africa</td>\n",
       "      <td>28</td>\n",
       "      <td>5.600000</td>\n",
       "      <td>4.800000</td>\n",
       "    </tr>\n",
       "    <tr>\n",
       "      <th>1</th>\n",
       "      <td>europe</td>\n",
       "      <td>52</td>\n",
       "      <td>4.000000</td>\n",
       "      <td>3.833333</td>\n",
       "    </tr>\n",
       "    <tr>\n",
       "      <th>2</th>\n",
       "      <td>asia</td>\n",
       "      <td>25</td>\n",
       "      <td>6.250000</td>\n",
       "      <td>4.250000</td>\n",
       "    </tr>\n",
       "    <tr>\n",
       "      <th>3</th>\n",
       "      <td>northamerica</td>\n",
       "      <td>14</td>\n",
       "      <td>3.500000</td>\n",
       "      <td>11.000000</td>\n",
       "    </tr>\n",
       "    <tr>\n",
       "      <th>4</th>\n",
       "      <td>southamerica</td>\n",
       "      <td>17</td>\n",
       "      <td>2.833333</td>\n",
       "      <td>0.566667</td>\n",
       "    </tr>\n",
       "  </tbody>\n",
       "</table>\n",
       "</div>"
      ],
      "text/plain": [
       "     continente  frecuencia  media_goles_contra  std_goles_contra\n",
       "0        africa          28            5.600000          4.800000\n",
       "1        europe          52            4.000000          3.833333\n",
       "2          asia          25            6.250000          4.250000\n",
       "3  northamerica          14            3.500000         11.000000\n",
       "4  southamerica          17            2.833333          0.566667"
      ]
     },
     "execution_count": 220,
     "metadata": {},
     "output_type": "execute_result"
    }
   ],
   "source": [
    "data_datos([africa_df, europe_df, asia_df, northamerica_df, southamerica_df],'goles_contra')"
   ]
  },
  {
   "cell_type": "markdown",
   "metadata": {},
   "source": [
    "# Puntos por Continente"
   ]
  },
  {
   "cell_type": "code",
   "execution_count": 221,
   "metadata": {},
   "outputs": [
    {
     "data": {
      "text/html": [
       "<div>\n",
       "<style scoped>\n",
       "    .dataframe tbody tr th:only-of-type {\n",
       "        vertical-align: middle;\n",
       "    }\n",
       "\n",
       "    .dataframe tbody tr th {\n",
       "        vertical-align: top;\n",
       "    }\n",
       "\n",
       "    .dataframe thead th {\n",
       "        text-align: right;\n",
       "    }\n",
       "</style>\n",
       "<table border=\"1\" class=\"dataframe\">\n",
       "  <thead>\n",
       "    <tr style=\"text-align: right;\">\n",
       "      <th></th>\n",
       "      <th>continente</th>\n",
       "      <th>frecuencia</th>\n",
       "      <th>media_puntos</th>\n",
       "      <th>std_puntos</th>\n",
       "    </tr>\n",
       "  </thead>\n",
       "  <tbody>\n",
       "    <tr>\n",
       "      <th>0</th>\n",
       "      <td>africa</td>\n",
       "      <td>12</td>\n",
       "      <td>2.400000</td>\n",
       "      <td>3.300000</td>\n",
       "    </tr>\n",
       "    <tr>\n",
       "      <th>1</th>\n",
       "      <td>europe</td>\n",
       "      <td>61</td>\n",
       "      <td>4.692308</td>\n",
       "      <td>6.897436</td>\n",
       "    </tr>\n",
       "    <tr>\n",
       "      <th>2</th>\n",
       "      <td>asia</td>\n",
       "      <td>3</td>\n",
       "      <td>0.750000</td>\n",
       "      <td>0.250000</td>\n",
       "    </tr>\n",
       "    <tr>\n",
       "      <th>3</th>\n",
       "      <td>northamerica</td>\n",
       "      <td>18</td>\n",
       "      <td>4.500000</td>\n",
       "      <td>11.000000</td>\n",
       "    </tr>\n",
       "    <tr>\n",
       "      <th>4</th>\n",
       "      <td>southamerica</td>\n",
       "      <td>41</td>\n",
       "      <td>6.833333</td>\n",
       "      <td>3.766667</td>\n",
       "    </tr>\n",
       "  </tbody>\n",
       "</table>\n",
       "</div>"
      ],
      "text/plain": [
       "     continente  frecuencia  media_puntos  std_puntos\n",
       "0        africa          12      2.400000    3.300000\n",
       "1        europe          61      4.692308    6.897436\n",
       "2          asia           3      0.750000    0.250000\n",
       "3  northamerica          18      4.500000   11.000000\n",
       "4  southamerica          41      6.833333    3.766667"
      ]
     },
     "execution_count": 221,
     "metadata": {},
     "output_type": "execute_result"
    }
   ],
   "source": [
    "data_datos([africa_df, europe_df, asia_df, northamerica_df, southamerica_df],'puntos')"
   ]
  },
  {
   "cell_type": "markdown",
   "metadata": {},
   "source": [
    "* Reporte en qué continente se encuentra la mayor cantidad de goles a favor, en contra y cantidad de puntos."
   ]
  },
  {
   "cell_type": "markdown",
   "metadata": {},
   "source": [
    "* El continente con la mayor cantidad de goles a favor es: SouthAmerica\n",
    "* El continente con la mayor cantidad de goles en contra es: Asia\n",
    "* El continente con la mayor cantidad de Puntos es : SouthAmerica"
   ]
  },
  {
   "cell_type": "markdown",
   "metadata": {},
   "source": [
    "# Desafío 3: Simulaciones"
   ]
  },
  {
   "cell_type": "markdown",
   "metadata": {},
   "source": [
    "* Genere una función generate_pet que devuelva de forma aleatoria un string 'perro' o 'gato' . Ejecútela un par de veces.\n",
    "* tip: Puede utilizar la función np.random.choice para retornar elementos al azar."
   ]
  },
  {
   "cell_type": "code",
   "execution_count": 273,
   "metadata": {},
   "outputs": [],
   "source": [
    "def generate_pet():\n",
    "    lista=[\"perro\",\"gato\"]\n",
    "    a=np.random.choice(lista)\n",
    "    return a"
   ]
  },
  {
   "cell_type": "markdown",
   "metadata": {},
   "source": [
    "* Aplique la función generate_pet 20 veces mediante un loop y guarde los resultados en una lista."
   ]
  },
  {
   "cell_type": "code",
   "execution_count": 274,
   "metadata": {},
   "outputs": [
    {
     "name": "stdout",
     "output_type": "stream",
     "text": [
      "['gato', 'perro', 'perro', 'gato', 'gato', 'gato', 'gato', 'gato', 'gato', 'gato', 'gato', 'gato', 'perro', 'perro', 'perro', 'perro', 'perro', 'gato', 'gato', 'gato', 'perro']\n"
     ]
    }
   ],
   "source": [
    "lista=[]\n",
    "for i in range(21):\n",
    "    lista.append(generate_pet())\n",
    "print(lista)"
   ]
  },
  {
   "cell_type": "markdown",
   "metadata": {},
   "source": [
    "* ¿Cuál es la probabilidad de elegir un perro al azar? ¿Y un gato?"
   ]
  },
  {
   "cell_type": "code",
   "execution_count": 275,
   "metadata": {},
   "outputs": [],
   "source": [
    "def prob_gato_perro(listado):\n",
    "    cont_p=0\n",
    "    prob_p=0\n",
    "    cont_g=0\n",
    "    prob_g=0\n",
    "    for i in listado:\n",
    "        if i==\"perro\":\n",
    "            cont_p+=1\n",
    "            prob_p=cont_p/len(listado)\n",
    "        elif i==\"gato\":\n",
    "            cont_g+=1\n",
    "            prob_g=cont_g/len(listado)\n",
    "    return prob_p,prob_g"
   ]
  },
  {
   "cell_type": "code",
   "execution_count": 276,
   "metadata": {
    "scrolled": true
   },
   "outputs": [
    {
     "name": "stdout",
     "output_type": "stream",
     "text": [
      "La probabilidad que sea perro es: 38.095238095238095% y que sea gato es: 61.904761904761905%\n"
     ]
    }
   ],
   "source": [
    "prob_perro,prob_gato = prob_gato_perro(lista)\n",
    "print(\"La probabilidad que sea perro es: {}% y que sea gato es: {}%\".format(100*prob_perro,100*prob_gato))"
   ]
  },
  {
   "cell_type": "markdown",
   "metadata": {},
   "source": [
    "* Agrege np.random.seed(2) al inicio del chunk. ¿Qué hace éste método en la simulación?"
   ]
  },
  {
   "cell_type": "code",
   "execution_count": 296,
   "metadata": {},
   "outputs": [
    {
     "data": {
      "text/plain": [
       "'gato'"
      ]
     },
     "execution_count": 296,
     "metadata": {},
     "output_type": "execute_result"
    }
   ],
   "source": [
    "def generate_pet():\n",
    "    lista=[\"perro\",\"gato\"]\n",
    "    np.random.seed(2)\n",
    "    a=np.random.choice(lista)\n",
    "    return a\n",
    "generate_pet()"
   ]
  },
  {
   "cell_type": "code",
   "execution_count": 299,
   "metadata": {},
   "outputs": [
    {
     "name": "stdout",
     "output_type": "stream",
     "text": [
      "['gato', 'gato', 'gato', 'gato', 'gato', 'gato', 'gato', 'gato', 'gato', 'gato', 'gato', 'gato', 'gato', 'gato', 'gato', 'gato', 'gato', 'gato', 'gato', 'gato']\n"
     ]
    }
   ],
   "source": [
    "lista2=[]\n",
    "for i in range(20):\n",
    "    lista2.append(generate_pet())\n",
    "print(lista2)"
   ]
  },
  {
   "cell_type": "code",
   "execution_count": 300,
   "metadata": {},
   "outputs": [
    {
     "name": "stdout",
     "output_type": "stream",
     "text": [
      "['gato', 'gato', 'gato', 'gato', 'gato', 'gato', 'gato', 'gato', 'gato', 'gato', 'gato', 'gato', 'gato', 'gato', 'gato', 'gato', 'gato', 'gato', 'gato', 'gato']\n"
     ]
    }
   ],
   "source": [
    "lista2=[]\n",
    "for i in range(20):\n",
    "    lista2.append(generate_pet())\n",
    "print(lista2)"
   ]
  },
  {
   "cell_type": "markdown",
   "metadata": {},
   "source": [
    "* ¿Qué hace éste método en la simulación?\n",
    "* El método random.seed(2) preserva el valor aleatorio obtenido en un primer intento y se setea en caso de obtener nuevos resultados y poder comparar y disminuir errores en un evento pseudoestocasticos."
   ]
  },
  {
   "cell_type": "markdown",
   "metadata": {},
   "source": [
    "# Desafío 4: Función simuladora"
   ]
  },
  {
   "cell_type": "markdown",
   "metadata": {},
   "source": [
    "* Genere un método llamado simulate_pets_prob que tome como argumento un número finito de simulaciones a generar.\n",
    "* De los dos animales simulados, contar las ocasiones donde por lo menos uno de los animales sea un perro.\n",
    "* De los dos animales simulados, contar las ocasiones donde por lo menos uno sea un perroviejo\n",
    "* De los dos animales simulados, contar las ocasiones donde los dos sean perros"
   ]
  },
  {
   "cell_type": "code",
   "execution_count": 320,
   "metadata": {},
   "outputs": [
    {
     "name": "stdout",
     "output_type": "stream",
     "text": [
      " La probabilidad de ser al menos un perro : 0.75  La probabilidad de ser por lo menos uno sea un perro viejo: 0.52 La probabilidad donde los dos sean perros: 0.25\n"
     ]
    }
   ],
   "source": [
    "def simulate_pets_prob(n):\n",
    "    \n",
    "    lista=[\"perro\",\"gato\"]\n",
    "    cont_p=0\n",
    "    cont_solo_p=0\n",
    "    cont_pyp=0\n",
    "    for i in range(n):\n",
    "        young_pet=np.random.choice(lista)\n",
    "        old_pet=np.random.choice(lista)\n",
    "        if young_pet ==\"perro\" or old_pet==\"perro\":\n",
    "            cont_p+=1\n",
    "        if old_pet ==\"perro\":\n",
    "            cont_solo_p+=1\n",
    "        if young_pet ==\"perro\" and old_pet==\"perro\":\n",
    "            cont_pyp+=1\n",
    "    \n",
    "    \n",
    "    return cont_p/n,cont_solo_p/n,cont_pyp/n\n",
    "\n",
    "p1,p2,p3=simulate_pets_prob(100)\n",
    "\n",
    "print(\" La probabilidad de ser al menos un perro : {}  La probabilidad de ser por lo menos uno sea un perro viejo: {} La probabilidad donde los dos sean perros: {}\".format(p1,p2,p3))\n"
   ]
  },
  {
   "cell_type": "markdown",
   "metadata": {},
   "source": [
    "- Utilizando n=100 repeticiones \n",
    "* La probabilidad menos probable es que sean ambos perros\n",
    "* El caso más probable es que sea al menos un perro"
   ]
  },
  {
   "cell_type": "code",
   "execution_count": null,
   "metadata": {},
   "outputs": [],
   "source": []
  }
 ],
 "metadata": {
  "kernelspec": {
   "display_name": "Python 3",
   "language": "python",
   "name": "python3"
  },
  "language_info": {
   "codemirror_mode": {
    "name": "ipython",
    "version": 3
   },
   "file_extension": ".py",
   "mimetype": "text/x-python",
   "name": "python",
   "nbconvert_exporter": "python",
   "pygments_lexer": "ipython3",
   "version": "3.7.3"
  }
 },
 "nbformat": 4,
 "nbformat_minor": 2
}
