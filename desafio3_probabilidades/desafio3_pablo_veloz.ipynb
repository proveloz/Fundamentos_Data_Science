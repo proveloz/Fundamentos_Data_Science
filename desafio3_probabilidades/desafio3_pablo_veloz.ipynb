{
 "cells": [
  {
   "cell_type": "markdown",
   "metadata": {},
   "source": [
    "# Desafio 3 : Pablo Veloz"
   ]
  },
  {
   "cell_type": "markdown",
   "metadata": {},
   "source": [
    "# Desafío 1: Lectura de archivos\n",
    "* Importe pandas y numpy siguiendo las convenciones."
   ]
  },
  {
   "cell_type": "code",
   "execution_count": 1,
   "metadata": {},
   "outputs": [],
   "source": [
    "import pandas as pd\n",
    "import numpy as np"
   ]
  },
  {
   "cell_type": "markdown",
   "metadata": {},
   "source": [
    "* Lea la base de datos worldcup2014.csv y asígnela a un objeto df"
   ]
  },
  {
   "cell_type": "code",
   "execution_count": 2,
   "metadata": {},
   "outputs": [],
   "source": [
    "df = pd.read_csv(\"worldcup2014.csv\")"
   ]
  },
  {
   "cell_type": "markdown",
   "metadata": {},
   "source": [
    "* Solicite las primeras 5 observaciones con head"
   ]
  },
  {
   "cell_type": "code",
   "execution_count": 3,
   "metadata": {},
   "outputs": [
    {
     "data": {
      "text/html": [
       "<div>\n",
       "<style scoped>\n",
       "    .dataframe tbody tr th:only-of-type {\n",
       "        vertical-align: middle;\n",
       "    }\n",
       "\n",
       "    .dataframe tbody tr th {\n",
       "        vertical-align: top;\n",
       "    }\n",
       "\n",
       "    .dataframe thead th {\n",
       "        text-align: right;\n",
       "    }\n",
       "</style>\n",
       "<table border=\"1\" class=\"dataframe\">\n",
       "  <thead>\n",
       "    <tr style=\"text-align: right;\">\n",
       "      <th></th>\n",
       "      <th>team</th>\n",
       "      <th>continent</th>\n",
       "      <th>group</th>\n",
       "      <th>group_pos</th>\n",
       "      <th>cantidad_juegos</th>\n",
       "      <th>juegos_ganados</th>\n",
       "      <th>juegos_empatados</th>\n",
       "      <th>juegos_perdidos</th>\n",
       "      <th>goles_favor</th>\n",
       "      <th>goles_contra</th>\n",
       "      <th>goles_diferencia</th>\n",
       "      <th>puntos</th>\n",
       "      <th>clasificado</th>\n",
       "    </tr>\n",
       "  </thead>\n",
       "  <tbody>\n",
       "    <tr>\n",
       "      <th>0</th>\n",
       "      <td>Brazil</td>\n",
       "      <td>southamerica</td>\n",
       "      <td>A</td>\n",
       "      <td>1</td>\n",
       "      <td>3</td>\n",
       "      <td>2</td>\n",
       "      <td>1</td>\n",
       "      <td>0</td>\n",
       "      <td>7</td>\n",
       "      <td>2</td>\n",
       "      <td>5</td>\n",
       "      <td>7</td>\n",
       "      <td>1</td>\n",
       "    </tr>\n",
       "    <tr>\n",
       "      <th>1</th>\n",
       "      <td>Mexico</td>\n",
       "      <td>northamerica</td>\n",
       "      <td>A</td>\n",
       "      <td>2</td>\n",
       "      <td>3</td>\n",
       "      <td>2</td>\n",
       "      <td>1</td>\n",
       "      <td>0</td>\n",
       "      <td>4</td>\n",
       "      <td>1</td>\n",
       "      <td>3</td>\n",
       "      <td>7</td>\n",
       "      <td>1</td>\n",
       "    </tr>\n",
       "    <tr>\n",
       "      <th>2</th>\n",
       "      <td>Croatia</td>\n",
       "      <td>europe</td>\n",
       "      <td>A</td>\n",
       "      <td>3</td>\n",
       "      <td>3</td>\n",
       "      <td>1</td>\n",
       "      <td>0</td>\n",
       "      <td>2</td>\n",
       "      <td>6</td>\n",
       "      <td>6</td>\n",
       "      <td>0</td>\n",
       "      <td>3</td>\n",
       "      <td>0</td>\n",
       "    </tr>\n",
       "    <tr>\n",
       "      <th>3</th>\n",
       "      <td>Cameroon</td>\n",
       "      <td>africa</td>\n",
       "      <td>A</td>\n",
       "      <td>4</td>\n",
       "      <td>3</td>\n",
       "      <td>0</td>\n",
       "      <td>0</td>\n",
       "      <td>3</td>\n",
       "      <td>1</td>\n",
       "      <td>9</td>\n",
       "      <td>−8</td>\n",
       "      <td>0</td>\n",
       "      <td>0</td>\n",
       "    </tr>\n",
       "    <tr>\n",
       "      <th>4</th>\n",
       "      <td>Netherlands</td>\n",
       "      <td>europe</td>\n",
       "      <td>B</td>\n",
       "      <td>1</td>\n",
       "      <td>3</td>\n",
       "      <td>3</td>\n",
       "      <td>0</td>\n",
       "      <td>0</td>\n",
       "      <td>10</td>\n",
       "      <td>3</td>\n",
       "      <td>7</td>\n",
       "      <td>9</td>\n",
       "      <td>1</td>\n",
       "    </tr>\n",
       "  </tbody>\n",
       "</table>\n",
       "</div>"
      ],
      "text/plain": [
       "          team     continent group  group_pos  cantidad_juegos  \\\n",
       "0       Brazil  southamerica     A          1                3   \n",
       "1       Mexico  northamerica     A          2                3   \n",
       "2      Croatia        europe     A          3                3   \n",
       "3     Cameroon        africa     A          4                3   \n",
       "4  Netherlands        europe     B          1                3   \n",
       "\n",
       "   juegos_ganados  juegos_empatados  juegos_perdidos  goles_favor  \\\n",
       "0               2                 1                0            7   \n",
       "1               2                 1                0            4   \n",
       "2               1                 0                2            6   \n",
       "3               0                 0                3            1   \n",
       "4               3                 0                0           10   \n",
       "\n",
       "   goles_contra goles_diferencia  puntos  clasificado  \n",
       "0             2                5       7            1  \n",
       "1             1                3       7            1  \n",
       "2             6                0       3            0  \n",
       "3             9               −8       0            0  \n",
       "4             3                7       9            1  "
      ]
     },
     "execution_count": 3,
     "metadata": {},
     "output_type": "execute_result"
    }
   ],
   "source": [
    "df.head()"
   ]
  },
  {
   "cell_type": "markdown",
   "metadata": {},
   "source": [
    "# Desafío 2: Estime las frecuencias de continent"
   ]
  },
  {
   "cell_type": "code",
   "execution_count": 4,
   "metadata": {},
   "outputs": [
    {
     "data": {
      "text/plain": [
       "europe          13\n",
       "southamerica     6\n",
       "africa           5\n",
       "northamerica     4\n",
       "asia             4\n",
       "Name: continent, dtype: int64"
      ]
     },
     "execution_count": 4,
     "metadata": {},
     "output_type": "execute_result"
    }
   ],
   "source": [
    "df[\"continent\"].value_counts()"
   ]
  },
  {
   "cell_type": "markdown",
   "metadata": {},
   "source": [
    "* ¿Cuál es el continente con una mayor presencia en la muestra?"
   ]
  },
  {
   "cell_type": "code",
   "execution_count": 5,
   "metadata": {},
   "outputs": [],
   "source": [
    "df_continentes= df[\"continent\"].value_counts()"
   ]
  },
  {
   "cell_type": "code",
   "execution_count": 6,
   "metadata": {},
   "outputs": [],
   "source": [
    "continente_presencias_maximas = df_continentes.idxmax() "
   ]
  },
  {
   "cell_type": "code",
   "execution_count": 8,
   "metadata": {},
   "outputs": [
    {
     "name": "stdout",
     "output_type": "stream",
     "text": [
      "El continente con mayor presencia es:  europe\n"
     ]
    }
   ],
   "source": [
    "print(\"El continente con mayor presencia es: \",continente_presencias_maximas)"
   ]
  },
  {
   "cell_type": "markdown",
   "metadata": {},
   "source": [
    "* ¿Cuál es la probabilidad de elegir un equipo asiático al azar?"
   ]
  },
  {
   "cell_type": "code",
   "execution_count": 10,
   "metadata": {},
   "outputs": [
    {
     "name": "stdout",
     "output_type": "stream",
     "text": [
      "0.125\n"
     ]
    }
   ],
   "source": [
    "#df[\"continent\"].value_counts(\"%\")\n",
    "df[\"asia\"]= np.where(df[\"continent\"]==\"asia\",1,0)\n",
    "prob_asia = df[\"asia\"].value_counts(\"%\")\n",
    "probasia=prob_asia.tolist()\n",
    "print(probasia[1])"
   ]
  },
  {
   "cell_type": "code",
   "execution_count": 11,
   "metadata": {},
   "outputs": [
    {
     "name": "stdout",
     "output_type": "stream",
     "text": [
      "La probabilidad que sea un equipo asiático es :  0.125\n"
     ]
    }
   ],
   "source": [
    "print(\"La probabilidad que sea un equipo asiático es : \",probasia[1])"
   ]
  },
  {
   "cell_type": "markdown",
   "metadata": {},
   "source": [
    "* ¿Cuál es la probabilidad de elegir un equipo africano al azar?"
   ]
  },
  {
   "cell_type": "code",
   "execution_count": 12,
   "metadata": {},
   "outputs": [
    {
     "name": "stdout",
     "output_type": "stream",
     "text": [
      "0.15625\n"
     ]
    }
   ],
   "source": [
    "df[\"africa\"]= np.where(df[\"continent\"]==\"africa\",1,0)\n",
    "prob_africa = df[\"africa\"].value_counts(\"%\")\n",
    "probafrica=prob_africa.tolist()\n",
    "print(probafrica[1])"
   ]
  },
  {
   "cell_type": "code",
   "execution_count": 13,
   "metadata": {},
   "outputs": [
    {
     "name": "stdout",
     "output_type": "stream",
     "text": [
      "la probabilidad que sea un equipo africano es : 0.15625\n"
     ]
    }
   ],
   "source": [
    "print(\"la probabilidad que sea un equipo africano es :\",probafrica[1])"
   ]
  },
  {
   "cell_type": "markdown",
   "metadata": {},
   "source": [
    "# Desafío 3: Probabilidades por continente"
   ]
  },
  {
   "cell_type": "markdown",
   "metadata": {},
   "source": [
    "* Por cada continente, genere un nuevo objeto que almacene sólo las observaciones del continente.\n",
    "* tip: Para ello puede utilizar la siguiente sintáxis: df[df['variable'] == condicion] ."
   ]
  },
  {
   "cell_type": "code",
   "execution_count": 14,
   "metadata": {},
   "outputs": [
    {
     "data": {
      "text/html": [
       "<div>\n",
       "<style scoped>\n",
       "    .dataframe tbody tr th:only-of-type {\n",
       "        vertical-align: middle;\n",
       "    }\n",
       "\n",
       "    .dataframe tbody tr th {\n",
       "        vertical-align: top;\n",
       "    }\n",
       "\n",
       "    .dataframe thead th {\n",
       "        text-align: right;\n",
       "    }\n",
       "</style>\n",
       "<table border=\"1\" class=\"dataframe\">\n",
       "  <thead>\n",
       "    <tr style=\"text-align: right;\">\n",
       "      <th></th>\n",
       "      <th>team</th>\n",
       "      <th>continent</th>\n",
       "      <th>group</th>\n",
       "      <th>group_pos</th>\n",
       "      <th>cantidad_juegos</th>\n",
       "      <th>juegos_ganados</th>\n",
       "      <th>juegos_empatados</th>\n",
       "      <th>juegos_perdidos</th>\n",
       "      <th>goles_favor</th>\n",
       "      <th>goles_contra</th>\n",
       "      <th>goles_diferencia</th>\n",
       "      <th>puntos</th>\n",
       "      <th>clasificado</th>\n",
       "      <th>asia</th>\n",
       "      <th>africa</th>\n",
       "    </tr>\n",
       "  </thead>\n",
       "  <tbody>\n",
       "    <tr>\n",
       "      <th>3</th>\n",
       "      <td>Cameroon</td>\n",
       "      <td>africa</td>\n",
       "      <td>A</td>\n",
       "      <td>4</td>\n",
       "      <td>3</td>\n",
       "      <td>0</td>\n",
       "      <td>0</td>\n",
       "      <td>3</td>\n",
       "      <td>1</td>\n",
       "      <td>9</td>\n",
       "      <td>−8</td>\n",
       "      <td>0</td>\n",
       "      <td>0</td>\n",
       "      <td>0</td>\n",
       "      <td>1</td>\n",
       "    </tr>\n",
       "    <tr>\n",
       "      <th>10</th>\n",
       "      <td>Ivory Coast</td>\n",
       "      <td>africa</td>\n",
       "      <td>C</td>\n",
       "      <td>3</td>\n",
       "      <td>3</td>\n",
       "      <td>1</td>\n",
       "      <td>0</td>\n",
       "      <td>2</td>\n",
       "      <td>4</td>\n",
       "      <td>5</td>\n",
       "      <td>−1</td>\n",
       "      <td>3</td>\n",
       "      <td>0</td>\n",
       "      <td>0</td>\n",
       "      <td>1</td>\n",
       "    </tr>\n",
       "    <tr>\n",
       "      <th>21</th>\n",
       "      <td>Nigeria</td>\n",
       "      <td>africa</td>\n",
       "      <td>F</td>\n",
       "      <td>2</td>\n",
       "      <td>3</td>\n",
       "      <td>1</td>\n",
       "      <td>1</td>\n",
       "      <td>1</td>\n",
       "      <td>3</td>\n",
       "      <td>3</td>\n",
       "      <td>0</td>\n",
       "      <td>4</td>\n",
       "      <td>1</td>\n",
       "      <td>0</td>\n",
       "      <td>1</td>\n",
       "    </tr>\n",
       "    <tr>\n",
       "      <th>27</th>\n",
       "      <td>Ghana</td>\n",
       "      <td>africa</td>\n",
       "      <td>G</td>\n",
       "      <td>4</td>\n",
       "      <td>3</td>\n",
       "      <td>0</td>\n",
       "      <td>1</td>\n",
       "      <td>2</td>\n",
       "      <td>4</td>\n",
       "      <td>6</td>\n",
       "      <td>−2</td>\n",
       "      <td>1</td>\n",
       "      <td>0</td>\n",
       "      <td>0</td>\n",
       "      <td>1</td>\n",
       "    </tr>\n",
       "    <tr>\n",
       "      <th>29</th>\n",
       "      <td>Algeria</td>\n",
       "      <td>africa</td>\n",
       "      <td>H</td>\n",
       "      <td>2</td>\n",
       "      <td>3</td>\n",
       "      <td>1</td>\n",
       "      <td>1</td>\n",
       "      <td>1</td>\n",
       "      <td>6</td>\n",
       "      <td>5</td>\n",
       "      <td>1</td>\n",
       "      <td>4</td>\n",
       "      <td>1</td>\n",
       "      <td>0</td>\n",
       "      <td>1</td>\n",
       "    </tr>\n",
       "  </tbody>\n",
       "</table>\n",
       "</div>"
      ],
      "text/plain": [
       "           team continent group  group_pos  cantidad_juegos  juegos_ganados  \\\n",
       "3      Cameroon    africa     A          4                3               0   \n",
       "10  Ivory Coast    africa     C          3                3               1   \n",
       "21      Nigeria    africa     F          2                3               1   \n",
       "27        Ghana    africa     G          4                3               0   \n",
       "29      Algeria    africa     H          2                3               1   \n",
       "\n",
       "    juegos_empatados  juegos_perdidos  goles_favor  goles_contra  \\\n",
       "3                  0                3            1             9   \n",
       "10                 0                2            4             5   \n",
       "21                 1                1            3             3   \n",
       "27                 1                2            4             6   \n",
       "29                 1                1            6             5   \n",
       "\n",
       "   goles_diferencia  puntos  clasificado  asia  africa  \n",
       "3                −8       0            0     0       1  \n",
       "10               −1       3            0     0       1  \n",
       "21                0       4            1     0       1  \n",
       "27               −2       1            0     0       1  \n",
       "29                1       4            1     0       1  "
      ]
     },
     "execution_count": 14,
     "metadata": {},
     "output_type": "execute_result"
    }
   ],
   "source": [
    "#df_europa = df.loc[(df['continent'] == \"europe\"),:]\n",
    "#df_asia = df.loc[(df['continent'] == \"asia\"),:]\n",
    "#df_africa = df.loc[(df['continent'] == \"africa\"),:]\n",
    "#df_sudamerica = df.loc[(df['continent'] == \"southamerica\"),:]\n",
    "#df_norteamerica = df.loc[(df['continent'] == \"northamerica\"),:]\n",
    "df_europa=df[(df[\"continent\"]==\"europe\")]\n",
    "df_asia=df[(df[\"continent\"]==\"asia\")]\n",
    "df_africa=df[(df[\"continent\"]==\"africa\")]\n",
    "df_southamerica=df[(df[\"continent\"]==\"southamerica\")]\n",
    "df_northamerica=df[(df[\"continent\"]==\"northamerica\")]\n",
    "df_africa\n"
   ]
  },
  {
   "cell_type": "markdown",
   "metadata": {},
   "source": [
    "# Desafío 4: Calcule la probabilidad de clasificación a la siguiente ronda\n",
    "* Pase todos los objetos creados en un loop que imprima la probabilidad de pasar a la siguiente ronda por continente.\n",
    "* tip: Genere un array que contenga los objetos a pasar en el loop."
   ]
  },
  {
   "cell_type": "code",
   "execution_count": null,
   "metadata": {},
   "outputs": [],
   "source": []
  },
  {
   "cell_type": "code",
   "execution_count": 44,
   "metadata": {
    "scrolled": false
   },
   "outputs": [
    {
     "name": "stdout",
     "output_type": "stream",
     "text": [
      "Continentes:  ['europe', 'asia', 'africa', 'southamerica', 'northamerica']\n",
      "Probabilidades:  [46.15384615384615, 0.0, 40.0, 83.33333333333334, 75.0]\n",
      "- La probabilidad de clasificar un equipo europe es de 46.15384615384615%\n",
      "- La probabilidad de clasificar un equipo asia es de 0.0%\n",
      "- La probabilidad de clasificar un equipo africa es de 40.0%\n",
      "- La probabilidad de clasificar un equipo southamerica es de 83.33333333333334%\n",
      "- La probabilidad de clasificar un equipo northamerica es de 75.0%\n"
     ]
    }
   ],
   "source": [
    "df_continentes = [df_europa,df_asia,df_africa,df_southamerica,df_northamerica]\n",
    "dic_clasificados={}\n",
    "conti_lista=[]\n",
    "probalista=[]\n",
    "contador=0\n",
    "i=0\n",
    "j=0\n",
    "df_clasificado=df[df[\"clasificado\"]==1]\n",
    "#print(len(df_clasificado))\n",
    "for i in df_continentes:\n",
    "    conti=i[\"continent\"].unique().tolist()\n",
    "    largo_cada_conti=(len(i[\"continent\"]))\n",
    "    conti_lista.append(conti[0])\n",
    "    exito=i[\"clasificado\"].value_counts()\n",
    "    largo = len(i[\"clasificado\"])-exito[0]\n",
    "    #print(largo)\n",
    "    #proba=largo/len(df_clasificado)\n",
    "    proba=largo/largo_cada_conti\n",
    "    #proba=largo/len(df[\"clasificado\"])\n",
    "    probalista.append(100*proba)\n",
    "    dic_clasificados=dict(zip(conti_lista,probalista))\n",
    "print(\"Continentes: \",conti_lista)\n",
    "print(\"Probabilidades: \",probalista)\n",
    "\n",
    "for j,k in dic_clasificados.items():\n",
    "    print(\"- La probabilidad de clasificar un equipo {0} es de {1}%\".format(j,k))\n",
    "#print(probalista)\n",
    "#for _,i in df_continentes.iterrows():\n",
    "    #print(i[\"continent\"].unique())\n",
    "    #conti=i[\"continent\"].unique().tolist()\n",
    "    #conti_lista.append(conti)\n",
    "    #clasificado=i[\"clasificado\"].value_counts(\"%\")\n",
    "    #print(clasificado)\n",
    "    #proba= 1-clasificado[0]\n",
    "    #probalista.append(proba)\n",
    "    #dic_clasificados=dict(zip(conti_lista,probalista))\n",
    "#for j,k in dic_clasificados.items():\n",
    "#    print(\"La pobabilidad de clasificar un equipo {0} es de {1}%\".format(j,100*float(k)))"
   ]
  },
  {
   "cell_type": "markdown",
   "metadata": {},
   "source": [
    "# ¿Cuál fue la probabilidad de que un país asiático pase a la siguiente ronda?"
   ]
  },
  {
   "cell_type": "code",
   "execution_count": 420,
   "metadata": {},
   "outputs": [
    {
     "name": "stdout",
     "output_type": "stream",
     "text": [
      "La probabilidad de clasificar de un equipo asiatico es de:  0.0 %\n"
     ]
    }
   ],
   "source": [
    "for j,k in dic_clasificados.items():\n",
    "    if j==\"asia\":\n",
    "        print(\"La probabilidad de clasificar de un equipo asiatico es de: \",k,\"%\")"
   ]
  },
  {
   "cell_type": "markdown",
   "metadata": {},
   "source": [
    "* ¿Cuáles fueron los dos continentes que tuvieron la mayor probabilidad de clasificar?"
   ]
  },
  {
   "cell_type": "markdown",
   "metadata": {},
   "source": [
    "Respuesta: Southamerica 83,3% y Northamerica 75%"
   ]
  },
  {
   "cell_type": "markdown",
   "metadata": {},
   "source": [
    "# ¿Cuál fue la probabilidad de no clasificar un país europeo?"
   ]
  },
  {
   "cell_type": "code",
   "execution_count": 37,
   "metadata": {},
   "outputs": [
    {
     "name": "stdout",
     "output_type": "stream",
     "text": [
      "- La probabilidad de clasificar de un equipo Europeo es de:  62.5 %\n"
     ]
    }
   ],
   "source": [
    "for j,k in dic_clasificados.items():\n",
    "    if j==\"europe\":\n",
    "        print(\"- La probabilidad de clasificar de un equipo Europeo es de: \",100-k,\"%\")"
   ]
  },
  {
   "cell_type": "markdown",
   "metadata": {},
   "source": [
    "# Desafío 5: Refactorización\n",
    "* A continuación se presenta un loop que cuenta las probabilidades de juegos ganados. Se pide\n",
    "* que value_counts cuente los juegos no ganados y ganados, ignorando de la cantidad de juegos."
   ]
  },
  {
   "cell_type": "markdown",
   "metadata": {},
   "source": [
    "* for d in [df_africa, df_europa, df_asia, df_norteamerica,df_southamerica]:\n",
    "*    print(d['juegos_ganados'].value_counts('%'))"
   ]
  },
  {
   "cell_type": "markdown",
   "metadata": {},
   "source": [
    "*Este array es difícil de trabajar, por lo que pueden transformarlo con pd.Series para utilizar\n",
    "value_counts ."
   ]
  },
  {
   "cell_type": "code",
   "execution_count": 142,
   "metadata": {},
   "outputs": [
    {
     "name": "stdout",
     "output_type": "stream",
     "text": [
      "europe\n",
      "Probabilidad de Ganar:      0.846154\n",
      "Probabilidad de Perder:     0.153846\n",
      "dtype: float64\n",
      "asia\n",
      "Probabilidad de Perder:     1.0\n",
      "dtype: float64\n",
      "africa\n",
      "Probabilidad de Ganar:      0.6\n",
      "Probabilidad de Perder:     0.4\n",
      "dtype: float64\n",
      "southamerica\n",
      "Probabilidad de Ganar:     1.0\n",
      "dtype: float64\n",
      "northamerica\n",
      "Probabilidad de Ganar:      0.75\n",
      "Probabilidad de Perder:     0.25\n",
      "dtype: float64\n"
     ]
    }
   ],
   "source": [
    "lista_ganados=[]\n",
    "i=0\n",
    "for d in [df_europa,df_asia,df_africa,df_southamerica,df_northamerica]:\n",
    "    #print(d.iloc[0,1])\n",
    "    conti=d[\"continent\"].unique().tolist()\n",
    "    print(conti[0])\n",
    "    df_juegos_ganados= pd.Series(np.where(d[\"juegos_ganados\"]!=0,\"Probabilidad de Ganar: \",\"Probabilidad de Perder: \"))\n",
    "    print(df_juegos_ganados.value_counts(\"%\"))\n",
    "    \n",
    "    #lista_ganados.append(df_juegos_ganados)\n",
    "    #column_values = pd.Series(lista_winners)\n",
    "    #d.insert(loc=0, column='winners', value=column_values)\n",
    "    #d[\"juegos_ganados_ganados\"]=pd.Series(lista_ganados)\n",
    "    #i+=1\n",
    "#lista_ganados\n",
    "#lista_winners=[]\n",
    "#for i in range(5):    \n",
    "#    for j in lista_ganados[i]:\n",
    "#        lista_winners.append(j)\n",
    "#lista_winners\n",
    "\n",
    "#df_juegos_ganados"
   ]
  },
  {
   "cell_type": "markdown",
   "metadata": {},
   "source": [
    "* ¿Qué continente tuvo una mayor probabilidad de ganar juegos?\n",
    "  * Respuesta: El continente con paises con mayor probabilidad de ganas es Southamerica\n"
   ]
  },
  {
   "cell_type": "markdown",
   "metadata": {},
   "source": [
    "* ¿Qué continente presentó un nivel similar entre juegos ganados y perdidos?\n",
    "  * Respuesta: El continente con paises con mayor probabilidad entre juegos ganados y (perdidos o empatados) es Africa"
   ]
  },
  {
   "cell_type": "markdown",
   "metadata": {},
   "source": [
    "* Utilize el código para el caso de juegos perdidos y analize el continente con una mayor probabilidad de perder."
   ]
  },
  {
   "cell_type": "code",
   "execution_count": 144,
   "metadata": {},
   "outputs": [
    {
     "name": "stdout",
     "output_type": "stream",
     "text": [
      "europe\n",
      "Probabilidad de Perder:     0.692308\n",
      "Probabilidad de Ganar:      0.307692\n",
      "dtype: float64\n",
      "asia\n",
      "Probabilidad de Perder:     1.0\n",
      "dtype: float64\n",
      "africa\n",
      "Probabilidad de Perder:     1.0\n",
      "dtype: float64\n",
      "southamerica\n",
      "Probabilidad de Ganar:      0.5\n",
      "Probabilidad de Perder:     0.5\n",
      "dtype: float64\n",
      "northamerica\n",
      "Probabilidad de Ganar:      0.5\n",
      "Probabilidad de Perder:     0.5\n",
      "dtype: float64\n"
     ]
    }
   ],
   "source": [
    "for d in [df_europa,df_asia,df_africa,df_southamerica,df_northamerica]:\n",
    "    #print(d.iloc[0,1])\n",
    "    conti=d[\"continent\"].unique().tolist()\n",
    "    print(conti[0])\n",
    "    df_juegos_ganados= pd.Series(np.where(d[\"juegos_perdidos\"]!=0,\"Probabilidad de Perder: \",\"Probabilidad de Ganar: \"))\n",
    "    print(df_juegos_ganados.value_counts(\"%\"))"
   ]
  },
  {
   "cell_type": "markdown",
   "metadata": {},
   "source": [
    "* El continente con mayor probabalidad de perder son Asia y Africa"
   ]
  },
  {
   "cell_type": "code",
   "execution_count": null,
   "metadata": {},
   "outputs": [],
   "source": []
  }
 ],
 "metadata": {
  "kernelspec": {
   "display_name": "Python 3",
   "language": "python",
   "name": "python3"
  },
  "language_info": {
   "codemirror_mode": {
    "name": "ipython",
    "version": 3
   },
   "file_extension": ".py",
   "mimetype": "text/x-python",
   "name": "python",
   "nbconvert_exporter": "python",
   "pygments_lexer": "ipython3",
   "version": "3.7.3"
  }
 },
 "nbformat": 4,
 "nbformat_minor": 2
}
