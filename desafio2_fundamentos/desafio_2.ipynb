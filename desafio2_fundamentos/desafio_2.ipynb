{
 "cells": [
  {
   "cell_type": "markdown",
   "metadata": {},
   "source": [
    "# Desafio control de flujo : Pablo Veloz"
   ]
  },
  {
   "cell_type": "markdown",
   "metadata": {},
   "source": [
    "# Desafío 1\n",
    "Generar un par de arrays ficticios con numpy\n",
    "tip: utilice la función linspace para generar un array entre 1 y 50, y un array entre 50 y 150."
   ]
  },
  {
   "cell_type": "code",
   "execution_count": 3,
   "metadata": {},
   "outputs": [],
   "source": [
    "import numpy as np\n",
    "import pandas as pd\n",
    "import sys"
   ]
  },
  {
   "cell_type": "markdown",
   "metadata": {},
   "source": [
    "* array entre 1 y 50"
   ]
  },
  {
   "cell_type": "code",
   "execution_count": 4,
   "metadata": {},
   "outputs": [
    {
     "data": {
      "text/plain": [
       "array([ 1.,  2.,  3.,  4.,  5.,  6.,  7.,  8.,  9., 10., 11., 12., 13.,\n",
       "       14., 15., 16., 17., 18., 19., 20., 21., 22., 23., 24., 25., 26.,\n",
       "       27., 28., 29., 30., 31., 32., 33., 34., 35., 36., 37., 38., 39.,\n",
       "       40., 41., 42., 43., 44., 45., 46., 47., 48., 49., 50.])"
      ]
     },
     "execution_count": 4,
     "metadata": {},
     "output_type": "execute_result"
    }
   ],
   "source": [
    "np.linspace(1, 50, num=50)"
   ]
  },
  {
   "cell_type": "markdown",
   "metadata": {},
   "source": [
    "* array entre 50 y 150."
   ]
  },
  {
   "cell_type": "code",
   "execution_count": 5,
   "metadata": {},
   "outputs": [
    {
     "data": {
      "text/plain": [
       "array([ 50.,  52.,  54.,  56.,  58.,  60.,  62.,  64.,  66.,  68.,  70.,\n",
       "        72.,  74.,  76.,  78.,  80.,  82.,  84.,  86.,  88.,  90.,  92.,\n",
       "        94.,  96.,  98., 100., 102., 104., 106., 108., 110., 112., 114.,\n",
       "       116., 118., 120., 122., 124., 126., 128., 130., 132., 134., 136.,\n",
       "       138., 140., 142., 144., 146., 148., 150.])"
      ]
     },
     "execution_count": 5,
     "metadata": {},
     "output_type": "execute_result"
    }
   ],
   "source": [
    "np.linspace(50, 150, num=51)"
   ]
  },
  {
   "cell_type": "markdown",
   "metadata": {},
   "source": [
    "# Desafío 2\n",
    "* Ejecute un loop que devuelva si el número en el primer array es par o impar\n",
    "tip: utilice la función módulo para encontrar si el número es divisible por 2."
   ]
  },
  {
   "cell_type": "code",
   "execution_count": 7,
   "metadata": {},
   "outputs": [
    {
     "name": "stdout",
     "output_type": "stream",
     "text": [
      "impar\n",
      "par\n",
      "impar\n",
      "par\n",
      "impar\n",
      "par\n",
      "impar\n",
      "par\n",
      "impar\n",
      "par\n",
      "impar\n",
      "par\n",
      "impar\n",
      "par\n",
      "impar\n",
      "par\n",
      "impar\n",
      "par\n",
      "impar\n",
      "par\n",
      "impar\n",
      "par\n",
      "impar\n",
      "par\n",
      "impar\n",
      "par\n",
      "impar\n",
      "par\n",
      "impar\n",
      "par\n",
      "impar\n",
      "par\n",
      "impar\n",
      "par\n",
      "impar\n",
      "par\n",
      "impar\n",
      "par\n",
      "impar\n",
      "par\n",
      "impar\n",
      "par\n",
      "impar\n",
      "par\n",
      "impar\n",
      "par\n",
      "impar\n",
      "par\n",
      "impar\n",
      "par\n"
     ]
    }
   ],
   "source": [
    "array1=np.linspace(1, 50, num=50)\n",
    "for i in array1:\n",
    "    if i%2==0:\n",
    "        print(\"par\")\n",
    "    else:\n",
    "        print(\"impar\")"
   ]
  },
  {
   "cell_type": "markdown",
   "metadata": {},
   "source": [
    "# Desafío 3\n",
    "* Genere un loop con el segundo array que cuente las siguientes condiciones\n",
    "Si el número es divisible por 2 o 3\n",
    "Si el número es divisible por 2 y 3\n",
    "Si el número es divisible por 3 pero no por 2\n",
    "si el número no es divisible por 2 ni 3"
   ]
  },
  {
   "cell_type": "code",
   "execution_count": 19,
   "metadata": {},
   "outputs": [
    {
     "name": "stdout",
     "output_type": "stream",
     "text": [
      "Cantidad de números divisibles por 2 o 3:  35\n",
      "Cantidad de números números divisibles por 2 y 3:  8\n",
      "Cantidad de números divisibles por 3 pero no por 2:  9\n",
      "Cantidad de números que no son divisibles por 2 ni 3:  16\n"
     ]
    }
   ],
   "source": [
    "cont_23_o=0\n",
    "cont_23_y=0\n",
    "cont_div3_no2=0\n",
    "cont_no_div3_div2=0\n",
    "array2=np.linspace(50, 100, num=51)\n",
    "for j in array2:\n",
    "    k=int(j)\n",
    "    if k%2==0 or k%3==0:\n",
    "        cont_23_o+=1\n",
    "    if k%2==0 and k%3==0:\n",
    "        cont_23_y+=1\n",
    "    if k%3==0 and k%2!=0:\n",
    "        cont_div3_no2+=1\n",
    "    if k%3!=0 and k%2!=0:\n",
    "        cont_no_div3_div2+=1\n",
    "print(\"Cantidad de números divisibles por 2 o 3: \",cont_23_o)\n",
    "print(\"Cantidad de números números divisibles por 2 y 3: \",cont_23_y)\n",
    "print(\"Cantidad de números divisibles por 3 pero no por 2: \",cont_div3_no2)\n",
    "print(\"Cantidad de números que no son divisibles por 2 ni 3: \",cont_no_div3_div2)"
   ]
  },
  {
   "cell_type": "markdown",
   "metadata": {},
   "source": [
    "# Desafío 4\n",
    "* Corrección de errores\n",
    "for i in range(100):\n",
    "print(I**2)"
   ]
  },
  {
   "cell_type": "markdown",
   "metadata": {},
   "source": [
    "Error: El error corresponde a utilizar en el ciclo for el contador con minuscula y al momento de mostrarlo lo genera con Mayuscula y eso en python lo considera como variables de distinto valor y por lo tanto señala que la variable no esta definida al momento de printear"
   ]
  },
  {
   "cell_type": "markdown",
   "metadata": {},
   "source": [
    "correccion: Debe cambiar a minuscula la i dentro del print"
   ]
  },
  {
   "cell_type": "markdown",
   "metadata": {},
   "source": [
    "# Desafío 5\n",
    "* Utilizando la misma base flights.csv hacer un loop y clasificar los meses con una cantidad de pasajeros menor a la media\n",
    "* Para ello, generen un nuevo objeto que represente la media de passengers .\n",
    "* Generen una columna en la base de datos que se llame underperforming y asígnele 0.\n",
    "* Ejecuten un loop que recorra cada observación de passengers , donde si la observación esmenor a la media de passengers se le asigne a underperforming un 1.\n",
    "* Para asignar unos en la columna underperforming ya creada, utilice la función set_value ."
   ]
  },
  {
   "cell_type": "code",
   "execution_count": 21,
   "metadata": {},
   "outputs": [],
   "source": [
    "df = pd.read_csv(\"flights.csv\")"
   ]
  },
  {
   "cell_type": "markdown",
   "metadata": {},
   "source": [
    "* Para ello, generen un nuevo objeto que represente la media de passengers ."
   ]
  },
  {
   "cell_type": "code",
   "execution_count": 23,
   "metadata": {},
   "outputs": [
    {
     "data": {
      "text/plain": [
       "280.2986111111111"
      ]
     },
     "execution_count": 23,
     "metadata": {},
     "output_type": "execute_result"
    }
   ],
   "source": [
    "df[\"passengers\"].mean()"
   ]
  },
  {
   "cell_type": "markdown",
   "metadata": {},
   "source": [
    "* Utilizando la misma base flights.csv hacer un loop y clasificar los meses con una cantidad de pasajeros menor a la media"
   ]
  },
  {
   "cell_type": "code",
   "execution_count": 22,
   "metadata": {},
   "outputs": [
    {
     "name": "stdout",
     "output_type": "stream",
     "text": [
      "January\n",
      "February\n",
      "March\n",
      "April\n",
      "May\n",
      "June\n",
      "July\n",
      "August\n",
      "September\n",
      "October\n",
      "November\n",
      "December\n",
      "January\n",
      "February\n",
      "March\n",
      "April\n",
      "May\n",
      "June\n",
      "July\n",
      "August\n",
      "September\n",
      "October\n",
      "November\n",
      "December\n",
      "January\n",
      "February\n",
      "March\n",
      "April\n",
      "May\n",
      "June\n",
      "July\n",
      "August\n",
      "September\n",
      "October\n",
      "November\n",
      "December\n",
      "January\n",
      "February\n",
      "March\n",
      "April\n",
      "May\n",
      "June\n",
      "July\n",
      "August\n",
      "September\n",
      "October\n",
      "November\n",
      "December\n",
      "January\n",
      "February\n",
      "March\n",
      "April\n",
      "May\n",
      "June\n",
      "July\n",
      "August\n",
      "September\n",
      "October\n",
      "November\n",
      "December\n",
      "January\n",
      "February\n",
      "March\n",
      "April\n",
      "May\n",
      "June\n",
      "September\n",
      "October\n",
      "November\n",
      "December\n",
      "January\n",
      "February\n",
      "March\n",
      "April\n",
      "May\n",
      "October\n",
      "November\n",
      "December\n",
      "February\n",
      "November\n"
     ]
    }
   ],
   "source": [
    "for rowname,rowseries in df.iterrows():\n",
    "    if (rowseries[\"passengers\"] <= df[\"passengers\"].mean()):\n",
    "        print(rowseries[\"month\"])"
   ]
  },
  {
   "cell_type": "markdown",
   "metadata": {},
   "source": [
    "* Generen una columna en la base de datos que se llame underperforming y asígnele 0."
   ]
  },
  {
   "cell_type": "code",
   "execution_count": 24,
   "metadata": {},
   "outputs": [],
   "source": [
    "df[\"underperforming\"]=\"0\""
   ]
  },
  {
   "cell_type": "markdown",
   "metadata": {},
   "source": [
    "* Ejecuten un loop que recorra cada observación de passengers , donde si la observación es menor a la media de passengers se le asigne a underperforming un 1.\n",
    "* Para asignar unos en la columna underperforming ya creada, utilice la función set_value ."
   ]
  },
  {
   "cell_type": "code",
   "execution_count": 66,
   "metadata": {},
   "outputs": [
    {
     "name": "stdout",
     "output_type": "stream",
     "text": [
      "       year      month  passengers  outlier  underperforming\n",
      "0    1949.0    January       112.0      1.0              1.0\n",
      "1    1949.0   February       118.0      1.0              1.0\n",
      "2    1949.0      March       132.0      1.0              1.0\n",
      "3    1949.0      April       129.0      1.0              1.0\n",
      "4    1949.0        May       121.0      1.0              1.0\n",
      "5    1949.0       June       135.0      1.0              1.0\n",
      "6    1949.0       July       148.0      1.0              1.0\n",
      "7    1949.0     August       148.0      1.0              1.0\n",
      "8    1949.0  September       136.0      1.0              1.0\n",
      "9    1949.0    October       119.0      1.0              1.0\n",
      "10   1949.0   November       104.0      1.0              1.0\n",
      "11   1949.0   December       118.0      1.0              1.0\n",
      "12   1950.0    January       115.0      1.0              1.0\n",
      "13   1950.0   February       126.0      1.0              1.0\n",
      "14   1950.0      March       141.0      1.0              1.0\n",
      "15   1950.0      April       135.0      1.0              1.0\n",
      "16   1950.0        May       125.0      1.0              1.0\n",
      "17   1950.0       June       149.0      1.0              1.0\n",
      "18   1950.0       July       170.0      0.0              1.0\n",
      "19   1950.0     August       170.0      0.0              1.0\n",
      "20   1950.0  September       158.0      1.0              1.0\n",
      "21   1950.0    October       133.0      1.0              1.0\n",
      "22   1950.0   November       114.0      1.0              1.0\n",
      "23   1950.0   December       140.0      1.0              1.0\n",
      "24   1951.0    January       145.0      1.0              1.0\n",
      "25   1951.0   February       150.0      1.0              1.0\n",
      "26   1951.0      March       178.0      0.0              1.0\n",
      "27   1951.0      April       163.0      0.0              1.0\n",
      "28   1951.0        May       172.0      0.0              1.0\n",
      "29   1951.0       June       178.0      0.0              1.0\n",
      "..      ...        ...         ...      ...              ...\n",
      "130  1959.0   November       362.0      0.0              0.0\n",
      "131  1959.0   December       405.0      1.0              0.0\n",
      "132  1960.0    January       417.0      1.0              0.0\n",
      "133  1960.0   February       391.0      0.0              0.0\n",
      "134  1960.0      March       419.0      1.0              0.0\n",
      "135  1960.0      April       461.0      1.0              0.0\n",
      "136  1960.0        May       472.0      1.0              0.0\n",
      "137  1960.0       June       535.0      1.0              0.0\n",
      "138  1960.0       July       622.0      1.0              0.0\n",
      "139  1960.0     August       606.0      1.0              0.0\n",
      "140  1960.0  September       508.0      1.0              0.0\n",
      "141  1960.0    October       461.0      1.0              0.0\n",
      "142  1960.0   November       390.0      0.0              0.0\n",
      "143  1960.0   December       432.0      1.0              0.0\n",
      "244     NaN        NaN         NaN      0.0              NaN\n",
      "144     NaN        NaN         NaN      0.0              0.0\n",
      "145     NaN        NaN         NaN      0.0              0.0\n",
      "146     NaN        NaN         NaN      0.0              0.0\n",
      "147     NaN        NaN         NaN      0.0              0.0\n",
      "148     NaN        NaN         NaN      0.0              0.0\n",
      "149     NaN        NaN         NaN      0.0              0.0\n",
      "150     NaN        NaN         NaN      0.0              0.0\n",
      "151     NaN        NaN         NaN      0.0              0.0\n",
      "152     NaN        NaN         NaN      0.0              0.0\n",
      "153     NaN        NaN         NaN      0.0              0.0\n",
      "154     NaN        NaN         NaN      0.0              0.0\n",
      "155     NaN        NaN         NaN      0.0              0.0\n",
      "156     NaN        NaN         NaN      0.0              0.0\n",
      "157     NaN        NaN         NaN      0.0              0.0\n",
      "158     NaN        NaN         NaN      NaN              0.0\n",
      "\n",
      "[160 rows x 5 columns]\n"
     ]
    },
    {
     "name": "stderr",
     "output_type": "stream",
     "text": [
      "C:\\Users\\proveloz\\Anaconda3\\lib\\site-packages\\ipykernel_launcher.py:4: FutureWarning: set_value is deprecated and will be removed in a future release. Please use .at[] or .iat[] accessors instead\n",
      "  after removing the cwd from sys.path.\n",
      "C:\\Users\\proveloz\\Anaconda3\\lib\\site-packages\\ipykernel_launcher.py:7: FutureWarning: set_value is deprecated and will be removed in a future release. Please use .at[] or .iat[] accessors instead\n",
      "  import sys\n"
     ]
    }
   ],
   "source": [
    "j=0\n",
    "for rowname,rowseries in df.iterrows():\n",
    "    if (rowseries[\"passengers\"] <= df[\"passengers\"].mean()):\n",
    "        df.set_value(j, 'underperforming', 1)\n",
    "        \n",
    "    else:\n",
    "        df.set_value(j, 'underperforming', 0)\n",
    "    j+=1\n",
    "\n",
    "print(df)"
   ]
  },
  {
   "cell_type": "markdown",
   "metadata": {},
   "source": [
    "# Desafío 6\n",
    "* Hacer un loop que clasifique los meses donde la cantidad de pasajeros se escapa de la tendencia.\n",
    "* Para ello, genere dos objetos que guarden la media general y la desviación estandar general de passengers .\n",
    "* Genere una nueva columna en la tabla de datos que se llame outlier y asignele 0.\n",
    "* Ejecuten un loop que recorra cada observación de passengers , donde si la observación se escapa de la tendencia sea 1, de lo contrario 0.\n",
    "* Para clasificar los casos que se escapen la tendencia, la observación debe satisfacer una de las siguientes condiciones:\n",
    "* La observación debe ser menor a la media menos la desviación estándar, o\n",
    "* La observación debe ser mayor a la media más la desviación estándar.\n",
    "* ¿Cuántas observaciones se pueden clasificar como casos extremos?"
   ]
  },
  {
   "cell_type": "code",
   "execution_count": 39,
   "metadata": {},
   "outputs": [
    {
     "name": "stdout",
     "output_type": "stream",
     "text": [
      "El promedio de pasajeros es:  280.2986111111111\n",
      "La desviación estandar es:  119.96631694294321\n",
      "Intervalo de los datos es: [ 160.3322941681679 - 400.2649280540543 ]\n"
     ]
    }
   ],
   "source": [
    "df_media_pasajeros = df[\"passengers\"].mean()\n",
    "print(\"El promedio de pasajeros es: \",df_media_pasajeros)\n",
    "df_std_pasajeros = df[\"passengers\"].std()\n",
    "print(\"La desviación estandar es: \",df_std_pasajeros)\n",
    "delta_menos=df_media_pasajeros - df_std_pasajeros\n",
    "delta_mas=df_media_pasajeros + df_std_pasajeros\n",
    "print(\"Intervalo de los datos es: \"+\"[\",delta_menos,\"-\",delta_mas,\"]\")"
   ]
  },
  {
   "cell_type": "markdown",
   "metadata": {},
   "source": [
    "* Genere una nueva columna en la tabla de datos que se llame outlier y asignele 0."
   ]
  },
  {
   "cell_type": "code",
   "execution_count": 40,
   "metadata": {},
   "outputs": [],
   "source": [
    "df[\"outlier\"]=\"0\"\n"
   ]
  },
  {
   "cell_type": "markdown",
   "metadata": {},
   "source": [
    "* Ejecuten un loop que recorra cada observación de passengers , donde si la observación se escapa de la tendencia sea 1, de lo contrario 0."
   ]
  },
  {
   "cell_type": "code",
   "execution_count": 67,
   "metadata": {},
   "outputs": [
    {
     "name": "stdout",
     "output_type": "stream",
     "text": [
      "       year      month  passengers  outlier  underperforming\n",
      "0    1949.0    January       112.0      1.0              1.0\n",
      "1    1949.0   February       118.0      1.0              1.0\n",
      "2    1949.0      March       132.0      1.0              1.0\n",
      "3    1949.0      April       129.0      1.0              1.0\n",
      "4    1949.0        May       121.0      1.0              1.0\n",
      "5    1949.0       June       135.0      1.0              1.0\n",
      "6    1949.0       July       148.0      1.0              1.0\n",
      "7    1949.0     August       148.0      1.0              1.0\n",
      "8    1949.0  September       136.0      1.0              1.0\n",
      "9    1949.0    October       119.0      1.0              1.0\n",
      "10   1949.0   November       104.0      1.0              1.0\n",
      "11   1949.0   December       118.0      1.0              1.0\n",
      "12   1950.0    January       115.0      1.0              1.0\n",
      "13   1950.0   February       126.0      1.0              1.0\n",
      "14   1950.0      March       141.0      1.0              1.0\n",
      "15   1950.0      April       135.0      1.0              1.0\n",
      "16   1950.0        May       125.0      1.0              1.0\n",
      "17   1950.0       June       149.0      1.0              1.0\n",
      "18   1950.0       July       170.0      0.0              1.0\n",
      "19   1950.0     August       170.0      0.0              1.0\n",
      "20   1950.0  September       158.0      1.0              1.0\n",
      "21   1950.0    October       133.0      1.0              1.0\n",
      "22   1950.0   November       114.0      1.0              1.0\n",
      "23   1950.0   December       140.0      1.0              1.0\n",
      "24   1951.0    January       145.0      1.0              1.0\n",
      "25   1951.0   February       150.0      1.0              1.0\n",
      "26   1951.0      March       178.0      0.0              1.0\n",
      "27   1951.0      April       163.0      0.0              1.0\n",
      "28   1951.0        May       172.0      0.0              1.0\n",
      "29   1951.0       June       178.0      0.0              1.0\n",
      "..      ...        ...         ...      ...              ...\n",
      "131  1959.0   December       405.0      1.0              0.0\n",
      "132  1960.0    January       417.0      1.0              0.0\n",
      "133  1960.0   February       391.0      0.0              0.0\n",
      "134  1960.0      March       419.0      1.0              0.0\n",
      "135  1960.0      April       461.0      1.0              0.0\n",
      "136  1960.0        May       472.0      1.0              0.0\n",
      "137  1960.0       June       535.0      1.0              0.0\n",
      "138  1960.0       July       622.0      1.0              0.0\n",
      "139  1960.0     August       606.0      1.0              0.0\n",
      "140  1960.0  September       508.0      1.0              0.0\n",
      "141  1960.0    October       461.0      1.0              0.0\n",
      "142  1960.0   November       390.0      0.0              0.0\n",
      "143  1960.0   December       432.0      1.0              0.0\n",
      "244     NaN        NaN         NaN      0.0              NaN\n",
      "144     NaN        NaN         NaN      0.0              0.0\n",
      "145     NaN        NaN         NaN      0.0              0.0\n",
      "146     NaN        NaN         NaN      0.0              0.0\n",
      "147     NaN        NaN         NaN      0.0              0.0\n",
      "148     NaN        NaN         NaN      0.0              0.0\n",
      "149     NaN        NaN         NaN      0.0              0.0\n",
      "150     NaN        NaN         NaN      0.0              0.0\n",
      "151     NaN        NaN         NaN      0.0              0.0\n",
      "152     NaN        NaN         NaN      0.0              0.0\n",
      "153     NaN        NaN         NaN      0.0              0.0\n",
      "154     NaN        NaN         NaN      0.0              0.0\n",
      "155     NaN        NaN         NaN      0.0              0.0\n",
      "156     NaN        NaN         NaN      0.0              0.0\n",
      "157     NaN        NaN         NaN      0.0              0.0\n",
      "158     NaN        NaN         NaN      0.0              0.0\n",
      "159     NaN        NaN         NaN      0.0              NaN\n",
      "\n",
      "[161 rows x 5 columns]\n"
     ]
    },
    {
     "name": "stderr",
     "output_type": "stream",
     "text": [
      "C:\\Users\\proveloz\\Anaconda3\\lib\\site-packages\\ipykernel_launcher.py:5: FutureWarning: set_value is deprecated and will be removed in a future release. Please use .at[] or .iat[] accessors instead\n",
      "  \"\"\"\n",
      "C:\\Users\\proveloz\\Anaconda3\\lib\\site-packages\\ipykernel_launcher.py:8: FutureWarning: set_value is deprecated and will be removed in a future release. Please use .at[] or .iat[] accessors instead\n",
      "  \n"
     ]
    }
   ],
   "source": [
    "k=0\n",
    "contador=0\n",
    "for rowname,rowseries in df.iterrows():\n",
    "    if (rowseries[\"passengers\"] < delta_menos) or (rowseries[\"passengers\"]> delta_mas):\n",
    "        df.set_value(k, 'outlier', 1)\n",
    "        contador+=1\n",
    "    else:\n",
    "        df.set_value(k, 'outlier', 0)\n",
    "    k+=1\n",
    "print(df)"
   ]
  },
  {
   "cell_type": "markdown",
   "metadata": {},
   "source": [
    "* ¿Cuántas observaciones se pueden clasificar como casos extremos?"
   ]
  },
  {
   "cell_type": "code",
   "execution_count": 52,
   "metadata": {},
   "outputs": [
    {
     "name": "stdout",
     "output_type": "stream",
     "text": [
      "La cantidad de observaciones que se escapa del intervalo[ 160.3322941681679 - 400.2649280540543 ] son:  53\n"
     ]
    }
   ],
   "source": [
    "print(\"La cantidad de observaciones que se escapa del intervalo\"+\"[\",delta_menos,\"-\",delta_mas,\"]\"+\" son: \", contador)"
   ]
  },
  {
   "cell_type": "markdown",
   "metadata": {},
   "source": [
    "Esta cantidad se consideran extremas, ya que no se encuentran en el rango: $$280.29\\pm119.96$$.\n",
    "Si la cantidad son 53 datos que están fuera de este rango, podríamos comparar que 53 entre 143 se encuentran fuera de este rango, decir, cerca del 37%, no se encuentra dentro de este invervalo permitido. "
   ]
  },
  {
   "cell_type": "code",
   "execution_count": null,
   "metadata": {},
   "outputs": [],
   "source": []
  }
 ],
 "metadata": {
  "kernelspec": {
   "display_name": "Python 3",
   "language": "python",
   "name": "python3"
  },
  "language_info": {
   "codemirror_mode": {
    "name": "ipython",
    "version": 3
   },
   "file_extension": ".py",
   "mimetype": "text/x-python",
   "name": "python",
   "nbconvert_exporter": "python",
   "pygments_lexer": "ipython3",
   "version": "3.7.3"
  }
 },
 "nbformat": 4,
 "nbformat_minor": 2
}
