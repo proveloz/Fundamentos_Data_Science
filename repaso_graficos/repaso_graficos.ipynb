{
 "cells": [
  {
   "cell_type": "code",
   "execution_count": 17,
   "metadata": {},
   "outputs": [],
   "source": [
    "import pandas as pd\n",
    "import numpy as np\n",
    "import matplotlib.pyplot as plt"
   ]
  },
  {
   "cell_type": "code",
   "execution_count": 2,
   "metadata": {},
   "outputs": [],
   "source": [
    "df = pd.read_csv(\"qog_std_cs_jan18.csv\")"
   ]
  },
  {
   "cell_type": "code",
   "execution_count": 13,
   "metadata": {},
   "outputs": [
    {
     "data": {
      "text/plain": [
       "Text(0, 0.5, 'Frecuencia')"
      ]
     },
     "execution_count": 13,
     "metadata": {},
     "output_type": "execute_result"
    },
    {
     "data": {
      "image/png": "[encoded data removed]",
      "text/plain": [
       "<Figure size 432x288 with 1 Axes>"
      ]
     },
     "metadata": {
      "needs_background": "light"
     },
     "output_type": "display_data"
    }
   ],
   "source": [
    "plt.hist(df[\"undp_hdi\"].dropna()) # dentro va la lista \n",
    "df[df[\"undp_hdi\"].isna()][\"cname\"] #no tienen registrado idh\n",
    "#df.dropna()\n",
    "#hdi_dropna = df[\"undp_hdi\"].dropna()\n",
    "\n",
    "plt.hist(hdi_dropna,color=\"lightgrey\")\n",
    "plt.axvline(hdi_dropna.mean(),lw=3, color =\"tomato\", linestyle=\"--\")\n",
    "plt.xlabel(\"IDH\")\n",
    "plt.ylabel(\"Frecuencia\")"
   ]
  },
  {
   "cell_type": "code",
   "execution_count": 14,
   "metadata": {},
   "outputs": [
    {
     "data": {
      "text/html": [
       "<div>\n",
       "<style scoped>\n",
       "    .dataframe tbody tr th:only-of-type {\n",
       "        vertical-align: middle;\n",
       "    }\n",
       "\n",
       "    .dataframe tbody tr th {\n",
       "        vertical-align: top;\n",
       "    }\n",
       "\n",
       "    .dataframe thead th {\n",
       "        text-align: right;\n",
       "    }\n",
       "</style>\n",
       "<table border=\"1\" class=\"dataframe\">\n",
       "  <thead>\n",
       "    <tr style=\"text-align: right;\">\n",
       "      <th></th>\n",
       "      <th>cname</th>\n",
       "      <th>ccode</th>\n",
       "      <th>undp_hdi</th>\n",
       "      <th>ht_region</th>\n",
       "    </tr>\n",
       "  </thead>\n",
       "  <tbody>\n",
       "    <tr>\n",
       "      <th>0</th>\n",
       "      <td>Afghanistan</td>\n",
       "      <td>4</td>\n",
       "      <td>0.479</td>\n",
       "      <td>8</td>\n",
       "    </tr>\n",
       "    <tr>\n",
       "      <th>1</th>\n",
       "      <td>Albania</td>\n",
       "      <td>8</td>\n",
       "      <td>0.762</td>\n",
       "      <td>1</td>\n",
       "    </tr>\n",
       "    <tr>\n",
       "      <th>2</th>\n",
       "      <td>Algeria</td>\n",
       "      <td>12</td>\n",
       "      <td>0.743</td>\n",
       "      <td>3</td>\n",
       "    </tr>\n",
       "    <tr>\n",
       "      <th>3</th>\n",
       "      <td>Andorra</td>\n",
       "      <td>20</td>\n",
       "      <td>0.857</td>\n",
       "      <td>5</td>\n",
       "    </tr>\n",
       "    <tr>\n",
       "      <th>4</th>\n",
       "      <td>Angola</td>\n",
       "      <td>24</td>\n",
       "      <td>0.531</td>\n",
       "      <td>4</td>\n",
       "    </tr>\n",
       "  </tbody>\n",
       "</table>\n",
       "</div>"
      ],
      "text/plain": [
       "         cname  ccode  undp_hdi  ht_region\n",
       "0  Afghanistan      4     0.479          8\n",
       "1      Albania      8     0.762          1\n",
       "2      Algeria     12     0.743          3\n",
       "3      Andorra     20     0.857          5\n",
       "4       Angola     24     0.531          4"
      ]
     },
     "execution_count": 14,
     "metadata": {},
     "output_type": "execute_result"
    }
   ],
   "source": [
    "hdi_group=df.loc[:,[\"cname\",\"ccode\",\"undp_hdi\",\"ht_region\"]]\n",
    "hdi_group.head()"
   ]
  },
  {
   "cell_type": "code",
   "execution_count": 22,
   "metadata": {},
   "outputs": [
    {
     "name": "stdout",
     "output_type": "stream",
     "text": [
      "0          SouthAsia\n",
      "1         EastEurope\n",
      "2        NorthAfrica\n",
      "3         WesternDem\n",
      "4        Subsaharian\n",
      "5          Caribbean\n",
      "6         EastEurope\n",
      "7              Latam\n",
      "8         WesternDem\n",
      "9         WesternDem\n",
      "10         Caribbean\n",
      "11       NorthAfrica\n",
      "12         SouthAsia\n",
      "13        EastEurope\n",
      "14         Caribbean\n",
      "15        WesternDem\n",
      "16         SouthAsia\n",
      "17             Latam\n",
      "18        EastEurope\n",
      "19       Subsaharian\n",
      "20             Latam\n",
      "21         Caribbean\n",
      "22           Pacific\n",
      "23     SouthEastAsia\n",
      "24        EastEurope\n",
      "25     SouthEastAsia\n",
      "26       Subsaharian\n",
      "27        EastEurope\n",
      "28     SouthEastAsia\n",
      "29       Subsaharian\n",
      "           ...      \n",
      "164      Subsaharian\n",
      "165        Caribbean\n",
      "166      Subsaharian\n",
      "167       WesternDem\n",
      "168       WesternDem\n",
      "169      NorthAfrica\n",
      "170       EastEurope\n",
      "171    SouthEastAsia\n",
      "172      Subsaharian\n",
      "173          Pacific\n",
      "174        Caribbean\n",
      "175      NorthAfrica\n",
      "176      NorthAfrica\n",
      "177      NorthAfrica\n",
      "178       EastEurope\n",
      "179          Pacific\n",
      "180      Subsaharian\n",
      "181       EastEurope\n",
      "182       EastEurope\n",
      "183      NorthAfrica\n",
      "184       WesternDem\n",
      "185      Subsaharian\n",
      "186       WesternDem\n",
      "187      Subsaharian\n",
      "188            Latam\n",
      "189       EastEurope\n",
      "190            Latam\n",
      "191          Pacific\n",
      "192      NorthAfrica\n",
      "193      Subsaharian\n",
      "Name: region_recod, Length: 194, dtype: object\n",
      "region_recod\n",
      "Caribbean        0.741154\n",
      "EastAsia         0.817000\n",
      "EastEurope       0.780679\n",
      "Latam            0.721500\n",
      "NorthAfrica      0.748300\n",
      "Pacific          0.643000\n",
      "SouthAsia        0.605125\n",
      "SouthEastAsia    0.695545\n",
      "Subsaharian      0.508813\n",
      "WesternDem       0.902360\n",
      "Name: undp_hdi, dtype: float64\n"
     ]
    },
    {
     "data": {
      "text/plain": [
       "<matplotlib.lines.Line2D at 0x1a32dce5dd8>"
      ]
     },
     "execution_count": 22,
     "metadata": {},
     "output_type": "execute_result"
    },
    {
     "data": {
      "image/png": "[encoded data removed]",
      "text/plain": [
       "<Figure size 432x288 with 1 Axes>"
      ]
     },
     "metadata": {
      "needs_background": "light"
     },
     "output_type": "display_data"
    }
   ],
   "source": [
    "hdi_group[\"region_recod\"]=hdi_group[\"ht_region\"].replace([1,2,3,4,5,6,7,8,9,10],\n",
    "[\"EastEurope\",\"Latam\",\"NorthAfrica\",\"Subsaharian\",\"WesternDem\",\"EastAsia\",\n",
    "\"SouthEastAsia\",\"SouthAsia\",\"Pacific\",\"Caribbean\"])\n",
    "print(hdi_group[\"region_recod\"])\n",
    "hdi_groupby_means = hdi_group.groupby(\"region_recod\")[\"undp_hdi\"].mean() # generar medias a nivel de region groupby por region_recod seleccionando la columna que nos interesa\n",
    "print(hdi_groupby_means)\n",
    "plt.plot(hdi_groupby_means.values,hdi_groupby_means.index,\"o\")\n",
    "plt.axvline(hdi_group[\"undp_hdi\"].mean(),color=\"tomato\",linestyle=\"--\")"
   ]
  },
  {
   "cell_type": "code",
   "execution_count": 23,
   "metadata": {},
   "outputs": [
    {
     "name": "stderr",
     "output_type": "stream",
     "text": [
      "C:\\Users\\proveloz\\Anaconda3\\lib\\site-packages\\matplotlib\\axes\\_axes.py:6521: MatplotlibDeprecationWarning: \n",
      "The 'normed' kwarg was deprecated in Matplotlib 2.1 and will be removed in 3.1. Use 'density' instead.\n",
      "  alternative=\"'density'\", removal=\"3.1\")\n"
     ]
    },
    {
     "data": {
      "text/plain": [
       "(0.3, 1)"
      ]
     },
     "execution_count": 23,
     "metadata": {},
     "output_type": "execute_result"
    },
    {
     "data": {
      "image/png": "[encoded data removed]",
      "text/plain": [
       "<Figure size 432x288 with 1 Axes>"
      ]
     },
     "metadata": {
      "needs_background": "light"
     },
     "output_type": "display_data"
    }
   ],
   "source": [
    "mu = hdi_dropna.mean()\n",
    "sigma = hdi_dropna.var()\n",
    "simulate_normal = np.random.normal(mu,np.sqrt(sigma),1000)\n",
    "plt.hist(simulate_normal,color= \"lightgrey\",alpha=.4,normed= True)\n",
    "\n",
    "plt.xlim(.3,1)"
   ]
  },
  {
   "cell_type": "code",
   "execution_count": null,
   "metadata": {},
   "outputs": [],
   "source": []
  },
  {
   "cell_type": "code",
   "execution_count": 31,
   "metadata": {},
   "outputs": [
    {
     "ename": "SyntaxError",
     "evalue": "invalid syntax (<ipython-input-31-0d6fe758fb69>, line 4)",
     "output_type": "error",
     "traceback": [
      "\u001b[1;36m  File \u001b[1;32m\"<ipython-input-31-0d6fe758fb69>\"\u001b[1;36m, line \u001b[1;32m4\u001b[0m\n\u001b[1;33m    plt.plot = (x_axis,simulate_normal_pdf,color=\"tomato\",lw=3)\u001b[0m\n\u001b[1;37m                                                ^\u001b[0m\n\u001b[1;31mSyntaxError\u001b[0m\u001b[1;31m:\u001b[0m invalid syntax\n"
     ]
    }
   ],
   "source": [
    "from scypi.stats import norm\n",
    "x_axis =np.linspace(.3,1,1000)\n",
    "simulate_normal_pdf = norm.pdf(x_axis,mu,sqrt(sigma))\n",
    "plt.plot=()\n",
    "#plt.plot = (x_axis,simulate_normal_pdf,color=\"tomato\",lw=3)"
   ]
  },
  {
   "cell_type": "code",
   "execution_count": null,
   "metadata": {},
   "outputs": [],
   "source": []
  }
 ],
 "metadata": {
  "kernelspec": {
   "display_name": "Python 3",
   "language": "python",
   "name": "python3"
  },
  "language_info": {
   "codemirror_mode": {
    "name": "ipython",
    "version": 3
   },
   "file_extension": ".py",
   "mimetype": "text/x-python",
   "name": "python",
   "nbconvert_exporter": "python",
   "pygments_lexer": "ipython3",
   "version": "3.7.3"
  }
 },
 "nbformat": 4,
 "nbformat_minor": 2
}
