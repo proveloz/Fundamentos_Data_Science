{
 "cells": [
  {
   "cell_type": "markdown",
   "metadata": {},
   "source": [
    "# Prueba Hito 1(Parte I)\n",
    "Autor: Pablo Veloz M."
   ]
  },
  {
   "cell_type": "markdown",
   "metadata": {},
   "source": [
    "Desafío 1: Determinantes del ingreso\n",
    "\n",
    "__Enunciado:__\n",
    "\n",
    "Usted trabaja para un  organismo no  gubernamental que está interesado en  las  dinámicassocioeconómicas que determinan la desigualdad de ingreso y la erradicación de la pobreza extrema,enmarcado dentro de los objetivos del desarrollo del nuevo milenio del Programa de las NacionesUnidas para el  Desarrollo.\n",
    "Le  encomiendan el  desarrollo de  un  modelo predictivo  sobre laprobabilidad que un individuo presente salarios por sobre o bajo los 50.000 dólares anuales, en basea una serie de atributos sociodemográficos."
   ]
  },
  {
   "cell_type": "markdown",
   "metadata": {},
   "source": [
    "__Descripción de la base de datos__\n",
    "Para desarrollar este desafío se debe utilizar la base de datos income-db.csv .\n",
    "Las variables que componen esta base se detallan a continuación:\n",
    "- `age` : Edad del individuo.\n",
    "- `workclass` : Naturaleza de la organización que emplea al individuo.\n",
    "- `education` : Nivel educacional del individuo:Bachelors (Licenciado), Some-college (Superior\n",
    "incompleta), 11th (3ro medio), HS-grad (Secundaria completa), Prof-school (Escuela\n",
    "profesional), Assoc-acdm (Técnico superior administrativo) , Assoc-voc (Técnico superior\n",
    "vocacional), 9th (1ro medio), 7th-8th (7mo-8vo), 12th (4to medio), Masters (Maestría de\n",
    "postgrado), 1st-4th (1ro-4to básico), 10th(2do medio), Doctorate (Doctorado), 5th-6th (5to-6to),\n",
    "Preschool (Preescolar).\n",
    "- `capital-gains` : Ingresos generados por inversiones fuera del trabajo asalariado = Ingresos\n",
    "generados por inversiones fuera del trabajo asalariado.\n",
    "- `capital-losses` : Pérdidas generadas por inversiones fuera del trabajo asalariado.\n",
    "- `fnlwgt` : Ponderador muestral.\n",
    "- `marital-status` : Estado civil del individuo: Married-civ-spouse (Casado/a régimen civil),\n",
    "Divorced (Divorciado/a), Never-married (Soltero/a), Separated (Separado/a), Widowed (Viudo/a),\n",
    "Married-spouse-absent (Casado con esposo/a ausente), Married-AF-spouse (Casado/a régimen\n",
    "castrense).\n",
    "- `occupation` : Ocupación del individuo: Tech-support (Soporte técnico), Craft-repair\n",
    "(Reparaciones), Other-service (Otros servicios), Sales (Ventas), Exec-managerial (Ejecutivo\n",
    "administrativos), Prof-specialty (Profesores), Handlers-cleaners (Aseo y ornato), Machine-op-\n",
    "inspct (Inspectores de maquinarias), Adm-clerical (Administrativos servicio al cliente), Farming-\n",
    "fishing (Pesca-ganadería), Transport-moving (Transporte), Priv-house-serv (Asesor del hogar),\n",
    "Protective-serv (servicios de seguridad), Armed-Forces (Fuerzas armadas).\n",
    "- `relationship` : Relación respecto a su familia Wife(Esposa), Own-child (hijo único), Husband\n",
    "(Esposo), Not-in-family (No pertenece a la familia), Other-relative (Familiar de otro tipo),\n",
    "Unmarried (Soltero).\n",
    "- `race` : Raza del encuestado White(Blanco caucásico), Asian-Pac-Islander (Isleño del Asia\n",
    "Pacífico), Amer-Indian-Eskimo (Pertenenciente a pueblos originarios), Other (Otro grupo), Black\n",
    "(Afroamericano).\n",
    "- `sex` : Sexo del encuestado.hours-per-week : Cantidad de horas trabajadas por semana.\n",
    "- `native-country`: País de origen. United-States, Cambodia, England, Puerto-Rico, Canada,\n",
    "Germany, Outlying-US(Guam-USVI-etc), India, Japan, Greece, South, China, Cuba, Iran,\n",
    "Honduras, Philippines, Italy, Poland, Jamaica, Vietnam, Mexico, Portugal, Ireland, France,\n",
    "Dominican-Republic, Laos, Ecuador, Taiwan, Haiti, Columbia, Hungary, Guatemala, Nicaragua,\n",
    "Scotland, Thailand, Yugoslavia, El-Salvador, Trinadad&Tobago, Peru, Hong, Holand-\n",
    "Netherlands.\n",
    "- `income` : <=50K Si el individuo percibe ingresos inferiores a 50.000 dólares anuales, >50K si\n",
    "el individuo percibe ingresos superiores a 50.000 dólares anuales. Este es su vector objetivo."
   ]
  },
  {
   "cell_type": "markdown",
   "metadata": {},
   "source": [
    "# __Objetivo:__\n",
    "- __Desarrollar un modelo predictivo sobre la probabilidad que un individuo presente salarios por sobre o bajo los 50.000 dólares anuales, en base a una serie de atributos sociodemográficos.__\n",
    "\n",
    "   * __Completar el punto de Preliminares, así como Aspectos computacionales.__\n",
    "       * Elementos a considerar:\n",
    "        *  Los dos enunciados deben estar clarificados, considerando el tipo de problema a resolver (regresión o clasificación). Para cada uno de los enunciados y su problema identificado, se debe justificar el uso de métricas para medir el desempeño del problema. (3 puntos)\n",
    "        * Se debe considerar el uso de las librerías asociadas para la ingesta, preprocesamiento, visualización y modelación, así como métricas de evaluación. (1 punto) \n",
    "        * Se debe detallar y considerar el proceso de preprocesamiento y recodificación de datos. (1 punto)\n",
    "    * Se debe considerar el uso de las librerías asociadas para la ingesta, preprocesamiento, visualización y modelación, así como métricas de evaluación. (1 punto) \n",
    "    -Importe las libreria, para la ingesta de preprocesamiento:"
   ]
  },
  {
   "cell_type": "code",
   "execution_count": 87,
   "metadata": {},
   "outputs": [],
   "source": [
    "import pandas as pd\n",
    "import numpy as np"
   ]
  },
  {
   "cell_type": "markdown",
   "metadata": {},
   "source": [
    "## __Aspecto Preliminar:__"
   ]
  },
  {
   "cell_type": "code",
   "execution_count": 88,
   "metadata": {},
   "outputs": [
    {
     "data": {
      "text/plain": [
       "(48842, 15)"
      ]
     },
     "execution_count": 88,
     "metadata": {},
     "output_type": "execute_result"
    }
   ],
   "source": [
    "df = pd.read_csv(\"income-db.csv\")\n",
    "df.shape"
   ]
  },
  {
   "cell_type": "code",
   "execution_count": 89,
   "metadata": {},
   "outputs": [
    {
     "data": {
      "text/html": [
       "<div>\n",
       "<style scoped>\n",
       "    .dataframe tbody tr th:only-of-type {\n",
       "        vertical-align: middle;\n",
       "    }\n",
       "\n",
       "    .dataframe tbody tr th {\n",
       "        vertical-align: top;\n",
       "    }\n",
       "\n",
       "    .dataframe thead th {\n",
       "        text-align: right;\n",
       "    }\n",
       "</style>\n",
       "<table border=\"1\" class=\"dataframe\">\n",
       "  <thead>\n",
       "    <tr style=\"text-align: right;\">\n",
       "      <th></th>\n",
       "      <th>age</th>\n",
       "      <th>workclass</th>\n",
       "      <th>fnlwgt</th>\n",
       "      <th>education</th>\n",
       "      <th>educational-num</th>\n",
       "      <th>marital-status</th>\n",
       "      <th>occupation</th>\n",
       "      <th>relationship</th>\n",
       "      <th>race</th>\n",
       "      <th>gender</th>\n",
       "      <th>capital-gain</th>\n",
       "      <th>capital-loss</th>\n",
       "      <th>hours-per-week</th>\n",
       "      <th>native-country</th>\n",
       "      <th>income</th>\n",
       "    </tr>\n",
       "  </thead>\n",
       "  <tbody>\n",
       "    <tr>\n",
       "      <th>0</th>\n",
       "      <td>25</td>\n",
       "      <td>Private</td>\n",
       "      <td>226802</td>\n",
       "      <td>11th</td>\n",
       "      <td>7</td>\n",
       "      <td>Never-married</td>\n",
       "      <td>Machine-op-inspct</td>\n",
       "      <td>Own-child</td>\n",
       "      <td>Black</td>\n",
       "      <td>Male</td>\n",
       "      <td>0</td>\n",
       "      <td>0</td>\n",
       "      <td>40</td>\n",
       "      <td>United-States</td>\n",
       "      <td>&lt;=50K</td>\n",
       "    </tr>\n",
       "    <tr>\n",
       "      <th>1</th>\n",
       "      <td>38</td>\n",
       "      <td>Private</td>\n",
       "      <td>89814</td>\n",
       "      <td>HS-grad</td>\n",
       "      <td>9</td>\n",
       "      <td>Married-civ-spouse</td>\n",
       "      <td>Farming-fishing</td>\n",
       "      <td>Husband</td>\n",
       "      <td>White</td>\n",
       "      <td>Male</td>\n",
       "      <td>0</td>\n",
       "      <td>0</td>\n",
       "      <td>50</td>\n",
       "      <td>United-States</td>\n",
       "      <td>&lt;=50K</td>\n",
       "    </tr>\n",
       "    <tr>\n",
       "      <th>2</th>\n",
       "      <td>28</td>\n",
       "      <td>Local-gov</td>\n",
       "      <td>336951</td>\n",
       "      <td>Assoc-acdm</td>\n",
       "      <td>12</td>\n",
       "      <td>Married-civ-spouse</td>\n",
       "      <td>Protective-serv</td>\n",
       "      <td>Husband</td>\n",
       "      <td>White</td>\n",
       "      <td>Male</td>\n",
       "      <td>0</td>\n",
       "      <td>0</td>\n",
       "      <td>40</td>\n",
       "      <td>United-States</td>\n",
       "      <td>&gt;50K</td>\n",
       "    </tr>\n",
       "    <tr>\n",
       "      <th>3</th>\n",
       "      <td>44</td>\n",
       "      <td>Private</td>\n",
       "      <td>160323</td>\n",
       "      <td>Some-college</td>\n",
       "      <td>10</td>\n",
       "      <td>Married-civ-spouse</td>\n",
       "      <td>Machine-op-inspct</td>\n",
       "      <td>Husband</td>\n",
       "      <td>Black</td>\n",
       "      <td>Male</td>\n",
       "      <td>7688</td>\n",
       "      <td>0</td>\n",
       "      <td>40</td>\n",
       "      <td>United-States</td>\n",
       "      <td>&gt;50K</td>\n",
       "    </tr>\n",
       "    <tr>\n",
       "      <th>4</th>\n",
       "      <td>18</td>\n",
       "      <td>?</td>\n",
       "      <td>103497</td>\n",
       "      <td>Some-college</td>\n",
       "      <td>10</td>\n",
       "      <td>Never-married</td>\n",
       "      <td>?</td>\n",
       "      <td>Own-child</td>\n",
       "      <td>White</td>\n",
       "      <td>Female</td>\n",
       "      <td>0</td>\n",
       "      <td>0</td>\n",
       "      <td>30</td>\n",
       "      <td>United-States</td>\n",
       "      <td>&lt;=50K</td>\n",
       "    </tr>\n",
       "  </tbody>\n",
       "</table>\n",
       "</div>"
      ],
      "text/plain": [
       "   age  workclass  fnlwgt     education  educational-num      marital-status  \\\n",
       "0   25    Private  226802          11th                7       Never-married   \n",
       "1   38    Private   89814       HS-grad                9  Married-civ-spouse   \n",
       "2   28  Local-gov  336951    Assoc-acdm               12  Married-civ-spouse   \n",
       "3   44    Private  160323  Some-college               10  Married-civ-spouse   \n",
       "4   18          ?  103497  Some-college               10       Never-married   \n",
       "\n",
       "          occupation relationship   race  gender  capital-gain  capital-loss  \\\n",
       "0  Machine-op-inspct    Own-child  Black    Male             0             0   \n",
       "1    Farming-fishing      Husband  White    Male             0             0   \n",
       "2    Protective-serv      Husband  White    Male             0             0   \n",
       "3  Machine-op-inspct      Husband  Black    Male          7688             0   \n",
       "4                  ?    Own-child  White  Female             0             0   \n",
       "\n",
       "   hours-per-week native-country income  \n",
       "0              40  United-States  <=50K  \n",
       "1              50  United-States  <=50K  \n",
       "2              40  United-States   >50K  \n",
       "3              40  United-States   >50K  \n",
       "4              30  United-States  <=50K  "
      ]
     },
     "execution_count": 89,
     "metadata": {},
     "output_type": "execute_result"
    }
   ],
   "source": [
    "df.head(5)"
   ]
  },
  {
   "cell_type": "code",
   "execution_count": 90,
   "metadata": {},
   "outputs": [
    {
     "name": "stdout",
     "output_type": "stream",
     "text": [
      "Cantidad de columnas del dataframe:  15\n"
     ]
    }
   ],
   "source": [
    "print(\"Cantidad de columnas del dataframe: \",len(df.columns))"
   ]
  },
  {
   "cell_type": "markdown",
   "metadata": {},
   "source": [
    "A partir de lo anterior, podemos fijar como varible objetivo a __income__. Es decir, determinar el ingreso de una persona si es superior o inferior a 50k. A partir de esto, se verá la importancia y el peso de cada variable del dataframe en __income__, y poder señalar si con ciertas condiciones, tendrá un ingreso superior o inferior a __50K__."
   ]
  },
  {
   "cell_type": "code",
   "execution_count": 91,
   "metadata": {},
   "outputs": [
    {
     "data": {
      "text/plain": [
       "<=50K    37155\n",
       ">50K     11687\n",
       "Name: income, dtype: int64"
      ]
     },
     "execution_count": 91,
     "metadata": {},
     "output_type": "execute_result"
    }
   ],
   "source": [
    "df[\"income\"].value_counts()"
   ]
  },
  {
   "cell_type": "markdown",
   "metadata": {},
   "source": [
    "__Variable Objetivo__:<font color='red'>income</font>"
   ]
  },
  {
   "cell_type": "markdown",
   "metadata": {},
   "source": [
    "Inspeccionando los __tipos__ de variable de nuestro dataframe, y fijandonos en la variable variable objetivo __income__"
   ]
  },
  {
   "cell_type": "code",
   "execution_count": 92,
   "metadata": {},
   "outputs": [
    {
     "data": {
      "text/plain": [
       "age                 int64\n",
       "workclass          object\n",
       "fnlwgt              int64\n",
       "education          object\n",
       "educational-num     int64\n",
       "marital-status     object\n",
       "occupation         object\n",
       "relationship       object\n",
       "race               object\n",
       "gender             object\n",
       "capital-gain        int64\n",
       "capital-loss        int64\n",
       "hours-per-week      int64\n",
       "native-country     object\n",
       "income             object\n",
       "dtype: object"
      ]
     },
     "execution_count": 92,
     "metadata": {},
     "output_type": "execute_result"
    }
   ],
   "source": [
    "df.dtypes"
   ]
  },
  {
   "cell_type": "markdown",
   "metadata": {},
   "source": [
    "La variable __income__ se reconoce en Pandas como Object, es decir, en términos nativos de python sería tipo String, y en términos estadísticos sería categórica"
   ]
  },
  {
   "cell_type": "code",
   "execution_count": 93,
   "metadata": {},
   "outputs": [
    {
     "data": {
      "text/html": [
       "<div>\n",
       "<style scoped>\n",
       "    .dataframe tbody tr th:only-of-type {\n",
       "        vertical-align: middle;\n",
       "    }\n",
       "\n",
       "    .dataframe tbody tr th {\n",
       "        vertical-align: top;\n",
       "    }\n",
       "\n",
       "    .dataframe thead th {\n",
       "        text-align: right;\n",
       "    }\n",
       "</style>\n",
       "<table border=\"1\" class=\"dataframe\">\n",
       "  <thead>\n",
       "    <tr style=\"text-align: right;\">\n",
       "      <th></th>\n",
       "      <th>Pandas</th>\n",
       "      <th>Python</th>\n",
       "      <th>Estadistica</th>\n",
       "    </tr>\n",
       "  </thead>\n",
       "  <tbody>\n",
       "    <tr>\n",
       "      <th>0</th>\n",
       "      <td>Object</td>\n",
       "      <td>String</td>\n",
       "      <td>Categórica</td>\n",
       "    </tr>\n",
       "  </tbody>\n",
       "</table>\n",
       "</div>"
      ],
      "text/plain": [
       "   Pandas  Python Estadistica\n",
       "0  Object  String  Categórica"
      ]
     },
     "execution_count": 93,
     "metadata": {},
     "output_type": "execute_result"
    }
   ],
   "source": [
    "pd.DataFrame({'Pandas':'Object','Python':'String','Estadistica':'Categórica'}, index=[0])"
   ]
  },
  {
   "cell_type": "markdown",
   "metadata": {},
   "source": [
    "- Inspeccionando la variable y poder asignar un modelo de estudio ya sea __Clasificación__ o __Regresión__.\n",
    "- Los modelos de clasificación confirman que una un vector objetivo responde a un atributo discreto. Esto se confirma cuando aplicamos el método __value_counts()__ sobre la variable objetivo.\n",
    "- Por lo tanto, nuestro estudio se enmarcará en esclarecer un problema de __clasificación binaria__\n",
    "- Entonces, para la  visualización y modelación se importarán las siguientes librerias:"
   ]
  },
  {
   "cell_type": "markdown",
   "metadata": {},
   "source": [
    "## Módulos básicos para las métricas y el análisis de datos:\n",
    "* import `matplotlib.pyplot` as `plt`\n",
    "    - Se ocupara para plottear relaciones entre variables en 2D.\n",
    "* Import `seaborn`\n",
    "    - Se ocupará para visualizar relaciones, si bien se basa en mathplotlib posee una alternativa más atractiva e informativa para las graficas.\n",
    "* Import `statsmodels`\n",
    "    - Es una libreria que se ocupará para la estimación del modelo en virtud de nuestra variable objetivo `income`.\n",
    "* Import `sklearn`\n",
    "    -  La ocuparemos para el data analisis de las predicciones.\n",
    "* Import `linear_model LogisticRegression`\n",
    "    - La ocuparemos para reproducir un modelo lineal de la variable `income`\n",
    "* from sklearn `train_test_split`\n",
    "    - Obtendremos una division de los datos, para entrenar y testear.\n",
    "* from sklearn `preprocessing StandardScaler`\n",
    "* Import `classification_report` from classification report `roc_curve`\n",
    "    - Métricas para poder evaluar nuestro modelo predictivo."
   ]
  },
  {
   "cell_type": "markdown",
   "metadata": {},
   "source": [
    "* Detalle de los pasos a seguir:\n",
    "    * ## Análisis Exploratorio.\n",
    "        * Depurar nan, y valores que generen cierto \"error\" en la lectura y metricas.\n",
    "        * Uso de boxplots y barplot si corresponde a un atributo númerico o categórico respectivamente.\n",
    "        * Mapa de correlación\n",
    "    * ## Modelación Económetrica.\n",
    "        * Binarización de variables categóricas. En los casos:\n",
    "             * `Education:` Básica_Media y Universitaria\n",
    "             * `Race:` White y no_white\n",
    "             * `Worklass:` Private, Gov y Otros\n",
    "             * `marital-Status`: Marrid y no_Married\n",
    "             * `Gender`: male  y female\n",
    "    * ## Entrenar Modelo.\n",
    "    * ## Validación a partir de las Métricas obtenidos."
   ]
  },
  {
   "cell_type": "markdown",
   "metadata": {},
   "source": [
    "# Prueba Hito 2 Income(Parte II)\n",
    "Autor: Pablo Veloz M."
   ]
  },
  {
   "cell_type": "markdown",
   "metadata": {},
   "source": [
    "# __Objetivo__\n",
    "* ## Completar el punto de Descripción.\n",
    "    * ### Elementos a considerar\n",
    "        * La inspección visual del vector objetivo. (2 puntos)\n",
    "        * La inspección visual de las variables. (2 puntos)\n",
    "        * La inspección de datos perdidos en las variables. (1 punto)\n",
    "        * De ser necesario, se puede iterar en el proceso de preprocesamiento y recodificación de las variables"
   ]
  },
  {
   "cell_type": "code",
   "execution_count": 94,
   "metadata": {},
   "outputs": [],
   "source": [
    "import pandas as pd\n",
    "import numpy as np"
   ]
  },
  {
   "cell_type": "markdown",
   "metadata": {},
   "source": [
    "## __Aspecto Preliminar:__"
   ]
  },
  {
   "cell_type": "code",
   "execution_count": 95,
   "metadata": {},
   "outputs": [
    {
     "data": {
      "text/plain": [
       "(48842, 15)"
      ]
     },
     "execution_count": 95,
     "metadata": {},
     "output_type": "execute_result"
    }
   ],
   "source": [
    "df = pd.read_csv(\"income-db.csv\")\n",
    "df.shape"
   ]
  },
  {
   "cell_type": "code",
   "execution_count": 96,
   "metadata": {},
   "outputs": [
    {
     "data": {
      "text/html": [
       "<div>\n",
       "<style scoped>\n",
       "    .dataframe tbody tr th:only-of-type {\n",
       "        vertical-align: middle;\n",
       "    }\n",
       "\n",
       "    .dataframe tbody tr th {\n",
       "        vertical-align: top;\n",
       "    }\n",
       "\n",
       "    .dataframe thead th {\n",
       "        text-align: right;\n",
       "    }\n",
       "</style>\n",
       "<table border=\"1\" class=\"dataframe\">\n",
       "  <thead>\n",
       "    <tr style=\"text-align: right;\">\n",
       "      <th></th>\n",
       "      <th>age</th>\n",
       "      <th>workclass</th>\n",
       "      <th>fnlwgt</th>\n",
       "      <th>education</th>\n",
       "      <th>educational-num</th>\n",
       "      <th>marital-status</th>\n",
       "      <th>occupation</th>\n",
       "      <th>relationship</th>\n",
       "      <th>race</th>\n",
       "      <th>gender</th>\n",
       "      <th>capital-gain</th>\n",
       "      <th>capital-loss</th>\n",
       "      <th>hours-per-week</th>\n",
       "      <th>native-country</th>\n",
       "      <th>income</th>\n",
       "    </tr>\n",
       "  </thead>\n",
       "  <tbody>\n",
       "    <tr>\n",
       "      <th>0</th>\n",
       "      <td>25</td>\n",
       "      <td>Private</td>\n",
       "      <td>226802</td>\n",
       "      <td>11th</td>\n",
       "      <td>7</td>\n",
       "      <td>Never-married</td>\n",
       "      <td>Machine-op-inspct</td>\n",
       "      <td>Own-child</td>\n",
       "      <td>Black</td>\n",
       "      <td>Male</td>\n",
       "      <td>0</td>\n",
       "      <td>0</td>\n",
       "      <td>40</td>\n",
       "      <td>United-States</td>\n",
       "      <td>&lt;=50K</td>\n",
       "    </tr>\n",
       "    <tr>\n",
       "      <th>1</th>\n",
       "      <td>38</td>\n",
       "      <td>Private</td>\n",
       "      <td>89814</td>\n",
       "      <td>HS-grad</td>\n",
       "      <td>9</td>\n",
       "      <td>Married-civ-spouse</td>\n",
       "      <td>Farming-fishing</td>\n",
       "      <td>Husband</td>\n",
       "      <td>White</td>\n",
       "      <td>Male</td>\n",
       "      <td>0</td>\n",
       "      <td>0</td>\n",
       "      <td>50</td>\n",
       "      <td>United-States</td>\n",
       "      <td>&lt;=50K</td>\n",
       "    </tr>\n",
       "    <tr>\n",
       "      <th>2</th>\n",
       "      <td>28</td>\n",
       "      <td>Local-gov</td>\n",
       "      <td>336951</td>\n",
       "      <td>Assoc-acdm</td>\n",
       "      <td>12</td>\n",
       "      <td>Married-civ-spouse</td>\n",
       "      <td>Protective-serv</td>\n",
       "      <td>Husband</td>\n",
       "      <td>White</td>\n",
       "      <td>Male</td>\n",
       "      <td>0</td>\n",
       "      <td>0</td>\n",
       "      <td>40</td>\n",
       "      <td>United-States</td>\n",
       "      <td>&gt;50K</td>\n",
       "    </tr>\n",
       "    <tr>\n",
       "      <th>3</th>\n",
       "      <td>44</td>\n",
       "      <td>Private</td>\n",
       "      <td>160323</td>\n",
       "      <td>Some-college</td>\n",
       "      <td>10</td>\n",
       "      <td>Married-civ-spouse</td>\n",
       "      <td>Machine-op-inspct</td>\n",
       "      <td>Husband</td>\n",
       "      <td>Black</td>\n",
       "      <td>Male</td>\n",
       "      <td>7688</td>\n",
       "      <td>0</td>\n",
       "      <td>40</td>\n",
       "      <td>United-States</td>\n",
       "      <td>&gt;50K</td>\n",
       "    </tr>\n",
       "    <tr>\n",
       "      <th>4</th>\n",
       "      <td>18</td>\n",
       "      <td>?</td>\n",
       "      <td>103497</td>\n",
       "      <td>Some-college</td>\n",
       "      <td>10</td>\n",
       "      <td>Never-married</td>\n",
       "      <td>?</td>\n",
       "      <td>Own-child</td>\n",
       "      <td>White</td>\n",
       "      <td>Female</td>\n",
       "      <td>0</td>\n",
       "      <td>0</td>\n",
       "      <td>30</td>\n",
       "      <td>United-States</td>\n",
       "      <td>&lt;=50K</td>\n",
       "    </tr>\n",
       "  </tbody>\n",
       "</table>\n",
       "</div>"
      ],
      "text/plain": [
       "   age  workclass  fnlwgt     education  educational-num      marital-status  \\\n",
       "0   25    Private  226802          11th                7       Never-married   \n",
       "1   38    Private   89814       HS-grad                9  Married-civ-spouse   \n",
       "2   28  Local-gov  336951    Assoc-acdm               12  Married-civ-spouse   \n",
       "3   44    Private  160323  Some-college               10  Married-civ-spouse   \n",
       "4   18          ?  103497  Some-college               10       Never-married   \n",
       "\n",
       "          occupation relationship   race  gender  capital-gain  capital-loss  \\\n",
       "0  Machine-op-inspct    Own-child  Black    Male             0             0   \n",
       "1    Farming-fishing      Husband  White    Male             0             0   \n",
       "2    Protective-serv      Husband  White    Male             0             0   \n",
       "3  Machine-op-inspct      Husband  Black    Male          7688             0   \n",
       "4                  ?    Own-child  White  Female             0             0   \n",
       "\n",
       "   hours-per-week native-country income  \n",
       "0              40  United-States  <=50K  \n",
       "1              50  United-States  <=50K  \n",
       "2              40  United-States   >50K  \n",
       "3              40  United-States   >50K  \n",
       "4              30  United-States  <=50K  "
      ]
     },
     "execution_count": 96,
     "metadata": {},
     "output_type": "execute_result"
    }
   ],
   "source": [
    "df.head(5)"
   ]
  },
  {
   "cell_type": "markdown",
   "metadata": {},
   "source": [
    "### Podemos observar que el dataframe, cuenta con datos en variadas columnas y filas como __?__. Inicialmente, contaremos cuantos de ellos hay en cada columna."
   ]
  },
  {
   "cell_type": "code",
   "execution_count": 97,
   "metadata": {},
   "outputs": [
    {
     "name": "stdout",
     "output_type": "stream",
     "text": [
      "***************************************\n",
      "age Series([], Name: age, dtype: int64)\n",
      "***************************************\n",
      "workclass ?    2799\n",
      "Name: workclass, dtype: int64\n",
      "***************************************\n",
      "fnlwgt Series([], Name: fnlwgt, dtype: int64)\n",
      "***************************************\n",
      "education Series([], Name: education, dtype: int64)\n",
      "***************************************\n",
      "educational-num Series([], Name: educational-num, dtype: int64)\n",
      "***************************************\n",
      "marital-status Series([], Name: marital-status, dtype: int64)\n",
      "***************************************\n",
      "occupation ?    2809\n",
      "Name: occupation, dtype: int64\n",
      "***************************************\n",
      "relationship Series([], Name: relationship, dtype: int64)\n",
      "***************************************\n",
      "race Series([], Name: race, dtype: int64)\n",
      "***************************************\n",
      "gender Series([], Name: gender, dtype: int64)\n",
      "***************************************\n",
      "capital-gain Series([], Name: capital-gain, dtype: int64)\n",
      "***************************************\n",
      "capital-loss Series([], Name: capital-loss, dtype: int64)\n",
      "***************************************\n",
      "hours-per-week Series([], Name: hours-per-week, dtype: int64)\n",
      "***************************************\n",
      "native-country ?    857\n",
      "Name: native-country, dtype: int64\n",
      "***************************************\n",
      "income Series([], Name: income, dtype: int64)\n"
     ]
    },
    {
     "name": "stderr",
     "output_type": "stream",
     "text": [
      "/home/proveloz/anaconda3/lib/python3.7/site-packages/pandas/core/ops.py:1649: FutureWarning: elementwise comparison failed; returning scalar instead, but in the future will perform elementwise comparison\n",
      "  result = method(y)\n"
     ]
    }
   ],
   "source": [
    "for i,n in enumerate(df.columns):\n",
    "    print(\"***************************************\")\n",
    "    print(n,df[df[n]==\"?\"][n].value_counts())\n",
    "#print(df[df['workclass']==\"?\"]['workclass'].value_counts()[0])\n",
    "\n"
   ]
  },
  {
   "cell_type": "markdown",
   "metadata": {},
   "source": [
    "### Las columnas afectadas con __?__ en el dataframe corresponden a: \n",
    "* [\"workclass\", \"occupation\",\"native-country\"]\n",
    "\n",
    "### Crearemos una variable df2, que guarde el cambio de los datos __?__ a NaN."
   ]
  },
  {
   "cell_type": "code",
   "execution_count": 98,
   "metadata": {},
   "outputs": [],
   "source": [
    "df2 = pd.read_csv('income-db.csv', na_values=[\"?\"])\n"
   ]
  },
  {
   "cell_type": "code",
   "execution_count": 99,
   "metadata": {},
   "outputs": [
    {
     "data": {
      "text/html": [
       "<div>\n",
       "<style scoped>\n",
       "    .dataframe tbody tr th:only-of-type {\n",
       "        vertical-align: middle;\n",
       "    }\n",
       "\n",
       "    .dataframe tbody tr th {\n",
       "        vertical-align: top;\n",
       "    }\n",
       "\n",
       "    .dataframe thead th {\n",
       "        text-align: right;\n",
       "    }\n",
       "</style>\n",
       "<table border=\"1\" class=\"dataframe\">\n",
       "  <thead>\n",
       "    <tr style=\"text-align: right;\">\n",
       "      <th></th>\n",
       "      <th>age</th>\n",
       "      <th>workclass</th>\n",
       "      <th>fnlwgt</th>\n",
       "      <th>education</th>\n",
       "      <th>educational-num</th>\n",
       "      <th>marital-status</th>\n",
       "      <th>occupation</th>\n",
       "      <th>relationship</th>\n",
       "      <th>race</th>\n",
       "      <th>gender</th>\n",
       "      <th>capital-gain</th>\n",
       "      <th>capital-loss</th>\n",
       "      <th>hours-per-week</th>\n",
       "      <th>native-country</th>\n",
       "      <th>income</th>\n",
       "    </tr>\n",
       "  </thead>\n",
       "  <tbody>\n",
       "    <tr>\n",
       "      <th>0</th>\n",
       "      <td>25</td>\n",
       "      <td>Private</td>\n",
       "      <td>226802</td>\n",
       "      <td>11th</td>\n",
       "      <td>7</td>\n",
       "      <td>Never-married</td>\n",
       "      <td>Machine-op-inspct</td>\n",
       "      <td>Own-child</td>\n",
       "      <td>Black</td>\n",
       "      <td>Male</td>\n",
       "      <td>0</td>\n",
       "      <td>0</td>\n",
       "      <td>40</td>\n",
       "      <td>United-States</td>\n",
       "      <td>&lt;=50K</td>\n",
       "    </tr>\n",
       "    <tr>\n",
       "      <th>1</th>\n",
       "      <td>38</td>\n",
       "      <td>Private</td>\n",
       "      <td>89814</td>\n",
       "      <td>HS-grad</td>\n",
       "      <td>9</td>\n",
       "      <td>Married-civ-spouse</td>\n",
       "      <td>Farming-fishing</td>\n",
       "      <td>Husband</td>\n",
       "      <td>White</td>\n",
       "      <td>Male</td>\n",
       "      <td>0</td>\n",
       "      <td>0</td>\n",
       "      <td>50</td>\n",
       "      <td>United-States</td>\n",
       "      <td>&lt;=50K</td>\n",
       "    </tr>\n",
       "    <tr>\n",
       "      <th>2</th>\n",
       "      <td>28</td>\n",
       "      <td>Local-gov</td>\n",
       "      <td>336951</td>\n",
       "      <td>Assoc-acdm</td>\n",
       "      <td>12</td>\n",
       "      <td>Married-civ-spouse</td>\n",
       "      <td>Protective-serv</td>\n",
       "      <td>Husband</td>\n",
       "      <td>White</td>\n",
       "      <td>Male</td>\n",
       "      <td>0</td>\n",
       "      <td>0</td>\n",
       "      <td>40</td>\n",
       "      <td>United-States</td>\n",
       "      <td>&gt;50K</td>\n",
       "    </tr>\n",
       "    <tr>\n",
       "      <th>3</th>\n",
       "      <td>44</td>\n",
       "      <td>Private</td>\n",
       "      <td>160323</td>\n",
       "      <td>Some-college</td>\n",
       "      <td>10</td>\n",
       "      <td>Married-civ-spouse</td>\n",
       "      <td>Machine-op-inspct</td>\n",
       "      <td>Husband</td>\n",
       "      <td>Black</td>\n",
       "      <td>Male</td>\n",
       "      <td>7688</td>\n",
       "      <td>0</td>\n",
       "      <td>40</td>\n",
       "      <td>United-States</td>\n",
       "      <td>&gt;50K</td>\n",
       "    </tr>\n",
       "    <tr>\n",
       "      <th>4</th>\n",
       "      <td>18</td>\n",
       "      <td>NaN</td>\n",
       "      <td>103497</td>\n",
       "      <td>Some-college</td>\n",
       "      <td>10</td>\n",
       "      <td>Never-married</td>\n",
       "      <td>NaN</td>\n",
       "      <td>Own-child</td>\n",
       "      <td>White</td>\n",
       "      <td>Female</td>\n",
       "      <td>0</td>\n",
       "      <td>0</td>\n",
       "      <td>30</td>\n",
       "      <td>United-States</td>\n",
       "      <td>&lt;=50K</td>\n",
       "    </tr>\n",
       "  </tbody>\n",
       "</table>\n",
       "</div>"
      ],
      "text/plain": [
       "   age  workclass  fnlwgt     education  educational-num      marital-status  \\\n",
       "0   25    Private  226802          11th                7       Never-married   \n",
       "1   38    Private   89814       HS-grad                9  Married-civ-spouse   \n",
       "2   28  Local-gov  336951    Assoc-acdm               12  Married-civ-spouse   \n",
       "3   44    Private  160323  Some-college               10  Married-civ-spouse   \n",
       "4   18        NaN  103497  Some-college               10       Never-married   \n",
       "\n",
       "          occupation relationship   race  gender  capital-gain  capital-loss  \\\n",
       "0  Machine-op-inspct    Own-child  Black    Male             0             0   \n",
       "1    Farming-fishing      Husband  White    Male             0             0   \n",
       "2    Protective-serv      Husband  White    Male             0             0   \n",
       "3  Machine-op-inspct      Husband  Black    Male          7688             0   \n",
       "4                NaN    Own-child  White  Female             0             0   \n",
       "\n",
       "   hours-per-week native-country income  \n",
       "0              40  United-States  <=50K  \n",
       "1              50  United-States  <=50K  \n",
       "2              40  United-States   >50K  \n",
       "3              40  United-States   >50K  \n",
       "4              30  United-States  <=50K  "
      ]
     },
     "execution_count": 99,
     "metadata": {},
     "output_type": "execute_result"
    }
   ],
   "source": [
    "df2.head(5)"
   ]
  },
  {
   "cell_type": "markdown",
   "metadata": {},
   "source": [
    "### Recodificar Variables:\n",
    "- occupation: collars\n",
    "    - white-collar:Prof-specialty, Exec-managerial, Adm-clerical, Sales,Tech-support.\n",
    "    - blue-collar: raft-repair, Machine-op-inspct, Transport-moving.\n",
    "    - others: Other-service, Armed-Forces\n",
    "- workclass: workclass_recod\n",
    "    - federal-gov:Federal-gov.\n",
    "    - state-level-gov:State-gov, Local-gov.\n",
    "    - self-employed:Self-emp-inc, Self-emp-not-inc\n",
    "    - unemployed:Never-worked, Without-pay.\n",
    "- education:educ_recod\n",
    "    - preschool: Preschool\n",
    "    - elementary-school:1st-4th, 5th-6th\n",
    "    - high-school:7th-8th, 9th, 10th,11th, 12th, HS-grad\n",
    "    - college:Assoc-voc, Assoc-acdm, Some-college\n",
    "    - university:Bachelors, Masters, Prof-school, Doctorate\n",
    "- marital-status: civstatus\n",
    "    - married:Married-civ-spouse, Married-spouse-absent, Married-AF-spouse\n",
    "    - divorced: Divorced\n",
    "    - separated: Separated\n",
    "    - widowed: Widowed.\n",
    "- native-country: region donde cada país debe asignarse a uno de los 5 continentes.\n",
    "- income debe recodificarse de forma binaria."
   ]
  },
  {
   "cell_type": "markdown",
   "metadata": {},
   "source": [
    "## Por Conveniencia en el Análisis Exploratorio, se realizará un cambio de nombre en las columnas cuyo separador es `-` por `_`."
   ]
  },
  {
   "cell_type": "code",
   "execution_count": 100,
   "metadata": {},
   "outputs": [],
   "source": [
    "df2=df2.rename(columns = {'educational-num':'educational_num',\n",
    "                          'workclass':'workclass_recod',\n",
    "                          'education':'educ_recod',\n",
    "                          'occupation':'collars',\n",
    "                          'marital-status':'civstatus',\n",
    "                         'capital-gain':'capital_gain',\n",
    "                          'capital-loss':'capital_loss',\n",
    "                         'hours-per-week':'hours_per_week',\n",
    "                         'native-country':'region'})"
   ]
  },
  {
   "cell_type": "code",
   "execution_count": 101,
   "metadata": {},
   "outputs": [
    {
     "data": {
      "text/html": [
       "<div>\n",
       "<style scoped>\n",
       "    .dataframe tbody tr th:only-of-type {\n",
       "        vertical-align: middle;\n",
       "    }\n",
       "\n",
       "    .dataframe tbody tr th {\n",
       "        vertical-align: top;\n",
       "    }\n",
       "\n",
       "    .dataframe thead th {\n",
       "        text-align: right;\n",
       "    }\n",
       "</style>\n",
       "<table border=\"1\" class=\"dataframe\">\n",
       "  <thead>\n",
       "    <tr style=\"text-align: right;\">\n",
       "      <th></th>\n",
       "      <th>age</th>\n",
       "      <th>workclass_recod</th>\n",
       "      <th>fnlwgt</th>\n",
       "      <th>educ_recod</th>\n",
       "      <th>educational_num</th>\n",
       "      <th>civstatus</th>\n",
       "      <th>collars</th>\n",
       "      <th>relationship</th>\n",
       "      <th>race</th>\n",
       "      <th>gender</th>\n",
       "      <th>capital_gain</th>\n",
       "      <th>capital_loss</th>\n",
       "      <th>hours_per_week</th>\n",
       "      <th>region</th>\n",
       "      <th>income</th>\n",
       "    </tr>\n",
       "  </thead>\n",
       "  <tbody>\n",
       "    <tr>\n",
       "      <th>0</th>\n",
       "      <td>25</td>\n",
       "      <td>Private</td>\n",
       "      <td>226802</td>\n",
       "      <td>11th</td>\n",
       "      <td>7</td>\n",
       "      <td>Never-married</td>\n",
       "      <td>Machine-op-inspct</td>\n",
       "      <td>Own-child</td>\n",
       "      <td>Black</td>\n",
       "      <td>Male</td>\n",
       "      <td>0</td>\n",
       "      <td>0</td>\n",
       "      <td>40</td>\n",
       "      <td>United-States</td>\n",
       "      <td>&lt;=50K</td>\n",
       "    </tr>\n",
       "    <tr>\n",
       "      <th>1</th>\n",
       "      <td>38</td>\n",
       "      <td>Private</td>\n",
       "      <td>89814</td>\n",
       "      <td>HS-grad</td>\n",
       "      <td>9</td>\n",
       "      <td>Married-civ-spouse</td>\n",
       "      <td>Farming-fishing</td>\n",
       "      <td>Husband</td>\n",
       "      <td>White</td>\n",
       "      <td>Male</td>\n",
       "      <td>0</td>\n",
       "      <td>0</td>\n",
       "      <td>50</td>\n",
       "      <td>United-States</td>\n",
       "      <td>&lt;=50K</td>\n",
       "    </tr>\n",
       "    <tr>\n",
       "      <th>2</th>\n",
       "      <td>28</td>\n",
       "      <td>Local-gov</td>\n",
       "      <td>336951</td>\n",
       "      <td>Assoc-acdm</td>\n",
       "      <td>12</td>\n",
       "      <td>Married-civ-spouse</td>\n",
       "      <td>Protective-serv</td>\n",
       "      <td>Husband</td>\n",
       "      <td>White</td>\n",
       "      <td>Male</td>\n",
       "      <td>0</td>\n",
       "      <td>0</td>\n",
       "      <td>40</td>\n",
       "      <td>United-States</td>\n",
       "      <td>&gt;50K</td>\n",
       "    </tr>\n",
       "    <tr>\n",
       "      <th>3</th>\n",
       "      <td>44</td>\n",
       "      <td>Private</td>\n",
       "      <td>160323</td>\n",
       "      <td>Some-college</td>\n",
       "      <td>10</td>\n",
       "      <td>Married-civ-spouse</td>\n",
       "      <td>Machine-op-inspct</td>\n",
       "      <td>Husband</td>\n",
       "      <td>Black</td>\n",
       "      <td>Male</td>\n",
       "      <td>7688</td>\n",
       "      <td>0</td>\n",
       "      <td>40</td>\n",
       "      <td>United-States</td>\n",
       "      <td>&gt;50K</td>\n",
       "    </tr>\n",
       "    <tr>\n",
       "      <th>5</th>\n",
       "      <td>34</td>\n",
       "      <td>Private</td>\n",
       "      <td>198693</td>\n",
       "      <td>10th</td>\n",
       "      <td>6</td>\n",
       "      <td>Never-married</td>\n",
       "      <td>Other-service</td>\n",
       "      <td>Not-in-family</td>\n",
       "      <td>White</td>\n",
       "      <td>Male</td>\n",
       "      <td>0</td>\n",
       "      <td>0</td>\n",
       "      <td>30</td>\n",
       "      <td>United-States</td>\n",
       "      <td>&lt;=50K</td>\n",
       "    </tr>\n",
       "    <tr>\n",
       "      <th>7</th>\n",
       "      <td>63</td>\n",
       "      <td>Self-emp-not-inc</td>\n",
       "      <td>104626</td>\n",
       "      <td>Prof-school</td>\n",
       "      <td>15</td>\n",
       "      <td>Married-civ-spouse</td>\n",
       "      <td>Prof-specialty</td>\n",
       "      <td>Husband</td>\n",
       "      <td>White</td>\n",
       "      <td>Male</td>\n",
       "      <td>3103</td>\n",
       "      <td>0</td>\n",
       "      <td>32</td>\n",
       "      <td>United-States</td>\n",
       "      <td>&gt;50K</td>\n",
       "    </tr>\n",
       "    <tr>\n",
       "      <th>8</th>\n",
       "      <td>24</td>\n",
       "      <td>Private</td>\n",
       "      <td>369667</td>\n",
       "      <td>Some-college</td>\n",
       "      <td>10</td>\n",
       "      <td>Never-married</td>\n",
       "      <td>Other-service</td>\n",
       "      <td>Unmarried</td>\n",
       "      <td>White</td>\n",
       "      <td>Female</td>\n",
       "      <td>0</td>\n",
       "      <td>0</td>\n",
       "      <td>40</td>\n",
       "      <td>United-States</td>\n",
       "      <td>&lt;=50K</td>\n",
       "    </tr>\n",
       "    <tr>\n",
       "      <th>9</th>\n",
       "      <td>55</td>\n",
       "      <td>Private</td>\n",
       "      <td>104996</td>\n",
       "      <td>7th-8th</td>\n",
       "      <td>4</td>\n",
       "      <td>Married-civ-spouse</td>\n",
       "      <td>Craft-repair</td>\n",
       "      <td>Husband</td>\n",
       "      <td>White</td>\n",
       "      <td>Male</td>\n",
       "      <td>0</td>\n",
       "      <td>0</td>\n",
       "      <td>10</td>\n",
       "      <td>United-States</td>\n",
       "      <td>&lt;=50K</td>\n",
       "    </tr>\n",
       "    <tr>\n",
       "      <th>10</th>\n",
       "      <td>65</td>\n",
       "      <td>Private</td>\n",
       "      <td>184454</td>\n",
       "      <td>HS-grad</td>\n",
       "      <td>9</td>\n",
       "      <td>Married-civ-spouse</td>\n",
       "      <td>Machine-op-inspct</td>\n",
       "      <td>Husband</td>\n",
       "      <td>White</td>\n",
       "      <td>Male</td>\n",
       "      <td>6418</td>\n",
       "      <td>0</td>\n",
       "      <td>40</td>\n",
       "      <td>United-States</td>\n",
       "      <td>&gt;50K</td>\n",
       "    </tr>\n",
       "    <tr>\n",
       "      <th>11</th>\n",
       "      <td>36</td>\n",
       "      <td>Federal-gov</td>\n",
       "      <td>212465</td>\n",
       "      <td>Bachelors</td>\n",
       "      <td>13</td>\n",
       "      <td>Married-civ-spouse</td>\n",
       "      <td>Adm-clerical</td>\n",
       "      <td>Husband</td>\n",
       "      <td>White</td>\n",
       "      <td>Male</td>\n",
       "      <td>0</td>\n",
       "      <td>0</td>\n",
       "      <td>40</td>\n",
       "      <td>United-States</td>\n",
       "      <td>&lt;=50K</td>\n",
       "    </tr>\n",
       "  </tbody>\n",
       "</table>\n",
       "</div>"
      ],
      "text/plain": [
       "    age   workclass_recod  fnlwgt    educ_recod  educational_num  \\\n",
       "0    25           Private  226802          11th                7   \n",
       "1    38           Private   89814       HS-grad                9   \n",
       "2    28         Local-gov  336951    Assoc-acdm               12   \n",
       "3    44           Private  160323  Some-college               10   \n",
       "5    34           Private  198693          10th                6   \n",
       "7    63  Self-emp-not-inc  104626   Prof-school               15   \n",
       "8    24           Private  369667  Some-college               10   \n",
       "9    55           Private  104996       7th-8th                4   \n",
       "10   65           Private  184454       HS-grad                9   \n",
       "11   36       Federal-gov  212465     Bachelors               13   \n",
       "\n",
       "             civstatus            collars   relationship   race  gender  \\\n",
       "0        Never-married  Machine-op-inspct      Own-child  Black    Male   \n",
       "1   Married-civ-spouse    Farming-fishing        Husband  White    Male   \n",
       "2   Married-civ-spouse    Protective-serv        Husband  White    Male   \n",
       "3   Married-civ-spouse  Machine-op-inspct        Husband  Black    Male   \n",
       "5        Never-married      Other-service  Not-in-family  White    Male   \n",
       "7   Married-civ-spouse     Prof-specialty        Husband  White    Male   \n",
       "8        Never-married      Other-service      Unmarried  White  Female   \n",
       "9   Married-civ-spouse       Craft-repair        Husband  White    Male   \n",
       "10  Married-civ-spouse  Machine-op-inspct        Husband  White    Male   \n",
       "11  Married-civ-spouse       Adm-clerical        Husband  White    Male   \n",
       "\n",
       "    capital_gain  capital_loss  hours_per_week         region income  \n",
       "0              0             0              40  United-States  <=50K  \n",
       "1              0             0              50  United-States  <=50K  \n",
       "2              0             0              40  United-States   >50K  \n",
       "3           7688             0              40  United-States   >50K  \n",
       "5              0             0              30  United-States  <=50K  \n",
       "7           3103             0              32  United-States   >50K  \n",
       "8              0             0              40  United-States  <=50K  \n",
       "9              0             0              10  United-States  <=50K  \n",
       "10          6418             0              40  United-States   >50K  \n",
       "11             0             0              40  United-States  <=50K  "
      ]
     },
     "execution_count": 101,
     "metadata": {},
     "output_type": "execute_result"
    }
   ],
   "source": [
    "df2=df2.dropna()\n",
    "df2.head(10)"
   ]
  },
  {
   "cell_type": "code",
   "execution_count": 102,
   "metadata": {},
   "outputs": [
    {
     "data": {
      "text/plain": [
       "Craft-repair         6020\n",
       "Prof-specialty       6008\n",
       "Exec-managerial      5984\n",
       "Adm-clerical         5540\n",
       "Sales                5408\n",
       "Other-service        4808\n",
       "Machine-op-inspct    2970\n",
       "Transport-moving     2316\n",
       "Handlers-cleaners    2046\n",
       "Farming-fishing      1480\n",
       "Tech-support         1420\n",
       "Protective-serv       976\n",
       "Priv-house-serv       232\n",
       "Armed-Forces           14\n",
       "Name: collars, dtype: int64"
      ]
     },
     "execution_count": 102,
     "metadata": {},
     "output_type": "execute_result"
    }
   ],
   "source": [
    "df2[\"collars\"].value_counts()"
   ]
  },
  {
   "cell_type": "markdown",
   "metadata": {},
   "source": [
    "## `Collars`"
   ]
  },
  {
   "cell_type": "code",
   "execution_count": 103,
   "metadata": {},
   "outputs": [
    {
     "data": {
      "text/plain": [
       "whitecollar    24360\n",
       "bluecollar     16040\n",
       "others          4822\n",
       "Name: collars, dtype: int64"
      ]
     },
     "execution_count": 103,
     "metadata": {},
     "output_type": "execute_result"
    }
   ],
   "source": [
    "dict_whitecollar = {\"white-collar\":\"whitecollar\",\"Prof-specialty\":\"whitecollar\",\"Exec-managerial\":\"whitecollar\",\"Adm-clerical\":\"whitecollar\",\"Sales\":\"whitecollar\",\"Tech-support\":\"whitecollar\"}\n",
    "dict_bluecollar = {\"blue-collar\":\"bluecollar\",\"Craft-repair\":\"bluecollar\",\"Machine-op-inspct\":\"bluecollar\",\"Transport-moving\":\"bluecollar\",\"Handlers-cleaners\":\"bluecollar\",\"Farming-fishing\":\"bluecollar\",\"Protective-serv\":\"bluecollar\",\"Priv-house-serv\":\"bluecollar\"}\n",
    "dict_others = {\"Other-service\":\"others\",\"Armed-Forces\":\"others\"}\n",
    "\n",
    "diccionario_reemplazar_2 = dict(**dict_whitecollar,**dict_bluecollar,**dict_others)\n",
    "df2[\"collars\"].replace(diccionario_reemplazar_2,inplace=True)\n",
    "df2[\"collars\"].value_counts()"
   ]
  },
  {
   "cell_type": "code",
   "execution_count": 104,
   "metadata": {},
   "outputs": [
    {
     "data": {
      "text/plain": [
       "Private             33307\n",
       "Self-emp-not-inc     3796\n",
       "Local-gov            3100\n",
       "State-gov            1946\n",
       "Self-emp-inc         1646\n",
       "Federal-gov          1406\n",
       "Without-pay            21\n",
       "Name: workclass_recod, dtype: int64"
      ]
     },
     "execution_count": 104,
     "metadata": {},
     "output_type": "execute_result"
    }
   ],
   "source": [
    "df2[\"workclass_recod\"].value_counts()"
   ]
  },
  {
   "cell_type": "markdown",
   "metadata": {},
   "source": [
    "## `workclass_recod`"
   ]
  },
  {
   "cell_type": "code",
   "execution_count": 105,
   "metadata": {},
   "outputs": [
    {
     "data": {
      "text/plain": [
       "Private          33307\n",
       "selfemployed      5442\n",
       "statelevelgov     5046\n",
       "federalgov        1406\n",
       "unemployed          21\n",
       "Name: workclass_recod, dtype: int64"
      ]
     },
     "execution_count": 105,
     "metadata": {},
     "output_type": "execute_result"
    }
   ],
   "source": [
    "dict_federal = {\"Federal-gov\":\"federalgov\",\"federal-gov\":\"federalgov\"}\n",
    "dict_statelevel_gov = {\"state-level-gov\":\"statelevelgov\",\"State-gov\":\"statelevelgov\",\"Local-gov\":\"statelevelgov\"}\n",
    "dict_selfemployed = {\"self-employed\":\"selfemployed\",\"Self-emp-inc\":\"selfemployed\",\"Self-emp-not-inc\":\"selfemployed\"}\n",
    "dict_unemployed = {\"Never-worked\":\"unemployed\",\"Without-pay\":\"unemployed\"}\n",
    "diccionario_reemplazar_2 = dict(**dict_federal,**dict_statelevel_gov,**dict_selfemployed,**dict_unemployed)\n",
    "df2[\"workclass_recod\"].replace(diccionario_reemplazar_2,inplace=True)\n",
    "df2[\"workclass_recod\"].value_counts()"
   ]
  },
  {
   "cell_type": "markdown",
   "metadata": {},
   "source": [
    "## `civstatus`"
   ]
  },
  {
   "cell_type": "code",
   "execution_count": 106,
   "metadata": {},
   "outputs": [
    {
     "data": {
      "text/plain": [
       "married         21639\n",
       "nevermarried    14598\n",
       "divorced         6297\n",
       "separated        1411\n",
       "widowed          1277\n",
       "Name: civstatus, dtype: int64"
      ]
     },
     "execution_count": 106,
     "metadata": {},
     "output_type": "execute_result"
    }
   ],
   "source": [
    "dict_married = {\"Married-civ-spouse\":\"married\",\"Married-spouse-absent\":\"married\",\"Married-AF-spouse\":\"married\"}\n",
    "dict_divorced = {\"Divorced\":\"divorced\"}\n",
    "dict_separated = {\"Separated\":\"separated\"}\n",
    "dict_widowed = {\"Widowed\":\"widowed\"}\n",
    "dict_never_married = {\"Never-married\":\"nevermarried\",\"never_married\":\"nevermarried\"}\n",
    "diccionario_reemplazar_3 = dict(**dict_married,**dict_never_married,**dict_divorced,**dict_separated,**dict_widowed)\n",
    "df2[\"civstatus\"].replace(diccionario_reemplazar_3,inplace=True)\n",
    "df2[\"civstatus\"].value_counts()"
   ]
  },
  {
   "cell_type": "markdown",
   "metadata": {},
   "source": [
    "## `region`"
   ]
  },
  {
   "cell_type": "code",
   "execution_count": 107,
   "metadata": {},
   "outputs": [],
   "source": [
    "america_array = [\"america\"]*17\n",
    "asia_array = [\"asia\"]*11\n",
    "europa_array = [\"europa\"]*12\n",
    "dict_america = [\"Cuba\",\"Mexico\",\"United-States\",\"Canada\",\"El-Salvador\",\"Dominican-Republic\",\"Jamaica\",\n",
    "                \"Nicaragua\",\"Peru\",\"Ecuador\",\"Trinadad&Tobago\",\"Outlying-US(Guam-USVI-etc)\",\"Honduras\",\"Puerto-Rico\",\"Guatemala\",\"Haiti\",\"Columbia\"]\n",
    "dict_asia = [\"Philippines\",\"India\",\"China\",'Vietnam','Taiwan','Iran','Thailand','Hong','Cambodia','Laos',\"Japan\"]\n",
    "dict_europa = [\"Germany\",'England','Italy','Poland','Portugal','Greece','France', 'Ireland','Yugoslavia', 'Scotland','Hungary', 'Holand-Netherlands']\n",
    "replace_dict_america = dict(zip(dict_america,america_array))\n",
    "replace_dict_asia = dict(zip(dict_asia,asia_array))\n",
    "replace_dict_europa = dict(zip(dict_europa, europa_array))\n",
    "diccionario_reemplazar_4 = dict(**replace_dict_america,**replace_dict_asia,**replace_dict_europa)\n",
    "df2[\"region\"].replace(diccionario_reemplazar_4,inplace=True)"
   ]
  },
  {
   "cell_type": "code",
   "execution_count": 108,
   "metadata": {},
   "outputs": [
    {
     "data": {
      "text/plain": [
       "america    43453\n",
       "asia         930\n",
       "europa       738\n",
       "South        101\n",
       "Name: region, dtype: int64"
      ]
     },
     "execution_count": 108,
     "metadata": {},
     "output_type": "execute_result"
    }
   ],
   "source": [
    "df2[\"region\"].value_counts()"
   ]
  },
  {
   "cell_type": "markdown",
   "metadata": {},
   "source": [
    "## `Educational`"
   ]
  },
  {
   "cell_type": "code",
   "execution_count": 109,
   "metadata": {},
   "outputs": [
    {
     "data": {
      "text/plain": [
       "highschool          19701\n",
       "college             13365\n",
       "university          11413\n",
       "elementaryschool      671\n",
       "preschool              72\n",
       "Name: educ_recod, dtype: int64"
      ]
     },
     "execution_count": 109,
     "metadata": {},
     "output_type": "execute_result"
    }
   ],
   "source": [
    "dict_preschool = {\"Preschool\":\"preschool\"}\n",
    "dict_elementary_school = {\"elementary-school\":\"elementaryschool\",\"1st-4th\":\"elementaryschool\",\"5th-6th\":\"elementaryschool\"}\n",
    "dict_high_school = {\"high-school\":\"highschool\",\"7th-8th\":\"highschool\",\"9th\":\"highschool\",\"10th\":\"highschool\",\"11th\":\"highschool\",\"12th\":\"highschool\",\"HS-grad\":\"highschool\"}\n",
    "dict_college= {\"Assoc-voc\":\"college\",\"Assoc-acdm\":\"college\",\"Some-college\":\"college\"}\n",
    "dict_university={\"Bachelors\":\"university\",\"Masters\":\"university\",\"Prof-school\":\"university\",\"Doctorate\":\"university\"}\n",
    "diccionario_reemplazar_2 = dict(**dict_preschool,**dict_elementary_school,**dict_high_school,**dict_college,**dict_university)\n",
    "df2[\"educ_recod\"].replace(diccionario_reemplazar_2,inplace=True)\n",
    "df2[\"educ_recod\"].value_counts()"
   ]
  },
  {
   "cell_type": "markdown",
   "metadata": {},
   "source": [
    "## `Relationship`"
   ]
  },
  {
   "cell_type": "code",
   "execution_count": 110,
   "metadata": {},
   "outputs": [
    {
     "data": {
      "text/plain": [
       "Husband           18666\n",
       "Not-in-family     11702\n",
       "Own-child          6626\n",
       "Unmarried          4788\n",
       "Wife               2091\n",
       "Other-relative     1349\n",
       "Name: relationship, dtype: int64"
      ]
     },
     "execution_count": 110,
     "metadata": {},
     "output_type": "execute_result"
    }
   ],
   "source": [
    "df2[\"relationship\"].value_counts()"
   ]
  },
  {
   "cell_type": "code",
   "execution_count": 111,
   "metadata": {},
   "outputs": [
    {
     "data": {
      "text/plain": [
       "Husband          18666\n",
       "notinfamily      11702\n",
       "ownchild          6626\n",
       "Unmarried         4788\n",
       "Wife              2091\n",
       "otherrelative     1349\n",
       "Name: relationship, dtype: int64"
      ]
     },
     "execution_count": 111,
     "metadata": {},
     "output_type": "execute_result"
    }
   ],
   "source": [
    "dict_notinfamily= {\"Not-in-family\":\"notinfamily\"}\n",
    "dict_ownchild = {\"Own-child\":\"ownchild\"}\n",
    "dict_otherrelative = {\"Other-relative\":\"otherrelative\"}\n",
    "\n",
    "diccionario_reemplazar_2 = dict(**dict_notinfamily,**dict_ownchild,**dict_otherrelative)\n",
    "df2[\"relationship\"].replace(diccionario_reemplazar_2,inplace=True)\n",
    "df2[\"relationship\"].value_counts()"
   ]
  },
  {
   "cell_type": "markdown",
   "metadata": {},
   "source": [
    "## `Race`"
   ]
  },
  {
   "cell_type": "code",
   "execution_count": 112,
   "metadata": {},
   "outputs": [
    {
     "data": {
      "text/plain": [
       "White                 38903\n",
       "Black                  4228\n",
       "Asian-Pac-Islander     1303\n",
       "Amer-Indian-Eskimo      435\n",
       "Other                   353\n",
       "Name: race, dtype: int64"
      ]
     },
     "execution_count": 112,
     "metadata": {},
     "output_type": "execute_result"
    }
   ],
   "source": [
    "df2[\"race\"].value_counts()"
   ]
  },
  {
   "cell_type": "code",
   "execution_count": 113,
   "metadata": {},
   "outputs": [
    {
     "data": {
      "text/plain": [
       "White    38903\n",
       "Black     4228\n",
       "Other     2091\n",
       "Name: race, dtype: int64"
      ]
     },
     "execution_count": 113,
     "metadata": {},
     "output_type": "execute_result"
    }
   ],
   "source": [
    "dict_other= {\"Asian-Pac-Islander\":\"Other\",\"Amer-Indian-Eskimo\":\"Other\"}\n",
    "\n",
    "diccionario_reemplazar_2 = dict(**dict_other)\n",
    "df2[\"race\"].replace(diccionario_reemplazar_2,inplace=True)\n",
    "df2[\"race\"].value_counts()"
   ]
  },
  {
   "cell_type": "markdown",
   "metadata": {},
   "source": []
  },
  {
   "cell_type": "code",
   "execution_count": 114,
   "metadata": {},
   "outputs": [
    {
     "data": {
      "text/plain": [
       "age                0\n",
       "workclass_recod    0\n",
       "fnlwgt             0\n",
       "educ_recod         0\n",
       "educational_num    0\n",
       "civstatus          0\n",
       "collars            0\n",
       "relationship       0\n",
       "race               0\n",
       "gender             0\n",
       "capital_gain       0\n",
       "capital_loss       0\n",
       "hours_per_week     0\n",
       "region             0\n",
       "income             0\n",
       "dtype: int64"
      ]
     },
     "execution_count": 114,
     "metadata": {},
     "output_type": "execute_result"
    }
   ],
   "source": [
    "df2.isna().sum()"
   ]
  },
  {
   "cell_type": "markdown",
   "metadata": {},
   "source": [
    "### Con esto depuramos el DataFrame y generamos columnas sin datos __?__. "
   ]
  },
  {
   "cell_type": "code",
   "execution_count": 115,
   "metadata": {},
   "outputs": [
    {
     "data": {
      "text/html": [
       "<div>\n",
       "<style scoped>\n",
       "    .dataframe tbody tr th:only-of-type {\n",
       "        vertical-align: middle;\n",
       "    }\n",
       "\n",
       "    .dataframe tbody tr th {\n",
       "        vertical-align: top;\n",
       "    }\n",
       "\n",
       "    .dataframe thead th {\n",
       "        text-align: right;\n",
       "    }\n",
       "</style>\n",
       "<table border=\"1\" class=\"dataframe\">\n",
       "  <thead>\n",
       "    <tr style=\"text-align: right;\">\n",
       "      <th></th>\n",
       "      <th>age</th>\n",
       "      <th>workclass_recod</th>\n",
       "      <th>fnlwgt</th>\n",
       "      <th>educ_recod</th>\n",
       "      <th>educational_num</th>\n",
       "      <th>civstatus</th>\n",
       "      <th>collars</th>\n",
       "      <th>relationship</th>\n",
       "      <th>race</th>\n",
       "      <th>gender</th>\n",
       "      <th>capital_gain</th>\n",
       "      <th>capital_loss</th>\n",
       "      <th>hours_per_week</th>\n",
       "      <th>region</th>\n",
       "      <th>income</th>\n",
       "    </tr>\n",
       "  </thead>\n",
       "  <tbody>\n",
       "    <tr>\n",
       "      <th>0</th>\n",
       "      <td>25</td>\n",
       "      <td>Private</td>\n",
       "      <td>226802</td>\n",
       "      <td>highschool</td>\n",
       "      <td>7</td>\n",
       "      <td>nevermarried</td>\n",
       "      <td>bluecollar</td>\n",
       "      <td>ownchild</td>\n",
       "      <td>Black</td>\n",
       "      <td>Male</td>\n",
       "      <td>0</td>\n",
       "      <td>0</td>\n",
       "      <td>40</td>\n",
       "      <td>america</td>\n",
       "      <td>&lt;=50K</td>\n",
       "    </tr>\n",
       "    <tr>\n",
       "      <th>1</th>\n",
       "      <td>38</td>\n",
       "      <td>Private</td>\n",
       "      <td>89814</td>\n",
       "      <td>highschool</td>\n",
       "      <td>9</td>\n",
       "      <td>married</td>\n",
       "      <td>bluecollar</td>\n",
       "      <td>Husband</td>\n",
       "      <td>White</td>\n",
       "      <td>Male</td>\n",
       "      <td>0</td>\n",
       "      <td>0</td>\n",
       "      <td>50</td>\n",
       "      <td>america</td>\n",
       "      <td>&lt;=50K</td>\n",
       "    </tr>\n",
       "    <tr>\n",
       "      <th>2</th>\n",
       "      <td>28</td>\n",
       "      <td>statelevelgov</td>\n",
       "      <td>336951</td>\n",
       "      <td>college</td>\n",
       "      <td>12</td>\n",
       "      <td>married</td>\n",
       "      <td>bluecollar</td>\n",
       "      <td>Husband</td>\n",
       "      <td>White</td>\n",
       "      <td>Male</td>\n",
       "      <td>0</td>\n",
       "      <td>0</td>\n",
       "      <td>40</td>\n",
       "      <td>america</td>\n",
       "      <td>&gt;50K</td>\n",
       "    </tr>\n",
       "    <tr>\n",
       "      <th>3</th>\n",
       "      <td>44</td>\n",
       "      <td>Private</td>\n",
       "      <td>160323</td>\n",
       "      <td>college</td>\n",
       "      <td>10</td>\n",
       "      <td>married</td>\n",
       "      <td>bluecollar</td>\n",
       "      <td>Husband</td>\n",
       "      <td>Black</td>\n",
       "      <td>Male</td>\n",
       "      <td>7688</td>\n",
       "      <td>0</td>\n",
       "      <td>40</td>\n",
       "      <td>america</td>\n",
       "      <td>&gt;50K</td>\n",
       "    </tr>\n",
       "    <tr>\n",
       "      <th>5</th>\n",
       "      <td>34</td>\n",
       "      <td>Private</td>\n",
       "      <td>198693</td>\n",
       "      <td>highschool</td>\n",
       "      <td>6</td>\n",
       "      <td>nevermarried</td>\n",
       "      <td>others</td>\n",
       "      <td>notinfamily</td>\n",
       "      <td>White</td>\n",
       "      <td>Male</td>\n",
       "      <td>0</td>\n",
       "      <td>0</td>\n",
       "      <td>30</td>\n",
       "      <td>america</td>\n",
       "      <td>&lt;=50K</td>\n",
       "    </tr>\n",
       "  </tbody>\n",
       "</table>\n",
       "</div>"
      ],
      "text/plain": [
       "   age workclass_recod  fnlwgt  educ_recod  educational_num     civstatus  \\\n",
       "0   25         Private  226802  highschool                7  nevermarried   \n",
       "1   38         Private   89814  highschool                9       married   \n",
       "2   28   statelevelgov  336951     college               12       married   \n",
       "3   44         Private  160323     college               10       married   \n",
       "5   34         Private  198693  highschool                6  nevermarried   \n",
       "\n",
       "      collars relationship   race gender  capital_gain  capital_loss  \\\n",
       "0  bluecollar     ownchild  Black   Male             0             0   \n",
       "1  bluecollar      Husband  White   Male             0             0   \n",
       "2  bluecollar      Husband  White   Male             0             0   \n",
       "3  bluecollar      Husband  Black   Male          7688             0   \n",
       "5      others  notinfamily  White   Male             0             0   \n",
       "\n",
       "   hours_per_week   region income  \n",
       "0              40  america  <=50K  \n",
       "1              50  america  <=50K  \n",
       "2              40  america   >50K  \n",
       "3              40  america   >50K  \n",
       "5              30  america  <=50K  "
      ]
     },
     "execution_count": 115,
     "metadata": {},
     "output_type": "execute_result"
    }
   ],
   "source": [
    "df2.head()"
   ]
  },
  {
   "cell_type": "markdown",
   "metadata": {},
   "source": [
    "# __Analisis Descriptivo__"
   ]
  },
  {
   "cell_type": "markdown",
   "metadata": {},
   "source": [
    "## __Inspección Visual de las Variables__"
   ]
  },
  {
   "cell_type": "code",
   "execution_count": 116,
   "metadata": {},
   "outputs": [],
   "source": [
    "import seaborn as sns\n",
    "import warnings\n",
    "warnings.filterwarnings('ignore')\n"
   ]
  },
  {
   "cell_type": "markdown",
   "metadata": {},
   "source": [
    "A partir del __hito 1__:\n",
    "* Se determinó que:\n",
    "    - Uso de boxplots y barplot si corresponde a un atributo númerico o categórico respectivamente."
   ]
  },
  {
   "cell_type": "code",
   "execution_count": 117,
   "metadata": {},
   "outputs": [
    {
     "data": {
      "text/plain": [
       "age                 int64\n",
       "workclass_recod    object\n",
       "fnlwgt              int64\n",
       "educ_recod         object\n",
       "educational_num     int64\n",
       "civstatus          object\n",
       "collars            object\n",
       "relationship       object\n",
       "race               object\n",
       "gender             object\n",
       "capital_gain        int64\n",
       "capital_loss        int64\n",
       "hours_per_week      int64\n",
       "region             object\n",
       "income             object\n",
       "dtype: object"
      ]
     },
     "execution_count": 117,
     "metadata": {},
     "output_type": "execute_result"
    }
   ],
   "source": [
    "df2.dtypes"
   ]
  },
  {
   "cell_type": "markdown",
   "metadata": {},
   "source": [
    "### __Graficando variables numéricas:__\n",
    "    - Las variables de tipo int64 se realizará un boxplot y las variables de tipo object se realizará un gráfico plot.bar() \n",
    "* Con ello, podemos esclarecer la relación que existe el peso de las variables y sus clases sobre `income` \n"
   ]
  },
  {
   "cell_type": "code",
   "execution_count": 118,
   "metadata": {},
   "outputs": [],
   "source": [
    "import seaborn as sns\n",
    "import matplotlib.pyplot as plt"
   ]
  },
  {
   "cell_type": "code",
   "execution_count": 119,
   "metadata": {},
   "outputs": [
    {
     "data": {
      "image/png": "[encoded data removed]",
      "text/plain": [
       "<Figure size 432x288 with 6 Axes>"
      ]
     },
     "metadata": {
      "needs_background": "light"
     },
     "output_type": "display_data"
    }
   ],
   "source": [
    "def income_num(dataframe):\n",
    "    var=[\"age\",\"fnlwgt\",\"educational_num\",\"capital_gain\",\"capital_loss\",\"hours_per_week\"]\n",
    "    fig = plt.figure()\n",
    "    plt.subplots_adjust(wspace=0.4,right = 2.0,bottom = -1.1)\n",
    "    \n",
    "    for i,n in enumerate(var):\n",
    "        plt.subplot(2,3,i+1)\n",
    "        sns.boxplot(dataframe[\"income\"],df2[n])\n",
    "        plt.title(n+\" v/s\"+\" income\")\n",
    "        sns.set_palette(\"bright\")\n",
    "income_num(df2)"
   ]
  },
  {
   "cell_type": "markdown",
   "metadata": {},
   "source": [
    "- Se observa que la relación de las variables `capital-gain` y `capital-loss` versus `income` generan el diagama de cajón con Mediana $(M_{e}= 0)$. Más bien, se determina una cantidad de outlayer en estas variables cuando se relacionan con __income__. Este hecho, puede sugerir no considerarlas en un posterior estudio.\n",
    "- Para `\"fnlwgt\"` ambas binarizaciones para `income` muestran valores similares. Esto podría significar que la variable no genere una diferencia en la variable objetivo."
   ]
  },
  {
   "cell_type": "code",
   "execution_count": 120,
   "metadata": {},
   "outputs": [
    {
     "data": {
      "text/plain": [
       "count    4.884200e+04\n",
       "mean     1.896641e+05\n",
       "std      1.056040e+05\n",
       "min      1.228500e+04\n",
       "25%      1.175505e+05\n",
       "50%      1.781445e+05\n",
       "75%      2.376420e+05\n",
       "max      1.490400e+06\n",
       "Name: fnlwgt, dtype: float64"
      ]
     },
     "execution_count": 120,
     "metadata": {},
     "output_type": "execute_result"
    }
   ],
   "source": [
    "df[\"fnlwgt\"].describe()"
   ]
  },
  {
   "cell_type": "markdown",
   "metadata": {},
   "source": [
    "### Graficando doble `plot.bar` parra las variables Categóricas, respecto a la vector objetivo `income`:\n"
   ]
  },
  {
   "cell_type": "code",
   "execution_count": 121,
   "metadata": {},
   "outputs": [
    {
     "data": {
      "image/png": "[encoded data removed]",
      "text/plain": [
       "<Figure size 1080x576 with 9 Axes>"
      ]
     },
     "metadata": {
      "needs_background": "light"
     },
     "output_type": "display_data"
    }
   ],
   "source": [
    "lista=[df2.groupby('income').workclass_recod,df2.groupby('income').educ_recod,\n",
    "       df2.groupby('income').educational_num,df2.groupby('income').civstatus,\n",
    "       df2.groupby('income').collars,df2.groupby('income').relationship,\n",
    "       df2.groupby('income').race,df2.groupby('income').gender,\n",
    "       df2.groupby('income').region]\n",
    "var=[\"workclass_recod\",\"educ_recod\",\"educational_num\",\"civstatus\",\"collars\",\"relationship\",\"race\",\"gender\",\"region\"]\n",
    "fig, axarr = plt.subplots(3, 3, figsize=(15, 8))\n",
    "plt.subplots_adjust(wspace=0.4,right = 0.7,bottom = -1.4,hspace = 0.5)\n",
    "j=0\n",
    "k=0\n",
    "for i,n in enumerate(lista):\n",
    "    #plot.subplot(3,3,i+1)\n",
    "    lista[i].value_counts().unstack(0).plot.bar(ax=axarr[j][k])\n",
    "    axarr[j][k].set_title(var[i], fontsize=18)\n",
    "    j+=1\n",
    "    if j==3:\n",
    "        k+=1\n",
    "        j=0\n",
    "        if k==3:\n",
    "            k=0\n",
    "            j=0"
   ]
  },
  {
   "cell_type": "markdown",
   "metadata": {},
   "source": [
    "- Los gráficos muestran cierto desbalance de clases principalmente en `workclass`,`race`,`region`.\n",
    "- A partir de este último gráfico, podemos decir que, el peso de la clase __America__, es muy superior al resto, Esto podría generar que el modelo sea mejor evaluado para establecer una relación con `income`, respecto las otras clases de esta variable.\n",
    "- En términos generales podemos decir que:\n",
    "   * La gran mayoría trabaja en el ámbito privado.\n",
    "   * Estan casados\n",
    "   * Son de raza blanca\n",
    "   * Su nivel educativo es Hs-Grade\n",
    "   * Su Ocupación es White collars\n",
    "   * Son Hombres\n",
    "   * Nivel de Education_num es 9-10\n",
    "   * Son esposos\n",
    "   * Pertenecen a America"
   ]
  },
  {
   "cell_type": "markdown",
   "metadata": {},
   "source": [
    "Finalmente relacionamos la __naturaleza de la organización__, __la edad__ y el __sexo__ de la persona."
   ]
  },
  {
   "cell_type": "code",
   "execution_count": 122,
   "metadata": {},
   "outputs": [
    {
     "data": {
      "text/plain": [
       "<seaborn.axisgrid.FacetGrid at 0x7f371535b940>"
      ]
     },
     "execution_count": 122,
     "metadata": {},
     "output_type": "execute_result"
    },
    {
     "data": {
      "image/png": "[encoded data removed]",
      "text/plain": [
       "<Figure size 432.625x360 with 1 Axes>"
      ]
     },
     "metadata": {
      "needs_background": "light"
     },
     "output_type": "display_data"
    }
   ],
   "source": [
    "g=sns.catplot(x=\"workclass_recod\", y=\"age\", hue=\"gender\",kind=\"violin\", split=True, data=df2);\n",
    "g.set_xticklabels(rotation=30)"
   ]
  },
  {
   "cell_type": "markdown",
   "metadata": {},
   "source": [
    "- Se aprecia que la mediana de las edades para personas que trabajan independientes, es levemenete superior a las que trabajan para el gobierno federal.\n",
    "- Las personas desempleadas abarcan una mayor region respecto al grupo etario. Esto es basicamente a que personas menores de edad o en edad de jubilación, se encontrara sin empleo.\n",
    "- La mediana de las edades de las personas que trabajan en el ámbito privado es inferior al resto de las clases. "
   ]
  },
  {
   "cell_type": "markdown",
   "metadata": {},
   "source": [
    "# Prueba Hito 3(Parte III)\n",
    "Autor: Pablo Veloz M."
   ]
  },
  {
   "cell_type": "markdown",
   "metadata": {},
   "source": [
    "## __Completar el punto de Modelación descriptiva.__\n",
    "* Elementos a considerar en éste hito:\n",
    "    * La modelación mediante regresión de ambos problemas. (2 puntos)\n",
    "    * La interpretación de los principales regresores en cada problema. (2 puntos)\n",
    "    * La definición de las estrategias de Modelación predictiva. (1 punto)\n",
    "    * Entregable:  Dos notebooks (uno  por  enunciado) con todos los  puntos detallados einterpretados. De  ser  necesario, un  archivo con  extensión .py  con  todas las  funcionesimplementadas."
   ]
  },
  {
   "cell_type": "markdown",
   "metadata": {},
   "source": [
    "### Comenzaremos con las librerias a utilizar:"
   ]
  },
  {
   "cell_type": "code",
   "execution_count": 123,
   "metadata": {},
   "outputs": [],
   "source": [
    "import scipy.stats as stats\n",
    "import matplotlib.pyplot as plt\n",
    "from sklearn.linear_model import LogisticRegression \n",
    "from sklearn.model_selection import train_test_split\n",
    "from sklearn.preprocessing import StandardScaler\n",
    "from sklearn.metrics import classification_report, roc_curve, confusion_matrix,roc_auc_score\n",
    "import statsmodels.api as sm\n",
    "import statsmodels.formula.api as smf\n",
    "import factor_analyzer as factor\n",
    "import missingno as msngo"
   ]
  },
  {
   "cell_type": "markdown",
   "metadata": {},
   "source": [
    "## Comprobando, datos peridos en la variable `df2`"
   ]
  },
  {
   "cell_type": "code",
   "execution_count": 124,
   "metadata": {},
   "outputs": [
    {
     "data": {
      "text/plain": [
       "<matplotlib.axes._subplots.AxesSubplot at 0x7f370c908208>"
      ]
     },
     "execution_count": 124,
     "metadata": {},
     "output_type": "execute_result"
    },
    {
     "data": {
      "image/png": "[encoded data removed]",
      "text/plain": [
       "<Figure size 1800x720 with 2 Axes>"
      ]
     },
     "metadata": {
      "needs_background": "light"
     },
     "output_type": "display_data"
    }
   ],
   "source": [
    "msngo.matrix(df2)"
   ]
  },
  {
   "cell_type": "code",
   "execution_count": 125,
   "metadata": {},
   "outputs": [
    {
     "name": "stdout",
     "output_type": "stream",
     "text": [
      "Porcentaje total de datos del nuevo DataFrame: 92.59%\n"
     ]
    }
   ],
   "source": [
    "print('Porcentaje total de datos del nuevo DataFrame: {}%'.format(round(100*(45222/48842.0),2)))"
   ]
  },
  {
   "cell_type": "markdown",
   "metadata": {},
   "source": [
    "### __Binarización del DataFrame__"
   ]
  },
  {
   "cell_type": "code",
   "execution_count": 126,
   "metadata": {},
   "outputs": [
    {
     "data": {
      "text/plain": [
       "age                 int64\n",
       "workclass_recod    object\n",
       "fnlwgt              int64\n",
       "educ_recod         object\n",
       "educational_num     int64\n",
       "civstatus          object\n",
       "collars            object\n",
       "relationship       object\n",
       "race               object\n",
       "gender             object\n",
       "capital_gain        int64\n",
       "capital_loss        int64\n",
       "hours_per_week      int64\n",
       "region             object\n",
       "income             object\n",
       "dtype: object"
      ]
     },
     "execution_count": 126,
     "metadata": {},
     "output_type": "execute_result"
    }
   ],
   "source": [
    "df2_dummy=df2.copy()\n",
    "df2_dummy.columns\n",
    "df2_dummy.dtypes"
   ]
  },
  {
   "cell_type": "code",
   "execution_count": 127,
   "metadata": {},
   "outputs": [],
   "source": [
    "var_cat_bin=[\"workclass_recod\",\"educ_recod\",\"civstatus\",\"collars\",\"relationship\",\"race\",\"gender\",\"region\",\"income\"]\n",
    "for i in var_cat_bin:\n",
    "    df2_dummy = pd.get_dummies(df2_dummy, columns=[i],drop_first=True)"
   ]
  },
  {
   "cell_type": "markdown",
   "metadata": {},
   "source": [
    "## DataFrame Binarizado"
   ]
  },
  {
   "cell_type": "code",
   "execution_count": 128,
   "metadata": {},
   "outputs": [
    {
     "data": {
      "text/html": [
       "<div>\n",
       "<style scoped>\n",
       "    .dataframe tbody tr th:only-of-type {\n",
       "        vertical-align: middle;\n",
       "    }\n",
       "\n",
       "    .dataframe tbody tr th {\n",
       "        vertical-align: top;\n",
       "    }\n",
       "\n",
       "    .dataframe thead th {\n",
       "        text-align: right;\n",
       "    }\n",
       "</style>\n",
       "<table border=\"1\" class=\"dataframe\">\n",
       "  <thead>\n",
       "    <tr style=\"text-align: right;\">\n",
       "      <th></th>\n",
       "      <th>age</th>\n",
       "      <th>fnlwgt</th>\n",
       "      <th>educational_num</th>\n",
       "      <th>capital_gain</th>\n",
       "      <th>capital_loss</th>\n",
       "      <th>hours_per_week</th>\n",
       "      <th>workclass_recod_federalgov</th>\n",
       "      <th>workclass_recod_selfemployed</th>\n",
       "      <th>workclass_recod_statelevelgov</th>\n",
       "      <th>workclass_recod_unemployed</th>\n",
       "      <th>...</th>\n",
       "      <th>relationship_notinfamily</th>\n",
       "      <th>relationship_otherrelative</th>\n",
       "      <th>relationship_ownchild</th>\n",
       "      <th>race_Other</th>\n",
       "      <th>race_White</th>\n",
       "      <th>gender_Male</th>\n",
       "      <th>region_america</th>\n",
       "      <th>region_asia</th>\n",
       "      <th>region_europa</th>\n",
       "      <th>income</th>\n",
       "    </tr>\n",
       "  </thead>\n",
       "  <tbody>\n",
       "    <tr>\n",
       "      <th>0</th>\n",
       "      <td>25</td>\n",
       "      <td>226802</td>\n",
       "      <td>7</td>\n",
       "      <td>0</td>\n",
       "      <td>0</td>\n",
       "      <td>40</td>\n",
       "      <td>0</td>\n",
       "      <td>0</td>\n",
       "      <td>0</td>\n",
       "      <td>0</td>\n",
       "      <td>...</td>\n",
       "      <td>0</td>\n",
       "      <td>0</td>\n",
       "      <td>1</td>\n",
       "      <td>0</td>\n",
       "      <td>0</td>\n",
       "      <td>1</td>\n",
       "      <td>1</td>\n",
       "      <td>0</td>\n",
       "      <td>0</td>\n",
       "      <td>0</td>\n",
       "    </tr>\n",
       "    <tr>\n",
       "      <th>1</th>\n",
       "      <td>38</td>\n",
       "      <td>89814</td>\n",
       "      <td>9</td>\n",
       "      <td>0</td>\n",
       "      <td>0</td>\n",
       "      <td>50</td>\n",
       "      <td>0</td>\n",
       "      <td>0</td>\n",
       "      <td>0</td>\n",
       "      <td>0</td>\n",
       "      <td>...</td>\n",
       "      <td>0</td>\n",
       "      <td>0</td>\n",
       "      <td>0</td>\n",
       "      <td>0</td>\n",
       "      <td>1</td>\n",
       "      <td>1</td>\n",
       "      <td>1</td>\n",
       "      <td>0</td>\n",
       "      <td>0</td>\n",
       "      <td>0</td>\n",
       "    </tr>\n",
       "    <tr>\n",
       "      <th>2</th>\n",
       "      <td>28</td>\n",
       "      <td>336951</td>\n",
       "      <td>12</td>\n",
       "      <td>0</td>\n",
       "      <td>0</td>\n",
       "      <td>40</td>\n",
       "      <td>0</td>\n",
       "      <td>0</td>\n",
       "      <td>1</td>\n",
       "      <td>0</td>\n",
       "      <td>...</td>\n",
       "      <td>0</td>\n",
       "      <td>0</td>\n",
       "      <td>0</td>\n",
       "      <td>0</td>\n",
       "      <td>1</td>\n",
       "      <td>1</td>\n",
       "      <td>1</td>\n",
       "      <td>0</td>\n",
       "      <td>0</td>\n",
       "      <td>1</td>\n",
       "    </tr>\n",
       "  </tbody>\n",
       "</table>\n",
       "<p>3 rows × 32 columns</p>\n",
       "</div>"
      ],
      "text/plain": [
       "   age  fnlwgt  educational_num  capital_gain  capital_loss  hours_per_week  \\\n",
       "0   25  226802                7             0             0              40   \n",
       "1   38   89814                9             0             0              50   \n",
       "2   28  336951               12             0             0              40   \n",
       "\n",
       "   workclass_recod_federalgov  workclass_recod_selfemployed  \\\n",
       "0                           0                             0   \n",
       "1                           0                             0   \n",
       "2                           0                             0   \n",
       "\n",
       "   workclass_recod_statelevelgov  workclass_recod_unemployed  ...  \\\n",
       "0                              0                           0  ...   \n",
       "1                              0                           0  ...   \n",
       "2                              1                           0  ...   \n",
       "\n",
       "   relationship_notinfamily  relationship_otherrelative  \\\n",
       "0                         0                           0   \n",
       "1                         0                           0   \n",
       "2                         0                           0   \n",
       "\n",
       "   relationship_ownchild  race_Other  race_White  gender_Male  region_america  \\\n",
       "0                      1           0           0            1               1   \n",
       "1                      0           0           1            1               1   \n",
       "2                      0           0           1            1               1   \n",
       "\n",
       "   region_asia  region_europa  income  \n",
       "0            0              0       0  \n",
       "1            0              0       0  \n",
       "2            0              0       1  \n",
       "\n",
       "[3 rows x 32 columns]"
      ]
     },
     "execution_count": 128,
     "metadata": {},
     "output_type": "execute_result"
    }
   ],
   "source": [
    "df2_dummy=df2_dummy.rename(columns = {'income_>50K':'income'})\n",
    "df2_dummy.head(3)"
   ]
  },
  {
   "cell_type": "code",
   "execution_count": 129,
   "metadata": {},
   "outputs": [
    {
     "name": "stdout",
     "output_type": "stream",
     "text": [
      "age\n",
      "fnlwgt\n",
      "educational_num\n",
      "capital_gain\n",
      "capital_loss\n",
      "hours_per_week\n",
      "workclass_recod_federalgov\n",
      "workclass_recod_selfemployed\n",
      "workclass_recod_statelevelgov\n",
      "workclass_recod_unemployed\n",
      "educ_recod_elementaryschool\n",
      "educ_recod_highschool\n",
      "educ_recod_preschool\n",
      "educ_recod_university\n",
      "civstatus_married\n",
      "civstatus_nevermarried\n",
      "civstatus_separated\n",
      "civstatus_widowed\n",
      "collars_others\n",
      "collars_whitecollar\n",
      "relationship_Unmarried\n",
      "relationship_Wife\n",
      "relationship_notinfamily\n",
      "relationship_otherrelative\n",
      "relationship_ownchild\n",
      "race_Other\n",
      "race_White\n",
      "gender_Male\n",
      "region_america\n",
      "region_asia\n",
      "region_europa\n",
      "income\n"
     ]
    }
   ],
   "source": [
    "for i in df2_dummy.columns:\n",
    "    print (i)"
   ]
  },
  {
   "cell_type": "markdown",
   "metadata": {},
   "source": [
    "## __Correlaciones Numéricas__"
   ]
  },
  {
   "cell_type": "code",
   "execution_count": 130,
   "metadata": {},
   "outputs": [
    {
     "name": "stdout",
     "output_type": "stream",
     "text": [
      "['age', 'fnlwgt', 'educational_num', 'capital_gain', 'capital_loss', 'hours_per_week']\n"
     ]
    }
   ],
   "source": [
    "var_num=[]\n",
    "for i in df2_dummy.columns:\n",
    "    if i==\"income\":\n",
    "        pass\n",
    "    elif df2_dummy[i].dtype=='int64':\n",
    "        var_num.append(i)\n",
    "print(var_num)"
   ]
  },
  {
   "cell_type": "code",
   "execution_count": 131,
   "metadata": {},
   "outputs": [],
   "source": [
    "def correlacion_numericas(dataframe,lista):\n",
    "    plt.figure(figsize = (6,6))\n",
    "    corr_conti = dataframe[lista]\n",
    "    corr_conti=corr_conti.dropna()\n",
    "    df_map_conti=corr_conti.corr()\n",
    "    ax = sns.heatmap(df_map_conti,vmin=-1, vmax=1, center=0, cmap=sns.diverging_palette(20, 320, n=250),square=True,annot=True)\n",
    "    ax.set_xticklabels(ax.get_xticklabels(),rotation=45,horizontalalignment='right')\n",
    "    plt.title(\"Correlación entre Variables Númericas\")\n"
   ]
  },
  {
   "cell_type": "code",
   "execution_count": 132,
   "metadata": {},
   "outputs": [
    {
     "data": {
      "image/png": "[encoded data removed]",
      "text/plain": [
       "<Figure size 432x432 with 2 Axes>"
      ]
     },
     "metadata": {
      "needs_background": "light"
     },
     "output_type": "display_data"
    }
   ],
   "source": [
    "correlacion_numericas(df2_dummy,var_num)"
   ]
  },
  {
   "cell_type": "markdown",
   "metadata": {},
   "source": [
    "### No se aprecia una correlación significa entre variables numérica."
   ]
  },
  {
   "cell_type": "markdown",
   "metadata": {},
   "source": [
    "## __Correlaciones Totales Variables Binarizadas:__"
   ]
  },
  {
   "cell_type": "code",
   "execution_count": 2,
   "metadata": {},
   "outputs": [],
   "source": [
    "def total_correlaciones(df, value=0.5):\n",
    "    plt.figure(figsize=(15, 6))\n",
    "    M = df.corr()\n",
    "    value_corr = M[((M > value) & (M < 1) | (M < -value))\n",
    "                  ].dropna(axis=0, how='all').dropna(axis=1, how='all')\n",
    "    ax=sns.heatmap(value_corr, vmin=-1, vmax=1, center=0, cmap=sns.diverging_palette(20, 320, n=250),annot=True)\n",
    "    ax.set_xticklabels(ax.get_xticklabels(),rotation=45,horizontalalignment='right')\n",
    "    plt.title(\"Corralaciones Totales\")"
   ]
  },
  {
   "cell_type": "code",
   "execution_count": 3,
   "metadata": {},
   "outputs": [
    {
     "ename": "NameError",
     "evalue": "name 'df2_dummy' is not defined",
     "output_type": "error",
     "traceback": [
      "\u001b[0;31m---------------------------------------------------------------------------\u001b[0m",
      "\u001b[0;31mNameError\u001b[0m                                 Traceback (most recent call last)",
      "\u001b[0;32m<ipython-input-3-b9bb1f02f69b>\u001b[0m in \u001b[0;36m<module>\u001b[0;34m\u001b[0m\n\u001b[0;32m----> 1\u001b[0;31m \u001b[0mtotal_correlaciones\u001b[0m\u001b[0;34m(\u001b[0m\u001b[0mdf2_dummy\u001b[0m\u001b[0;34m)\u001b[0m\u001b[0;34m\u001b[0m\u001b[0;34m\u001b[0m\u001b[0m\n\u001b[0m",
      "\u001b[0;31mNameError\u001b[0m: name 'df2_dummy' is not defined"
     ]
    }
   ],
   "source": [
    "total_correlaciones(df2_dummy, value=0.4)"
   ]
  },
  {
   "cell_type": "markdown",
   "metadata": {},
   "source": [
    "## __Aspectos a resaltar:__\n",
    "* ### A mayor edad menor es tener una relación con un solo hijo\n",
    "* ### Una persona casada tiene una correlación -0.44 con nuestro vector objetivo.\n",
    "* ### Una persona casada tiende a ser Hombre\n",
    "* ### Quizas sea trivial, pero hay alta correlación de pertenecer a Asia y ser de raza asian, como también no ser de America. O pertenecer a la región de Asia y no ser Negro. \n"
   ]
  },
  {
   "cell_type": "markdown",
   "metadata": {},
   "source": [
    "## __Modelación:__\n",
    "### Como el vector objetivo `income` es de tipo binaria, la modelación se basa en un modelo de clasificación, por lo tanto:"
   ]
  },
  {
   "cell_type": "markdown",
   "metadata": {},
   "source": [
    "## Creando un string para incorporar todas las variables en relación a `income`"
   ]
  },
  {
   "cell_type": "markdown",
   "metadata": {},
   "source": [
    "### m1_logit = smf.logit(<font color='red' >string_cols</font>,data=df2_dummy).fit()\n",
    "### y generar un m1_logit.summary()"
   ]
  },
  {
   "cell_type": "code",
   "execution_count": 135,
   "metadata": {},
   "outputs": [
    {
     "name": "stdout",
     "output_type": "stream",
     "text": [
      "income~age+fnlwgt+educational_num+capital_gain+capital_loss+hours_per_week+workclass_recod_federalgov+workclass_recod_selfemployed+workclass_recod_statelevelgov+workclass_recod_unemployed+educ_recod_elementaryschool+educ_recod_highschool+educ_recod_preschool+educ_recod_university+civstatus_married+civstatus_nevermarried+civstatus_separated+civstatus_widowed+collars_others+collars_whitecollar+relationship_Unmarried+relationship_Wife+relationship_notinfamily+relationship_otherrelative+relationship_ownchild+race_Other+race_White+gender_Male+region_america+region_asia+region_europa\n"
     ]
    }
   ],
   "source": [
    "string_cols=\"income~\"\n",
    "largo=len(df2_dummy.columns)\n",
    "for i,n in enumerate(df2_dummy.columns):\n",
    "    if n==\"income\":\n",
    "        pass\n",
    "    else:\n",
    "        if i!=largo-2:\n",
    "            string_cols+=n+\"+\"\n",
    "        \n",
    "        else:\n",
    "            string_cols+=n\n",
    "print(string_cols)\n"
   ]
  },
  {
   "cell_type": "markdown",
   "metadata": {},
   "source": [
    "# Modelo 1 - \"Saturado\""
   ]
  },
  {
   "cell_type": "code",
   "execution_count": 136,
   "metadata": {},
   "outputs": [
    {
     "data": {
      "text/plain": [
       "Index(['age', 'fnlwgt', 'educational_num', 'capital_gain', 'capital_loss',\n",
       "       'hours_per_week', 'workclass_recod_federalgov',\n",
       "       'workclass_recod_selfemployed', 'workclass_recod_statelevelgov',\n",
       "       'workclass_recod_unemployed', 'educ_recod_elementaryschool',\n",
       "       'educ_recod_highschool', 'educ_recod_preschool',\n",
       "       'educ_recod_university', 'civstatus_married', 'civstatus_nevermarried',\n",
       "       'civstatus_separated', 'civstatus_widowed', 'collars_others',\n",
       "       'collars_whitecollar', 'relationship_Unmarried', 'relationship_Wife',\n",
       "       'relationship_notinfamily', 'relationship_otherrelative',\n",
       "       'relationship_ownchild', 'race_Other', 'race_White', 'gender_Male',\n",
       "       'region_america', 'region_asia', 'region_europa', 'income'],\n",
       "      dtype='object')"
      ]
     },
     "execution_count": 136,
     "metadata": {},
     "output_type": "execute_result"
    }
   ],
   "source": [
    "df2_dummy.columns"
   ]
  },
  {
   "cell_type": "code",
   "execution_count": 137,
   "metadata": {},
   "outputs": [
    {
     "name": "stdout",
     "output_type": "stream",
     "text": [
      "Optimization terminated successfully.\n",
      "         Current function value: 0.331730\n",
      "         Iterations 11\n"
     ]
    },
    {
     "data": {
      "text/html": [
       "<table class=\"simpletable\">\n",
       "<caption>Logit Regression Results</caption>\n",
       "<tr>\n",
       "  <th>Dep. Variable:</th>        <td>income</td>      <th>  No. Observations:  </th>  <td> 45222</td> \n",
       "</tr>\n",
       "<tr>\n",
       "  <th>Model:</th>                 <td>Logit</td>      <th>  Df Residuals:      </th>  <td> 45190</td> \n",
       "</tr>\n",
       "<tr>\n",
       "  <th>Method:</th>                 <td>MLE</td>       <th>  Df Model:          </th>  <td>    31</td> \n",
       "</tr>\n",
       "<tr>\n",
       "  <th>Date:</th>            <td>Thu, 15 Aug 2019</td> <th>  Pseudo R-squ.:     </th>  <td>0.4076</td> \n",
       "</tr>\n",
       "<tr>\n",
       "  <th>Time:</th>                <td>14:47:57</td>     <th>  Log-Likelihood:    </th> <td> -15001.</td>\n",
       "</tr>\n",
       "<tr>\n",
       "  <th>converged:</th>             <td>True</td>       <th>  LL-Null:           </th> <td> -25322.</td>\n",
       "</tr>\n",
       "<tr>\n",
       "  <th>Covariance Type:</th>     <td>nonrobust</td>    <th>  LLR p-value:       </th>  <td> 0.000</td> \n",
       "</tr>\n",
       "</table>\n",
       "<table class=\"simpletable\">\n",
       "<tr>\n",
       "                <td></td>                   <th>coef</th>     <th>std err</th>      <th>z</th>      <th>P>|z|</th>  <th>[0.025</th>    <th>0.975]</th>  \n",
       "</tr>\n",
       "<tr>\n",
       "  <th>Intercept</th>                     <td>   -9.0466</td> <td>    0.452</td> <td>  -20.025</td> <td> 0.000</td> <td>   -9.932</td> <td>   -8.161</td>\n",
       "</tr>\n",
       "<tr>\n",
       "  <th>age</th>                           <td>    0.0254</td> <td>    0.001</td> <td>   18.786</td> <td> 0.000</td> <td>    0.023</td> <td>    0.028</td>\n",
       "</tr>\n",
       "<tr>\n",
       "  <th>fnlwgt</th>                        <td> 7.365e-07</td> <td>  1.4e-07</td> <td>    5.264</td> <td> 0.000</td> <td> 4.62e-07</td> <td> 1.01e-06</td>\n",
       "</tr>\n",
       "<tr>\n",
       "  <th>educational_num</th>               <td>    0.2776</td> <td>    0.016</td> <td>   17.313</td> <td> 0.000</td> <td>    0.246</td> <td>    0.309</td>\n",
       "</tr>\n",
       "<tr>\n",
       "  <th>capital_gain</th>                  <td>    0.0003</td> <td> 8.61e-06</td> <td>   36.846</td> <td> 0.000</td> <td>    0.000</td> <td>    0.000</td>\n",
       "</tr>\n",
       "<tr>\n",
       "  <th>capital_loss</th>                  <td>    0.0007</td> <td> 3.08e-05</td> <td>   21.316</td> <td> 0.000</td> <td>    0.001</td> <td>    0.001</td>\n",
       "</tr>\n",
       "<tr>\n",
       "  <th>hours_per_week</th>                <td>    0.0297</td> <td>    0.001</td> <td>   22.500</td> <td> 0.000</td> <td>    0.027</td> <td>    0.032</td>\n",
       "</tr>\n",
       "<tr>\n",
       "  <th>workclass_recod_federalgov</th>    <td>    0.4427</td> <td>    0.075</td> <td>    5.910</td> <td> 0.000</td> <td>    0.296</td> <td>    0.589</td>\n",
       "</tr>\n",
       "<tr>\n",
       "  <th>workclass_recod_selfemployed</th>  <td>   -0.3393</td> <td>    0.042</td> <td>   -8.025</td> <td> 0.000</td> <td>   -0.422</td> <td>   -0.256</td>\n",
       "</tr>\n",
       "<tr>\n",
       "  <th>workclass_recod_statelevelgov</th> <td>   -0.0777</td> <td>    0.046</td> <td>   -1.694</td> <td> 0.090</td> <td>   -0.168</td> <td>    0.012</td>\n",
       "</tr>\n",
       "<tr>\n",
       "  <th>workclass_recod_unemployed</th>    <td>   -1.1037</td> <td>    0.800</td> <td>   -1.379</td> <td> 0.168</td> <td>   -2.672</td> <td>    0.465</td>\n",
       "</tr>\n",
       "<tr>\n",
       "  <th>educ_recod_elementaryschool</th>   <td>    0.1419</td> <td>    0.237</td> <td>    0.598</td> <td> 0.550</td> <td>   -0.323</td> <td>    0.607</td>\n",
       "</tr>\n",
       "<tr>\n",
       "  <th>educ_recod_highschool</th>         <td>   -0.0636</td> <td>    0.047</td> <td>   -1.361</td> <td> 0.173</td> <td>   -0.155</td> <td>    0.028</td>\n",
       "</tr>\n",
       "<tr>\n",
       "  <th>educ_recod_preschool</th>          <td>   -3.9595</td> <td>    4.033</td> <td>   -0.982</td> <td> 0.326</td> <td>  -11.865</td> <td>    3.946</td>\n",
       "</tr>\n",
       "<tr>\n",
       "  <th>educ_recod_university</th>         <td>    0.0880</td> <td>    0.061</td> <td>    1.448</td> <td> 0.148</td> <td>   -0.031</td> <td>    0.207</td>\n",
       "</tr>\n",
       "<tr>\n",
       "  <th>civstatus_married</th>             <td>    0.8003</td> <td>    0.138</td> <td>    5.786</td> <td> 0.000</td> <td>    0.529</td> <td>    1.071</td>\n",
       "</tr>\n",
       "<tr>\n",
       "  <th>civstatus_nevermarried</th>        <td>   -0.4836</td> <td>    0.072</td> <td>   -6.696</td> <td> 0.000</td> <td>   -0.625</td> <td>   -0.342</td>\n",
       "</tr>\n",
       "<tr>\n",
       "  <th>civstatus_separated</th>           <td>   -0.0290</td> <td>    0.133</td> <td>   -0.218</td> <td> 0.827</td> <td>   -0.290</td> <td>    0.232</td>\n",
       "</tr>\n",
       "<tr>\n",
       "  <th>civstatus_widowed</th>             <td>    0.0899</td> <td>    0.128</td> <td>    0.703</td> <td> 0.482</td> <td>   -0.161</td> <td>    0.341</td>\n",
       "</tr>\n",
       "<tr>\n",
       "  <th>collars_others</th>                <td>   -0.7270</td> <td>    0.087</td> <td>   -8.370</td> <td> 0.000</td> <td>   -0.897</td> <td>   -0.557</td>\n",
       "</tr>\n",
       "<tr>\n",
       "  <th>collars_whitecollar</th>           <td>    0.6034</td> <td>    0.035</td> <td>   17.064</td> <td> 0.000</td> <td>    0.534</td> <td>    0.673</td>\n",
       "</tr>\n",
       "<tr>\n",
       "  <th>relationship_Unmarried</th>        <td>   -1.1990</td> <td>    0.150</td> <td>   -7.981</td> <td> 0.000</td> <td>   -1.493</td> <td>   -0.905</td>\n",
       "</tr>\n",
       "<tr>\n",
       "  <th>relationship_Wife</th>             <td>    1.0592</td> <td>    0.084</td> <td>   12.590</td> <td> 0.000</td> <td>    0.894</td> <td>    1.224</td>\n",
       "</tr>\n",
       "<tr>\n",
       "  <th>relationship_notinfamily</th>      <td>   -0.9684</td> <td>    0.134</td> <td>   -7.236</td> <td> 0.000</td> <td>   -1.231</td> <td>   -0.706</td>\n",
       "</tr>\n",
       "<tr>\n",
       "  <th>relationship_otherrelative</th>    <td>   -1.4217</td> <td>    0.187</td> <td>   -7.595</td> <td> 0.000</td> <td>   -1.789</td> <td>   -1.055</td>\n",
       "</tr>\n",
       "<tr>\n",
       "  <th>relationship_ownchild</th>         <td>   -1.9374</td> <td>    0.166</td> <td>  -11.650</td> <td> 0.000</td> <td>   -2.263</td> <td>   -1.611</td>\n",
       "</tr>\n",
       "<tr>\n",
       "  <th>race_Other</th>                    <td>    0.1782</td> <td>    0.113</td> <td>    1.583</td> <td> 0.114</td> <td>   -0.042</td> <td>    0.399</td>\n",
       "</tr>\n",
       "<tr>\n",
       "  <th>race_White</th>                    <td>    0.2427</td> <td>    0.063</td> <td>    3.855</td> <td> 0.000</td> <td>    0.119</td> <td>    0.366</td>\n",
       "</tr>\n",
       "<tr>\n",
       "  <th>gender_Male</th>                   <td>    0.7799</td> <td>    0.064</td> <td>   12.131</td> <td> 0.000</td> <td>    0.654</td> <td>    0.906</td>\n",
       "</tr>\n",
       "<tr>\n",
       "  <th>region_america</th>                <td>    1.0920</td> <td>    0.370</td> <td>    2.953</td> <td> 0.003</td> <td>    0.367</td> <td>    1.817</td>\n",
       "</tr>\n",
       "<tr>\n",
       "  <th>region_asia</th>                   <td>    0.9586</td> <td>    0.371</td> <td>    2.586</td> <td> 0.010</td> <td>    0.232</td> <td>    1.685</td>\n",
       "</tr>\n",
       "<tr>\n",
       "  <th>region_europa</th>                 <td>    1.2972</td> <td>    0.384</td> <td>    3.376</td> <td> 0.001</td> <td>    0.544</td> <td>    2.050</td>\n",
       "</tr>\n",
       "</table>"
      ],
      "text/plain": [
       "<class 'statsmodels.iolib.summary.Summary'>\n",
       "\"\"\"\n",
       "                           Logit Regression Results                           \n",
       "==============================================================================\n",
       "Dep. Variable:                 income   No. Observations:                45222\n",
       "Model:                          Logit   Df Residuals:                    45190\n",
       "Method:                           MLE   Df Model:                           31\n",
       "Date:                Thu, 15 Aug 2019   Pseudo R-squ.:                  0.4076\n",
       "Time:                        14:47:57   Log-Likelihood:                -15001.\n",
       "converged:                       True   LL-Null:                       -25322.\n",
       "Covariance Type:            nonrobust   LLR p-value:                     0.000\n",
       "=================================================================================================\n",
       "                                    coef    std err          z      P>|z|      [0.025      0.975]\n",
       "-------------------------------------------------------------------------------------------------\n",
       "Intercept                        -9.0466      0.452    -20.025      0.000      -9.932      -8.161\n",
       "age                               0.0254      0.001     18.786      0.000       0.023       0.028\n",
       "fnlwgt                         7.365e-07    1.4e-07      5.264      0.000    4.62e-07    1.01e-06\n",
       "educational_num                   0.2776      0.016     17.313      0.000       0.246       0.309\n",
       "capital_gain                      0.0003   8.61e-06     36.846      0.000       0.000       0.000\n",
       "capital_loss                      0.0007   3.08e-05     21.316      0.000       0.001       0.001\n",
       "hours_per_week                    0.0297      0.001     22.500      0.000       0.027       0.032\n",
       "workclass_recod_federalgov        0.4427      0.075      5.910      0.000       0.296       0.589\n",
       "workclass_recod_selfemployed     -0.3393      0.042     -8.025      0.000      -0.422      -0.256\n",
       "workclass_recod_statelevelgov    -0.0777      0.046     -1.694      0.090      -0.168       0.012\n",
       "workclass_recod_unemployed       -1.1037      0.800     -1.379      0.168      -2.672       0.465\n",
       "educ_recod_elementaryschool       0.1419      0.237      0.598      0.550      -0.323       0.607\n",
       "educ_recod_highschool            -0.0636      0.047     -1.361      0.173      -0.155       0.028\n",
       "educ_recod_preschool             -3.9595      4.033     -0.982      0.326     -11.865       3.946\n",
       "educ_recod_university             0.0880      0.061      1.448      0.148      -0.031       0.207\n",
       "civstatus_married                 0.8003      0.138      5.786      0.000       0.529       1.071\n",
       "civstatus_nevermarried           -0.4836      0.072     -6.696      0.000      -0.625      -0.342\n",
       "civstatus_separated              -0.0290      0.133     -0.218      0.827      -0.290       0.232\n",
       "civstatus_widowed                 0.0899      0.128      0.703      0.482      -0.161       0.341\n",
       "collars_others                   -0.7270      0.087     -8.370      0.000      -0.897      -0.557\n",
       "collars_whitecollar               0.6034      0.035     17.064      0.000       0.534       0.673\n",
       "relationship_Unmarried           -1.1990      0.150     -7.981      0.000      -1.493      -0.905\n",
       "relationship_Wife                 1.0592      0.084     12.590      0.000       0.894       1.224\n",
       "relationship_notinfamily         -0.9684      0.134     -7.236      0.000      -1.231      -0.706\n",
       "relationship_otherrelative       -1.4217      0.187     -7.595      0.000      -1.789      -1.055\n",
       "relationship_ownchild            -1.9374      0.166    -11.650      0.000      -2.263      -1.611\n",
       "race_Other                        0.1782      0.113      1.583      0.114      -0.042       0.399\n",
       "race_White                        0.2427      0.063      3.855      0.000       0.119       0.366\n",
       "gender_Male                       0.7799      0.064     12.131      0.000       0.654       0.906\n",
       "region_america                    1.0920      0.370      2.953      0.003       0.367       1.817\n",
       "region_asia                       0.9586      0.371      2.586      0.010       0.232       1.685\n",
       "region_europa                     1.2972      0.384      3.376      0.001       0.544       2.050\n",
       "=================================================================================================\n",
       "\"\"\""
      ]
     },
     "execution_count": 137,
     "metadata": {},
     "output_type": "execute_result"
    }
   ],
   "source": [
    "m1_logit = smf.logit(string_cols,data=df2_dummy).fit()\n",
    "m1_logit.summary()"
   ]
  },
  {
   "cell_type": "code",
   "execution_count": 138,
   "metadata": {},
   "outputs": [],
   "source": [
    "def pvalues_significantes(model,tipo):\n",
    "    pvalues = model.pvalues[1:]\n",
    "    if tipo==False:\n",
    "        return pvalues[pvalues >= 0.025]\n",
    "    else:\n",
    "        return pvalues[pvalues < 0.025]"
   ]
  },
  {
   "cell_type": "markdown",
   "metadata": {},
   "source": [
    "### Las variables regresoras __no__ significativas al 95% corresponden a:\n"
   ]
  },
  {
   "cell_type": "code",
   "execution_count": 139,
   "metadata": {},
   "outputs": [
    {
     "data": {
      "text/plain": [
       "workclass_recod_statelevelgov    0.090269\n",
       "workclass_recod_unemployed       0.167840\n",
       "educ_recod_elementaryschool      0.549516\n",
       "educ_recod_highschool            0.173364\n",
       "educ_recod_preschool             0.326249\n",
       "educ_recod_university            0.147560\n",
       "civstatus_separated              0.827179\n",
       "civstatus_widowed                0.482276\n",
       "race_Other                       0.113504\n",
       "dtype: float64"
      ]
     },
     "execution_count": 139,
     "metadata": {},
     "output_type": "execute_result"
    }
   ],
   "source": [
    "pvalues_significantes(m1_logit,False)"
   ]
  },
  {
   "cell_type": "markdown",
   "metadata": {},
   "source": []
  },
  {
   "cell_type": "markdown",
   "metadata": {},
   "source": [
    "## __Modelo 2__ - \"No-Saturado\""
   ]
  },
  {
   "cell_type": "markdown",
   "metadata": {},
   "source": [
    "### Se realizará un segundo Modelo con regresores significativos, a saber:"
   ]
  },
  {
   "cell_type": "code",
   "execution_count": 140,
   "metadata": {},
   "outputs": [
    {
     "data": {
      "text/plain": [
       "age                              9.740700e-79\n",
       "fnlwgt                           1.407099e-07\n",
       "educational_num                  3.738087e-67\n",
       "capital_gain                    3.371209e-297\n",
       "capital_loss                    8.065481e-101\n",
       "hours_per_week                  4.133608e-112\n",
       "workclass_recod_federalgov       3.414380e-09\n",
       "workclass_recod_selfemployed     1.013201e-15\n",
       "civstatus_married                7.192358e-09\n",
       "civstatus_nevermarried           2.142565e-11\n",
       "collars_others                   5.761773e-17\n",
       "collars_whitecollar              2.763828e-65\n",
       "relationship_Unmarried           1.457108e-15\n",
       "relationship_Wife                2.399835e-36\n",
       "relationship_notinfamily         4.614289e-13\n",
       "relationship_otherrelative       3.079325e-14\n",
       "relationship_ownchild            2.289738e-31\n",
       "race_White                       1.155204e-04\n",
       "gender_Male                      7.230444e-34\n",
       "region_america                   3.150076e-03\n",
       "region_asia                      9.696258e-03\n",
       "region_europa                    7.354186e-04\n",
       "dtype: float64"
      ]
     },
     "execution_count": 140,
     "metadata": {},
     "output_type": "execute_result"
    }
   ],
   "source": [
    "pvalues_significantes(m1_logit,True)"
   ]
  },
  {
   "cell_type": "code",
   "execution_count": 141,
   "metadata": {},
   "outputs": [],
   "source": [
    "listado=pvalues_significantes(m1_logit,True).index"
   ]
  },
  {
   "cell_type": "code",
   "execution_count": 142,
   "metadata": {},
   "outputs": [
    {
     "name": "stdout",
     "output_type": "stream",
     "text": [
      "income~age+fnlwgt+educational_num+capital_gain+capital_loss+hours_per_week+workclass_recod_federalgov+workclass_recod_selfemployed+civstatus_married+civstatus_nevermarried+collars_others+collars_whitecollar+relationship_Unmarried+relationship_Wife+relationship_notinfamily+relationship_otherrelative+relationship_ownchild+race_White+gender_Male+region_america+region_asia+region_europa\n"
     ]
    }
   ],
   "source": [
    "string_cols=\"income~\"\n",
    "largo=len(listado)\n",
    "for i,n in enumerate(listado):\n",
    "    if n==\"income\":\n",
    "        pass\n",
    "    else:\n",
    "        if i!=largo-1:\n",
    "            string_cols+=n+\"+\"\n",
    "        \n",
    "        else:\n",
    "            string_cols+=n\n",
    "print(string_cols)"
   ]
  },
  {
   "cell_type": "code",
   "execution_count": 143,
   "metadata": {},
   "outputs": [
    {
     "name": "stdout",
     "output_type": "stream",
     "text": [
      "Optimization terminated successfully.\n",
      "         Current function value: 0.331910\n",
      "         Iterations 9\n"
     ]
    },
    {
     "data": {
      "text/html": [
       "<table class=\"simpletable\">\n",
       "<caption>Logit Regression Results</caption>\n",
       "<tr>\n",
       "  <th>Dep. Variable:</th>        <td>income</td>      <th>  No. Observations:  </th>  <td> 45222</td> \n",
       "</tr>\n",
       "<tr>\n",
       "  <th>Model:</th>                 <td>Logit</td>      <th>  Df Residuals:      </th>  <td> 45199</td> \n",
       "</tr>\n",
       "<tr>\n",
       "  <th>Method:</th>                 <td>MLE</td>       <th>  Df Model:          </th>  <td>    22</td> \n",
       "</tr>\n",
       "<tr>\n",
       "  <th>Date:</th>            <td>Thu, 15 Aug 2019</td> <th>  Pseudo R-squ.:     </th>  <td>0.4073</td> \n",
       "</tr>\n",
       "<tr>\n",
       "  <th>Time:</th>                <td>14:47:58</td>     <th>  Log-Likelihood:    </th> <td> -15010.</td>\n",
       "</tr>\n",
       "<tr>\n",
       "  <th>converged:</th>             <td>True</td>       <th>  LL-Null:           </th> <td> -25322.</td>\n",
       "</tr>\n",
       "<tr>\n",
       "  <th>Covariance Type:</th>     <td>nonrobust</td>    <th>  LLR p-value:       </th>  <td> 0.000</td> \n",
       "</tr>\n",
       "</table>\n",
       "<table class=\"simpletable\">\n",
       "<tr>\n",
       "                <td></td>                  <th>coef</th>     <th>std err</th>      <th>z</th>      <th>P>|z|</th>  <th>[0.025</th>    <th>0.975]</th>  \n",
       "</tr>\n",
       "<tr>\n",
       "  <th>Intercept</th>                    <td>   -9.0914</td> <td>    0.408</td> <td>  -22.270</td> <td> 0.000</td> <td>   -9.892</td> <td>   -8.291</td>\n",
       "</tr>\n",
       "<tr>\n",
       "  <th>age</th>                          <td>    0.0253</td> <td>    0.001</td> <td>   19.015</td> <td> 0.000</td> <td>    0.023</td> <td>    0.028</td>\n",
       "</tr>\n",
       "<tr>\n",
       "  <th>fnlwgt</th>                       <td> 7.165e-07</td> <td> 1.39e-07</td> <td>    5.161</td> <td> 0.000</td> <td> 4.44e-07</td> <td> 9.89e-07</td>\n",
       "</tr>\n",
       "<tr>\n",
       "  <th>educational_num</th>              <td>    0.2984</td> <td>    0.007</td> <td>   41.594</td> <td> 0.000</td> <td>    0.284</td> <td>    0.312</td>\n",
       "</tr>\n",
       "<tr>\n",
       "  <th>capital_gain</th>                 <td>    0.0003</td> <td> 8.59e-06</td> <td>   36.877</td> <td> 0.000</td> <td>    0.000</td> <td>    0.000</td>\n",
       "</tr>\n",
       "<tr>\n",
       "  <th>capital_loss</th>                 <td>    0.0007</td> <td> 3.08e-05</td> <td>   21.341</td> <td> 0.000</td> <td>    0.001</td> <td>    0.001</td>\n",
       "</tr>\n",
       "<tr>\n",
       "  <th>hours_per_week</th>               <td>    0.0297</td> <td>    0.001</td> <td>   22.506</td> <td> 0.000</td> <td>    0.027</td> <td>    0.032</td>\n",
       "</tr>\n",
       "<tr>\n",
       "  <th>workclass_recod_federalgov</th>   <td>    0.4526</td> <td>    0.074</td> <td>    6.088</td> <td> 0.000</td> <td>    0.307</td> <td>    0.598</td>\n",
       "</tr>\n",
       "<tr>\n",
       "  <th>workclass_recod_selfemployed</th> <td>   -0.3267</td> <td>    0.042</td> <td>   -7.850</td> <td> 0.000</td> <td>   -0.408</td> <td>   -0.245</td>\n",
       "</tr>\n",
       "<tr>\n",
       "  <th>civstatus_married</th>            <td>    0.8027</td> <td>    0.136</td> <td>    5.904</td> <td> 0.000</td> <td>    0.536</td> <td>    1.069</td>\n",
       "</tr>\n",
       "<tr>\n",
       "  <th>civstatus_nevermarried</th>       <td>   -0.4837</td> <td>    0.068</td> <td>   -7.073</td> <td> 0.000</td> <td>   -0.618</td> <td>   -0.350</td>\n",
       "</tr>\n",
       "<tr>\n",
       "  <th>collars_others</th>               <td>   -0.7252</td> <td>    0.087</td> <td>   -8.352</td> <td> 0.000</td> <td>   -0.895</td> <td>   -0.555</td>\n",
       "</tr>\n",
       "<tr>\n",
       "  <th>collars_whitecollar</th>          <td>    0.6153</td> <td>    0.035</td> <td>   17.564</td> <td> 0.000</td> <td>    0.547</td> <td>    0.684</td>\n",
       "</tr>\n",
       "<tr>\n",
       "  <th>relationship_Unmarried</th>       <td>   -1.1968</td> <td>    0.150</td> <td>   -7.971</td> <td> 0.000</td> <td>   -1.491</td> <td>   -0.902</td>\n",
       "</tr>\n",
       "<tr>\n",
       "  <th>relationship_Wife</th>            <td>    1.0524</td> <td>    0.084</td> <td>   12.557</td> <td> 0.000</td> <td>    0.888</td> <td>    1.217</td>\n",
       "</tr>\n",
       "<tr>\n",
       "  <th>relationship_notinfamily</th>     <td>   -0.9598</td> <td>    0.134</td> <td>   -7.181</td> <td> 0.000</td> <td>   -1.222</td> <td>   -0.698</td>\n",
       "</tr>\n",
       "<tr>\n",
       "  <th>relationship_otherrelative</th>   <td>   -1.4144</td> <td>    0.187</td> <td>   -7.555</td> <td> 0.000</td> <td>   -1.781</td> <td>   -1.047</td>\n",
       "</tr>\n",
       "<tr>\n",
       "  <th>relationship_ownchild</th>        <td>   -1.9307</td> <td>    0.166</td> <td>  -11.631</td> <td> 0.000</td> <td>   -2.256</td> <td>   -1.605</td>\n",
       "</tr>\n",
       "<tr>\n",
       "  <th>race_White</th>                   <td>    0.1963</td> <td>    0.053</td> <td>    3.675</td> <td> 0.000</td> <td>    0.092</td> <td>    0.301</td>\n",
       "</tr>\n",
       "<tr>\n",
       "  <th>gender_Male</th>                  <td>    0.7824</td> <td>    0.064</td> <td>   12.267</td> <td> 0.000</td> <td>    0.657</td> <td>    0.907</td>\n",
       "</tr>\n",
       "<tr>\n",
       "  <th>region_america</th>               <td>    0.9490</td> <td>    0.361</td> <td>    2.631</td> <td> 0.009</td> <td>    0.242</td> <td>    1.656</td>\n",
       "</tr>\n",
       "<tr>\n",
       "  <th>region_asia</th>                  <td>    0.9352</td> <td>    0.370</td> <td>    2.527</td> <td> 0.012</td> <td>    0.210</td> <td>    1.661</td>\n",
       "</tr>\n",
       "<tr>\n",
       "  <th>region_europa</th>                <td>    1.1658</td> <td>    0.376</td> <td>    3.103</td> <td> 0.002</td> <td>    0.429</td> <td>    1.902</td>\n",
       "</tr>\n",
       "</table>"
      ],
      "text/plain": [
       "<class 'statsmodels.iolib.summary.Summary'>\n",
       "\"\"\"\n",
       "                           Logit Regression Results                           \n",
       "==============================================================================\n",
       "Dep. Variable:                 income   No. Observations:                45222\n",
       "Model:                          Logit   Df Residuals:                    45199\n",
       "Method:                           MLE   Df Model:                           22\n",
       "Date:                Thu, 15 Aug 2019   Pseudo R-squ.:                  0.4073\n",
       "Time:                        14:47:58   Log-Likelihood:                -15010.\n",
       "converged:                       True   LL-Null:                       -25322.\n",
       "Covariance Type:            nonrobust   LLR p-value:                     0.000\n",
       "================================================================================================\n",
       "                                   coef    std err          z      P>|z|      [0.025      0.975]\n",
       "------------------------------------------------------------------------------------------------\n",
       "Intercept                       -9.0914      0.408    -22.270      0.000      -9.892      -8.291\n",
       "age                              0.0253      0.001     19.015      0.000       0.023       0.028\n",
       "fnlwgt                        7.165e-07   1.39e-07      5.161      0.000    4.44e-07    9.89e-07\n",
       "educational_num                  0.2984      0.007     41.594      0.000       0.284       0.312\n",
       "capital_gain                     0.0003   8.59e-06     36.877      0.000       0.000       0.000\n",
       "capital_loss                     0.0007   3.08e-05     21.341      0.000       0.001       0.001\n",
       "hours_per_week                   0.0297      0.001     22.506      0.000       0.027       0.032\n",
       "workclass_recod_federalgov       0.4526      0.074      6.088      0.000       0.307       0.598\n",
       "workclass_recod_selfemployed    -0.3267      0.042     -7.850      0.000      -0.408      -0.245\n",
       "civstatus_married                0.8027      0.136      5.904      0.000       0.536       1.069\n",
       "civstatus_nevermarried          -0.4837      0.068     -7.073      0.000      -0.618      -0.350\n",
       "collars_others                  -0.7252      0.087     -8.352      0.000      -0.895      -0.555\n",
       "collars_whitecollar              0.6153      0.035     17.564      0.000       0.547       0.684\n",
       "relationship_Unmarried          -1.1968      0.150     -7.971      0.000      -1.491      -0.902\n",
       "relationship_Wife                1.0524      0.084     12.557      0.000       0.888       1.217\n",
       "relationship_notinfamily        -0.9598      0.134     -7.181      0.000      -1.222      -0.698\n",
       "relationship_otherrelative      -1.4144      0.187     -7.555      0.000      -1.781      -1.047\n",
       "relationship_ownchild           -1.9307      0.166    -11.631      0.000      -2.256      -1.605\n",
       "race_White                       0.1963      0.053      3.675      0.000       0.092       0.301\n",
       "gender_Male                      0.7824      0.064     12.267      0.000       0.657       0.907\n",
       "region_america                   0.9490      0.361      2.631      0.009       0.242       1.656\n",
       "region_asia                      0.9352      0.370      2.527      0.012       0.210       1.661\n",
       "region_europa                    1.1658      0.376      3.103      0.002       0.429       1.902\n",
       "================================================================================================\n",
       "\"\"\""
      ]
     },
     "execution_count": 143,
     "metadata": {},
     "output_type": "execute_result"
    }
   ],
   "source": [
    "m2_logit = smf.logit(string_cols,data=df2_dummy).fit()\n",
    "m2_logit.summary()"
   ]
  },
  {
   "cell_type": "markdown",
   "metadata": {},
   "source": [
    "### __Analisis de Modelos.__\n",
    "- Date: Wed, 14 Aug 2019 , Time: \t18:29:35\n",
    "- __Métricas Comparativas__\n",
    "\n",
    "<table class=\"egt\">\n",
    "  <tr>\n",
    "    <th scope=\"row\"></th>\n",
    "    <th>R-squared</th>\n",
    "    <th>log-Likehood</th>  \n",
    "  </tr>\n",
    "  <tr>\n",
    "    <th>Modelo 1 - G1</th>\n",
    "    <td>0.4076</td>\n",
    "    <td>-15001</td>\n",
    "  </tr>\n",
    "  <tr>\n",
    "    <th>Modelo 2 - G2</th>\n",
    "    <td>0.4073</td>\n",
    "    <td>-15010</td>\n",
    "  </tr>\n",
    "  \n",
    "</table> \n",
    " \n",
    "- El valor de `R2`: si consideramos que corresponde al porcentaje de variación de la variable`income` y que se explicaría a través de un modelo lineal, sabiendo que:\n",
    "    - R-cuadrado siempre está entre 0 y 100%:\n",
    "            - 0% indica que el modelo no explica la variabilidad de los datos de respuesta en torno a su media.\n",
    "             -100% indica que el modelo explica toda la variabilidad de los datos de respuesta en torno a su media.\n",
    "\n",
    "     - En general, cuanto mayor sea el R cuadrado, mejor se ajustará el modelo a sus datos.Para este caso podemos decir que nuestros modelos tiene:\n",
    "       \n",
    "       - Modelo 1: 40.76% de explicación en forma lineal.\n",
    "       - Modelo 2: 40.73% de explicación en forma lineal.\n",
    " \n",
    "- `Log-Likelihood`: pueden usarse para comparar el ajuste de diferentes coeficientes. Debido a que desea maximizar la probabilidad de registro, el valor más alto es mejor:\n",
    "       - Modelo 1:-15001\n",
    "       - Modelo 2:-15010.\n",
    "\n",
    "__Con esto, podemos señalar que el Modelo 1 presenta mejores métricas de desempeño tanto de R2 y log-likehood, considerando además que presenta una mayor cantidad de variables asociadas a vector objetivo `income`.__"
   ]
  },
  {
   "cell_type": "markdown",
   "metadata": {},
   "source": [
    "### __Modelación predictiva__"
   ]
  },
  {
   "cell_type": "markdown",
   "metadata": {},
   "source": [
    "### Modelo 1: Utilizando todas las variables del DataFrame"
   ]
  },
  {
   "cell_type": "code",
   "execution_count": 144,
   "metadata": {},
   "outputs": [
    {
     "name": "stdout",
     "output_type": "stream",
     "text": [
      "['age', 'fnlwgt', 'educational_num', 'capital_gain', 'capital_loss', 'hours_per_week', 'workclass_recod_federalgov', 'workclass_recod_selfemployed', 'workclass_recod_statelevelgov', 'workclass_recod_unemployed', 'educ_recod_elementaryschool', 'educ_recod_highschool', 'educ_recod_preschool', 'educ_recod_university', 'civstatus_married', 'civstatus_nevermarried', 'civstatus_separated', 'civstatus_widowed', 'collars_others', 'collars_whitecollar', 'relationship_Unmarried', 'relationship_Wife', 'relationship_notinfamily', 'relationship_otherrelative', 'relationship_ownchild', 'race_Other', 'race_White', 'gender_Male', 'region_america', 'region_asia', 'region_europa']\n"
     ]
    },
    {
     "data": {
      "text/plain": [
       "31"
      ]
     },
     "execution_count": 144,
     "metadata": {},
     "output_type": "execute_result"
    }
   ],
   "source": [
    "columnas=[]\n",
    "for i in df2_dummy.columns:\n",
    "    if i!=\"income\":\n",
    "        columnas.append(i)\n",
    "    else:\n",
    "        pass\n",
    "print(columnas)\n",
    "len(columnas)"
   ]
  },
  {
   "cell_type": "code",
   "execution_count": 145,
   "metadata": {},
   "outputs": [
    {
     "name": "stdout",
     "output_type": "stream",
     "text": [
      "              precision    recall  f1-score   support\n",
      "\n",
      "           0       0.87      0.93      0.90     11134\n",
      "           1       0.74      0.59      0.66      3790\n",
      "\n",
      "    accuracy                           0.84     14924\n",
      "   macro avg       0.81      0.76      0.78     14924\n",
      "weighted avg       0.84      0.84      0.84     14924\n",
      "\n"
     ]
    }
   ],
   "source": [
    "y_vec=df2_dummy[\"income\"]\n",
    "X_mat=df2_dummy.loc[:,columnas].dropna()\n",
    "\n",
    "X_train,X_test,y_train,y_test=train_test_split(X_mat,y_vec,test_size=0.33,random_state=16123)\n",
    "std_scaler=StandardScaler().fit(X_train)\n",
    "data_preproc_Xtrain=std_scaler.transform(X_train)\n",
    "data_preproc_Xtest=std_scaler.transform(X_test)\n",
    "\n",
    "logistic_model=LogisticRegression().fit(data_preproc_Xtrain,y_train)\n",
    "y_predict=logistic_model.predict(data_preproc_Xtest)\n",
    "\n",
    "print(classification_report(y_test,y_predict))"
   ]
  },
  {
   "cell_type": "code",
   "execution_count": null,
   "metadata": {},
   "outputs": [],
   "source": []
  },
  {
   "cell_type": "code",
   "execution_count": 146,
   "metadata": {},
   "outputs": [
    {
     "name": "stdout",
     "output_type": "stream",
     "text": [
      "Matrix de Confusión:\n",
      " [[10357   777]\n",
      " [ 1553  2237]]\n"
     ]
    }
   ],
   "source": [
    "from sklearn.metrics import confusion_matrix\n",
    "random_state=16123\n",
    "confusion_matrix = confusion_matrix(y_test, y_predict)\n",
    "print(\"Matrix de Confusión:\\n\",confusion_matrix)"
   ]
  },
  {
   "cell_type": "markdown",
   "metadata": {},
   "source": [
    "- De las Matriz de confusión podemos concluir que:\n",
    "    * __True positive__: 10357 (Predijimos un resultado positivo y fue positivo)\n",
    "    * __True negative__: 2237 (Predijimos un resultado negativo y fue negativo)\n",
    "    * __False positive__: 777 (Predijimos un resultado positivo y resulto negativo)\n",
    "    * __False negative__: 1553 (Predijimos un resultado negativo y resulto positivo)"
   ]
  },
  {
   "cell_type": "markdown",
   "metadata": {},
   "source": [
    "Los resultados nos dicen que:\n",
    "* 10357+2237=12594 Predicciones Correctas. \n",
    "* 1553+777=2330 Predicciones Incorrectas."
   ]
  },
  {
   "cell_type": "markdown",
   "metadata": {},
   "source": [
    "Y apartir del `reporte de clasificacion` podemos decir que el modelo tiene un __84%__ de `Presición`."
   ]
  },
  {
   "cell_type": "markdown",
   "metadata": {},
   "source": [
    "### Modelo 2: Utilizando todas las variables p_values significativas.\n"
   ]
  },
  {
   "cell_type": "code",
   "execution_count": 147,
   "metadata": {},
   "outputs": [],
   "source": [
    "y_vec=df2_dummy[\"income\"]\n",
    "X_mat=df2_dummy.loc[:,listado].dropna()\n",
    "\n",
    "X_train,X_test,y_train,y_test=train_test_split(X_mat,y_vec,test_size=0.33,random_state=161239)\n",
    "std_scaler=StandardScaler().fit(X_train)\n",
    "data_preproc_Xtrain=std_scaler.transform(X_train)\n",
    "data_preproc_Xtest=std_scaler.transform(X_test)\n",
    "\n",
    "logistic_model=LogisticRegression().fit(data_preproc_Xtrain,y_train)\n",
    "y_predict=logistic_model.predict(data_preproc_Xtest)\n",
    "\n"
   ]
  },
  {
   "cell_type": "code",
   "execution_count": 148,
   "metadata": {},
   "outputs": [
    {
     "name": "stdout",
     "output_type": "stream",
     "text": [
      "              precision    recall  f1-score   support\n",
      "\n",
      "           0       0.87      0.93      0.90     11189\n",
      "           1       0.73      0.60      0.65      3735\n",
      "\n",
      "    accuracy                           0.84     14924\n",
      "   macro avg       0.80      0.76      0.78     14924\n",
      "weighted avg       0.84      0.84      0.84     14924\n",
      "\n"
     ]
    }
   ],
   "source": [
    "print(classification_report(y_test,y_predict))"
   ]
  },
  {
   "cell_type": "code",
   "execution_count": 149,
   "metadata": {},
   "outputs": [
    {
     "name": "stdout",
     "output_type": "stream",
     "text": [
      "Matrix de Confusión:\n",
      " [[10354   835]\n",
      " [ 1510  2225]]\n"
     ]
    }
   ],
   "source": [
    "from sklearn.metrics import confusion_matrix\n",
    "confusion_matrix = confusion_matrix(y_test, y_predict)\n",
    "print(\"Matrix de Confusión:\\n\",confusion_matrix)"
   ]
  },
  {
   "cell_type": "markdown",
   "metadata": {},
   "source": [
    "### Los resultados nos dicen que:\n",
    "    * 10354+2225=12579 correct predictions \n",
    "    * 1510+835=2345 incorrect predictions."
   ]
  },
  {
   "cell_type": "markdown",
   "metadata": {},
   "source": [
    "### Curva Receiver Operator Characteristic."
   ]
  },
  {
   "cell_type": "code",
   "execution_count": 150,
   "metadata": {},
   "outputs": [
    {
     "name": "stdout",
     "output_type": "stream",
     "text": [
      "probabilidades:  [0.02774237 0.00145677 0.00664655 ... 0.01103052 0.00080343 0.07615755]\n"
     ]
    },
    {
     "data": {
      "text/plain": [
       "Text(0.5, 0, 'Falsos posivitos')"
      ]
     },
     "execution_count": 150,
     "metadata": {},
     "output_type": "execute_result"
    },
    {
     "data": {
      "image/png": "[encoded data removed]",
      "text/plain": [
       "<Figure size 432x288 with 1 Axes>"
      ]
     },
     "metadata": {
      "needs_background": "light"
     },
     "output_type": "display_data"
    }
   ],
   "source": [
    "yhat_pr= logistic_model.predict_proba(data_preproc_Xtest)[:,1]\n",
    "print(\"probabilidades: \",yhat_pr)\n",
    "false_positive,true_positive,threshold = roc_curve(y_test,yhat_pr)\n",
    "plt.plot(false_positive,true_positive,lw=1)\n",
    "plt.plot([0,1],linestyle=\"--\",lw=1,color=\"tomato\")\n",
    "plt.ylabel(\"verdaderos positivos\")\n",
    "plt.xlabel(\"Falsos posivitos\")"
   ]
  },
  {
   "cell_type": "code",
   "execution_count": 151,
   "metadata": {},
   "outputs": [
    {
     "name": "stdout",
     "output_type": "stream",
     "text": [
      "AUC:  0.898500236235555\n",
      "Desempeño del modelo:  0.39850023623555497\n"
     ]
    }
   ],
   "source": [
    "auc=roc_auc_score(y_test,yhat_pr)\n",
    "print(\"AUC: \",auc)\n",
    "print(\"Desempeño del modelo: \",auc-0.5)"
   ]
  },
  {
   "cell_type": "markdown",
   "metadata": {},
   "source": [
    "__Analisis:__ \n",
    "    - Esto significa que nuestro modelo es .39 superior en comparación a un modelo aleatorio cara-sello"
   ]
  },
  {
   "cell_type": "markdown",
   "metadata": {},
   "source": []
  },
  {
   "cell_type": "code",
   "execution_count": null,
   "metadata": {},
   "outputs": [],
   "source": []
  }
 ],
 "metadata": {
  "kernelspec": {
   "display_name": "Python 3",
   "language": "python",
   "name": "python3"
  },
  "language_info": {
   "codemirror_mode": {
    "name": "ipython",
    "version": 3
   },
   "file_extension": ".py",
   "mimetype": "text/x-python",
   "name": "python",
   "nbconvert_exporter": "python",
   "pygments_lexer": "ipython3",
   "version": "3.7.3"
  }
 },
 "nbformat": 4,
 "nbformat_minor": 4
}
