{
 "cells": [
  {
   "cell_type": "markdown",
   "metadata": {},
   "source": [
    "# Desafío - Dimensionalidad Máquinas PCA\n",
    "\n",
    "## Autor:Pablo Veloz"
   ]
  },
  {
   "cell_type": "markdown",
   "metadata": {
    "colab_type": "text",
    "id": "em0PXE74UzT8"
   },
   "source": [
    "# Análisis de Componentes Principales y Clustering\n",
    "\n",
    "\n",
    "## 1.- Importe las librerías correspondientes junto con el conjunto de datos\n",
    "* Necesitará el método `pd.read_excel` para poder ingerir los datos en formato `xlsx`.\n",
    "* El argumento `skiprows` le permite indicarle al lector que salte las primeras `n` líneas del archivo a leer\n",
    "* Recuerde definir una variable que sirva como semilla aleatoria!."
   ]
  },
  {
   "cell_type": "code",
   "execution_count": 48,
   "metadata": {},
   "outputs": [],
   "source": [
    "import pandas as pd\n",
    "import numpy as np\n",
    "import matplotlib.pyplot as plt\n",
    "%matplotlib inline\n",
    "import scipy.stats as stats\n",
    "import seaborn as sns\n",
    "import warnings\n",
    "warnings.filterwarnings(action=\"ignore\")\n",
    "plt.style.use('seaborn')\n",
    "df = pd.read_excel(\"Residential-Building-Data-Set.xlsx\", skiprows = 1)\n",
    "np.random.seed(16123)"
   ]
  },
  {
   "cell_type": "code",
   "execution_count": 49,
   "metadata": {},
   "outputs": [
    {
     "data": {
      "text/html": [
       "<div>\n",
       "<style scoped>\n",
       "    .dataframe tbody tr th:only-of-type {\n",
       "        vertical-align: middle;\n",
       "    }\n",
       "\n",
       "    .dataframe tbody tr th {\n",
       "        vertical-align: top;\n",
       "    }\n",
       "\n",
       "    .dataframe thead th {\n",
       "        text-align: right;\n",
       "    }\n",
       "</style>\n",
       "<table border=\"1\" class=\"dataframe\">\n",
       "  <thead>\n",
       "    <tr style=\"text-align: right;\">\n",
       "      <th></th>\n",
       "      <th>START YEAR</th>\n",
       "      <th>START QUARTER</th>\n",
       "      <th>COMPLETION YEAR</th>\n",
       "      <th>COMPLETION QUARTER</th>\n",
       "      <th>V-1</th>\n",
       "      <th>V-2</th>\n",
       "      <th>V-3</th>\n",
       "      <th>V-4</th>\n",
       "      <th>V-5</th>\n",
       "      <th>V-6</th>\n",
       "      <th>...</th>\n",
       "      <th>V-22.4</th>\n",
       "      <th>V-23.4</th>\n",
       "      <th>V-24.4</th>\n",
       "      <th>V-25.4</th>\n",
       "      <th>V-26.4</th>\n",
       "      <th>V-27.4</th>\n",
       "      <th>V-28.4</th>\n",
       "      <th>V-29.4</th>\n",
       "      <th>V-9</th>\n",
       "      <th>V-10</th>\n",
       "    </tr>\n",
       "  </thead>\n",
       "  <tbody>\n",
       "    <tr>\n",
       "      <th>0</th>\n",
       "      <td>81</td>\n",
       "      <td>1</td>\n",
       "      <td>85</td>\n",
       "      <td>1</td>\n",
       "      <td>1</td>\n",
       "      <td>3150.0</td>\n",
       "      <td>920.0</td>\n",
       "      <td>598.5</td>\n",
       "      <td>190</td>\n",
       "      <td>1010.84</td>\n",
       "      <td>...</td>\n",
       "      <td>815.50</td>\n",
       "      <td>1755.00</td>\n",
       "      <td>8002.0</td>\n",
       "      <td>60.74</td>\n",
       "      <td>54.26</td>\n",
       "      <td>2978.26</td>\n",
       "      <td>41407.0</td>\n",
       "      <td>601988.1</td>\n",
       "      <td>2200</td>\n",
       "      <td>410</td>\n",
       "    </tr>\n",
       "    <tr>\n",
       "      <th>1</th>\n",
       "      <td>84</td>\n",
       "      <td>1</td>\n",
       "      <td>89</td>\n",
       "      <td>4</td>\n",
       "      <td>1</td>\n",
       "      <td>7600.0</td>\n",
       "      <td>1140.0</td>\n",
       "      <td>3040.0</td>\n",
       "      <td>400</td>\n",
       "      <td>963.81</td>\n",
       "      <td>...</td>\n",
       "      <td>1316.30</td>\n",
       "      <td>8364.78</td>\n",
       "      <td>8393.0</td>\n",
       "      <td>90.95</td>\n",
       "      <td>89.79</td>\n",
       "      <td>11379.37</td>\n",
       "      <td>44835.0</td>\n",
       "      <td>929027.1</td>\n",
       "      <td>5000</td>\n",
       "      <td>1000</td>\n",
       "    </tr>\n",
       "    <tr>\n",
       "      <th>2</th>\n",
       "      <td>78</td>\n",
       "      <td>1</td>\n",
       "      <td>81</td>\n",
       "      <td>4</td>\n",
       "      <td>1</td>\n",
       "      <td>4800.0</td>\n",
       "      <td>840.0</td>\n",
       "      <td>480.0</td>\n",
       "      <td>100</td>\n",
       "      <td>689.84</td>\n",
       "      <td>...</td>\n",
       "      <td>765.80</td>\n",
       "      <td>1755.00</td>\n",
       "      <td>4930.0</td>\n",
       "      <td>38.70</td>\n",
       "      <td>32.04</td>\n",
       "      <td>1653.06</td>\n",
       "      <td>37933.0</td>\n",
       "      <td>377828.6</td>\n",
       "      <td>1200</td>\n",
       "      <td>170</td>\n",
       "    </tr>\n",
       "    <tr>\n",
       "      <th>3</th>\n",
       "      <td>72</td>\n",
       "      <td>2</td>\n",
       "      <td>73</td>\n",
       "      <td>2</td>\n",
       "      <td>1</td>\n",
       "      <td>685.0</td>\n",
       "      <td>202.0</td>\n",
       "      <td>13.7</td>\n",
       "      <td>20</td>\n",
       "      <td>459.54</td>\n",
       "      <td>...</td>\n",
       "      <td>152.25</td>\n",
       "      <td>1442.31</td>\n",
       "      <td>1456.0</td>\n",
       "      <td>9.73</td>\n",
       "      <td>8.34</td>\n",
       "      <td>686.16</td>\n",
       "      <td>8194.0</td>\n",
       "      <td>122031.7</td>\n",
       "      <td>165</td>\n",
       "      <td>30</td>\n",
       "    </tr>\n",
       "    <tr>\n",
       "      <th>4</th>\n",
       "      <td>87</td>\n",
       "      <td>1</td>\n",
       "      <td>90</td>\n",
       "      <td>2</td>\n",
       "      <td>1</td>\n",
       "      <td>3000.0</td>\n",
       "      <td>800.0</td>\n",
       "      <td>1230.0</td>\n",
       "      <td>410</td>\n",
       "      <td>631.91</td>\n",
       "      <td>...</td>\n",
       "      <td>2244.10</td>\n",
       "      <td>9231.76</td>\n",
       "      <td>9286.0</td>\n",
       "      <td>136.60</td>\n",
       "      <td>140.20</td>\n",
       "      <td>9821.00</td>\n",
       "      <td>48260.0</td>\n",
       "      <td>1734973.5</td>\n",
       "      <td>5500</td>\n",
       "      <td>700</td>\n",
       "    </tr>\n",
       "  </tbody>\n",
       "</table>\n",
       "<p>5 rows × 109 columns</p>\n",
       "</div>"
      ],
      "text/plain": [
       "   START YEAR  START QUARTER  COMPLETION YEAR  COMPLETION QUARTER  V-1  \\\n",
       "0          81              1               85                   1    1   \n",
       "1          84              1               89                   4    1   \n",
       "2          78              1               81                   4    1   \n",
       "3          72              2               73                   2    1   \n",
       "4          87              1               90                   2    1   \n",
       "\n",
       "      V-2     V-3     V-4  V-5      V-6  ...   V-22.4   V-23.4  V-24.4  \\\n",
       "0  3150.0   920.0   598.5  190  1010.84  ...   815.50  1755.00  8002.0   \n",
       "1  7600.0  1140.0  3040.0  400   963.81  ...  1316.30  8364.78  8393.0   \n",
       "2  4800.0   840.0   480.0  100   689.84  ...   765.80  1755.00  4930.0   \n",
       "3   685.0   202.0    13.7   20   459.54  ...   152.25  1442.31  1456.0   \n",
       "4  3000.0   800.0  1230.0  410   631.91  ...  2244.10  9231.76  9286.0   \n",
       "\n",
       "   V-25.4  V-26.4    V-27.4   V-28.4     V-29.4   V-9  V-10  \n",
       "0   60.74   54.26   2978.26  41407.0   601988.1  2200   410  \n",
       "1   90.95   89.79  11379.37  44835.0   929027.1  5000  1000  \n",
       "2   38.70   32.04   1653.06  37933.0   377828.6  1200   170  \n",
       "3    9.73    8.34    686.16   8194.0   122031.7   165    30  \n",
       "4  136.60  140.20   9821.00  48260.0  1734973.5  5500   700  \n",
       "\n",
       "[5 rows x 109 columns]"
      ]
     },
     "execution_count": 49,
     "metadata": {},
     "output_type": "execute_result"
    }
   ],
   "source": [
    "df.head(5)"
   ]
  },
  {
   "cell_type": "markdown",
   "metadata": {},
   "source": [
    "Obs: Se observa a START YEAR como númerica ordinal."
   ]
  },
  {
   "cell_type": "markdown",
   "metadata": {
    "colab_type": "text",
    "id": "2BfJjHxDUzUA"
   },
   "source": [
    "## 2.- Data Wrangling & Feature Engineering\n",
    "1. Elimine las columnas `START QUARTER` y `COMPLETION QUARTER`, por ahora las ignoraremos para nuestro análisis.\n",
    "\n",
    "Nuestro primero objetivo será realizar una transformación/extracción de las componentes principales de la matriz de datos, el objetivo de esto es encontrar aquellas componentes principales que permiten explicar un cierto porcentaje de la variación total de los datos.\n",
    "\n",
    "2. Sabiendo que PCA en rigor solo debiese ser aplicado a variables numéricas de rango (recordar la diferencia entre variables ordinales y nominales), realice un split entrenamiento y test, apartando un conjunto de test correspondiente al 30$%$ de la muestra. Considere que nuestra variable objetivo va a ser `COMPLETION YEAR`. Lo que haremos con el conjunto de train será pasarlo por la transformación PCA.\n",
    "\n",
    "3. Antes de pasar el conjunto de datos, elimine todos los registros en los que `START YEAR` o `COMPLETION YEAR` es NaN.\n",
    "\n",
    "4. Escale la matriz de datos con la que se entrenará la transformación. Recuerde: Nunca debemos entrenar la transformación con todos los datos del dataset, de lo contrario, estaríamos pasando información del conjunto de test al modelo.\n",
    "> a. Instancie un objeto `StandarScaler` y entrenelo con el conjunto de entrenamiento\n",
    ">\n",
    "> b. Cree una nueva variable y asignele la transformación del conjunto de entrenamiento pasado por `StandarScaler`.\n",
    ">\n",
    "> c. Cree una nueva variable y asignele la transformación del conjunto de test pasado por `StandarScaler`.\n",
    "\n",
    "5. Transforme la matriz de atributos mediante PCA, para esto, realice los siguientes pasos:\n",
    "> a. Instancie un objeto `PCA` y entrenelo con la matriz de datos escalada __de entrenamiento__. Dentro de los argumentos del método, indique que requiere un número de componentes igual al $0.99$ de la variación total de los datos, además, indique `svd_solver = \"full\"`.\n",
    ">\n",
    "> b. Cree una nueva variable y asignele la transformación del conjunto de entrenamiento pasado por `PCA`.\n",
    ">\n",
    "> c. Cree una nueva variable y asignele la transformación del conjunto de test pasado por `PCA`.\n"
   ]
  },
  {
   "cell_type": "markdown",
   "metadata": {},
   "source": [
    "## Quitar Columna Start Quarter y Completion Quarter"
   ]
  },
  {
   "cell_type": "code",
   "execution_count": 50,
   "metadata": {},
   "outputs": [],
   "source": [
    "df = df.drop(\"START QUARTER\",axis = \"columns\");"
   ]
  },
  {
   "cell_type": "code",
   "execution_count": 51,
   "metadata": {},
   "outputs": [],
   "source": [
    "df = df.drop(\"COMPLETION QUARTER\", axis = \"columns\")"
   ]
  },
  {
   "cell_type": "code",
   "execution_count": 52,
   "metadata": {},
   "outputs": [
    {
     "data": {
      "text/html": [
       "<div>\n",
       "<style scoped>\n",
       "    .dataframe tbody tr th:only-of-type {\n",
       "        vertical-align: middle;\n",
       "    }\n",
       "\n",
       "    .dataframe tbody tr th {\n",
       "        vertical-align: top;\n",
       "    }\n",
       "\n",
       "    .dataframe thead th {\n",
       "        text-align: right;\n",
       "    }\n",
       "</style>\n",
       "<table border=\"1\" class=\"dataframe\">\n",
       "  <thead>\n",
       "    <tr style=\"text-align: right;\">\n",
       "      <th></th>\n",
       "      <th>START YEAR</th>\n",
       "      <th>COMPLETION YEAR</th>\n",
       "      <th>V-1</th>\n",
       "      <th>V-2</th>\n",
       "      <th>V-3</th>\n",
       "      <th>V-4</th>\n",
       "      <th>V-5</th>\n",
       "      <th>V-6</th>\n",
       "      <th>V-7</th>\n",
       "      <th>V-8</th>\n",
       "      <th>...</th>\n",
       "      <th>V-22.4</th>\n",
       "      <th>V-23.4</th>\n",
       "      <th>V-24.4</th>\n",
       "      <th>V-25.4</th>\n",
       "      <th>V-26.4</th>\n",
       "      <th>V-27.4</th>\n",
       "      <th>V-28.4</th>\n",
       "      <th>V-29.4</th>\n",
       "      <th>V-9</th>\n",
       "      <th>V-10</th>\n",
       "    </tr>\n",
       "  </thead>\n",
       "  <tbody>\n",
       "    <tr>\n",
       "      <th>0</th>\n",
       "      <td>81</td>\n",
       "      <td>85</td>\n",
       "      <td>1</td>\n",
       "      <td>3150.0</td>\n",
       "      <td>920.0</td>\n",
       "      <td>598.5</td>\n",
       "      <td>190</td>\n",
       "      <td>1010.84</td>\n",
       "      <td>16</td>\n",
       "      <td>1200</td>\n",
       "      <td>...</td>\n",
       "      <td>815.50</td>\n",
       "      <td>1755.00</td>\n",
       "      <td>8002.0</td>\n",
       "      <td>60.74</td>\n",
       "      <td>54.26</td>\n",
       "      <td>2978.26</td>\n",
       "      <td>41407.0</td>\n",
       "      <td>601988.1</td>\n",
       "      <td>2200</td>\n",
       "      <td>410</td>\n",
       "    </tr>\n",
       "    <tr>\n",
       "      <th>1</th>\n",
       "      <td>84</td>\n",
       "      <td>89</td>\n",
       "      <td>1</td>\n",
       "      <td>7600.0</td>\n",
       "      <td>1140.0</td>\n",
       "      <td>3040.0</td>\n",
       "      <td>400</td>\n",
       "      <td>963.81</td>\n",
       "      <td>23</td>\n",
       "      <td>2900</td>\n",
       "      <td>...</td>\n",
       "      <td>1316.30</td>\n",
       "      <td>8364.78</td>\n",
       "      <td>8393.0</td>\n",
       "      <td>90.95</td>\n",
       "      <td>89.79</td>\n",
       "      <td>11379.37</td>\n",
       "      <td>44835.0</td>\n",
       "      <td>929027.1</td>\n",
       "      <td>5000</td>\n",
       "      <td>1000</td>\n",
       "    </tr>\n",
       "    <tr>\n",
       "      <th>2</th>\n",
       "      <td>78</td>\n",
       "      <td>81</td>\n",
       "      <td>1</td>\n",
       "      <td>4800.0</td>\n",
       "      <td>840.0</td>\n",
       "      <td>480.0</td>\n",
       "      <td>100</td>\n",
       "      <td>689.84</td>\n",
       "      <td>15</td>\n",
       "      <td>630</td>\n",
       "      <td>...</td>\n",
       "      <td>765.80</td>\n",
       "      <td>1755.00</td>\n",
       "      <td>4930.0</td>\n",
       "      <td>38.70</td>\n",
       "      <td>32.04</td>\n",
       "      <td>1653.06</td>\n",
       "      <td>37933.0</td>\n",
       "      <td>377828.6</td>\n",
       "      <td>1200</td>\n",
       "      <td>170</td>\n",
       "    </tr>\n",
       "    <tr>\n",
       "      <th>3</th>\n",
       "      <td>72</td>\n",
       "      <td>73</td>\n",
       "      <td>1</td>\n",
       "      <td>685.0</td>\n",
       "      <td>202.0</td>\n",
       "      <td>13.7</td>\n",
       "      <td>20</td>\n",
       "      <td>459.54</td>\n",
       "      <td>4</td>\n",
       "      <td>140</td>\n",
       "      <td>...</td>\n",
       "      <td>152.25</td>\n",
       "      <td>1442.31</td>\n",
       "      <td>1456.0</td>\n",
       "      <td>9.73</td>\n",
       "      <td>8.34</td>\n",
       "      <td>686.16</td>\n",
       "      <td>8194.0</td>\n",
       "      <td>122031.7</td>\n",
       "      <td>165</td>\n",
       "      <td>30</td>\n",
       "    </tr>\n",
       "    <tr>\n",
       "      <th>4</th>\n",
       "      <td>87</td>\n",
       "      <td>90</td>\n",
       "      <td>1</td>\n",
       "      <td>3000.0</td>\n",
       "      <td>800.0</td>\n",
       "      <td>1230.0</td>\n",
       "      <td>410</td>\n",
       "      <td>631.91</td>\n",
       "      <td>13</td>\n",
       "      <td>5000</td>\n",
       "      <td>...</td>\n",
       "      <td>2244.10</td>\n",
       "      <td>9231.76</td>\n",
       "      <td>9286.0</td>\n",
       "      <td>136.60</td>\n",
       "      <td>140.20</td>\n",
       "      <td>9821.00</td>\n",
       "      <td>48260.0</td>\n",
       "      <td>1734973.5</td>\n",
       "      <td>5500</td>\n",
       "      <td>700</td>\n",
       "    </tr>\n",
       "  </tbody>\n",
       "</table>\n",
       "<p>5 rows × 107 columns</p>\n",
       "</div>"
      ],
      "text/plain": [
       "   START YEAR  COMPLETION YEAR  V-1     V-2     V-3     V-4  V-5      V-6  \\\n",
       "0          81               85    1  3150.0   920.0   598.5  190  1010.84   \n",
       "1          84               89    1  7600.0  1140.0  3040.0  400   963.81   \n",
       "2          78               81    1  4800.0   840.0   480.0  100   689.84   \n",
       "3          72               73    1   685.0   202.0    13.7   20   459.54   \n",
       "4          87               90    1  3000.0   800.0  1230.0  410   631.91   \n",
       "\n",
       "   V-7   V-8  ...   V-22.4   V-23.4  V-24.4  V-25.4  V-26.4    V-27.4  \\\n",
       "0   16  1200  ...   815.50  1755.00  8002.0   60.74   54.26   2978.26   \n",
       "1   23  2900  ...  1316.30  8364.78  8393.0   90.95   89.79  11379.37   \n",
       "2   15   630  ...   765.80  1755.00  4930.0   38.70   32.04   1653.06   \n",
       "3    4   140  ...   152.25  1442.31  1456.0    9.73    8.34    686.16   \n",
       "4   13  5000  ...  2244.10  9231.76  9286.0  136.60  140.20   9821.00   \n",
       "\n",
       "    V-28.4     V-29.4   V-9  V-10  \n",
       "0  41407.0   601988.1  2200   410  \n",
       "1  44835.0   929027.1  5000  1000  \n",
       "2  37933.0   377828.6  1200   170  \n",
       "3   8194.0   122031.7   165    30  \n",
       "4  48260.0  1734973.5  5500   700  \n",
       "\n",
       "[5 rows x 107 columns]"
      ]
     },
     "execution_count": 52,
     "metadata": {},
     "output_type": "execute_result"
    }
   ],
   "source": [
    "df.head(5)"
   ]
  },
  {
   "cell_type": "markdown",
   "metadata": {},
   "source": [
    "2. Sabiendo que PCA en rigor solo debiese ser aplicado a variables numéricas de rango (recordar la diferencia entre variables ordinales y nominales), realice un split entrenamiento y test, apartando un conjunto de test correspondiente al 30$%$ de la muestra. Considere que nuestra variable objetivo va a ser `COMPLETION YEAR`. Lo que haremos con el conjunto de train será pasarlo por la transformación PCA.\n",
    "> * _Observación:_ En mi caso particular, creo que prefiero dejar la dimensión de `START YEAR` fuera de la transformación pues la considero una variable más que todo ordinal."
   ]
  },
  {
   "cell_type": "code",
   "execution_count": 53,
   "metadata": {},
   "outputs": [],
   "source": [
    "y_vec = df.loc[:, 'COMPLETION YEAR']\n",
    "X_mat = df.loc[:, df.columns != \"COMPLETION YEAR\"]"
   ]
  },
  {
   "cell_type": "code",
   "execution_count": 54,
   "metadata": {},
   "outputs": [],
   "source": [
    "df.dropna(inplace = True)"
   ]
  },
  {
   "cell_type": "code",
   "execution_count": 55,
   "metadata": {},
   "outputs": [
    {
     "name": "stdout",
     "output_type": "stream",
     "text": [
      " Dimension Matriz de Entrenamiento:\n"
     ]
    },
    {
     "data": {
      "text/plain": [
       "(260, 106)"
      ]
     },
     "execution_count": 55,
     "metadata": {},
     "output_type": "execute_result"
    }
   ],
   "source": [
    "from sklearn.model_selection import train_test_split\n",
    "X_train_pre, X_test_pre, y_train, y_test = train_test_split(X_mat, y_vec, test_size=.30, random_state=22021991)\n",
    "print(\" Dimension Matriz de Entrenamiento:\")\n",
    "X_train_pre.shape"
   ]
  },
  {
   "cell_type": "code",
   "execution_count": 56,
   "metadata": {},
   "outputs": [],
   "source": [
    "from sklearn.preprocessing import StandardScaler\n",
    "\n",
    "X_train_numeric = X_train_pre.loc[:, X_train_pre.columns != \"START YEAR\"]\n",
    "X_test_numeric = X_test_pre.loc[:, X_test_pre.columns != \"START YEAR\"]\n",
    "\n",
    "std_scalar = StandardScaler().fit(X_train_numeric)\n",
    "\n",
    "std_xtest = std_scalar.transform(X_test_numeric)\n",
    "\n",
    "std_xtrain = std_scalar.transform(X_train_numeric)\n",
    "\n"
   ]
  },
  {
   "cell_type": "code",
   "execution_count": 57,
   "metadata": {},
   "outputs": [],
   "source": [
    "from sklearn.decomposition import PCA\n",
    "\n",
    "pca_transform = PCA(n_components = .99, svd_solver = \"full\").fit(std_xtrain)"
   ]
  },
  {
   "cell_type": "code",
   "execution_count": 58,
   "metadata": {},
   "outputs": [],
   "source": [
    "std_xtrain_pca_scaler = pca_transform.transform(std_xtrain)\n",
    "std_xtest_pca_scaler = pca_transform.transform(std_xtest)"
   ]
  },
  {
   "cell_type": "code",
   "execution_count": 59,
   "metadata": {},
   "outputs": [
    {
     "data": {
      "text/plain": [
       "(260, 105)"
      ]
     },
     "execution_count": 59,
     "metadata": {},
     "output_type": "execute_result"
    }
   ],
   "source": [
    "std_xtrain.shape"
   ]
  },
  {
   "cell_type": "markdown",
   "metadata": {},
   "source": [
    "### __Disminuyendo dimensionalidad se Obtuvo__"
   ]
  },
  {
   "cell_type": "code",
   "execution_count": 60,
   "metadata": {},
   "outputs": [
    {
     "name": "stdout",
     "output_type": "stream",
     "text": [
      "Dimension Matriz Scaler PCA\n"
     ]
    },
    {
     "data": {
      "text/plain": [
       "(260, 24)"
      ]
     },
     "execution_count": 60,
     "metadata": {},
     "output_type": "execute_result"
    }
   ],
   "source": [
    "print(\"Dimension Matriz Scaler PCA\")\n",
    "std_xtrain_pca_scaler.shape"
   ]
  },
  {
   "cell_type": "markdown",
   "metadata": {},
   "source": [
    "### `De 105 columnas a 24`"
   ]
  },
  {
   "cell_type": "code",
   "execution_count": 61,
   "metadata": {},
   "outputs": [],
   "source": [
    "X_train = pd.DataFrame(std_xtrain_pca_scaler)\n",
    "X_train[\"START YEAR\"] = X_train_pre.loc[:, \"START YEAR\"].values\n",
    "x_train_nsy = pd.DataFrame(std_xtrain_pca_scaler)\n",
    "x_test = pd.DataFrame(std_xtest_pca_scaler)\n",
    "x_test_nsy = pd.DataFrame(std_xtest_pca_scaler)\n",
    "x_test[\"START YEAR\"] = X_test_pre.loc[:,\"START YEAR\"].values"
   ]
  },
  {
   "cell_type": "code",
   "execution_count": 62,
   "metadata": {},
   "outputs": [
    {
     "data": {
      "text/html": [
       "<div>\n",
       "<style scoped>\n",
       "    .dataframe tbody tr th:only-of-type {\n",
       "        vertical-align: middle;\n",
       "    }\n",
       "\n",
       "    .dataframe tbody tr th {\n",
       "        vertical-align: top;\n",
       "    }\n",
       "\n",
       "    .dataframe thead th {\n",
       "        text-align: right;\n",
       "    }\n",
       "</style>\n",
       "<table border=\"1\" class=\"dataframe\">\n",
       "  <thead>\n",
       "    <tr style=\"text-align: right;\">\n",
       "      <th></th>\n",
       "      <th>0</th>\n",
       "      <th>1</th>\n",
       "      <th>2</th>\n",
       "      <th>3</th>\n",
       "      <th>4</th>\n",
       "      <th>5</th>\n",
       "      <th>6</th>\n",
       "      <th>7</th>\n",
       "      <th>8</th>\n",
       "      <th>9</th>\n",
       "      <th>...</th>\n",
       "      <th>15</th>\n",
       "      <th>16</th>\n",
       "      <th>17</th>\n",
       "      <th>18</th>\n",
       "      <th>19</th>\n",
       "      <th>20</th>\n",
       "      <th>21</th>\n",
       "      <th>22</th>\n",
       "      <th>23</th>\n",
       "      <th>START YEAR</th>\n",
       "    </tr>\n",
       "  </thead>\n",
       "  <tbody>\n",
       "    <tr>\n",
       "      <th>0</th>\n",
       "      <td>-3.025531</td>\n",
       "      <td>-4.081541</td>\n",
       "      <td>-1.004121</td>\n",
       "      <td>-3.759627</td>\n",
       "      <td>0.039101</td>\n",
       "      <td>-1.273425</td>\n",
       "      <td>1.011854</td>\n",
       "      <td>0.538219</td>\n",
       "      <td>0.483365</td>\n",
       "      <td>0.470176</td>\n",
       "      <td>...</td>\n",
       "      <td>0.325912</td>\n",
       "      <td>1.051353</td>\n",
       "      <td>0.081861</td>\n",
       "      <td>0.459099</td>\n",
       "      <td>0.444370</td>\n",
       "      <td>-0.161070</td>\n",
       "      <td>-0.743233</td>\n",
       "      <td>-0.271993</td>\n",
       "      <td>0.278301</td>\n",
       "      <td>81</td>\n",
       "    </tr>\n",
       "    <tr>\n",
       "      <th>1</th>\n",
       "      <td>-8.361551</td>\n",
       "      <td>0.181494</td>\n",
       "      <td>1.722242</td>\n",
       "      <td>0.261695</td>\n",
       "      <td>1.248687</td>\n",
       "      <td>-1.186235</td>\n",
       "      <td>0.693766</td>\n",
       "      <td>-0.365307</td>\n",
       "      <td>0.573074</td>\n",
       "      <td>-0.953259</td>\n",
       "      <td>...</td>\n",
       "      <td>-0.294717</td>\n",
       "      <td>0.389417</td>\n",
       "      <td>0.548397</td>\n",
       "      <td>-0.104449</td>\n",
       "      <td>-0.506583</td>\n",
       "      <td>-0.275849</td>\n",
       "      <td>0.193496</td>\n",
       "      <td>-0.497252</td>\n",
       "      <td>-0.686889</td>\n",
       "      <td>77</td>\n",
       "    </tr>\n",
       "    <tr>\n",
       "      <th>2</th>\n",
       "      <td>-3.976086</td>\n",
       "      <td>-3.664806</td>\n",
       "      <td>-1.173270</td>\n",
       "      <td>-2.947527</td>\n",
       "      <td>0.249126</td>\n",
       "      <td>2.174077</td>\n",
       "      <td>-0.600989</td>\n",
       "      <td>0.678671</td>\n",
       "      <td>-0.983437</td>\n",
       "      <td>0.019923</td>\n",
       "      <td>...</td>\n",
       "      <td>0.271947</td>\n",
       "      <td>-0.695932</td>\n",
       "      <td>-0.300960</td>\n",
       "      <td>-0.113402</td>\n",
       "      <td>-0.547390</td>\n",
       "      <td>0.235736</td>\n",
       "      <td>0.095122</td>\n",
       "      <td>0.314202</td>\n",
       "      <td>-0.170016</td>\n",
       "      <td>80</td>\n",
       "    </tr>\n",
       "    <tr>\n",
       "      <th>3</th>\n",
       "      <td>-7.635057</td>\n",
       "      <td>1.534821</td>\n",
       "      <td>1.750369</td>\n",
       "      <td>-0.972382</td>\n",
       "      <td>-0.575413</td>\n",
       "      <td>-1.638136</td>\n",
       "      <td>-0.672773</td>\n",
       "      <td>0.537005</td>\n",
       "      <td>0.557884</td>\n",
       "      <td>-1.800402</td>\n",
       "      <td>...</td>\n",
       "      <td>0.039730</td>\n",
       "      <td>0.238392</td>\n",
       "      <td>0.115257</td>\n",
       "      <td>-0.437147</td>\n",
       "      <td>-0.079134</td>\n",
       "      <td>0.098531</td>\n",
       "      <td>0.224683</td>\n",
       "      <td>-0.241600</td>\n",
       "      <td>-0.022646</td>\n",
       "      <td>78</td>\n",
       "    </tr>\n",
       "    <tr>\n",
       "      <th>4</th>\n",
       "      <td>20.525201</td>\n",
       "      <td>-2.481656</td>\n",
       "      <td>0.861502</td>\n",
       "      <td>5.592530</td>\n",
       "      <td>0.057503</td>\n",
       "      <td>-0.916427</td>\n",
       "      <td>3.101729</td>\n",
       "      <td>-0.442158</td>\n",
       "      <td>-0.235474</td>\n",
       "      <td>-2.939918</td>\n",
       "      <td>...</td>\n",
       "      <td>-0.743555</td>\n",
       "      <td>-0.235246</td>\n",
       "      <td>-0.320014</td>\n",
       "      <td>0.738822</td>\n",
       "      <td>0.906352</td>\n",
       "      <td>-0.330481</td>\n",
       "      <td>1.095960</td>\n",
       "      <td>-0.436344</td>\n",
       "      <td>0.761959</td>\n",
       "      <td>88</td>\n",
       "    </tr>\n",
       "  </tbody>\n",
       "</table>\n",
       "<p>5 rows × 25 columns</p>\n",
       "</div>"
      ],
      "text/plain": [
       "           0         1         2         3         4         5         6  \\\n",
       "0  -3.025531 -4.081541 -1.004121 -3.759627  0.039101 -1.273425  1.011854   \n",
       "1  -8.361551  0.181494  1.722242  0.261695  1.248687 -1.186235  0.693766   \n",
       "2  -3.976086 -3.664806 -1.173270 -2.947527  0.249126  2.174077 -0.600989   \n",
       "3  -7.635057  1.534821  1.750369 -0.972382 -0.575413 -1.638136 -0.672773   \n",
       "4  20.525201 -2.481656  0.861502  5.592530  0.057503 -0.916427  3.101729   \n",
       "\n",
       "          7         8         9  ...        15        16        17        18  \\\n",
       "0  0.538219  0.483365  0.470176  ...  0.325912  1.051353  0.081861  0.459099   \n",
       "1 -0.365307  0.573074 -0.953259  ... -0.294717  0.389417  0.548397 -0.104449   \n",
       "2  0.678671 -0.983437  0.019923  ...  0.271947 -0.695932 -0.300960 -0.113402   \n",
       "3  0.537005  0.557884 -1.800402  ...  0.039730  0.238392  0.115257 -0.437147   \n",
       "4 -0.442158 -0.235474 -2.939918  ... -0.743555 -0.235246 -0.320014  0.738822   \n",
       "\n",
       "         19        20        21        22        23  START YEAR  \n",
       "0  0.444370 -0.161070 -0.743233 -0.271993  0.278301          81  \n",
       "1 -0.506583 -0.275849  0.193496 -0.497252 -0.686889          77  \n",
       "2 -0.547390  0.235736  0.095122  0.314202 -0.170016          80  \n",
       "3 -0.079134  0.098531  0.224683 -0.241600 -0.022646          78  \n",
       "4  0.906352 -0.330481  1.095960 -0.436344  0.761959          88  \n",
       "\n",
       "[5 rows x 25 columns]"
      ]
     },
     "execution_count": 62,
     "metadata": {},
     "output_type": "execute_result"
    }
   ],
   "source": [
    "x_test.head()"
   ]
  },
  {
   "cell_type": "markdown",
   "metadata": {
    "colab_type": "text",
    "id": "eHVmL0YGUzUk"
   },
   "source": [
    "## 3.- Estudio de las componentes encontradas\n",
    "\n",
    "1. Si decidió dejar la columna `START YEAR` fuera de la transformación, ahora agreguela como una nueva columna a las matrices de datos transformadas del punto anterior.\n",
    "\n",
    "2. Ralice un gráfico de barras donde se muestre:\n",
    "> a. En orden decreciente, la variación explicada por cada componente principal.\n",
    ">\n",
    "> b. La variación explicada acumulada a medida que se agregan componentes principales.\n",
    "\n",
    "__Nota:__ Es normal que la curva de variación explicada no parta de 0.\n",
    "\n",
    "Necesitará llamar a los argumentos `components_` y `explained_variance_`.\n"
   ]
  },
  {
   "cell_type": "code",
   "execution_count": 63,
   "metadata": {},
   "outputs": [
    {
     "data": {
      "text/plain": [
       "array([[ 0.01148168,  0.0165651 ,  0.01664383, ...,  0.11757389,\n",
       "         0.07913029,  0.09385816],\n",
       "       [-0.00097706,  0.07279189,  0.05455124, ..., -0.00037508,\n",
       "         0.03539373,  0.05111253],\n",
       "       [ 0.06246465, -0.01159945,  0.00880932, ...,  0.02255775,\n",
       "        -0.069228  , -0.06268945],\n",
       "       ...,\n",
       "       [-0.27230908, -0.00039499, -0.19690747, ...,  0.08421622,\n",
       "        -0.17774977,  0.01864615],\n",
       "       [ 0.14603033,  0.01115535,  0.11422516, ..., -0.06554511,\n",
       "         0.0913351 , -0.0886231 ],\n",
       "       [ 0.10293609, -0.03807076,  0.06201901, ...,  0.09129895,\n",
       "         0.04423105, -0.02862558]])"
      ]
     },
     "execution_count": 63,
     "metadata": {},
     "output_type": "execute_result"
    }
   ],
   "source": [
    "pca_transform.components_"
   ]
  },
  {
   "cell_type": "code",
   "execution_count": 64,
   "metadata": {},
   "outputs": [
    {
     "data": {
      "text/plain": [
       "array([69.54226307,  7.23499798,  4.97078594,  4.55113395,  3.57976559,\n",
       "        2.8177592 ,  1.9337004 ,  1.64694474,  1.53402578,  1.1224593 ,\n",
       "        0.98806165,  0.83152576,  0.65718511,  0.55277576,  0.5139097 ,\n",
       "        0.33538688,  0.30097857,  0.26252114,  0.22958735,  0.1941783 ,\n",
       "        0.18573784,  0.16604944,  0.14652288,  0.12090884])"
      ]
     },
     "execution_count": 64,
     "metadata": {},
     "output_type": "execute_result"
    }
   ],
   "source": [
    "pca_transform.explained_variance_"
   ]
  },
  {
   "cell_type": "code",
   "execution_count": 65,
   "metadata": {},
   "outputs": [
    {
     "data": {
      "text/plain": [
       "array([70.54226307,  8.23499798,  5.97078594,  5.55113395,  4.57976559,\n",
       "        3.8177592 ,  2.9337004 ,  2.64694474,  2.53402578,  2.1224593 ,\n",
       "        1.98806165,  1.83152576,  1.65718511,  1.55277576,  1.5139097 ,\n",
       "        1.33538688,  1.30097857,  1.26252114,  1.22958735,  1.1941783 ,\n",
       "        1.18573784,  1.16604944,  1.14652288,  1.12090884])"
      ]
     },
     "execution_count": 65,
     "metadata": {},
     "output_type": "execute_result"
    }
   ],
   "source": [
    "(pca_transform.explained_variance_ + 1)"
   ]
  },
  {
   "cell_type": "code",
   "execution_count": 66,
   "metadata": {},
   "outputs": [
    {
     "data": {
      "text/plain": [
       "[<matplotlib.lines.Line2D at 0x7f46e7035e80>]"
      ]
     },
     "execution_count": 66,
     "metadata": {},
     "output_type": "execute_result"
    },
    {
     "data": {
      "image/png": "[encoded data removed]",
      "text/plain": [
       "<Figure size 576x396 with 1 Axes>"
      ]
     },
     "metadata": {},
     "output_type": "display_data"
    }
   ],
   "source": [
    "plt.bar(range(1, len(pca_transform.explained_variance_) + 1),pca_transform.explained_variance_)\n",
    "plt.title(\"Variacion Explicada vs Componentes\")\n",
    "plt.plot(pca_transform.explained_variance_.cumsum(),\"o-\")"
   ]
  },
  {
   "cell_type": "code",
   "execution_count": 67,
   "metadata": {
    "colab": {
     "base_uri": "https://localhost:8080/",
     "height": 269
    },
    "colab_type": "code",
    "id": "F-T5k3A2XIQC",
    "outputId": "92068d4b-8b7d-45fc-aabf-4b4b21afc79a"
   },
   "outputs": [
    {
     "data": {
      "image/png": "[encoded data removed]",
      "text/plain": [
       "<Figure size 576x396 with 1 Axes>"
      ]
     },
     "metadata": {},
     "output_type": "display_data"
    }
   ],
   "source": [
    "plt.plot(df['START YEAR'], df['COMPLETION YEAR'], 'o');"
   ]
  },
  {
   "cell_type": "markdown",
   "metadata": {
    "colab_type": "text",
    "id": "rHuPDc8qUzUq"
   },
   "source": [
    "## 4.- Modelamiento\n",
    "1. Realice una regresión lineal para poder predecir `COMPLETION YEAR`.\n",
    "2. Reporte la cantidad de varianza explicada por el modelo ($R^2$).\n",
    "3. Realice un dotplot entre `COMPLETION YEAR` y `START YEAR`, le hace sentido el valor que observó de varianza explicada?."
   ]
  },
  {
   "cell_type": "code",
   "execution_count": 68,
   "metadata": {},
   "outputs": [],
   "source": [
    "from sklearn.linear_model import LinearRegression\n",
    "lin_reg = LinearRegression().fit(X_train,y_train)\n",
    "lin_reg_preds = lin_reg.predict(x_test)"
   ]
  },
  {
   "cell_type": "code",
   "execution_count": 69,
   "metadata": {},
   "outputs": [
    {
     "name": "stdout",
     "output_type": "stream",
     "text": [
      "Con Columna: \"Start Year\"\n",
      "\n",
      "R^2 score: 0.9957444561186749\n",
      "Mean absolute error 0.22890034246615226\n",
      "Mean squared error 0.07133430065928868\n"
     ]
    }
   ],
   "source": [
    "from sklearn.metrics import r2_score, mean_absolute_error, mean_squared_error\n",
    "print(\"Con Columna: \\\"Start Year\\\"\\n\")\n",
    "print(\"R^2 score: {}\".format(r2_score(y_test,lin_reg_preds)))\n",
    "print(\"Mean absolute error {}\".format(mean_absolute_error(y_test,lin_reg_preds)))\n",
    "print(\"Mean squared error {}\".format(mean_squared_error(y_test,lin_reg_preds)))"
   ]
  },
  {
   "cell_type": "code",
   "execution_count": 70,
   "metadata": {},
   "outputs": [
    {
     "name": "stdout",
     "output_type": "stream",
     "text": [
      "Sin Columna: \"Start Year\"\n",
      "\n",
      "R2 score: 0.9948220507565536\n",
      "Mean absolute error 0.24778287207147187\n",
      "Mean squared error 0.08679628231574596\n"
     ]
    }
   ],
   "source": [
    "#sin \"START YEAR\"\n",
    "\n",
    "lin_reg_pre = LinearRegression().fit(x_train_nsy,y_train)\n",
    "\n",
    "lin_reg_preds_pre = lin_reg_pre.predict(x_test_nsy)\n",
    "\n",
    "print(\"Sin Columna: \\\"Start Year\\\"\\n\")\n",
    "print(\"R2 score: {}\".format(r2_score(y_test,lin_reg_preds_pre)))\n",
    "print(\"Mean absolute error {}\".format(mean_absolute_error(y_test,lin_reg_preds_pre)))\n",
    "print(\"Mean squared error {}\".format(mean_squared_error(y_test,lin_reg_preds_pre)))"
   ]
  },
  {
   "cell_type": "code",
   "execution_count": 71,
   "metadata": {
    "colab": {
     "base_uri": "https://localhost:8080/",
     "height": 269
    },
    "colab_type": "code",
    "id": "4pay2wviXPAB",
    "outputId": "f9b254d0-5458-402c-ebce-aba944766e0e"
   },
   "outputs": [
    {
     "data": {
      "image/png": "[encoded data removed]",
      "text/plain": [
       "<Figure size 576x396 with 1 Axes>"
      ]
     },
     "metadata": {},
     "output_type": "display_data"
    }
   ],
   "source": [
    "plt.plot(df['START YEAR'], df['COMPLETION YEAR'], 'o');"
   ]
  },
  {
   "cell_type": "code",
   "execution_count": 72,
   "metadata": {},
   "outputs": [
    {
     "data": {
      "image/png": "[encoded data removed]",
      "text/plain": [
       "<Figure size 576x396 with 1 Axes>"
      ]
     },
     "metadata": {},
     "output_type": "display_data"
    }
   ],
   "source": [
    "plt.plot(df['START YEAR'], df['COMPLETION YEAR'], 'o-');"
   ]
  },
  {
   "cell_type": "markdown",
   "metadata": {
    "colab_type": "text",
    "id": "B6aE2JVKUzU5"
   },
   "source": [
    "## 5.- KMeans Clustering\n",
    "\n",
    "Realice clustering sobre el conjunto de datos, en este caso, clustering lo ocuparemos para __descubrir información__, no para predecir algún valor.\n",
    "\n",
    "1. A partir del dataset original (completo), escalelo con `StandarScaler`. Por qué necesitamos esto?\n",
    "2. Instancie un objeto `KMeans` del módulo `sklearn.cluster`.\n",
    "3. Entrene `KMeans` sobre el conjunto de datos:\n",
    "> * Aplique `KMeans` con 2, 5, 7 y 10 n_clusters.\n"
   ]
  },
  {
   "cell_type": "code",
   "execution_count": null,
   "metadata": {},
   "outputs": [],
   "source": []
  }
 ],
 "metadata": {
  "colab": {
   "name": "PCA LAB.ipynb",
   "provenance": [],
   "version": "0.3.2"
  },
  "kernelspec": {
   "display_name": "Python 3",
   "language": "python",
   "name": "python3"
  },
  "language_info": {
   "codemirror_mode": {
    "name": "ipython",
    "version": 3
   },
   "file_extension": ".py",
   "mimetype": "text/x-python",
   "name": "python",
   "nbconvert_exporter": "python",
   "pygments_lexer": "ipython3",
   "version": "3.7.3"
  }
 },
 "nbformat": 4,
 "nbformat_minor": 4
}
