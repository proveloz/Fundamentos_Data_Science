{
 "cells": [
  {
   "cell_type": "markdown",
   "metadata": {},
   "source": [
    "# Prueba Hito 1(Students)\n",
    "Autor: Pablo Veloz M."
   ]
  },
  {
   "cell_type": "markdown",
   "metadata": {},
   "source": [
    "__Desafío 2: Rendimiento escolar__\n",
    "* __Enunciado:__\n",
    "Lo contactan de una escuela Portuguesa para generar un modelo que identifique aquellos alumnosque presentan un bajo desempeño académico, medido en el promedio final del año escolar. Para ello,le envían un archivo con registros sociodemográficos y conductuales de los alumnos dos escuelas para perfilar a los estudiantes.\n",
    "\n",
    "De manera adicional la psicopedagoga sugiere inspeccionar una batería de preguntas asociadas aaspectos ambientales del alumno (de famrel a health) y ver si éstas se pueden abstraer encategorías latentes."
   ]
  },
  {
   "cell_type": "markdown",
   "metadata": {},
   "source": [
    "# __Objetivo:__\n",
    "\n",
    "   * __Completar el punto de Preliminares, así como Aspectos computacionales.__\n",
    "       * Elementos a considerar:\n",
    "        *  Los dos enunciados deben estar clarificados, considerando el tipo de problema a resolver (regresión o clasificación). Para cada uno de los enunciados y su problema identificado, se debe justificar el uso de métricas para medir el desempeño del problema. (3 puntos)\n",
    "        * Se debe considerar el uso de las librerías asociadas para la ingesta, preprocesamiento, visualización y modelación, así como métricas de evaluación. (1 punto) \n",
    "        * Se debe detallar y considerar el proceso de preprocesamiento y recodificación de datos. (1 punto)"
   ]
  },
  {
   "cell_type": "markdown",
   "metadata": {},
   "source": [
    "__Descripción de la base de datos__\n",
    "Para responder esta pregunta deben utilizar el archivo students.csv.\n",
    "Las variables que componen la base se detallan a continuación.\n",
    "- `school:` Escuela del estudiante. (binaria: 'GP' - Gabriel Pereira o 'MS' - Mousinho da Silveira)\n",
    "- `sex:` Sexo del estudiante. (binaria: 'F' - Mujer o 'M' - Hombre)\n",
    "- `age:` Edad del estudiante. (numérica: de 15 a 22)\n",
    "- `address:` Ubicación de la casa del estudiante. (binaria: 'U' - urbana o 'R' - rural)\n",
    "- `famsize:` Tamaño de la familia. (binaria: 'LE3' - less or equal to 3 or 'GT3' - greater than 3)\n",
    "- `Pstatus:` Estado cohabitacional de los padres. (binaria: 'T' - cohabitando juntos o 'A' - viviendoseparados)\n",
    "- `Medu:` Nivel educacional de la madre. (numérica: 0 - ninguno, 1 - educación básica (4to), 2 - de5to a 9, 3 - educación media, o 4 - educación superior).\n",
    "- `Fedu:` Nivel educacional del padre. (numérica: 0 - ninguno, 1 - educación básica (4to), 2 - de5to a 9, 3 - educación media, o 4 - educación superior).\n",
    "- `Mjob:` Ocupación de la madre. (nominal: 'teacher' profesora, 'health' relacionada a salud,'services' (e.g. administración pública o policía), 'at_home' en casa u 'other' otra).\n",
    "- `Fjob:` Ocupación del padre (nominal: 'teacher' profesor, 'health' relacionado a salud, 'services'(e.g. administración pública o policía), 'at_home' en casa u 'other' otra).\n",
    "- `reason:` Razón para escoger la escuela (nominal: 'home' cercano a casa, 'reputation'reputación de la escuela, 'course' preferencia de cursos u 'other' otra)\n",
    "- `guardian:` Apoderado del estudiante (nominal: 'mother' madre, 'father' padre u 'other' otro)\n",
    "- `traveltime:` Tiempo de viaje entre hogar y colegio. (numeric: 1 - <15 min., 2 - 15 a 30 min., 3 -30 min. a 1 hora, or 4 - >1 hora).\n",
    "- `studytime:` Horas semanales dedicadas al estudio. (numérica: 1 - <2 horas, 2 - 2 a 5 horas, 3- 5 a 10 horas, o 4 - >10 horas)\n",
    "- `failures:` Número de clases reprobadas. (numérica: n si 1<=n<3, de lo contrario 4)\n",
    "- `schoolsup:` Apoyo educacional del colegio. (binaria: si o no)\n",
    "- `famsup:` Apoyo educacional familiar. (binaria: si o no)\n",
    "- `paid:` Clases particulares pagadas (matemáticas o portugués) (binaria: si o no)activities: Actividades extracurriculares. (binaria: si o no)\n",
    "- `nursery:` Asistió a guardería infantil. (binaria: si o no)\n",
    "- `higher:` Desea proseguir estudios superiores (binaria: si o no)\n",
    "- `internet:` Acceso a internet desde el hogar (binaria: si o no)\n",
    "- `romantic:` Relación romántica (binaria: si o no)\n",
    "- `famrel:` Calidad de las relaciones familiares. (numérica: de 1 - muy malas a 5 - excelentes)\n",
    "- `freetime:` Tiempo libre fuera del colegio (numérica: de 1 - muy poco a 5 - mucho)\n",
    "- `goout:` Salidas con amigos (numérica: de 1 - muy pocas a 5 - muchas)\n",
    "- `Dalc:` Consumo de alcohol en día de semana (numérica: de 1 - muy bajo a 5 - muy alto)\n",
    "- `Walc:` Consumo de alcohol en fines de semana (numérica: de 1 - muy bajo a 5 - muy alto)\n",
    "- `health:` Estado de salud actual (numérica: from 1 - muy malo to 5 - muy bueno)\n",
    "- `absences:` Cantidad de ausencias escolares (numérica: de 0 a 93)\n",
    "- __`G1:`__ Notas durante el primer semestre (numérica: de 0 a 20). \n",
    "- __`G2:`__ Notas durante el segundo semestre (numérica: de 0 a 20).\n",
    "- __`G3:`__ Promedio final (numérica: de 0 a 20). Este es uno de sus vectores objetivos para elmodelo descriptivo y el vector a predecir en el modelo predictivo."
   ]
  },
  {
   "cell_type": "markdown",
   "metadata": {},
   "source": [
    "## Módulos básicos para las métricas y el análisis de datos:\n",
    "* import `matplotlib.pyplot` as `plt`\n",
    "    - Se ocupara para plottear relaciones entre variables en 2D.\n",
    "* Import `seaborn`\n",
    "    - Se ocupará para visualizar relaciones, si bien se basa en mathplotlib posee una alternativa más atractiva e informativa para las graficas.\n",
    "* Import `statsmodels`\n",
    "    - Es una libreria que se ocupará para la estimación del modelo en virtud de nuestra variable objetivo `income`.\n",
    "* Import `sklearn`\n",
    "    -  La ocuparemos para el data analisis de las predicciones.\n",
    "* Import `linear_model LinearRegression`\n",
    "    - La ocuparemos para reproducir un modelo lineal de la variable `G3`\n",
    "* from sklearn `train_test_split`\n",
    "    - Obtendremos una division de los datos, para entrenar y testear.\n",
    "* from sklearn `preprocessing StandardScaler`\n",
    "* from sklearn.metrics import mean_squared_error\n",
    "* from sklearn.metrics import r2_score\n",
    "    - Métricas para poder evaluar nuestro modelo predictivo."
   ]
  },
  {
   "cell_type": "markdown",
   "metadata": {},
   "source": [
    "__Aspectos adicionales a considerar__\n",
    "- La base de datos presenta una serie de anomalías. \n",
    "- En la escuela no tienen buenas prácticassobre cómo ingresar datos, por lo que existen datos perdidos que están registrados bajo trescategorías: nulidade, sem validade, zero. \n",
    "- De manera adicional, hay 3 variables numéricas quese registraron como strings, cuya interpretación en pandas devuelve una estructura de datosgenérica. Finalmente, la base está con un encoding distinto al normal y los delimitadores sondistintos.Para simplficar el análisis y su posterior inclusión en un modelo predictivo, se sugiere recodificarlas variables binarias como 0 y 1. \n",
    "    - Se recomienda seguir en criterio de asignarle 1 a aquellascategorías minoritarias.El procedimiento también debe aplicarse para aquelas variables nominales con más de 2categorías siguiendo la misma lógica.\n",
    "    - En la parte de modelación descriptiva, se deben generar modelos saturados por cada una de lasnotas registradas en G1, G2 y G3.Para la parte de modelación predictiva, se debe generar un modelo para predecir las notas enG3"
   ]
  },
  {
   "cell_type": "markdown",
   "metadata": {},
   "source": [
    "# Prueba Hito 2 students(Parte II)\n",
    "Autor: Pablo Veloz M."
   ]
  },
  {
   "cell_type": "markdown",
   "metadata": {},
   "source": [
    "# __Objetivo__\n",
    "* ## Completar el punto de Descripción.\n",
    "    * ### Elementos a considerar\n",
    "        * La inspección visual del vector objetivo. (2 puntos)\n",
    "        * La inspección visual de las variables. (2 puntos)\n",
    "        * La inspección de datos perdidos en las variables. (1 punto)\n",
    "        * De ser necesario, se puede iterar en el proceso de preprocesamiento y recodificación de las variables"
   ]
  },
  {
   "cell_type": "code",
   "execution_count": 2,
   "metadata": {},
   "outputs": [],
   "source": [
    "import pandas as pd\n",
    "import numpy as np"
   ]
  },
  {
   "cell_type": "markdown",
   "metadata": {},
   "source": [
    "## __Aspecto Preliminar:__"
   ]
  },
  {
   "cell_type": "code",
   "execution_count": 3,
   "metadata": {},
   "outputs": [
    {
     "data": {
      "text/plain": [
       "(395, 33)"
      ]
     },
     "execution_count": 3,
     "metadata": {},
     "output_type": "execute_result"
    }
   ],
   "source": [
    "df = pd.read_csv('students.csv', encoding = 'utf-8',sep='|',engine='python',na_values=[\"nulidade\",\"sem validade\",\"zero\"])\n",
    "df=df.drop('Unnamed: 0',axis=1)\n",
    "df.shape"
   ]
  },
  {
   "cell_type": "code",
   "execution_count": 4,
   "metadata": {},
   "outputs": [
    {
     "data": {
      "text/html": [
       "<div>\n",
       "<style scoped>\n",
       "    .dataframe tbody tr th:only-of-type {\n",
       "        vertical-align: middle;\n",
       "    }\n",
       "\n",
       "    .dataframe tbody tr th {\n",
       "        vertical-align: top;\n",
       "    }\n",
       "\n",
       "    .dataframe thead th {\n",
       "        text-align: right;\n",
       "    }\n",
       "</style>\n",
       "<table border=\"1\" class=\"dataframe\">\n",
       "  <thead>\n",
       "    <tr style=\"text-align: right;\">\n",
       "      <th></th>\n",
       "      <th>school</th>\n",
       "      <th>sex</th>\n",
       "      <th>age</th>\n",
       "      <th>address</th>\n",
       "      <th>famsize</th>\n",
       "      <th>Pstatus</th>\n",
       "      <th>Medu</th>\n",
       "      <th>Fedu</th>\n",
       "      <th>Mjob</th>\n",
       "      <th>Fjob</th>\n",
       "      <th>...</th>\n",
       "      <th>famrel</th>\n",
       "      <th>freetime</th>\n",
       "      <th>goout</th>\n",
       "      <th>Dalc</th>\n",
       "      <th>Walc</th>\n",
       "      <th>health</th>\n",
       "      <th>absences</th>\n",
       "      <th>G1</th>\n",
       "      <th>G2</th>\n",
       "      <th>G3</th>\n",
       "    </tr>\n",
       "  </thead>\n",
       "  <tbody>\n",
       "    <tr>\n",
       "      <th>0</th>\n",
       "      <td>GP</td>\n",
       "      <td>F</td>\n",
       "      <td>NaN</td>\n",
       "      <td>U</td>\n",
       "      <td>GT3</td>\n",
       "      <td>A</td>\n",
       "      <td>4.0</td>\n",
       "      <td>4.0</td>\n",
       "      <td>at_home</td>\n",
       "      <td>teacher</td>\n",
       "      <td>...</td>\n",
       "      <td>4.0</td>\n",
       "      <td>3.0</td>\n",
       "      <td>\"4\"</td>\n",
       "      <td>1.0</td>\n",
       "      <td>1.0</td>\n",
       "      <td>\"3\"</td>\n",
       "      <td>6.0</td>\n",
       "      <td>5.0</td>\n",
       "      <td>6</td>\n",
       "      <td>6.0</td>\n",
       "    </tr>\n",
       "    <tr>\n",
       "      <th>1</th>\n",
       "      <td>GP</td>\n",
       "      <td>F</td>\n",
       "      <td>\"17\"</td>\n",
       "      <td>U</td>\n",
       "      <td>GT3</td>\n",
       "      <td>T</td>\n",
       "      <td>1.0</td>\n",
       "      <td>1.0</td>\n",
       "      <td>at_home</td>\n",
       "      <td>other</td>\n",
       "      <td>...</td>\n",
       "      <td>5.0</td>\n",
       "      <td>3.0</td>\n",
       "      <td>\"3\"</td>\n",
       "      <td>1.0</td>\n",
       "      <td>1.0</td>\n",
       "      <td>\"3\"</td>\n",
       "      <td>4.0</td>\n",
       "      <td>5.0</td>\n",
       "      <td>5</td>\n",
       "      <td>6.0</td>\n",
       "    </tr>\n",
       "    <tr>\n",
       "      <th>2</th>\n",
       "      <td>GP</td>\n",
       "      <td>F</td>\n",
       "      <td>\"15\"</td>\n",
       "      <td>U</td>\n",
       "      <td>LE3</td>\n",
       "      <td>T</td>\n",
       "      <td>1.0</td>\n",
       "      <td>1.0</td>\n",
       "      <td>at_home</td>\n",
       "      <td>other</td>\n",
       "      <td>...</td>\n",
       "      <td>4.0</td>\n",
       "      <td>3.0</td>\n",
       "      <td>\"2\"</td>\n",
       "      <td>2.0</td>\n",
       "      <td>3.0</td>\n",
       "      <td>\"3\"</td>\n",
       "      <td>10.0</td>\n",
       "      <td>NaN</td>\n",
       "      <td>8</td>\n",
       "      <td>10.0</td>\n",
       "    </tr>\n",
       "    <tr>\n",
       "      <th>3</th>\n",
       "      <td>GP</td>\n",
       "      <td>F</td>\n",
       "      <td>\"15\"</td>\n",
       "      <td>U</td>\n",
       "      <td>GT3</td>\n",
       "      <td>T</td>\n",
       "      <td>4.0</td>\n",
       "      <td>2.0</td>\n",
       "      <td>health</td>\n",
       "      <td>services</td>\n",
       "      <td>...</td>\n",
       "      <td>3.0</td>\n",
       "      <td>2.0</td>\n",
       "      <td>\"2\"</td>\n",
       "      <td>1.0</td>\n",
       "      <td>1.0</td>\n",
       "      <td>\"5\"</td>\n",
       "      <td>2.0</td>\n",
       "      <td>15.0</td>\n",
       "      <td>14</td>\n",
       "      <td>15.0</td>\n",
       "    </tr>\n",
       "    <tr>\n",
       "      <th>4</th>\n",
       "      <td>GP</td>\n",
       "      <td>F</td>\n",
       "      <td>NaN</td>\n",
       "      <td>U</td>\n",
       "      <td>GT3</td>\n",
       "      <td>T</td>\n",
       "      <td>3.0</td>\n",
       "      <td>3.0</td>\n",
       "      <td>other</td>\n",
       "      <td>other</td>\n",
       "      <td>...</td>\n",
       "      <td>4.0</td>\n",
       "      <td>3.0</td>\n",
       "      <td>\"2\"</td>\n",
       "      <td>1.0</td>\n",
       "      <td>2.0</td>\n",
       "      <td>\"5\"</td>\n",
       "      <td>4.0</td>\n",
       "      <td>6.0</td>\n",
       "      <td>10</td>\n",
       "      <td>10.0</td>\n",
       "    </tr>\n",
       "  </tbody>\n",
       "</table>\n",
       "<p>5 rows × 33 columns</p>\n",
       "</div>"
      ],
      "text/plain": [
       "  school sex   age address famsize Pstatus  Medu  Fedu     Mjob      Fjob  \\\n",
       "0     GP   F   NaN       U     GT3       A   4.0   4.0  at_home   teacher   \n",
       "1     GP   F  \"17\"       U     GT3       T   1.0   1.0  at_home     other   \n",
       "2     GP   F  \"15\"       U     LE3       T   1.0   1.0  at_home     other   \n",
       "3     GP   F  \"15\"       U     GT3       T   4.0   2.0   health  services   \n",
       "4     GP   F   NaN       U     GT3       T   3.0   3.0    other     other   \n",
       "\n",
       "   ... famrel freetime  goout  Dalc  Walc health absences    G1  G2    G3  \n",
       "0  ...    4.0      3.0    \"4\"   1.0   1.0    \"3\"      6.0   5.0   6   6.0  \n",
       "1  ...    5.0      3.0    \"3\"   1.0   1.0    \"3\"      4.0   5.0   5   6.0  \n",
       "2  ...    4.0      3.0    \"2\"   2.0   3.0    \"3\"     10.0   NaN   8  10.0  \n",
       "3  ...    3.0      2.0    \"2\"   1.0   1.0    \"5\"      2.0  15.0  14  15.0  \n",
       "4  ...    4.0      3.0    \"2\"   1.0   2.0    \"5\"      4.0   6.0  10  10.0  \n",
       "\n",
       "[5 rows x 33 columns]"
      ]
     },
     "execution_count": 4,
     "metadata": {},
     "output_type": "execute_result"
    }
   ],
   "source": [
    "df.head()"
   ]
  },
  {
   "cell_type": "code",
   "execution_count": 5,
   "metadata": {},
   "outputs": [
    {
     "data": {
      "text/html": [
       "<div>\n",
       "<style scoped>\n",
       "    .dataframe tbody tr th:only-of-type {\n",
       "        vertical-align: middle;\n",
       "    }\n",
       "\n",
       "    .dataframe tbody tr th {\n",
       "        vertical-align: top;\n",
       "    }\n",
       "\n",
       "    .dataframe thead th {\n",
       "        text-align: right;\n",
       "    }\n",
       "</style>\n",
       "<table border=\"1\" class=\"dataframe\">\n",
       "  <thead>\n",
       "    <tr style=\"text-align: right;\">\n",
       "      <th></th>\n",
       "      <th>school</th>\n",
       "      <th>sex</th>\n",
       "      <th>age</th>\n",
       "      <th>address</th>\n",
       "      <th>famsize</th>\n",
       "      <th>Pstatus</th>\n",
       "      <th>Medu</th>\n",
       "      <th>Fedu</th>\n",
       "      <th>Mjob</th>\n",
       "      <th>Fjob</th>\n",
       "      <th>...</th>\n",
       "      <th>famrel</th>\n",
       "      <th>freetime</th>\n",
       "      <th>goout</th>\n",
       "      <th>Dalc</th>\n",
       "      <th>Walc</th>\n",
       "      <th>health</th>\n",
       "      <th>absences</th>\n",
       "      <th>G1</th>\n",
       "      <th>G2</th>\n",
       "      <th>G3</th>\n",
       "    </tr>\n",
       "  </thead>\n",
       "  <tbody>\n",
       "    <tr>\n",
       "      <th>1</th>\n",
       "      <td>GP</td>\n",
       "      <td>F</td>\n",
       "      <td>\"17\"</td>\n",
       "      <td>U</td>\n",
       "      <td>GT3</td>\n",
       "      <td>T</td>\n",
       "      <td>1.0</td>\n",
       "      <td>1.0</td>\n",
       "      <td>at_home</td>\n",
       "      <td>other</td>\n",
       "      <td>...</td>\n",
       "      <td>5.0</td>\n",
       "      <td>3.0</td>\n",
       "      <td>\"3\"</td>\n",
       "      <td>1.0</td>\n",
       "      <td>1.0</td>\n",
       "      <td>\"3\"</td>\n",
       "      <td>4.0</td>\n",
       "      <td>5.0</td>\n",
       "      <td>5</td>\n",
       "      <td>6.0</td>\n",
       "    </tr>\n",
       "    <tr>\n",
       "      <th>3</th>\n",
       "      <td>GP</td>\n",
       "      <td>F</td>\n",
       "      <td>\"15\"</td>\n",
       "      <td>U</td>\n",
       "      <td>GT3</td>\n",
       "      <td>T</td>\n",
       "      <td>4.0</td>\n",
       "      <td>2.0</td>\n",
       "      <td>health</td>\n",
       "      <td>services</td>\n",
       "      <td>...</td>\n",
       "      <td>3.0</td>\n",
       "      <td>2.0</td>\n",
       "      <td>\"2\"</td>\n",
       "      <td>1.0</td>\n",
       "      <td>1.0</td>\n",
       "      <td>\"5\"</td>\n",
       "      <td>2.0</td>\n",
       "      <td>15.0</td>\n",
       "      <td>14</td>\n",
       "      <td>15.0</td>\n",
       "    </tr>\n",
       "    <tr>\n",
       "      <th>5</th>\n",
       "      <td>GP</td>\n",
       "      <td>M</td>\n",
       "      <td>\"16\"</td>\n",
       "      <td>U</td>\n",
       "      <td>LE3</td>\n",
       "      <td>T</td>\n",
       "      <td>4.0</td>\n",
       "      <td>3.0</td>\n",
       "      <td>services</td>\n",
       "      <td>other</td>\n",
       "      <td>...</td>\n",
       "      <td>5.0</td>\n",
       "      <td>4.0</td>\n",
       "      <td>\"2\"</td>\n",
       "      <td>1.0</td>\n",
       "      <td>2.0</td>\n",
       "      <td>\"5\"</td>\n",
       "      <td>10.0</td>\n",
       "      <td>15.0</td>\n",
       "      <td>15</td>\n",
       "      <td>15.0</td>\n",
       "    </tr>\n",
       "    <tr>\n",
       "      <th>6</th>\n",
       "      <td>GP</td>\n",
       "      <td>M</td>\n",
       "      <td>\"16\"</td>\n",
       "      <td>U</td>\n",
       "      <td>LE3</td>\n",
       "      <td>T</td>\n",
       "      <td>2.0</td>\n",
       "      <td>2.0</td>\n",
       "      <td>other</td>\n",
       "      <td>other</td>\n",
       "      <td>...</td>\n",
       "      <td>4.0</td>\n",
       "      <td>4.0</td>\n",
       "      <td>\"4\"</td>\n",
       "      <td>1.0</td>\n",
       "      <td>1.0</td>\n",
       "      <td>\"3\"</td>\n",
       "      <td>0.0</td>\n",
       "      <td>12.0</td>\n",
       "      <td>12</td>\n",
       "      <td>11.0</td>\n",
       "    </tr>\n",
       "    <tr>\n",
       "      <th>7</th>\n",
       "      <td>GP</td>\n",
       "      <td>F</td>\n",
       "      <td>\"17\"</td>\n",
       "      <td>U</td>\n",
       "      <td>GT3</td>\n",
       "      <td>A</td>\n",
       "      <td>4.0</td>\n",
       "      <td>4.0</td>\n",
       "      <td>other</td>\n",
       "      <td>teacher</td>\n",
       "      <td>...</td>\n",
       "      <td>4.0</td>\n",
       "      <td>1.0</td>\n",
       "      <td>\"4\"</td>\n",
       "      <td>1.0</td>\n",
       "      <td>1.0</td>\n",
       "      <td>\"1\"</td>\n",
       "      <td>6.0</td>\n",
       "      <td>6.0</td>\n",
       "      <td>5</td>\n",
       "      <td>6.0</td>\n",
       "    </tr>\n",
       "  </tbody>\n",
       "</table>\n",
       "<p>5 rows × 33 columns</p>\n",
       "</div>"
      ],
      "text/plain": [
       "  school sex   age address famsize Pstatus  Medu  Fedu      Mjob      Fjob  \\\n",
       "1     GP   F  \"17\"       U     GT3       T   1.0   1.0   at_home     other   \n",
       "3     GP   F  \"15\"       U     GT3       T   4.0   2.0    health  services   \n",
       "5     GP   M  \"16\"       U     LE3       T   4.0   3.0  services     other   \n",
       "6     GP   M  \"16\"       U     LE3       T   2.0   2.0     other     other   \n",
       "7     GP   F  \"17\"       U     GT3       A   4.0   4.0     other   teacher   \n",
       "\n",
       "   ... famrel freetime  goout  Dalc  Walc health absences    G1  G2    G3  \n",
       "1  ...    5.0      3.0    \"3\"   1.0   1.0    \"3\"      4.0   5.0   5   6.0  \n",
       "3  ...    3.0      2.0    \"2\"   1.0   1.0    \"5\"      2.0  15.0  14  15.0  \n",
       "5  ...    5.0      4.0    \"2\"   1.0   2.0    \"5\"     10.0  15.0  15  15.0  \n",
       "6  ...    4.0      4.0    \"4\"   1.0   1.0    \"3\"      0.0  12.0  12  11.0  \n",
       "7  ...    4.0      1.0    \"4\"   1.0   1.0    \"1\"      6.0   6.0   5   6.0  \n",
       "\n",
       "[5 rows x 33 columns]"
      ]
     },
     "execution_count": 5,
     "metadata": {},
     "output_type": "execute_result"
    }
   ],
   "source": [
    "df=df.dropna()\n",
    "df.head()"
   ]
  },
  {
   "cell_type": "code",
   "execution_count": 6,
   "metadata": {},
   "outputs": [
    {
     "data": {
      "text/plain": [
       "(284, 33)"
      ]
     },
     "execution_count": 6,
     "metadata": {},
     "output_type": "execute_result"
    }
   ],
   "source": [
    "df.shape"
   ]
  },
  {
   "cell_type": "markdown",
   "metadata": {},
   "source": [
    "### Se debe señalar que este cambio, baja la cantidad de filas de: __395__ a __284__"
   ]
  },
  {
   "cell_type": "markdown",
   "metadata": {},
   "source": [
    "### Considerando que la variable objetivo corresponde `G3`.Inspecciondo los datos se tiene:"
   ]
  },
  {
   "cell_type": "code",
   "execution_count": 7,
   "metadata": {},
   "outputs": [
    {
     "data": {
      "text/plain": [
       "school         object\n",
       "sex            object\n",
       "age            object\n",
       "address        object\n",
       "famsize        object\n",
       "Pstatus        object\n",
       "Medu          float64\n",
       "Fedu          float64\n",
       "Mjob           object\n",
       "Fjob           object\n",
       "reason         object\n",
       "guardian       object\n",
       "traveltime    float64\n",
       "studytime     float64\n",
       "failures      float64\n",
       "schoolsup      object\n",
       "famsup         object\n",
       "paid           object\n",
       "activities     object\n",
       "nursery        object\n",
       "higher         object\n",
       "internet       object\n",
       "romantic       object\n",
       "famrel        float64\n",
       "freetime      float64\n",
       "goout          object\n",
       "Dalc          float64\n",
       "Walc          float64\n",
       "health         object\n",
       "absences      float64\n",
       "G1            float64\n",
       "G2              int64\n",
       "G3            float64\n",
       "dtype: object"
      ]
     },
     "execution_count": 7,
     "metadata": {},
     "output_type": "execute_result"
    }
   ],
   "source": [
    "df.dtypes"
   ]
  },
  {
   "cell_type": "code",
   "execution_count": null,
   "metadata": {},
   "outputs": [],
   "source": []
  },
  {
   "cell_type": "markdown",
   "metadata": {},
   "source": [
    "# __Análisis descriptivo__\n",
    "## __Inspección Visual de las Variables__"
   ]
  },
  {
   "cell_type": "code",
   "execution_count": 8,
   "metadata": {},
   "outputs": [],
   "source": [
    "from matplotlib import pyplot as plt\n",
    "import pandas as pd\n",
    "import seaborn as sns\n",
    "\n",
    "def hist_box(col):\n",
    "    f, (ax_box, ax_hist) = plt.subplots(2, sharex=True, gridspec_kw= {\"height_ratios\": (0.2, 1)})\n",
    "    mean=df[col].mean()\n",
    "    median=df[col].median()\n",
    "    mode=df[col].mode().get_values()[0]\n",
    "    sns.boxplot(df[col], ax=ax_box)\n",
    "    ax_box.axvline(mean, color='r', linestyle='--')\n",
    "    ax_box.axvline(median, color='g', linestyle='-')\n",
    "    ax_box.axvline(mode, color='b', linestyle='-')\n",
    "\n",
    "    sns.distplot(df[col], ax=ax_hist)\n",
    "    ax_hist.axvline(mean, color='r', linestyle='--')\n",
    "    ax_hist.axvline(median, color='g', linestyle='-')\n",
    "    ax_hist.axvline(mode, color='b', linestyle='-')\n",
    "\n",
    "    plt.legend({'Mean':mean,'Median':median,'Mode':mode})\n",
    "    ax_box.set(xlabel=str(col)+\": \"+\"Mean: \"+str(round(mean,2))+\" Median: \"+str(round(median,2)))\n",
    "    plt.show()"
   ]
  },
  {
   "cell_type": "code",
   "execution_count": 9,
   "metadata": {},
   "outputs": [
    {
     "data": {
      "image/png": "[encoded data removed]",
      "text/plain": [
       "<Figure size 432x288 with 2 Axes>"
      ]
     },
     "metadata": {
      "needs_background": "light"
     },
     "output_type": "display_data"
    }
   ],
   "source": [
    "hist_box(\"G1\")"
   ]
  },
  {
   "cell_type": "code",
   "execution_count": 10,
   "metadata": {},
   "outputs": [
    {
     "data": {
      "image/png": "[encoded data removed]",
      "text/plain": [
       "<Figure size 432x288 with 2 Axes>"
      ]
     },
     "metadata": {
      "needs_background": "light"
     },
     "output_type": "display_data"
    }
   ],
   "source": [
    "hist_box(\"G2\")"
   ]
  },
  {
   "cell_type": "code",
   "execution_count": 11,
   "metadata": {},
   "outputs": [
    {
     "data": {
      "image/png": "[encoded data removed]",
      "text/plain": [
       "<Figure size 432x288 with 2 Axes>"
      ]
     },
     "metadata": {
      "needs_background": "light"
     },
     "output_type": "display_data"
    }
   ],
   "source": [
    "hist_box(\"G3\")"
   ]
  },
  {
   "cell_type": "markdown",
   "metadata": {},
   "source": [
    "- Las mediciones iniciales muestran una leve diferencia mayor hacia los promedios finales del 1er y 2do semestre en comparación al promedio final. Tanto los vectores objetivos `G2` como `G3` muestran outlayer, pero no significativo."
   ]
  },
  {
   "cell_type": "markdown",
   "metadata": {},
   "source": [
    "### Analizando, las inasistencias de los estudiantes:"
   ]
  },
  {
   "cell_type": "code",
   "execution_count": 12,
   "metadata": {},
   "outputs": [
    {
     "data": {
      "text/plain": [
       "0.0     81\n",
       "2.0     50\n",
       "4.0     41\n",
       "6.0     23\n",
       "8.0     13\n",
       "10.0    12\n",
       "14.0     6\n",
       "7.0      6\n",
       "5.0      5\n",
       "12.0     5\n",
       "3.0      5\n",
       "18.0     5\n",
       "16.0     3\n",
       "1.0      3\n",
       "11.0     3\n",
       "15.0     3\n",
       "13.0     3\n",
       "9.0      2\n",
       "20.0     2\n",
       "54.0     1\n",
       "25.0     1\n",
       "17.0     1\n",
       "26.0     1\n",
       "28.0     1\n",
       "22.0     1\n",
       "21.0     1\n",
       "75.0     1\n",
       "30.0     1\n",
       "19.0     1\n",
       "38.0     1\n",
       "40.0     1\n",
       "24.0     1\n",
       "Name: absences, dtype: int64"
      ]
     },
     "execution_count": 12,
     "metadata": {},
     "output_type": "execute_result"
    }
   ],
   "source": [
    "df_copy=df.copy()\n",
    "df_copy[\"absences\"].value_counts()"
   ]
  },
  {
   "cell_type": "markdown",
   "metadata": {},
   "source": [
    "## Se crearán grupos de estudiantes segun si ha faltado entre:\n",
    "* $dias faltados: [0-9]$\n",
    "* $dias faltados: [10-20]$\n",
    "* $dias faltados: [21-30]$\n",
    "* $dias faltados: [31-75]$"
   ]
  },
  {
   "cell_type": "code",
   "execution_count": 13,
   "metadata": {},
   "outputs": [],
   "source": [
    "df_copy.head()\n",
    "bins=[0,9,20,30,75]\n",
    "names=[\"0-9\",\"10-20\",\"21-30\",\"31-75\"]\n",
    "df_copy[\"absences\"]=pd.cut(df_copy[\"absences\"],bins,labels=names)"
   ]
  },
  {
   "cell_type": "code",
   "execution_count": 14,
   "metadata": {},
   "outputs": [
    {
     "data": {
      "text/plain": [
       "<seaborn.axisgrid.FacetGrid at 0x7f34eaef6550>"
      ]
     },
     "execution_count": 14,
     "metadata": {},
     "output_type": "execute_result"
    },
    {
     "data": {
      "image/png": "[encoded data removed]",
      "text/plain": [
       "<Figure size 425x360 with 1 Axes>"
      ]
     },
     "metadata": {
      "needs_background": "light"
     },
     "output_type": "display_data"
    }
   ],
   "source": [
    "sns.catplot(x=\"sex\", y=\"G1\", hue=\"absences\", data=df_copy,height=5, kind=\"bar\", palette=\"muted\")"
   ]
  },
  {
   "cell_type": "markdown",
   "metadata": {},
   "source": [
    "__Las inasistencia en el sexo femenino no revela mayor significancia en el promedio, sin embargo, en el sexo masculino si hay un descenso en este apartado.__"
   ]
  },
  {
   "cell_type": "code",
   "execution_count": 15,
   "metadata": {},
   "outputs": [
    {
     "data": {
      "text/plain": [
       "<seaborn.axisgrid.FacetGrid at 0x7f34eae96240>"
      ]
     },
     "execution_count": 15,
     "metadata": {},
     "output_type": "execute_result"
    },
    {
     "data": {
      "image/png": "[encoded data removed]",
      "text/plain": [
       "<Figure size 425x360 with 1 Axes>"
      ]
     },
     "metadata": {
      "needs_background": "light"
     },
     "output_type": "display_data"
    }
   ],
   "source": [
    "sns.catplot(x=\"sex\", y=\"G2\", hue=\"absences\", data=df_copy,height=5, kind=\"bar\", palette=\"muted\")"
   ]
  },
  {
   "cell_type": "markdown",
   "metadata": {},
   "source": [
    "__Analogamente al analisis anterior, se aprecia un descenso en el promedio del segundo semestre G2, en los varones. Las mujeres mantienen una tendencia.__"
   ]
  },
  {
   "cell_type": "code",
   "execution_count": 16,
   "metadata": {},
   "outputs": [
    {
     "data": {
      "text/plain": [
       "<seaborn.axisgrid.FacetGrid at 0x7f34eade8198>"
      ]
     },
     "execution_count": 16,
     "metadata": {},
     "output_type": "execute_result"
    },
    {
     "data": {
      "image/png": "[encoded data removed]",
      "text/plain": [
       "<Figure size 425x360 with 1 Axes>"
      ]
     },
     "metadata": {
      "needs_background": "light"
     },
     "output_type": "display_data"
    }
   ],
   "source": [
    "sns.catplot(x=\"sex\", y=\"G3\", hue=\"absences\", data=df_copy,height=5, kind=\"bar\", palette=\"muted\")"
   ]
  },
  {
   "cell_type": "markdown",
   "metadata": {},
   "source": [
    "__El promedio final, se concluye que la inasistencia en los hombres tiene una mayor signficancia que en las mujeres.__"
   ]
  },
  {
   "cell_type": "markdown",
   "metadata": {},
   "source": [
    "### ¿Qué ocurre si los padres viven separados?"
   ]
  },
  {
   "cell_type": "code",
   "execution_count": 17,
   "metadata": {},
   "outputs": [
    {
     "data": {
      "text/plain": [
       "<seaborn.axisgrid.FacetGrid at 0x7f34eaeb6b70>"
      ]
     },
     "execution_count": 17,
     "metadata": {},
     "output_type": "execute_result"
    },
    {
     "data": {
      "image/png": "[encoded data removed]",
      "text/plain": [
       "<Figure size 404.625x360 with 1 Axes>"
      ]
     },
     "metadata": {
      "needs_background": "light"
     },
     "output_type": "display_data"
    }
   ],
   "source": [
    "sns.catplot(x=\"Pstatus\", y=\"G3\", hue=\"sex\", data=df_copy,height=5, kind=\"bar\", palette=\"muted\")"
   ]
  },
  {
   "cell_type": "markdown",
   "metadata": {},
   "source": [
    "- Esta observación es interesante, ya que estudiantes masculinos donde sus padres viven separados obtienen mejor promedio que el resto."
   ]
  },
  {
   "cell_type": "markdown",
   "metadata": {},
   "source": [
    "__Ahora haremos una comparación entre los colegios, a partir de las horas de estudios destinadas por los alumnos y las notas obtenidas en las evaluaciones.__"
   ]
  },
  {
   "cell_type": "code",
   "execution_count": 18,
   "metadata": {},
   "outputs": [
    {
     "data": {
      "image/png": "[encoded data removed]",
      "text/plain": [
       "<Figure size 410.875x360 with 1 Axes>"
      ]
     },
     "metadata": {
      "needs_background": "light"
     },
     "output_type": "display_data"
    }
   ],
   "source": [
    "sns.catplot(x=\"studytime\", y=\"G1\", hue=\"school\", kind=\"swarm\", data=df_copy);"
   ]
  },
  {
   "cell_type": "code",
   "execution_count": 19,
   "metadata": {},
   "outputs": [
    {
     "data": {
      "image/png": "[encoded data removed]",
      "text/plain": [
       "<Figure size 410.875x360 with 1 Axes>"
      ]
     },
     "metadata": {
      "needs_background": "light"
     },
     "output_type": "display_data"
    }
   ],
   "source": [
    "sns.catplot(x=\"studytime\", y=\"G2\", hue=\"school\", kind=\"swarm\", data=df_copy);"
   ]
  },
  {
   "cell_type": "code",
   "execution_count": 20,
   "metadata": {},
   "outputs": [
    {
     "data": {
      "image/png": "[encoded data removed]",
      "text/plain": [
       "<Figure size 410.875x360 with 1 Axes>"
      ]
     },
     "metadata": {
      "needs_background": "light"
     },
     "output_type": "display_data"
    }
   ],
   "source": [
    "sns.catplot(x=\"studytime\", y=\"G3\", hue=\"school\", kind=\"swarm\", data=df_copy);"
   ]
  },
  {
   "cell_type": "markdown",
   "metadata": {},
   "source": [
    "__Analisis:__\n",
    "- Los estudiantes del colegio __Mousinho da Silveira__ tienden a estudiar menos horas, más aún, ninguno de sus estudiantes estudia 4 horas para alguna evaluación.\n",
    "- Independiente del colegio, los estudiantes tienden a estudiar 2 horas para cada evaluación.\n",
    "- Las notas más altas, corresponden al colegio __Gabriel Pereira__ "
   ]
  },
  {
   "cell_type": "markdown",
   "metadata": {},
   "source": [
    "# Prueba Hito 3(Parte III)\n",
    "Autor: Pablo Veloz M.\n",
    "## __Completar el punto de Modelación descriptiva.__\n",
    "* Elementos a considerar en éste hito:\n",
    "    * La modelación mediante regresión de ambos problemas. (2 puntos)\n",
    "    * La interpretación de los principales regresores en cada problema. (2 puntos)\n",
    "    * La definición de las estrategias de Modelación predictiva. (1 punto)\n",
    "    * Entregable:  Dos notebooks (uno  por  enunciado) con todos los  puntos detallados einterpretados. De  ser  necesario, un  archivo con  extensión .py  con  todas las  funcionesimplementadas."
   ]
  },
  {
   "cell_type": "markdown",
   "metadata": {},
   "source": [
    "### Importando Librerias Necesarias para el Análisis."
   ]
  },
  {
   "cell_type": "code",
   "execution_count": 21,
   "metadata": {},
   "outputs": [],
   "source": [
    "import pandas as pd\n",
    "import numpy as np\n",
    "import scipy.stats as stats\n",
    "import matplotlib.pyplot as plt\n",
    "import seaborn as sns\n",
    "\n",
    "from sklearn import linear_model\n",
    "from sklearn.metrics import mean_squared_error\n",
    "from sklearn.metrics import r2_score\n",
    "#from sklearn.cluster import KMean\n",
    "\n",
    "from sklearn.model_selection import train_test_split\n",
    "from sklearn.preprocessing import StandardScaler\n",
    "\n",
    "import statsmodels.api as sm\n",
    "import statsmodels.formula.api as smf\n",
    "import factor_analyzer as factor\n",
    "import missingno as msngo\n",
    "import warnings\n",
    "warnings.filterwarnings('ignore')"
   ]
  },
  {
   "cell_type": "markdown",
   "metadata": {},
   "source": [
    "__Refactorizando Variables__"
   ]
  },
  {
   "cell_type": "code",
   "execution_count": 22,
   "metadata": {},
   "outputs": [],
   "source": [
    "df[\"health\"] = df[\"health\"].str.replace('\"','').astype(int)\n",
    "df[\"age\"] = df[\"age\"].str.replace('\"','').astype(int)\n",
    "df[\"goout\"] = df[\"goout\"].str.replace('\"','').astype(int)"
   ]
  },
  {
   "cell_type": "code",
   "execution_count": 23,
   "metadata": {},
   "outputs": [
    {
     "data": {
      "text/html": [
       "<div>\n",
       "<style scoped>\n",
       "    .dataframe tbody tr th:only-of-type {\n",
       "        vertical-align: middle;\n",
       "    }\n",
       "\n",
       "    .dataframe tbody tr th {\n",
       "        vertical-align: top;\n",
       "    }\n",
       "\n",
       "    .dataframe thead th {\n",
       "        text-align: right;\n",
       "    }\n",
       "</style>\n",
       "<table border=\"1\" class=\"dataframe\">\n",
       "  <thead>\n",
       "    <tr style=\"text-align: right;\">\n",
       "      <th></th>\n",
       "      <th>school</th>\n",
       "      <th>sex</th>\n",
       "      <th>age</th>\n",
       "      <th>address</th>\n",
       "      <th>famsize</th>\n",
       "      <th>Pstatus</th>\n",
       "      <th>Medu</th>\n",
       "      <th>Fedu</th>\n",
       "      <th>Mjob</th>\n",
       "      <th>Fjob</th>\n",
       "      <th>...</th>\n",
       "      <th>famrel</th>\n",
       "      <th>freetime</th>\n",
       "      <th>goout</th>\n",
       "      <th>Dalc</th>\n",
       "      <th>Walc</th>\n",
       "      <th>health</th>\n",
       "      <th>absences</th>\n",
       "      <th>G1</th>\n",
       "      <th>G2</th>\n",
       "      <th>G3</th>\n",
       "    </tr>\n",
       "  </thead>\n",
       "  <tbody>\n",
       "    <tr>\n",
       "      <th>1</th>\n",
       "      <td>GP</td>\n",
       "      <td>F</td>\n",
       "      <td>17</td>\n",
       "      <td>U</td>\n",
       "      <td>GT3</td>\n",
       "      <td>T</td>\n",
       "      <td>1.0</td>\n",
       "      <td>1.0</td>\n",
       "      <td>at_home</td>\n",
       "      <td>other</td>\n",
       "      <td>...</td>\n",
       "      <td>5.0</td>\n",
       "      <td>3.0</td>\n",
       "      <td>3</td>\n",
       "      <td>1.0</td>\n",
       "      <td>1.0</td>\n",
       "      <td>3</td>\n",
       "      <td>4.0</td>\n",
       "      <td>5.0</td>\n",
       "      <td>5</td>\n",
       "      <td>6.0</td>\n",
       "    </tr>\n",
       "    <tr>\n",
       "      <th>3</th>\n",
       "      <td>GP</td>\n",
       "      <td>F</td>\n",
       "      <td>15</td>\n",
       "      <td>U</td>\n",
       "      <td>GT3</td>\n",
       "      <td>T</td>\n",
       "      <td>4.0</td>\n",
       "      <td>2.0</td>\n",
       "      <td>health</td>\n",
       "      <td>services</td>\n",
       "      <td>...</td>\n",
       "      <td>3.0</td>\n",
       "      <td>2.0</td>\n",
       "      <td>2</td>\n",
       "      <td>1.0</td>\n",
       "      <td>1.0</td>\n",
       "      <td>5</td>\n",
       "      <td>2.0</td>\n",
       "      <td>15.0</td>\n",
       "      <td>14</td>\n",
       "      <td>15.0</td>\n",
       "    </tr>\n",
       "    <tr>\n",
       "      <th>5</th>\n",
       "      <td>GP</td>\n",
       "      <td>M</td>\n",
       "      <td>16</td>\n",
       "      <td>U</td>\n",
       "      <td>LE3</td>\n",
       "      <td>T</td>\n",
       "      <td>4.0</td>\n",
       "      <td>3.0</td>\n",
       "      <td>services</td>\n",
       "      <td>other</td>\n",
       "      <td>...</td>\n",
       "      <td>5.0</td>\n",
       "      <td>4.0</td>\n",
       "      <td>2</td>\n",
       "      <td>1.0</td>\n",
       "      <td>2.0</td>\n",
       "      <td>5</td>\n",
       "      <td>10.0</td>\n",
       "      <td>15.0</td>\n",
       "      <td>15</td>\n",
       "      <td>15.0</td>\n",
       "    </tr>\n",
       "  </tbody>\n",
       "</table>\n",
       "<p>3 rows × 33 columns</p>\n",
       "</div>"
      ],
      "text/plain": [
       "  school sex  age address famsize Pstatus  Medu  Fedu      Mjob      Fjob  \\\n",
       "1     GP   F   17       U     GT3       T   1.0   1.0   at_home     other   \n",
       "3     GP   F   15       U     GT3       T   4.0   2.0    health  services   \n",
       "5     GP   M   16       U     LE3       T   4.0   3.0  services     other   \n",
       "\n",
       "   ... famrel freetime  goout  Dalc  Walc health absences    G1  G2    G3  \n",
       "1  ...    5.0      3.0      3   1.0   1.0      3      4.0   5.0   5   6.0  \n",
       "3  ...    3.0      2.0      2   1.0   1.0      5      2.0  15.0  14  15.0  \n",
       "5  ...    5.0      4.0      2   1.0   2.0      5     10.0  15.0  15  15.0  \n",
       "\n",
       "[3 rows x 33 columns]"
      ]
     },
     "execution_count": 23,
     "metadata": {},
     "output_type": "execute_result"
    }
   ],
   "source": [
    "df.head(3)"
   ]
  },
  {
   "cell_type": "code",
   "execution_count": 24,
   "metadata": {},
   "outputs": [],
   "source": [
    "df[\"G1\"]=df[\"G1\"].astype(str).astype(float)\n",
    "df[\"G2\"]=df[\"G2\"].astype(str).astype(float)"
   ]
  },
  {
   "cell_type": "markdown",
   "metadata": {},
   "source": [
    "__Comprobando las modificaciones__"
   ]
  },
  {
   "cell_type": "code",
   "execution_count": 25,
   "metadata": {},
   "outputs": [
    {
     "data": {
      "text/plain": [
       "school         object\n",
       "sex            object\n",
       "age             int64\n",
       "address        object\n",
       "famsize        object\n",
       "Pstatus        object\n",
       "Medu          float64\n",
       "Fedu          float64\n",
       "Mjob           object\n",
       "Fjob           object\n",
       "reason         object\n",
       "guardian       object\n",
       "traveltime    float64\n",
       "studytime     float64\n",
       "failures      float64\n",
       "schoolsup      object\n",
       "famsup         object\n",
       "paid           object\n",
       "activities     object\n",
       "nursery        object\n",
       "higher         object\n",
       "internet       object\n",
       "romantic       object\n",
       "famrel        float64\n",
       "freetime      float64\n",
       "goout           int64\n",
       "Dalc          float64\n",
       "Walc          float64\n",
       "health          int64\n",
       "absences      float64\n",
       "G1            float64\n",
       "G2            float64\n",
       "G3            float64\n",
       "dtype: object"
      ]
     },
     "execution_count": 25,
     "metadata": {},
     "output_type": "execute_result"
    }
   ],
   "source": [
    "df.dtypes"
   ]
  },
  {
   "cell_type": "markdown",
   "metadata": {},
   "source": [
    "## Mapa de correlación factor __.6__"
   ]
  },
  {
   "cell_type": "code",
   "execution_count": 26,
   "metadata": {},
   "outputs": [],
   "source": [
    "def total_correlaciones(df, value=0.7):\n",
    "    plt.figure(figsize=(15, 6))\n",
    "    M = df.corr()\n",
    "    value_corr = M[((M > value) & (M < 1) | (M < -value))\n",
    "                  ].dropna(axis=0, how='all').dropna(axis=1, how='all')\n",
    "    ax=sns.heatmap(value_corr, vmin=-1, vmax=1, center=0, cmap=sns.diverging_palette(20, 320, n=250),annot=True)\n",
    "    ax.set_xticklabels(ax.get_xticklabels(),rotation=45,horizontalalignment='right')\n",
    "    plt.title(\"Corralaciones Totales\")"
   ]
  },
  {
   "cell_type": "code",
   "execution_count": 27,
   "metadata": {},
   "outputs": [
    {
     "data": {
      "image/png": "[encoded data removed]",
      "text/plain": [
       "<Figure size 1080x432 with 2 Axes>"
      ]
     },
     "metadata": {
      "needs_background": "light"
     },
     "output_type": "display_data"
    }
   ],
   "source": [
    "total_correlaciones(df,value=0.6)"
   ]
  },
  {
   "cell_type": "markdown",
   "metadata": {},
   "source": [
    "__Analisis:__\n",
    "- Existe alta correlacion entre las variables Medu y Fedu, correspondiente a los niveles de educación de la Madre y Padre respectivamente. \n",
    "- Existe alta correlación entre las variables Dalc y Walc, que indican que si una persona bebe alcohol en la semana, también lo hará los fines de semana. \n",
    "- Existe alta correlación entre las variables objetivos, `G1`,`G2` y `G3`.\n"
   ]
  },
  {
   "cell_type": "markdown",
   "metadata": {},
   "source": [
    "__Graficando este último hecho, particularmente entre G1 y G2:__"
   ]
  },
  {
   "cell_type": "code",
   "execution_count": 28,
   "metadata": {},
   "outputs": [
    {
     "data": {
      "image/png": "[encoded data removed]",
      "text/plain": [
       "<Figure size 432x288 with 1 Axes>"
      ]
     },
     "metadata": {
      "needs_background": "light"
     },
     "output_type": "display_data"
    }
   ],
   "source": [
    "s=121\n",
    "df.plot(x='G1', y='G2', style='o', alpha=.6)  \n",
    "plt.title('G1 vs G2')  \n",
    "plt.xlabel('G1')  \n",
    "plt.ylabel('G2')  \n",
    "plt.show()"
   ]
  },
  {
   "cell_type": "markdown",
   "metadata": {},
   "source": [
    "## Comprobando, datos peridos en la variable `df`"
   ]
  },
  {
   "cell_type": "code",
   "execution_count": 29,
   "metadata": {},
   "outputs": [
    {
     "data": {
      "text/plain": [
       "<matplotlib.axes._subplots.AxesSubplot at 0x7f34e725c278>"
      ]
     },
     "execution_count": 29,
     "metadata": {},
     "output_type": "execute_result"
    },
    {
     "data": {
      "image/png": "[encoded data removed]",
      "text/plain": [
       "<Figure size 1800x720 with 2 Axes>"
      ]
     },
     "metadata": {
      "needs_background": "light"
     },
     "output_type": "display_data"
    }
   ],
   "source": [
    "msngo.matrix(df)"
   ]
  },
  {
   "cell_type": "code",
   "execution_count": 30,
   "metadata": {},
   "outputs": [
    {
     "name": "stdout",
     "output_type": "stream",
     "text": [
      "Porcentaje total de datos del nuevo DataFrame: 71.9%\n"
     ]
    }
   ],
   "source": [
    "print('Porcentaje total de datos del nuevo DataFrame: {}%'.format(round(100*(284/395.0),2)))"
   ]
  },
  {
   "cell_type": "markdown",
   "metadata": {},
   "source": [
    "### __Binarización del DataFrame__"
   ]
  },
  {
   "cell_type": "code",
   "execution_count": 31,
   "metadata": {},
   "outputs": [
    {
     "data": {
      "text/plain": [
       "school         object\n",
       "sex            object\n",
       "age             int64\n",
       "address        object\n",
       "famsize        object\n",
       "Pstatus        object\n",
       "Medu          float64\n",
       "Fedu          float64\n",
       "Mjob           object\n",
       "Fjob           object\n",
       "reason         object\n",
       "guardian       object\n",
       "traveltime    float64\n",
       "studytime     float64\n",
       "failures      float64\n",
       "schoolsup      object\n",
       "famsup         object\n",
       "paid           object\n",
       "activities     object\n",
       "nursery        object\n",
       "higher         object\n",
       "internet       object\n",
       "romantic       object\n",
       "famrel        float64\n",
       "freetime      float64\n",
       "goout           int64\n",
       "Dalc          float64\n",
       "Walc          float64\n",
       "health          int64\n",
       "absences      float64\n",
       "G1            float64\n",
       "G2            float64\n",
       "G3            float64\n",
       "dtype: object"
      ]
     },
     "execution_count": 31,
     "metadata": {},
     "output_type": "execute_result"
    }
   ],
   "source": [
    "df_dummy=df.copy()\n",
    "df_dummy.columns\n",
    "df_dummy.dtypes"
   ]
  },
  {
   "cell_type": "code",
   "execution_count": 32,
   "metadata": {},
   "outputs": [],
   "source": [
    "lista_cat=[]\n",
    "for i in df_dummy.columns:\n",
    "    tipo_col=df_dummy[i].dtype\n",
    "    if tipo_col==object:\n",
    "        lista_cat.append(i)\n",
    "#print(lista_cat)\n",
    "for i in lista_cat:\n",
    "    df_dummy = pd.get_dummies(df_dummy, columns=[i],drop_first=True)"
   ]
  },
  {
   "cell_type": "code",
   "execution_count": 33,
   "metadata": {},
   "outputs": [
    {
     "data": {
      "text/html": [
       "<div>\n",
       "<style scoped>\n",
       "    .dataframe tbody tr th:only-of-type {\n",
       "        vertical-align: middle;\n",
       "    }\n",
       "\n",
       "    .dataframe tbody tr th {\n",
       "        vertical-align: top;\n",
       "    }\n",
       "\n",
       "    .dataframe thead th {\n",
       "        text-align: right;\n",
       "    }\n",
       "</style>\n",
       "<table border=\"1\" class=\"dataframe\">\n",
       "  <thead>\n",
       "    <tr style=\"text-align: right;\">\n",
       "      <th></th>\n",
       "      <th>age</th>\n",
       "      <th>Medu</th>\n",
       "      <th>Fedu</th>\n",
       "      <th>traveltime</th>\n",
       "      <th>studytime</th>\n",
       "      <th>failures</th>\n",
       "      <th>famrel</th>\n",
       "      <th>freetime</th>\n",
       "      <th>goout</th>\n",
       "      <th>Dalc</th>\n",
       "      <th>...</th>\n",
       "      <th>guardian_mother</th>\n",
       "      <th>guardian_other</th>\n",
       "      <th>schoolsup_yes</th>\n",
       "      <th>famsup_yes</th>\n",
       "      <th>paid_yes</th>\n",
       "      <th>activities_yes</th>\n",
       "      <th>nursery_yes</th>\n",
       "      <th>higher_yes</th>\n",
       "      <th>internet_yes</th>\n",
       "      <th>romantic_yes</th>\n",
       "    </tr>\n",
       "  </thead>\n",
       "  <tbody>\n",
       "    <tr>\n",
       "      <th>1</th>\n",
       "      <td>17</td>\n",
       "      <td>1.0</td>\n",
       "      <td>1.0</td>\n",
       "      <td>1.0</td>\n",
       "      <td>2.0</td>\n",
       "      <td>0.0</td>\n",
       "      <td>5.0</td>\n",
       "      <td>3.0</td>\n",
       "      <td>3</td>\n",
       "      <td>1.0</td>\n",
       "      <td>...</td>\n",
       "      <td>0</td>\n",
       "      <td>0</td>\n",
       "      <td>0</td>\n",
       "      <td>1</td>\n",
       "      <td>0</td>\n",
       "      <td>0</td>\n",
       "      <td>0</td>\n",
       "      <td>1</td>\n",
       "      <td>1</td>\n",
       "      <td>0</td>\n",
       "    </tr>\n",
       "    <tr>\n",
       "      <th>3</th>\n",
       "      <td>15</td>\n",
       "      <td>4.0</td>\n",
       "      <td>2.0</td>\n",
       "      <td>1.0</td>\n",
       "      <td>3.0</td>\n",
       "      <td>0.0</td>\n",
       "      <td>3.0</td>\n",
       "      <td>2.0</td>\n",
       "      <td>2</td>\n",
       "      <td>1.0</td>\n",
       "      <td>...</td>\n",
       "      <td>1</td>\n",
       "      <td>0</td>\n",
       "      <td>0</td>\n",
       "      <td>1</td>\n",
       "      <td>1</td>\n",
       "      <td>1</td>\n",
       "      <td>1</td>\n",
       "      <td>1</td>\n",
       "      <td>1</td>\n",
       "      <td>1</td>\n",
       "    </tr>\n",
       "    <tr>\n",
       "      <th>5</th>\n",
       "      <td>16</td>\n",
       "      <td>4.0</td>\n",
       "      <td>3.0</td>\n",
       "      <td>1.0</td>\n",
       "      <td>2.0</td>\n",
       "      <td>0.0</td>\n",
       "      <td>5.0</td>\n",
       "      <td>4.0</td>\n",
       "      <td>2</td>\n",
       "      <td>1.0</td>\n",
       "      <td>...</td>\n",
       "      <td>1</td>\n",
       "      <td>0</td>\n",
       "      <td>0</td>\n",
       "      <td>1</td>\n",
       "      <td>1</td>\n",
       "      <td>1</td>\n",
       "      <td>1</td>\n",
       "      <td>1</td>\n",
       "      <td>1</td>\n",
       "      <td>0</td>\n",
       "    </tr>\n",
       "    <tr>\n",
       "      <th>6</th>\n",
       "      <td>16</td>\n",
       "      <td>2.0</td>\n",
       "      <td>2.0</td>\n",
       "      <td>1.0</td>\n",
       "      <td>2.0</td>\n",
       "      <td>0.0</td>\n",
       "      <td>4.0</td>\n",
       "      <td>4.0</td>\n",
       "      <td>4</td>\n",
       "      <td>1.0</td>\n",
       "      <td>...</td>\n",
       "      <td>1</td>\n",
       "      <td>0</td>\n",
       "      <td>0</td>\n",
       "      <td>0</td>\n",
       "      <td>0</td>\n",
       "      <td>0</td>\n",
       "      <td>1</td>\n",
       "      <td>1</td>\n",
       "      <td>1</td>\n",
       "      <td>0</td>\n",
       "    </tr>\n",
       "    <tr>\n",
       "      <th>7</th>\n",
       "      <td>17</td>\n",
       "      <td>4.0</td>\n",
       "      <td>4.0</td>\n",
       "      <td>2.0</td>\n",
       "      <td>2.0</td>\n",
       "      <td>0.0</td>\n",
       "      <td>4.0</td>\n",
       "      <td>1.0</td>\n",
       "      <td>4</td>\n",
       "      <td>1.0</td>\n",
       "      <td>...</td>\n",
       "      <td>1</td>\n",
       "      <td>0</td>\n",
       "      <td>1</td>\n",
       "      <td>1</td>\n",
       "      <td>0</td>\n",
       "      <td>0</td>\n",
       "      <td>1</td>\n",
       "      <td>1</td>\n",
       "      <td>0</td>\n",
       "      <td>0</td>\n",
       "    </tr>\n",
       "  </tbody>\n",
       "</table>\n",
       "<p>5 rows × 42 columns</p>\n",
       "</div>"
      ],
      "text/plain": [
       "   age  Medu  Fedu  traveltime  studytime  failures  famrel  freetime  goout  \\\n",
       "1   17   1.0   1.0         1.0        2.0       0.0     5.0       3.0      3   \n",
       "3   15   4.0   2.0         1.0        3.0       0.0     3.0       2.0      2   \n",
       "5   16   4.0   3.0         1.0        2.0       0.0     5.0       4.0      2   \n",
       "6   16   2.0   2.0         1.0        2.0       0.0     4.0       4.0      4   \n",
       "7   17   4.0   4.0         2.0        2.0       0.0     4.0       1.0      4   \n",
       "\n",
       "   Dalc  ...  guardian_mother  guardian_other  schoolsup_yes  famsup_yes  \\\n",
       "1   1.0  ...                0               0              0           1   \n",
       "3   1.0  ...                1               0              0           1   \n",
       "5   1.0  ...                1               0              0           1   \n",
       "6   1.0  ...                1               0              0           0   \n",
       "7   1.0  ...                1               0              1           1   \n",
       "\n",
       "   paid_yes  activities_yes  nursery_yes  higher_yes  internet_yes  \\\n",
       "1         0               0            0           1             1   \n",
       "3         1               1            1           1             1   \n",
       "5         1               1            1           1             1   \n",
       "6         0               0            1           1             1   \n",
       "7         0               0            1           1             0   \n",
       "\n",
       "   romantic_yes  \n",
       "1             0  \n",
       "3             1  \n",
       "5             0  \n",
       "6             0  \n",
       "7             0  \n",
       "\n",
       "[5 rows x 42 columns]"
      ]
     },
     "execution_count": 33,
     "metadata": {},
     "output_type": "execute_result"
    }
   ],
   "source": [
    "df_dummy.head()"
   ]
  },
  {
   "cell_type": "code",
   "execution_count": 34,
   "metadata": {},
   "outputs": [
    {
     "data": {
      "text/plain": [
       "Index(['age', 'Medu', 'Fedu', 'traveltime', 'studytime', 'failures', 'famrel',\n",
       "       'freetime', 'goout', 'Dalc', 'Walc', 'health', 'absences', 'G1', 'G2',\n",
       "       'G3', 'school_MS', 'sex_M', 'address_U', 'famsize_LE3', 'Pstatus_T',\n",
       "       'Mjob_health', 'Mjob_other', 'Mjob_services', 'Mjob_teacher',\n",
       "       'Fjob_health', 'Fjob_other', 'Fjob_services', 'Fjob_teacher',\n",
       "       'reason_home', 'reason_other', 'reason_reputation', 'guardian_mother',\n",
       "       'guardian_other', 'schoolsup_yes', 'famsup_yes', 'paid_yes',\n",
       "       'activities_yes', 'nursery_yes', 'higher_yes', 'internet_yes',\n",
       "       'romantic_yes'],\n",
       "      dtype='object')"
      ]
     },
     "execution_count": 34,
     "metadata": {},
     "output_type": "execute_result"
    }
   ],
   "source": [
    "df_dummy.columns"
   ]
  },
  {
   "cell_type": "code",
   "execution_count": 35,
   "metadata": {},
   "outputs": [],
   "source": [
    "def string_col(df,var):\n",
    "    string_cols=var+\"~\"\n",
    "    largo=len(df_dummy.columns)\n",
    "    for i,n in enumerate(df_dummy.columns):\n",
    "        if n==var:\n",
    "            pass\n",
    "        else:\n",
    "            if i!=largo-1:\n",
    "                string_cols+=n+\"+\"\n",
    "\n",
    "            else:\n",
    "                string_cols+=n\n",
    "    return string_cols\n",
    "string_col_g1 = string_col(df_dummy,\"G1\")"
   ]
  },
  {
   "cell_type": "code",
   "execution_count": null,
   "metadata": {},
   "outputs": [],
   "source": []
  },
  {
   "cell_type": "markdown",
   "metadata": {},
   "source": [
    "### __Modelo Descriptivo__\n",
    "## __Variable: G1__"
   ]
  },
  {
   "cell_type": "code",
   "execution_count": 36,
   "metadata": {},
   "outputs": [
    {
     "name": "stdout",
     "output_type": "stream",
     "text": [
      "                            OLS Regression Results                            \n",
      "==============================================================================\n",
      "Dep. Variable:                     G1   R-squared:                       0.794\n",
      "Model:                            OLS   Adj. R-squared:                  0.760\n",
      "Method:                 Least Squares   F-statistic:                     22.81\n",
      "Date:                Thu, 15 Aug 2019   Prob (F-statistic):           3.18e-62\n",
      "Time:                        16:39:18   Log-Likelihood:                -515.99\n",
      "No. Observations:                 284   AIC:                             1116.\n",
      "Df Residuals:                     242   BIC:                             1269.\n",
      "Df Model:                          41                                         \n",
      "Covariance Type:            nonrobust                                         \n",
      "=====================================================================================\n",
      "                        coef    std err          t      P>|t|      [0.025      0.975]\n",
      "-------------------------------------------------------------------------------------\n",
      "Intercept             1.6758      2.084      0.804      0.422      -2.429       5.781\n",
      "age                   0.1399      0.103      1.359      0.176      -0.063       0.343\n",
      "Medu                 -0.0708      0.157     -0.450      0.653      -0.381       0.239\n",
      "Fedu                  0.2671      0.132      2.026      0.044       0.007       0.527\n",
      "traveltime            0.1177      0.162      0.726      0.468      -0.202       0.437\n",
      "studytime             0.2247      0.137      1.638      0.103      -0.045       0.495\n",
      "failures             -0.2861      0.162     -1.770      0.078      -0.604       0.032\n",
      "famrel                0.0527      0.121      0.435      0.664      -0.186       0.291\n",
      "freetime              0.1256      0.108      1.163      0.246      -0.087       0.338\n",
      "goout                -0.0568      0.115     -0.494      0.622      -0.283       0.170\n",
      "Dalc                  0.1264      0.160      0.789      0.431      -0.189       0.442\n",
      "Walc                 -0.1535      0.119     -1.290      0.198      -0.388       0.081\n",
      "health               -0.0210      0.080     -0.264      0.792      -0.178       0.136\n",
      "absences             -0.0059      0.014     -0.430      0.667      -0.033       0.021\n",
      "G2                    0.5337      0.064      8.308      0.000       0.407       0.660\n",
      "G3                    0.1590      0.054      2.959      0.003       0.053       0.265\n",
      "school_MS            -0.6629      0.373     -1.779      0.077      -1.397       0.071\n",
      "sex_M                 0.1283      0.242      0.531      0.596      -0.348       0.604\n",
      "address_U            -0.5229      0.272     -1.923      0.056      -1.059       0.013\n",
      "famsize_LE3           0.0078      0.245      0.032      0.975      -0.476       0.491\n",
      "Pstatus_T             0.2910      0.363      0.802      0.423      -0.424       1.006\n",
      "Mjob_health           0.1133      0.513      0.221      0.825      -0.896       1.123\n",
      "Mjob_other           -0.5605      0.333     -1.682      0.094      -1.217       0.096\n",
      "Mjob_services        -0.0082      0.376     -0.022      0.983      -0.750       0.733\n",
      "Mjob_teacher         -0.4069      0.466     -0.873      0.383      -1.325       0.511\n",
      "Fjob_health          -0.7528      0.726     -1.037      0.301      -2.183       0.677\n",
      "Fjob_other           -0.9028      0.549     -1.643      0.102      -1.985       0.179\n",
      "Fjob_services        -0.8955      0.552     -1.621      0.106      -1.984       0.193\n",
      "Fjob_teacher          0.1357      0.667      0.203      0.839      -1.178       1.449\n",
      "reason_home           0.0822      0.264      0.312      0.756      -0.437       0.602\n",
      "reason_other         -0.4793      0.377     -1.272      0.204      -1.221       0.263\n",
      "reason_reputation     0.0356      0.272      0.131      0.896      -0.501       0.572\n",
      "guardian_mother       0.1400      0.267      0.525      0.600      -0.385       0.665\n",
      "guardian_other        0.3319      0.473      0.701      0.484      -0.601       1.265\n",
      "schoolsup_yes        -1.0502      0.315     -3.330      0.001      -1.671      -0.429\n",
      "famsup_yes           -0.3221      0.231     -1.395      0.164      -0.777       0.133\n",
      "paid_yes             -0.3067      0.225     -1.365      0.174      -0.749       0.136\n",
      "activities_yes       -0.2602      0.207     -1.256      0.210      -0.668       0.148\n",
      "nursery_yes          -0.1157      0.253     -0.457      0.648      -0.615       0.383\n",
      "higher_yes            0.2407      0.489      0.492      0.623      -0.723       1.205\n",
      "internet_yes         -0.2348      0.279     -0.840      0.402      -0.785       0.316\n",
      "romantic_yes          0.4478      0.223      2.006      0.046       0.008       0.887\n",
      "==============================================================================\n",
      "Omnibus:                       15.099   Durbin-Watson:                   1.617\n",
      "Prob(Omnibus):                  0.001   Jarque-Bera (JB):               23.731\n",
      "Skew:                           0.347   Prob(JB):                     7.03e-06\n",
      "Kurtosis:                       4.235   Cond. No.                         556.\n",
      "==============================================================================\n",
      "\n",
      "Warnings:\n",
      "[1] Standard Errors assume that the covariance matrix of the errors is correctly specified.\n"
     ]
    }
   ],
   "source": [
    "m1_ols = smf.ols(string_col_g1,data=df_dummy).fit()\n",
    "print(m1_ols.summary())"
   ]
  },
  {
   "cell_type": "markdown",
   "metadata": {},
   "source": [
    "## __Variable: G2__"
   ]
  },
  {
   "cell_type": "code",
   "execution_count": 37,
   "metadata": {},
   "outputs": [],
   "source": [
    "string_col_g2 = string_col(df_dummy,\"G2\")"
   ]
  },
  {
   "cell_type": "code",
   "execution_count": 38,
   "metadata": {},
   "outputs": [
    {
     "name": "stdout",
     "output_type": "stream",
     "text": [
      "                            OLS Regression Results                            \n",
      "==============================================================================\n",
      "Dep. Variable:                     G2   R-squared:                       0.879\n",
      "Model:                            OLS   Adj. R-squared:                  0.859\n",
      "Method:                 Least Squares   F-statistic:                     43.00\n",
      "Date:                Thu, 15 Aug 2019   Prob (F-statistic):           2.32e-89\n",
      "Time:                        16:39:18   Log-Likelihood:                -480.55\n",
      "No. Observations:                 284   AIC:                             1045.\n",
      "Df Residuals:                     242   BIC:                             1198.\n",
      "Df Model:                          41                                         \n",
      "Covariance Type:            nonrobust                                         \n",
      "=====================================================================================\n",
      "                        coef    std err          t      P>|t|      [0.025      0.975]\n",
      "-------------------------------------------------------------------------------------\n",
      "Intercept             2.1209      1.837      1.155      0.249      -1.497       5.739\n",
      "age                  -0.0200      0.091     -0.220      0.826      -0.200       0.160\n",
      "Medu                 -0.0079      0.139     -0.057      0.955      -0.282       0.266\n",
      "Fedu                 -0.0313      0.117     -0.266      0.790      -0.262       0.200\n",
      "traveltime           -0.1445      0.143     -1.011      0.313      -0.426       0.137\n",
      "studytime             0.0142      0.122      0.116      0.907      -0.226       0.254\n",
      "failures              0.0878      0.143      0.612      0.541      -0.195       0.370\n",
      "famrel               -0.2788      0.105     -2.647      0.009      -0.486      -0.071\n",
      "freetime             -0.0649      0.095     -0.680      0.497      -0.253       0.123\n",
      "goout                -0.0162      0.101     -0.159      0.873      -0.216       0.184\n",
      "Dalc                  0.0994      0.141      0.703      0.483      -0.179       0.378\n",
      "Walc                 -0.0909      0.105     -0.864      0.389      -0.298       0.116\n",
      "health               -0.0689      0.070     -0.981      0.327      -0.207       0.069\n",
      "absences             -0.0229      0.012     -1.900      0.059      -0.047       0.001\n",
      "G1                    0.4158      0.050      8.308      0.000       0.317       0.514\n",
      "G3                    0.5079      0.036     14.285      0.000       0.438       0.578\n",
      "school_MS            -0.0663      0.331     -0.200      0.842      -0.718       0.586\n",
      "sex_M                 0.0578      0.213      0.271      0.787      -0.363       0.478\n",
      "address_U             0.2948      0.241      1.222      0.223      -0.180       0.770\n",
      "famsize_LE3           0.1513      0.216      0.699      0.485      -0.275       0.578\n",
      "Pstatus_T            -0.0042      0.321     -0.013      0.990      -0.636       0.628\n",
      "Mjob_health           0.1863      0.452      0.412      0.681      -0.705       1.077\n",
      "Mjob_other            0.0461      0.296      0.156      0.876      -0.537       0.629\n",
      "Mjob_services        -0.0121      0.332     -0.036      0.971      -0.667       0.642\n",
      "Mjob_teacher          0.0222      0.412      0.054      0.957      -0.789       0.834\n",
      "Fjob_health           0.3850      0.642      0.600      0.549      -0.879       1.649\n",
      "Fjob_other            0.6689      0.486      1.377      0.170      -0.288       1.626\n",
      "Fjob_services         0.8818      0.487      1.811      0.071      -0.077       1.841\n",
      "Fjob_teacher          0.2953      0.588      0.502      0.616      -0.863       1.454\n",
      "reason_home           0.1900      0.232      0.817      0.415      -0.268       0.648\n",
      "reason_other          0.2695      0.333      0.809      0.419      -0.387       0.926\n",
      "reason_reputation    -0.0521      0.240     -0.217      0.829      -0.525       0.421\n",
      "guardian_mother      -0.1912      0.235     -0.813      0.417      -0.654       0.272\n",
      "guardian_other        0.0981      0.418      0.234      0.815      -0.726       0.922\n",
      "schoolsup_yes         0.2371      0.284      0.834      0.405      -0.323       0.797\n",
      "famsup_yes           -0.1075      0.205     -0.526      0.600      -0.510       0.295\n",
      "paid_yes              0.1973      0.199      0.993      0.322      -0.194       0.589\n",
      "activities_yes        0.3025      0.182      1.658      0.099      -0.057       0.662\n",
      "nursery_yes           0.1115      0.224      0.499      0.619      -0.329       0.552\n",
      "higher_yes           -0.2296      0.432     -0.531      0.596      -1.080       0.621\n",
      "internet_yes          0.2019      0.247      0.818      0.414      -0.284       0.688\n",
      "romantic_yes         -0.2465      0.198     -1.245      0.214      -0.637       0.144\n",
      "==============================================================================\n",
      "Omnibus:                       23.458   Durbin-Watson:                   1.675\n",
      "Prob(Omnibus):                  0.000   Jarque-Bera (JB):               88.258\n",
      "Skew:                           0.106   Prob(JB):                     6.84e-20\n",
      "Kurtosis:                       5.723   Cond. No.                         558.\n",
      "==============================================================================\n",
      "\n",
      "Warnings:\n",
      "[1] Standard Errors assume that the covariance matrix of the errors is correctly specified.\n"
     ]
    }
   ],
   "source": [
    "m2_ols = smf.ols(string_col_g2,data=df_dummy).fit()\n",
    "print(m2_ols.summary())"
   ]
  },
  {
   "cell_type": "markdown",
   "metadata": {},
   "source": [
    "## __Variable: G3__"
   ]
  },
  {
   "cell_type": "code",
   "execution_count": 39,
   "metadata": {},
   "outputs": [
    {
     "name": "stdout",
     "output_type": "stream",
     "text": [
      "                            OLS Regression Results                            \n",
      "==============================================================================\n",
      "Dep. Variable:                     G3   R-squared:                       0.853\n",
      "Model:                            OLS   Adj. R-squared:                  0.828\n",
      "Method:                 Least Squares   F-statistic:                     34.13\n",
      "Date:                Thu, 15 Aug 2019   Prob (F-statistic):           4.20e-79\n",
      "Time:                        16:39:18   Log-Likelihood:                -561.92\n",
      "No. Observations:                 284   AIC:                             1208.\n",
      "Df Residuals:                     242   BIC:                             1361.\n",
      "Df Model:                          41                                         \n",
      "Covariance Type:            nonrobust                                         \n",
      "=====================================================================================\n",
      "                        coef    std err          t      P>|t|      [0.025      0.975]\n",
      "-------------------------------------------------------------------------------------\n",
      "Intercept            -1.5206      2.451     -0.620      0.536      -6.349       3.308\n",
      "age                  -0.1150      0.121     -0.949      0.344      -0.354       0.124\n",
      "Medu                  0.1718      0.185      0.931      0.353      -0.192       0.536\n",
      "Fedu                 -0.2286      0.156     -1.469      0.143      -0.535       0.078\n",
      "traveltime            0.0706      0.191      0.370      0.712      -0.305       0.446\n",
      "studytime            -0.1092      0.162     -0.674      0.501      -0.428       0.210\n",
      "failures             -0.2126      0.191     -1.115      0.266      -0.588       0.163\n",
      "famrel                0.4285      0.140      3.070      0.002       0.154       0.703\n",
      "freetime              0.0901      0.127      0.709      0.479      -0.160       0.341\n",
      "goout                -0.2009      0.135     -1.493      0.137      -0.466       0.064\n",
      "Dalc                 -0.3441      0.187     -1.838      0.067      -0.713       0.025\n",
      "Walc                  0.3981      0.138      2.885      0.004       0.126       0.670\n",
      "health                0.0219      0.094      0.234      0.816      -0.163       0.206\n",
      "absences              0.0417      0.016      2.613      0.010       0.010       0.073\n",
      "G1                    0.2197      0.074      2.959      0.003       0.073       0.366\n",
      "G2                    0.9008      0.063     14.285      0.000       0.777       1.025\n",
      "school_MS             0.7901      0.438      1.804      0.072      -0.073       1.653\n",
      "sex_M                 0.0428      0.284      0.151      0.880      -0.517       0.603\n",
      "address_U             0.2036      0.322      0.633      0.528      -0.430       0.838\n",
      "famsize_LE3          -0.1268      0.288     -0.440      0.661      -0.695       0.441\n",
      "Pstatus_T            -0.4331      0.426     -1.016      0.311      -1.273       0.407\n",
      "Mjob_health          -0.0389      0.603     -0.065      0.949      -1.226       1.148\n",
      "Mjob_other            0.4246      0.393      1.080      0.281      -0.350       1.199\n",
      "Mjob_services         0.1810      0.442      0.409      0.683      -0.690       1.052\n",
      "Mjob_teacher          0.0579      0.549      0.106      0.916      -1.023       1.139\n",
      "Fjob_health          -0.0658      0.855     -0.077      0.939      -1.751       1.619\n",
      "Fjob_other           -0.4859      0.649     -0.749      0.455      -1.764       0.792\n",
      "Fjob_services        -0.5886      0.652     -0.903      0.367      -1.872       0.695\n",
      "Fjob_teacher         -0.3195      0.783     -0.408      0.684      -1.863       1.224\n",
      "reason_home          -0.2593      0.310     -0.838      0.403      -0.869       0.350\n",
      "reason_other          0.2194      0.444      0.494      0.622      -0.655       1.094\n",
      "reason_reputation     0.2429      0.320      0.760      0.448      -0.387       0.873\n",
      "guardian_mother       0.2051      0.313      0.654      0.513      -0.412       0.822\n",
      "guardian_other       -0.4582      0.556     -0.824      0.411      -1.554       0.638\n",
      "schoolsup_yes         0.2645      0.379      0.698      0.486      -0.482       1.011\n",
      "famsup_yes            0.1858      0.272      0.682      0.496      -0.351       0.722\n",
      "paid_yes              0.0888      0.265      0.335      0.738      -0.434       0.611\n",
      "activities_yes       -0.3307      0.243     -1.359      0.175      -0.810       0.149\n",
      "nursery_yes          -0.0393      0.298     -0.132      0.895      -0.626       0.547\n",
      "higher_yes            0.4869      0.575      0.847      0.398      -0.645       1.619\n",
      "internet_yes          0.0045      0.329      0.014      0.989      -0.643       0.653\n",
      "romantic_yes         -0.2096      0.264     -0.793      0.428      -0.730       0.311\n",
      "==============================================================================\n",
      "Omnibus:                      131.180   Durbin-Watson:                   1.984\n",
      "Prob(Omnibus):                  0.000   Jarque-Bera (JB):              603.163\n",
      "Skew:                          -1.915   Prob(JB):                    1.06e-131\n",
      "Kurtosis:                       9.025   Cond. No.                         560.\n",
      "==============================================================================\n",
      "\n",
      "Warnings:\n",
      "[1] Standard Errors assume that the covariance matrix of the errors is correctly specified.\n"
     ]
    }
   ],
   "source": [
    "string_col_g3 = string_col(df_dummy,\"G3\")\n",
    "m3_ols = smf.ols(string_col_g3,data=df_dummy).fit()\n",
    "print(m3_ols.summary())"
   ]
  },
  {
   "cell_type": "markdown",
   "metadata": {},
   "source": [
    "### __Analisis de Modelos.__\n",
    "- Date: Wed, 14 Aug 2019 , Time: \t18:29:35\n",
    "- __Métricas Comparativas__\n",
    "\n",
    "<table class=\"egt\">\n",
    "  <tr>\n",
    "    <th scope=\"row\"></th>\n",
    "    <th>R-squared</th>\n",
    "    <th>log-Likehood</th>\n",
    "    <th>Principales Coeficientes</th> \n",
    "  </tr>\n",
    "  <tr>\n",
    "    <th>Modelo 1 - G1</th>\n",
    "    <td>0.794</td>\n",
    "    <td>-515.99</td>\n",
    "    <td>G2:0.5337<br/>school_MS:-0.6629<br/>address_U:-0.5229<br/>Mjob_other:-0.5605<br/>Fjob_health:-0.7528<br/>Fjob_other:-0.9028<br/>Fjob_services:-0.8955<br/>schoolsup_yes-1.0502</td>\n",
    "      \n",
    "  </tr>\n",
    "  <tr>\n",
    "    <th>Modelo 2 - G2</th>\n",
    "    <td>0.879</td>\n",
    "    <td>-480.55</td>\n",
    "    <td>G1:0.4158<br/>G3:0.5079<br/>Fjob_other:0.6689<br/>Fjob_services:0.8818</td>\n",
    "  </tr>\n",
    "  <tr>\n",
    "    <th>Modelo 3 - G3</th>\n",
    "    <td>0.853</td>\n",
    "    <td>-561.92</td>\n",
    "    <td>G2:0.9008<br/>school_MS:0.7901<br/>Fjob_services:-0.5886</td>  \n",
    "  </tr>\n",
    "</table> \n",
    "\n",
    "- Entonces si el coeficiente refleja el cambio esperado en la variable dependiente para cada cambio en una unidad en la variable explicativa asociada, __manteniendo todas las otras variables explicativas constantes__ en este caso por ejemplo, podemos apreciar que:\n",
    "    - Para modelo G1: si school_MS tiene asociado un coefiente de -0.6629, significaría que por cada unidad que aumentemos de school_MS disminuira 0.6629 G1.\n",
    "        - Esto se puede reproducir para los otros dos modelos\n",
    "- Cabe mencionar que en cualquier modelo las variables con p_values significativos con las G, es decir, para G1 correpondería G2 y G3."
   ]
  },
  {
   "cell_type": "markdown",
   "metadata": {},
   "source": [
    "__En respuesta a la alta correlación o el peso que otorgan G1 y G2 a G3. Se realizara un modelo 4, que descarte en el análisis a las variables G1 y G2. Para ver que variables pueden sugerir mayor interés.__"
   ]
  },
  {
   "cell_type": "markdown",
   "metadata": {},
   "source": [
    "## __Modelo 4:__\n"
   ]
  },
  {
   "cell_type": "code",
   "execution_count": 40,
   "metadata": {},
   "outputs": [
    {
     "name": "stdout",
     "output_type": "stream",
     "text": [
      "G3~age+Medu+Fedu+traveltime+studytime+failures+famrel+freetime+goout+Dalc+Walc+health+absences+school_MS+sex_M+address_U+famsize_LE3+Pstatus_T+Mjob_health+Mjob_other+Mjob_services+Mjob_teacher+Fjob_health+Fjob_other+Fjob_services+Fjob_teacher+reason_home+reason_other+reason_reputation+guardian_mother+guardian_other+schoolsup_yes+famsup_yes+paid_yes+activities_yes+nursery_yes+higher_yes+internet_yes+romantic_yes\n"
     ]
    }
   ],
   "source": [
    "def string_col_new(df,var):\n",
    "    string_cols=var+\"~\"\n",
    "    largo=len(df_dummy.columns)\n",
    "    for i,n in enumerate(df_dummy.columns):\n",
    "        if n==var:\n",
    "            pass\n",
    "        elif n==\"G1\" or n==\"G2\":\n",
    "            pass\n",
    "        \n",
    "        else:\n",
    "            if i!=largo-1:\n",
    "                string_cols+=n+\"+\"\n",
    "\n",
    "            else:\n",
    "                string_cols+=n\n",
    "    return string_cols\n",
    "string_col_g3_m4 = string_col_new(df_dummy,\"G3\")\n",
    "print(string_col_g3_m4)"
   ]
  },
  {
   "cell_type": "code",
   "execution_count": 41,
   "metadata": {},
   "outputs": [
    {
     "name": "stdout",
     "output_type": "stream",
     "text": [
      "                            OLS Regression Results                            \n",
      "==============================================================================\n",
      "Dep. Variable:                     G3   R-squared:                       0.312\n",
      "Model:                            OLS   Adj. R-squared:                  0.201\n",
      "Method:                 Least Squares   F-statistic:                     2.831\n",
      "Date:                Thu, 15 Aug 2019   Prob (F-statistic):           6.14e-07\n",
      "Time:                        16:39:18   Log-Likelihood:                -780.76\n",
      "No. Observations:                 284   AIC:                             1642.\n",
      "Df Residuals:                     244   BIC:                             1787.\n",
      "Df Model:                          39                                         \n",
      "Covariance Type:            nonrobust                                         \n",
      "=====================================================================================\n",
      "                        coef    std err          t      P>|t|      [0.025      0.975]\n",
      "-------------------------------------------------------------------------------------\n",
      "Intercept            11.8343      5.184      2.283      0.023       1.623      22.046\n",
      "age                  -0.1608      0.260     -0.618      0.537      -0.673       0.352\n",
      "Medu                  0.5017      0.397      1.265      0.207      -0.279       1.283\n",
      "Fedu                 -0.3060      0.333     -0.920      0.358      -0.961       0.349\n",
      "traveltime           -0.1333      0.409     -0.326      0.745      -0.940       0.673\n",
      "studytime             0.3779      0.345      1.094      0.275      -0.302       1.058\n",
      "failures             -1.4767      0.398     -3.713      0.000      -2.260      -0.693\n",
      "famrel                0.4857      0.300      1.621      0.106      -0.105       1.076\n",
      "freetime              0.4721      0.271      1.739      0.083      -0.063       1.007\n",
      "goout                -1.2396      0.280     -4.434      0.000      -1.790      -0.689\n",
      "Dalc                 -0.5493      0.402     -1.365      0.174      -1.342       0.243\n",
      "Walc                  0.7566      0.295      2.562      0.011       0.175       1.338\n",
      "health               -0.3936      0.199     -1.976      0.049      -0.786      -0.001\n",
      "absences              0.0336      0.034      0.977      0.329      -0.034       0.101\n",
      "school_MS             0.9206      0.938      0.981      0.327      -0.927       2.769\n",
      "sex_M                 1.0108      0.608      1.663      0.098      -0.186       2.208\n",
      "address_U             0.8873      0.686      1.294      0.197      -0.463       2.238\n",
      "famsize_LE3           0.3597      0.620      0.580      0.562      -0.861       1.580\n",
      "Pstatus_T            -1.0103      0.916     -1.103      0.271      -2.814       0.793\n",
      "Mjob_health           1.3603      1.293      1.052      0.294      -1.187       3.907\n",
      "Mjob_other            0.2651      0.842      0.315      0.753      -1.393       1.924\n",
      "Mjob_services         0.7422      0.951      0.780      0.436      -1.131       2.616\n",
      "Mjob_teacher         -1.0447      1.177     -0.888      0.376      -3.362       1.273\n",
      "Fjob_health          -0.6401      1.836     -0.349      0.728      -4.257       2.977\n",
      "Fjob_other           -1.4023      1.386     -1.012      0.313      -4.132       1.327\n",
      "Fjob_services        -0.5543      1.393     -0.398      0.691      -3.298       2.190\n",
      "Fjob_teacher          0.7959      1.684      0.473      0.637      -2.522       4.113\n",
      "reason_home           0.2428      0.665      0.365      0.715      -1.067       1.553\n",
      "reason_other          0.9620      0.951      1.012      0.313      -0.911       2.835\n",
      "reason_reputation     0.9431      0.686      1.375      0.171      -0.408       2.295\n",
      "guardian_mother       0.2893      0.674      0.429      0.668      -1.038       1.617\n",
      "guardian_other       -0.3567      1.197     -0.298      0.766      -2.714       2.000\n",
      "schoolsup_yes        -1.0615      0.794     -1.337      0.182      -2.625       0.502\n",
      "famsup_yes           -0.9381      0.579     -1.621      0.106      -2.078       0.202\n",
      "paid_yes              0.5265      0.567      0.928      0.354      -0.591       1.644\n",
      "activities_yes       -0.6244      0.521     -1.199      0.232      -1.650       0.402\n",
      "nursery_yes           0.0846      0.641      0.132      0.895      -1.177       1.347\n",
      "higher_yes            1.7295      1.233      1.403      0.162      -0.699       4.158\n",
      "internet_yes          0.4170      0.706      0.591      0.555      -0.974       1.808\n",
      "romantic_yes         -0.8878      0.562     -1.581      0.115      -1.994       0.219\n",
      "==============================================================================\n",
      "Omnibus:                       12.840   Durbin-Watson:                   1.821\n",
      "Prob(Omnibus):                  0.002   Jarque-Bera (JB):               13.547\n",
      "Skew:                          -0.533   Prob(JB):                      0.00114\n",
      "Kurtosis:                       3.085   Cond. No.                         437.\n",
      "==============================================================================\n",
      "\n",
      "Warnings:\n",
      "[1] Standard Errors assume that the covariance matrix of the errors is correctly specified.\n"
     ]
    }
   ],
   "source": [
    "m4_ols = smf.ols(string_col_g3_m4,data=df_dummy).fit()\n",
    "print(m4_ols.summary())"
   ]
  },
  {
   "cell_type": "markdown",
   "metadata": {},
   "source": [
    "### __Analisis de Modelos.__\n",
    "- Date: Wed, 14 Aug 2019 , Time: \t18:29:35\n",
    "- __Métricas Comparativas__\n",
    "\n",
    "<table class=\"egt\">\n",
    "  <tr>\n",
    "    <th scope=\"row\"></th>\n",
    "    <th>R-squared</th>\n",
    "    <th>log-Likehood</th>\n",
    "    <th>Principales Coeficientes</th> \n",
    "  </tr>\n",
    "  <tr>\n",
    "    <th>Modelo 4 - G1</th>\n",
    "    <td>0.312</td>\n",
    "    <td>-780.76</td>\n",
    "    <td>failures:-1.4767<br/>goout:-1.2396<br/>\n",
    "</table> \n",
    "    \n",
    "- Se destacan estos regresores ya que además cuentan con un p_value < .025"
   ]
  },
  {
   "cell_type": "markdown",
   "metadata": {},
   "source": [
    "### __Modelación predictiva__ `G3`"
   ]
  },
  {
   "cell_type": "code",
   "execution_count": 42,
   "metadata": {},
   "outputs": [
    {
     "name": "stdout",
     "output_type": "stream",
     "text": [
      "['age', 'Medu', 'Fedu', 'traveltime', 'studytime', 'failures', 'famrel', 'freetime', 'goout', 'Dalc', 'Walc', 'health', 'absences', 'G1', 'G2', 'school_MS', 'sex_M', 'address_U', 'famsize_LE3', 'Pstatus_T', 'Mjob_health', 'Mjob_other', 'Mjob_services', 'Mjob_teacher', 'Fjob_health', 'Fjob_other', 'Fjob_services', 'Fjob_teacher', 'reason_home', 'reason_other', 'reason_reputation', 'guardian_mother', 'guardian_other', 'schoolsup_yes', 'famsup_yes', 'paid_yes', 'activities_yes', 'nursery_yes', 'higher_yes', 'internet_yes', 'romantic_yes']\n",
      "Cantidad de columnas:  41\n"
     ]
    }
   ],
   "source": [
    "columnas=[]\n",
    "for i in df_dummy.columns:\n",
    "    if i!=\"G3\":\n",
    "        columnas.append(i)\n",
    "    else:\n",
    "        pass\n",
    "print(columnas)\n",
    "print(\"Cantidad de columnas: \",len(columnas))"
   ]
  },
  {
   "cell_type": "code",
   "execution_count": 43,
   "metadata": {},
   "outputs": [
    {
     "name": "stdout",
     "output_type": "stream",
     "text": [
      "Error MSE:  5.133278024532576\n",
      "El valor de r**2:  0.7437768628842991\n"
     ]
    }
   ],
   "source": [
    "y_vec=df_dummy[\"G3\"]\n",
    "X_mat=df_dummy.loc[:,columnas].dropna()\n",
    "\n",
    "X_train,X_test,y_train,y_test=train_test_split(X_mat,y_vec,test_size=0.33,random_state=16123929)\n",
    "std_scaler=StandardScaler().fit(X_train)\n",
    "data_preproc_Xtrain=std_scaler.transform(X_train)\n",
    "data_preproc_Xtest=std_scaler.transform(X_test)\n",
    "\n",
    "model_1=linear_model.LinearRegression(fit_intercept=True, normalize=False)\n",
    "modelo1_entrenado=model_1.fit(X_train,y_train)\n",
    "y_modelo1_pred=modelo1_entrenado.predict(X_test)\n",
    "print(\"Error MSE: \", mean_squared_error(y_test,y_modelo1_pred))\n",
    "print(\"El valor de r**2: \",r2_score(y_test,y_modelo1_pred))"
   ]
  },
  {
   "cell_type": "markdown",
   "metadata": {},
   "source": [
    "### __Comparativa entre el valor real y el valor predicho:__"
   ]
  },
  {
   "cell_type": "code",
   "execution_count": 44,
   "metadata": {},
   "outputs": [
    {
     "data": {
      "text/html": [
       "<div>\n",
       "<style scoped>\n",
       "    .dataframe tbody tr th:only-of-type {\n",
       "        vertical-align: middle;\n",
       "    }\n",
       "\n",
       "    .dataframe tbody tr th {\n",
       "        vertical-align: top;\n",
       "    }\n",
       "\n",
       "    .dataframe thead th {\n",
       "        text-align: right;\n",
       "    }\n",
       "</style>\n",
       "<table border=\"1\" class=\"dataframe\">\n",
       "  <thead>\n",
       "    <tr style=\"text-align: right;\">\n",
       "      <th></th>\n",
       "      <th>Actual</th>\n",
       "      <th>Prediccion</th>\n",
       "    </tr>\n",
       "  </thead>\n",
       "  <tbody>\n",
       "    <tr>\n",
       "      <th>280</th>\n",
       "      <td>8.0</td>\n",
       "      <td>9.602227</td>\n",
       "    </tr>\n",
       "    <tr>\n",
       "      <th>212</th>\n",
       "      <td>14.0</td>\n",
       "      <td>13.482346</td>\n",
       "    </tr>\n",
       "    <tr>\n",
       "      <th>75</th>\n",
       "      <td>10.0</td>\n",
       "      <td>8.513067</td>\n",
       "    </tr>\n",
       "    <tr>\n",
       "      <th>381</th>\n",
       "      <td>7.0</td>\n",
       "      <td>6.951415</td>\n",
       "    </tr>\n",
       "    <tr>\n",
       "      <th>234</th>\n",
       "      <td>6.0</td>\n",
       "      <td>7.063833</td>\n",
       "    </tr>\n",
       "  </tbody>\n",
       "</table>\n",
       "</div>"
      ],
      "text/plain": [
       "     Actual  Prediccion\n",
       "280     8.0    9.602227\n",
       "212    14.0   13.482346\n",
       "75     10.0    8.513067\n",
       "381     7.0    6.951415\n",
       "234     6.0    7.063833"
      ]
     },
     "execution_count": 44,
     "metadata": {},
     "output_type": "execute_result"
    }
   ],
   "source": [
    "df3 = pd.DataFrame({'Actual': y_test, 'Prediccion': y_modelo1_pred})\n",
    "df3.head(5)"
   ]
  },
  {
   "cell_type": "code",
   "execution_count": 45,
   "metadata": {},
   "outputs": [],
   "source": [
    "#df3 = df3.reset_index(drop=True)"
   ]
  },
  {
   "cell_type": "code",
   "execution_count": 46,
   "metadata": {},
   "outputs": [
    {
     "data": {
      "text/html": [
       "<div>\n",
       "<style scoped>\n",
       "    .dataframe tbody tr th:only-of-type {\n",
       "        vertical-align: middle;\n",
       "    }\n",
       "\n",
       "    .dataframe tbody tr th {\n",
       "        vertical-align: top;\n",
       "    }\n",
       "\n",
       "    .dataframe thead th {\n",
       "        text-align: right;\n",
       "    }\n",
       "</style>\n",
       "<table border=\"1\" class=\"dataframe\">\n",
       "  <thead>\n",
       "    <tr style=\"text-align: right;\">\n",
       "      <th></th>\n",
       "      <th>Actual</th>\n",
       "      <th>Prediccion</th>\n",
       "    </tr>\n",
       "  </thead>\n",
       "  <tbody>\n",
       "    <tr>\n",
       "      <th>280</th>\n",
       "      <td>8.0</td>\n",
       "      <td>9.602227</td>\n",
       "    </tr>\n",
       "    <tr>\n",
       "      <th>212</th>\n",
       "      <td>14.0</td>\n",
       "      <td>13.482346</td>\n",
       "    </tr>\n",
       "    <tr>\n",
       "      <th>75</th>\n",
       "      <td>10.0</td>\n",
       "      <td>8.513067</td>\n",
       "    </tr>\n",
       "    <tr>\n",
       "      <th>381</th>\n",
       "      <td>7.0</td>\n",
       "      <td>6.951415</td>\n",
       "    </tr>\n",
       "    <tr>\n",
       "      <th>234</th>\n",
       "      <td>6.0</td>\n",
       "      <td>7.063833</td>\n",
       "    </tr>\n",
       "  </tbody>\n",
       "</table>\n",
       "</div>"
      ],
      "text/plain": [
       "     Actual  Prediccion\n",
       "280     8.0    9.602227\n",
       "212    14.0   13.482346\n",
       "75     10.0    8.513067\n",
       "381     7.0    6.951415\n",
       "234     6.0    7.063833"
      ]
     },
     "execution_count": 46,
     "metadata": {},
     "output_type": "execute_result"
    }
   ],
   "source": [
    "df3.head()"
   ]
  },
  {
   "cell_type": "markdown",
   "metadata": {},
   "source": [
    "### __Trazando la comparación de los valores reales y de predicción:__ \n",
    "- Para 25 datos:"
   ]
  },
  {
   "cell_type": "code",
   "execution_count": 47,
   "metadata": {},
   "outputs": [
    {
     "data": {
      "image/png": "[encoded data removed]",
      "text/plain": [
       "<Figure size 1152x720 with 1 Axes>"
      ]
     },
     "metadata": {
      "needs_background": "light"
     },
     "output_type": "display_data"
    }
   ],
   "source": [
    "df4 = df3.head(25)\n",
    "df4.plot(kind='bar',figsize=(16,10))\n",
    "plt.grid(which='major', linestyle='-', linewidth='0.5', color='green')\n",
    "\n",
    "plt.grid(which='minor', linestyle=':', linewidth='0.5', color='black')\n",
    "plt.title(\"Posicion del dato vs valor en modelo test - prediccion\")\n",
    "plt.show()"
   ]
  },
  {
   "cell_type": "markdown",
   "metadata": {},
   "source": [
    "__Finalmente, podemos establecer cuales son las variables de importancia para nuestro modelo:__"
   ]
  },
  {
   "cell_type": "code",
   "execution_count": 48,
   "metadata": {},
   "outputs": [
    {
     "data": {
      "text/plain": [
       "GradientBoostingRegressor(alpha=0.9, criterion='friedman_mse', init=None,\n",
       "                          learning_rate=0.1, loss='ls', max_depth=3,\n",
       "                          max_features=None, max_leaf_nodes=None,\n",
       "                          min_impurity_decrease=0.0, min_impurity_split=None,\n",
       "                          min_samples_leaf=1, min_samples_split=2,\n",
       "                          min_weight_fraction_leaf=0.0, n_estimators=100,\n",
       "                          n_iter_no_change=None, presort='auto',\n",
       "                          random_state=None, subsample=1.0, tol=0.0001,\n",
       "                          validation_fraction=0.1, verbose=0, warm_start=False)"
      ]
     },
     "execution_count": 48,
     "metadata": {},
     "output_type": "execute_result"
    }
   ],
   "source": [
    "from sklearn import ensemble\n",
    "from sklearn.ensemble import GradientBoostingRegressor\n",
    "model = ensemble.GradientBoostingRegressor()\n",
    "model.fit(X_train, y_train)"
   ]
  },
  {
   "cell_type": "code",
   "execution_count": 49,
   "metadata": {},
   "outputs": [
    {
     "name": "stdout",
     "output_type": "stream",
     "text": [
      "higher_yes-0.00%\n",
      "Pstatus_T-0.00%\n",
      "sex_M-0.00%\n",
      "guardian_mother-0.00%\n",
      "nursery_yes-0.01%\n",
      "internet_yes-0.01%\n",
      "Fjob_other-0.01%\n",
      "address_U-0.01%\n",
      "reason_other-0.02%\n",
      "reason_reputation-0.03%\n",
      "schoolsup_yes-0.06%\n",
      "paid_yes-0.06%\n",
      "Mjob_health-0.06%\n",
      "romantic_yes-0.06%\n",
      "famsup_yes-0.06%\n",
      "Mjob_services-0.07%\n",
      "activities_yes-0.07%\n",
      "goout-0.07%\n",
      "Mjob_other-0.07%\n",
      "studytime-0.08%\n",
      "Fjob_health-0.08%\n",
      "Fjob_teacher-0.09%\n",
      "school_MS-0.10%\n",
      "famsize_LE3-0.11%\n",
      "Fedu-0.12%\n",
      "guardian_other-0.13%\n",
      "traveltime-0.17%\n",
      "Fjob_services-0.18%\n",
      "famrel-0.18%\n",
      "Medu-0.24%\n",
      "Mjob_teacher-0.28%\n",
      "failures-0.35%\n",
      "reason_home-0.39%\n",
      "Walc-0.50%\n",
      "Dalc-0.53%\n",
      "health-0.96%\n",
      "age-1.27%\n",
      "G1-1.33%\n",
      "freetime-1.39%\n",
      "absences-11.70%\n",
      "G2-79.10%\n"
     ]
    }
   ],
   "source": [
    "feature_labels = np.array(['age', 'Medu', 'Fedu', 'traveltime', 'studytime', 'failures', 'famrel', 'freetime', \n",
    "                           'goout', 'Dalc', 'Walc', 'health','absences', 'G1', 'G2', 'school_MS', 'sex_M', \n",
    "                           'address_U', 'famsize_LE3', 'Pstatus_T', 'Mjob_health', 'Mjob_other', \n",
    "                           'Mjob_services', 'Mjob_teacher', 'Fjob_health', 'Fjob_other', 'Fjob_services', \n",
    "                           'Fjob_teacher', 'reason_home', 'reason_other', 'reason_reputation', \n",
    "                           'guardian_mother', 'guardian_other', 'schoolsup_yes', 'famsup_yes', \n",
    "                           'paid_yes', 'activities_yes', 'nursery_yes', 'higher_yes', 'internet_yes', \n",
    "                           'romantic_yes'])\n",
    "importance = model.feature_importances_\n",
    "feature_indexes_by_importance = importance.argsort()\n",
    "for index in feature_indexes_by_importance:\n",
    "    print('{}-{:.2f}%'.format(feature_labels[index], (importance[index] *100.0)))"
   ]
  },
  {
   "cell_type": "markdown",
   "metadata": {},
   "source": [
    "- La evaluación __`G2`__ y las __`Inasistencias`__ son las variables más importantes para el modelo predictivo y las menos importantes corresponden a si los `padres viven juntos o separados`, `pretenciones de seguir estudiando` y el`sexo del estudiante`"
   ]
  },
  {
   "cell_type": "markdown",
   "metadata": {},
   "source": [
    "Finalmente Modelos Predictivos para `G2` y `G1`"
   ]
  },
  {
   "cell_type": "markdown",
   "metadata": {},
   "source": [
    "### __Modelación predictiva__ `G2`"
   ]
  },
  {
   "cell_type": "code",
   "execution_count": 50,
   "metadata": {},
   "outputs": [
    {
     "name": "stdout",
     "output_type": "stream",
     "text": [
      "['age', 'Medu', 'Fedu', 'traveltime', 'studytime', 'failures', 'famrel', 'freetime', 'goout', 'Dalc', 'Walc', 'health', 'absences', 'G1', 'G3', 'school_MS', 'sex_M', 'address_U', 'famsize_LE3', 'Pstatus_T', 'Mjob_health', 'Mjob_other', 'Mjob_services', 'Mjob_teacher', 'Fjob_health', 'Fjob_other', 'Fjob_services', 'Fjob_teacher', 'reason_home', 'reason_other', 'reason_reputation', 'guardian_mother', 'guardian_other', 'schoolsup_yes', 'famsup_yes', 'paid_yes', 'activities_yes', 'nursery_yes', 'higher_yes', 'internet_yes', 'romantic_yes']\n",
      "Cantidad de columnas:  41\n"
     ]
    }
   ],
   "source": [
    "columnas=[]\n",
    "for i in df_dummy.columns:\n",
    "    if i!=\"G2\":\n",
    "        columnas.append(i)\n",
    "    else:\n",
    "        pass\n",
    "print(columnas)\n",
    "print(\"Cantidad de columnas: \",len(columnas))"
   ]
  },
  {
   "cell_type": "code",
   "execution_count": 51,
   "metadata": {},
   "outputs": [
    {
     "name": "stdout",
     "output_type": "stream",
     "text": [
      "Error MSE:  2.3674479534533206\n",
      "El valor de r**2:  0.7936842145661045\n"
     ]
    }
   ],
   "source": [
    "y_vec=df_dummy[\"G2\"]\n",
    "X_mat=df_dummy.loc[:,columnas].dropna()\n",
    "\n",
    "X_train,X_test,y_train,y_test=train_test_split(X_mat,y_vec,test_size=0.33,random_state=1612399)\n",
    "std_scaler=StandardScaler().fit(X_train)\n",
    "data_preproc_Xtrain=std_scaler.transform(X_train)\n",
    "data_preproc_Xtest=std_scaler.transform(X_test)\n",
    "\n",
    "model_1=linear_model.LinearRegression(fit_intercept=True, normalize=False)\n",
    "modelo1_entrenado=model_1.fit(X_train,y_train)\n",
    "y_modelo1_pred=modelo1_entrenado.predict(X_test)\n",
    "print(\"Error MSE: \", mean_squared_error(y_test,y_modelo1_pred))\n",
    "print(\"El valor de r**2: \",r2_score(y_test,y_modelo1_pred))"
   ]
  },
  {
   "cell_type": "markdown",
   "metadata": {},
   "source": [
    "### __Modelación predictiva__ `G1`"
   ]
  },
  {
   "cell_type": "code",
   "execution_count": 52,
   "metadata": {},
   "outputs": [
    {
     "name": "stdout",
     "output_type": "stream",
     "text": [
      "['age', 'Medu', 'Fedu', 'traveltime', 'studytime', 'failures', 'famrel', 'freetime', 'goout', 'Dalc', 'Walc', 'health', 'absences', 'G2', 'G3', 'school_MS', 'sex_M', 'address_U', 'famsize_LE3', 'Pstatus_T', 'Mjob_health', 'Mjob_other', 'Mjob_services', 'Mjob_teacher', 'Fjob_health', 'Fjob_other', 'Fjob_services', 'Fjob_teacher', 'reason_home', 'reason_other', 'reason_reputation', 'guardian_mother', 'guardian_other', 'schoolsup_yes', 'famsup_yes', 'paid_yes', 'activities_yes', 'nursery_yes', 'higher_yes', 'internet_yes', 'romantic_yes']\n",
      "Cantidad de columnas:  41\n"
     ]
    }
   ],
   "source": [
    "columnas=[]\n",
    "for i in df_dummy.columns:\n",
    "    if i!=\"G1\":\n",
    "        columnas.append(i)\n",
    "    else:\n",
    "        pass\n",
    "print(columnas)\n",
    "print(\"Cantidad de columnas: \",len(columnas))"
   ]
  },
  {
   "cell_type": "code",
   "execution_count": 53,
   "metadata": {},
   "outputs": [
    {
     "name": "stdout",
     "output_type": "stream",
     "text": [
      "Error MSE:  3.367870316304483\n",
      "El valor de r**2:  0.6883175831366045\n"
     ]
    }
   ],
   "source": [
    "y_vec=df_dummy[\"G1\"]\n",
    "X_mat=df_dummy.loc[:,columnas].dropna()\n",
    "\n",
    "X_train,X_test,y_train,y_test=train_test_split(X_mat,y_vec,test_size=0.33,random_state=16123929)\n",
    "std_scaler=StandardScaler().fit(X_train)\n",
    "data_preproc_Xtrain=std_scaler.transform(X_train)\n",
    "data_preproc_Xtest=std_scaler.transform(X_test)\n",
    "\n",
    "model_1=linear_model.LinearRegression(fit_intercept=True, normalize=False)\n",
    "modelo1_entrenado=model_1.fit(X_train,y_train)\n",
    "y_modelo1_pred=modelo1_entrenado.predict(X_test)\n",
    "print(\"Error MSE: \", mean_squared_error(y_test,y_modelo1_pred))\n",
    "print(\"El valor de r**2: \",r2_score(y_test,y_modelo1_pred))"
   ]
  },
  {
   "cell_type": "markdown",
   "metadata": {},
   "source": [
    "### __Analisis de Modelos.__\n",
    "- Date: Wed, 14 Aug 2019 , Time: \t18:29:35\n",
    "- __Métricas Comparativas__\n",
    "\n",
    "<table class=\"egt\">\n",
    "  <tr>\n",
    "    <th scope=\"row\"></th>\n",
    "    <th>R-squared</th>\n",
    "    <th>Error MSE</th>\n",
    "  </tr>\n",
    "  <tr>\n",
    "    <th>Modelo 3 - G3</th>\n",
    "    <td>0.743</td>\n",
    "    <td>-5.133</td>\n",
    "      \n",
    "  </tr>\n",
    "  <tr>\n",
    "    <th>Modelo 2 - G2</th>\n",
    "    <td>0.793</td>\n",
    "    <td>2.367</td>\n",
    "    \n",
    "  </tr>\n",
    "  <tr>\n",
    "    <th>Modelo 1 - G1</th>\n",
    "    <td>0.688</td>\n",
    "    <td>3.367</td>\n",
    "      \n",
    "  </tr>\n",
    "</table> \n",
    "\n",
    "- El Modelo que mejor se proyecta linealmente es el Modelo 2 para la variable objetivo G2, además posee el menor MSE."
   ]
  },
  {
   "cell_type": "code",
   "execution_count": null,
   "metadata": {},
   "outputs": [],
   "source": []
  },
  {
   "cell_type": "code",
   "execution_count": null,
   "metadata": {},
   "outputs": [],
   "source": []
  },
  {
   "cell_type": "code",
   "execution_count": null,
   "metadata": {},
   "outputs": [],
   "source": []
  },
  {
   "cell_type": "code",
   "execution_count": null,
   "metadata": {},
   "outputs": [],
   "source": []
  }
 ],
 "metadata": {
  "kernelspec": {
   "display_name": "Python 3",
   "language": "python",
   "name": "python3"
  },
  "language_info": {
   "codemirror_mode": {
    "name": "ipython",
    "version": 3
   },
   "file_extension": ".py",
   "mimetype": "text/x-python",
   "name": "python",
   "nbconvert_exporter": "python",
   "pygments_lexer": "ipython3",
   "version": "3.7.3"
  }
 },
 "nbformat": 4,
 "nbformat_minor": 4
}
